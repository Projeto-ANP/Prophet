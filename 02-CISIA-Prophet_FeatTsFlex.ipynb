{
 "cells": [
  {
   "cell_type": "code",
   "execution_count": 5,
   "metadata": {},
   "outputs": [],
   "source": [
    "############# Libraries ##############\n",
    "\n",
    "from matplotlib import pyplot as plt\n",
    "import numpy as np\n",
    "import pandas as pd\n",
    "\n",
    "# Evaluation metrics\n",
    "from sklearn.metrics import mean_squared_error as mse\n",
    "from sklearn.metrics import mean_absolute_percentage_error as mape\n",
    "\n",
    "epislon = 1e-20  # Define a small epsilon value for division by zero cases\n",
    "\n",
    "def rmse(y_true, y_pred):\n",
    "  return np.sqrt(mse(y_true, y_pred))\n",
    "\n",
    "def mase(y_true, y_pred, y_baseline):\n",
    "    # Calcula o MAE do modelo\n",
    "    mae_pred = np.mean(np.abs(y_true - y_pred))\n",
    "    # Calcula o MAE do modelo baseline Persistent Window (i.e., últimas h observações antes do teste)\n",
    "    mae_naive = np.mean(np.abs(y_true - y_baseline))\n",
    "    result = mae_pred/mae_naive\n",
    "    return result\n",
    "\n",
    "def pbe(y_true, y_pred):\n",
    "  if np.sum(y_true)!=0:\n",
    "    return 100*(np.sum(y_true - y_pred)/np.sum(y_true))\n",
    "  else:\n",
    "    return 100*(np.sum(y_true - y_pred)/(np.sum(y_true) + epislon))\n",
    "\n",
    "def pocid(y_true, y_pred):\n",
    "  n = len(y_true)\n",
    "  D = [1 if (y_pred[i] - y_pred[i-1]) * (y_true[i] - y_true[i-1]) > 0 else 0 for i in range(1, n)]\n",
    "  POCID = 100 * np.sum(D) / (n-1)\n",
    "  return POCID\n",
    "\n",
    "def mcpm(rmse_result, mape_result, pocid_result):\n",
    "  er_result = 100 - pocid_result\n",
    "\n",
    "  A1 = (rmse_result * mape_result * np.sin((2*np.pi)/3))/2\n",
    "  A2 = (mape_result * er_result * np.sin((2*np.pi)/3))/2\n",
    "  A3 = (er_result * rmse_result * np.sin((2*np.pi)/3))/2\n",
    "  total = A1 + A2 + A3\n",
    "  return total\n",
    "\n",
    "def znorm(x):\n",
    "  if np.std(x) != 0: \n",
    "      x_znorm = (x - np.mean(x)) / np.std(x)\n",
    "  else:\n",
    "      x_znorm = (x - np.mean(x)) / (np.std(x) + epislon)\n",
    "  return x_znorm\n",
    "\n",
    "def znorm_reverse(x, mean_x, std_x):\n",
    "  x_denormalized = (np.array(x) * std_x) + mean_x\n",
    "  return x_denormalized\n",
    "\n",
    "def get_stats_norm(series, horizon, window):\n",
    "  last_subsequence = series[-(horizon+window):-horizon].values\n",
    "  last_mean = np.mean(last_subsequence)\n",
    "  last_std = np.std(last_subsequence)\n",
    "  return last_mean, last_std\n",
    "\n",
    "# Para predição de vendas por UF (mensal), será considerado horizon = 12\n",
    "# Para predição de vendas por município (anual), será considerado horizon = 1\n",
    "def train_test_split(data, horizon):\n",
    "  X = data.iloc[:,:-1] # features\n",
    "  y = data.iloc[:,-1] # target\n",
    "\n",
    "  X_train = X[:-horizon] # features train\n",
    "  X_test =  X[-horizon:] # features test\n",
    "\n",
    "  y_train = y[:-horizon] # target train\n",
    "  y_test = y[-horizon:] # target test\n",
    "  return X_train, X_test, y_train, y_test\n",
    "\n",
    "def recursive_multistep_forecasting(X_test, model, horizon):\n",
    "  # example é composto pelas últimas observações vistas\n",
    "  # na prática, é o pbeprimeiro exemplo do conjunto de teste\n",
    "  example = X_test.iloc[0].values.reshape(1,-1)\n",
    "\n",
    "  preds = []\n",
    "  for i in range(horizon):\n",
    "    pred = model.predict(example)[0]\n",
    "    preds.append(pred)\n",
    "\n",
    "    # Descartar o valor da primeira posição do vetor de características\n",
    "    example = example[:,1:]\n",
    "\n",
    "    # Adicionar o valor predito na última posição do vetor de características\n",
    "    example = np.append(example, pred)\n",
    "    example = example.reshape(1,-1)\n",
    "  return preds\n",
    "\n",
    "def baseline_mean(series, horizon):\n",
    "  # como as séries são normalizadas, esse baseline irá retornar uma reta próxima de zero\n",
    "  pred = np.repeat(np.mean(znorm(series[:-horizon])), horizon)\n",
    "  return pred\n",
    "\n",
    "def baseline_persistent(series, horizon):\n",
    "  return np.repeat(znorm(series[-2*horizon:-horizon]).values[-1], horizon)\n",
    "\n",
    "def baseline_persistent_window(series, horizon):\n",
    "  subsequence = znorm(series[-horizon*2:-horizon]).values\n",
    "  return subsequence\n",
    "\n",
    "def baseline_persistent_windowR(series, horizon):\n",
    "  subsequence2 = series[-horizon*2:-horizon].values\n",
    "  return subsequence2\n",
    "\n",
    "# Em geral, considera-se um tamanho de janela capaz de capturar um ciclo dos dados\n",
    "# Por exemplo, 12 observações no caso dos dados com frequência mensal\n",
    "def rolling_window(series, window):\n",
    "  data = []\n",
    "  for i in range(len(series)-window):\n",
    "    example = znorm(np.array(series[i:i+window+1]))\n",
    "    data.append(example)\n",
    "  df = pd.DataFrame(data)\n",
    "  return df\n"
   ]
  },
  {
   "cell_type": "code",
   "execution_count": 6,
   "metadata": {},
   "outputs": [],
   "source": [
    "############# DEFs ##############\n",
    "\n",
    "from prophet import Prophet\n",
    "import os\n",
    "import csv\n",
    "import pycatch22\n",
    "\n",
    "def extract_estado(file_name):\n",
    "    parts = file_name.split('_')\n",
    "    estado = parts[1]\n",
    "    return estado\n",
    "\n",
    "def read_csv_files(folder_path):\n",
    "    estados = []\n",
    "    files = os.listdir(folder_path)\n",
    "    for file_name in files:\n",
    "        if file_name.endswith('.csv'):\n",
    "            file_path = os.path.join(folder_path, file_name)\n",
    "            with open(file_path, 'r', newline='') as csvfile:\n",
    "                reader = csv.reader(csvfile)\n",
    "                headers = next(reader)\n",
    "                estado = extract_estado(file_name)\n",
    "                estados.append(estado)\n",
    "                estados.sort()\n",
    "    return estados\n",
    "\n",
    "\n",
    "##########################################\n",
    "\n",
    "def rolling_window_prophet(series, window):\n",
    "  data = []\n",
    "  for i in range(len(series)-window):\n",
    "    example = znorm(np.array(series[i:i+window+1]))\n",
    "    # example = (np.array(series[i:i+window+1]))\n",
    "    data.append(example)\n",
    "  df = pd.DataFrame(data)\n",
    "  return df\n",
    "\n",
    "#########################################################\n",
    "\n",
    "\n",
    "def rolling_window_featureCatch22N(series, window):\n",
    "  data = []\n",
    "  for i in range(len(series)-window):\n",
    "      example = np.array(series[i:i+window])\n",
    "      new_elements = pycatch22.catch22_all(example)\n",
    "      data_feature = znorm(new_elements['values'])\n",
    "      data.append(data_feature)\n",
    "  df = pd.DataFrame(data)\n",
    "  return df\n",
    "\n",
    "\n",
    "#########################################################\n",
    "\n",
    "\n",
    "\n",
    "def recursive_multistep_forecasting_ProphetCatch22N(series, model, horizon, window,future_dates):\n",
    "    serieatu=series[:-horizon]\n",
    "    seriec = serieatu.tail(window)\n",
    "    mean_norm, std_norm = get_stats_norm(series, horizon, window)\n",
    "    predsreal = []\n",
    "    predprophet = pd.DataFrame()\n",
    "    for i in range(horizon):\n",
    "\n",
    "        example = np.array(seriec)\n",
    "        new_elements = pycatch22.catch22_all(example)\n",
    "        exemple_feature = znorm(new_elements['values'])\n",
    "        exemple_feature_df = pd.DataFrame(exemple_feature)\n",
    "        exemple_feature_df.fillna(0, inplace=True)\n",
    "\n",
    "        values = exemple_feature_df[0].tolist()\n",
    "        future_dates_copy = future_dates.copy()\n",
    "\n",
    "        num_columns_to_update = len(future_dates_copy.columns) - 1  # Exclude the 'ds' column\n",
    "        if len(values) != num_columns_to_update:\n",
    "            raise ValueError(\"Number of values does not match the number of columns\")\n",
    "\n",
    "        future_dates_copy.iloc[:, 1:] = values\n",
    "        future_dates_copy = pd.DataFrame(future_dates_copy)\n",
    "\n",
    "        predn = model.predict(future_dates_copy)\n",
    "        predprophet = pd.concat([predprophet, predn], ignore_index=True)\n",
    "        future_dates['ds'] = future_dates['ds'] + pd.DateOffset(months=1)\n",
    "        pred = znorm_reverse(predn['yhat'], mean_norm, std_norm)\n",
    "        predsreal.append(pred)\n",
    "        series2 = seriec[1:]\n",
    "        seriec = np.append(series2, pred)\n",
    "\n",
    "    return predsreal, predprophet\n",
    "\n"
   ]
  },
  {
   "cell_type": "code",
   "execution_count": 4,
   "metadata": {},
   "outputs": [
    {
     "name": "stderr",
     "output_type": "stream",
     "text": [
      "14:46:42 - cmdstanpy - INFO - Chain [1] start processing\n",
      "14:46:42 - cmdstanpy - INFO - Chain [1] done processing\n",
      "C:\\Users\\jonas\\AppData\\Local\\Temp\\ipykernel_13040\\364376139.py:78: FutureWarning: Setting an item of incompatible dtype is deprecated and will raise in a future error of pandas. Value '-0.7950169689086343' has dtype incompatible with int64, please explicitly cast to a compatible dtype first.\n",
      "  future_dates_copy.iloc[:, 1:] = values\n",
      "C:\\Users\\jonas\\AppData\\Local\\Temp\\ipykernel_13040\\364376139.py:78: FutureWarning: Setting an item of incompatible dtype is deprecated and will raise in a future error of pandas. Value '-1.2232953958333208' has dtype incompatible with int64, please explicitly cast to a compatible dtype first.\n",
      "  future_dates_copy.iloc[:, 1:] = values\n",
      "C:\\Users\\jonas\\AppData\\Local\\Temp\\ipykernel_13040\\364376139.py:78: FutureWarning: Setting an item of incompatible dtype is deprecated and will raise in a future error of pandas. Value '0.10460395432654437' has dtype incompatible with int64, please explicitly cast to a compatible dtype first.\n",
      "  future_dates_copy.iloc[:, 1:] = values\n",
      "C:\\Users\\jonas\\AppData\\Local\\Temp\\ipykernel_13040\\364376139.py:78: FutureWarning: Setting an item of incompatible dtype is deprecated and will raise in a future error of pandas. Value '1.490565945326381' has dtype incompatible with int64, please explicitly cast to a compatible dtype first.\n",
      "  future_dates_copy.iloc[:, 1:] = values\n",
      "C:\\Users\\jonas\\AppData\\Local\\Temp\\ipykernel_13040\\364376139.py:78: FutureWarning: Setting an item of incompatible dtype is deprecated and will raise in a future error of pandas. Value '-0.034583144614323914' has dtype incompatible with int64, please explicitly cast to a compatible dtype first.\n",
      "  future_dates_copy.iloc[:, 1:] = values\n",
      "C:\\Users\\jonas\\AppData\\Local\\Temp\\ipykernel_13040\\364376139.py:78: FutureWarning: Setting an item of incompatible dtype is deprecated and will raise in a future error of pandas. Value '-0.8346758278244927' has dtype incompatible with int64, please explicitly cast to a compatible dtype first.\n",
      "  future_dates_copy.iloc[:, 1:] = values\n",
      "C:\\Users\\jonas\\AppData\\Local\\Temp\\ipykernel_13040\\364376139.py:78: FutureWarning: Setting an item of incompatible dtype is deprecated and will raise in a future error of pandas. Value '0.07470640847881418' has dtype incompatible with int64, please explicitly cast to a compatible dtype first.\n",
      "  future_dates_copy.iloc[:, 1:] = values\n",
      "C:\\Users\\jonas\\AppData\\Local\\Temp\\ipykernel_13040\\364376139.py:78: FutureWarning: Setting an item of incompatible dtype is deprecated and will raise in a future error of pandas. Value '2.9064254821739484' has dtype incompatible with int64, please explicitly cast to a compatible dtype first.\n",
      "  future_dates_copy.iloc[:, 1:] = values\n",
      "C:\\Users\\jonas\\AppData\\Local\\Temp\\ipykernel_13040\\364376139.py:78: FutureWarning: Setting an item of incompatible dtype is deprecated and will raise in a future error of pandas. Value '-0.6049061692080179' has dtype incompatible with int64, please explicitly cast to a compatible dtype first.\n",
      "  future_dates_copy.iloc[:, 1:] = values\n",
      "C:\\Users\\jonas\\AppData\\Local\\Temp\\ipykernel_13040\\364376139.py:78: FutureWarning: Setting an item of incompatible dtype is deprecated and will raise in a future error of pandas. Value '-0.6332233599449693' has dtype incompatible with int64, please explicitly cast to a compatible dtype first.\n",
      "  future_dates_copy.iloc[:, 1:] = values\n",
      "C:\\Users\\jonas\\AppData\\Local\\Temp\\ipykernel_13040\\364376139.py:78: FutureWarning: Setting an item of incompatible dtype is deprecated and will raise in a future error of pandas. Value '-0.4580455606897179' has dtype incompatible with int64, please explicitly cast to a compatible dtype first.\n",
      "  future_dates_copy.iloc[:, 1:] = values\n",
      "C:\\Users\\jonas\\AppData\\Local\\Temp\\ipykernel_13040\\364376139.py:78: FutureWarning: Setting an item of incompatible dtype is deprecated and will raise in a future error of pandas. Value '0.07470640847881418' has dtype incompatible with int64, please explicitly cast to a compatible dtype first.\n",
      "  future_dates_copy.iloc[:, 1:] = values\n",
      "C:\\Users\\jonas\\AppData\\Local\\Temp\\ipykernel_13040\\364376139.py:78: FutureWarning: Setting an item of incompatible dtype is deprecated and will raise in a future error of pandas. Value '-0.27925847573307755' has dtype incompatible with int64, please explicitly cast to a compatible dtype first.\n",
      "  future_dates_copy.iloc[:, 1:] = values\n",
      "C:\\Users\\jonas\\AppData\\Local\\Temp\\ipykernel_13040\\364376139.py:78: FutureWarning: Setting an item of incompatible dtype is deprecated and will raise in a future error of pandas. Value '-0.9281940967882124' has dtype incompatible with int64, please explicitly cast to a compatible dtype first.\n",
      "  future_dates_copy.iloc[:, 1:] = values\n",
      "C:\\Users\\jonas\\AppData\\Local\\Temp\\ipykernel_13040\\364376139.py:78: FutureWarning: Setting an item of incompatible dtype is deprecated and will raise in a future error of pandas. Value '-0.220264328364429' has dtype incompatible with int64, please explicitly cast to a compatible dtype first.\n",
      "  future_dates_copy.iloc[:, 1:] = values\n",
      "C:\\Users\\jonas\\AppData\\Local\\Temp\\ipykernel_13040\\364376139.py:78: FutureWarning: Setting an item of incompatible dtype is deprecated and will raise in a future error of pandas. Value '-0.6332233599449693' has dtype incompatible with int64, please explicitly cast to a compatible dtype first.\n",
      "  future_dates_copy.iloc[:, 1:] = values\n",
      "C:\\Users\\jonas\\AppData\\Local\\Temp\\ipykernel_13040\\364376139.py:78: FutureWarning: Setting an item of incompatible dtype is deprecated and will raise in a future error of pandas. Value '2.1984957137501646' has dtype incompatible with int64, please explicitly cast to a compatible dtype first.\n",
      "  future_dates_copy.iloc[:, 1:] = values\n",
      "C:\\Users\\jonas\\AppData\\Local\\Temp\\ipykernel_13040\\364376139.py:78: FutureWarning: Setting an item of incompatible dtype is deprecated and will raise in a future error of pandas. Value '0.6182276097613023' has dtype incompatible with int64, please explicitly cast to a compatible dtype first.\n",
      "  future_dates_copy.iloc[:, 1:] = values\n",
      "C:\\Users\\jonas\\AppData\\Local\\Temp\\ipykernel_13040\\364376139.py:78: FutureWarning: Setting an item of incompatible dtype is deprecated and will raise in a future error of pandas. Value '-0.6332233599449693' has dtype incompatible with int64, please explicitly cast to a compatible dtype first.\n",
      "  future_dates_copy.iloc[:, 1:] = values\n",
      "C:\\Users\\jonas\\AppData\\Local\\Temp\\ipykernel_13040\\364376139.py:78: FutureWarning: Setting an item of incompatible dtype is deprecated and will raise in a future error of pandas. Value '-0.6332233599449693' has dtype incompatible with int64, please explicitly cast to a compatible dtype first.\n",
      "  future_dates_copy.iloc[:, 1:] = values\n",
      "C:\\Users\\jonas\\AppData\\Local\\Temp\\ipykernel_13040\\364376139.py:78: FutureWarning: Setting an item of incompatible dtype is deprecated and will raise in a future error of pandas. Value '0.20078674995671633' has dtype incompatible with int64, please explicitly cast to a compatible dtype first.\n",
      "  future_dates_copy.iloc[:, 1:] = values\n",
      "C:\\Users\\jonas\\AppData\\Local\\Temp\\ipykernel_13040\\364376139.py:78: FutureWarning: Setting an item of incompatible dtype is deprecated and will raise in a future error of pandas. Value '0.24261513549141672' has dtype incompatible with int64, please explicitly cast to a compatible dtype first.\n",
      "  future_dates_copy.iloc[:, 1:] = values\n",
      "C:\\Users\\jonas\\AppData\\Local\\Temp\\ipykernel_13040\\364376139.py:78: FutureWarning: Setting an item of incompatible dtype is deprecated and will raise in a future error of pandas. Value '-1.2508108187729476' has dtype incompatible with int64, please explicitly cast to a compatible dtype first.\n",
      "  future_dates_copy.iloc[:, 1:] = values\n",
      "C:\\Users\\jonas\\AppData\\Local\\Temp\\ipykernel_13040\\364376139.py:78: FutureWarning: Setting an item of incompatible dtype is deprecated and will raise in a future error of pandas. Value '-1.1475902713319264' has dtype incompatible with int64, please explicitly cast to a compatible dtype first.\n",
      "  future_dates_copy.iloc[:, 1:] = values\n",
      "C:\\Users\\jonas\\AppData\\Local\\Temp\\ipykernel_13040\\364376139.py:78: FutureWarning: Setting an item of incompatible dtype is deprecated and will raise in a future error of pandas. Value '0.21545545978315306' has dtype incompatible with int64, please explicitly cast to a compatible dtype first.\n",
      "  future_dates_copy.iloc[:, 1:] = values\n",
      "C:\\Users\\jonas\\AppData\\Local\\Temp\\ipykernel_13040\\364376139.py:78: FutureWarning: Setting an item of incompatible dtype is deprecated and will raise in a future error of pandas. Value '1.6461398431699743' has dtype incompatible with int64, please explicitly cast to a compatible dtype first.\n",
      "  future_dates_copy.iloc[:, 1:] = values\n",
      "C:\\Users\\jonas\\AppData\\Local\\Temp\\ipykernel_13040\\364376139.py:78: FutureWarning: Setting an item of incompatible dtype is deprecated and will raise in a future error of pandas. Value '-0.11303520472775229' has dtype incompatible with int64, please explicitly cast to a compatible dtype first.\n",
      "  future_dates_copy.iloc[:, 1:] = values\n",
      "C:\\Users\\jonas\\AppData\\Local\\Temp\\ipykernel_13040\\364376139.py:78: FutureWarning: Setting an item of incompatible dtype is deprecated and will raise in a future error of pandas. Value '-0.8249173923103952' has dtype incompatible with int64, please explicitly cast to a compatible dtype first.\n",
      "  future_dates_copy.iloc[:, 1:] = values\n",
      "C:\\Users\\jonas\\AppData\\Local\\Temp\\ipykernel_13040\\364376139.py:78: FutureWarning: Setting an item of incompatible dtype is deprecated and will raise in a future error of pandas. Value '0.13416402192744953' has dtype incompatible with int64, please explicitly cast to a compatible dtype first.\n",
      "  future_dates_copy.iloc[:, 1:] = values\n",
      "C:\\Users\\jonas\\AppData\\Local\\Temp\\ipykernel_13040\\364376139.py:78: FutureWarning: Setting an item of incompatible dtype is deprecated and will raise in a future error of pandas. Value '2.4021277537912367' has dtype incompatible with int64, please explicitly cast to a compatible dtype first.\n",
      "  future_dates_copy.iloc[:, 1:] = values\n",
      "C:\\Users\\jonas\\AppData\\Local\\Temp\\ipykernel_13040\\364376139.py:78: FutureWarning: Setting an item of incompatible dtype is deprecated and will raise in a future error of pandas. Value '-0.5915843722689622' has dtype incompatible with int64, please explicitly cast to a compatible dtype first.\n",
      "  future_dates_copy.iloc[:, 1:] = values\n",
      "C:\\Users\\jonas\\AppData\\Local\\Temp\\ipykernel_13040\\364376139.py:78: FutureWarning: Setting an item of incompatible dtype is deprecated and will raise in a future error of pandas. Value '-0.6218238886938128' has dtype incompatible with int64, please explicitly cast to a compatible dtype first.\n",
      "  future_dates_copy.iloc[:, 1:] = values\n",
      "C:\\Users\\jonas\\AppData\\Local\\Temp\\ipykernel_13040\\364376139.py:78: FutureWarning: Setting an item of incompatible dtype is deprecated and will raise in a future error of pandas. Value '-0.4400823313958709' has dtype incompatible with int64, please explicitly cast to a compatible dtype first.\n",
      "  future_dates_copy.iloc[:, 1:] = values\n",
      "C:\\Users\\jonas\\AppData\\Local\\Temp\\ipykernel_13040\\364376139.py:78: FutureWarning: Setting an item of incompatible dtype is deprecated and will raise in a future error of pandas. Value '0.13416402192744953' has dtype incompatible with int64, please explicitly cast to a compatible dtype first.\n",
      "  future_dates_copy.iloc[:, 1:] = values\n",
      "C:\\Users\\jonas\\AppData\\Local\\Temp\\ipykernel_13040\\364376139.py:78: FutureWarning: Setting an item of incompatible dtype is deprecated and will raise in a future error of pandas. Value '-0.24382993338318162' has dtype incompatible with int64, please explicitly cast to a compatible dtype first.\n",
      "  future_dates_copy.iloc[:, 1:] = values\n",
      "C:\\Users\\jonas\\AppData\\Local\\Temp\\ipykernel_13040\\364376139.py:78: FutureWarning: Setting an item of incompatible dtype is deprecated and will raise in a future error of pandas. Value '-1.0628168365562158' has dtype incompatible with int64, please explicitly cast to a compatible dtype first.\n",
      "  future_dates_copy.iloc[:, 1:] = values\n",
      "C:\\Users\\jonas\\AppData\\Local\\Temp\\ipykernel_13040\\364376139.py:78: FutureWarning: Setting an item of incompatible dtype is deprecated and will raise in a future error of pandas. Value '-0.11783194827963785' has dtype incompatible with int64, please explicitly cast to a compatible dtype first.\n",
      "  future_dates_copy.iloc[:, 1:] = values\n",
      "C:\\Users\\jonas\\AppData\\Local\\Temp\\ipykernel_13040\\364376139.py:78: FutureWarning: Setting an item of incompatible dtype is deprecated and will raise in a future error of pandas. Value '-0.6218238886938128' has dtype incompatible with int64, please explicitly cast to a compatible dtype first.\n",
      "  future_dates_copy.iloc[:, 1:] = values\n",
      "C:\\Users\\jonas\\AppData\\Local\\Temp\\ipykernel_13040\\364376139.py:78: FutureWarning: Setting an item of incompatible dtype is deprecated and will raise in a future error of pandas. Value '2.4021277537912367' has dtype incompatible with int64, please explicitly cast to a compatible dtype first.\n",
      "  future_dates_copy.iloc[:, 1:] = values\n",
      "C:\\Users\\jonas\\AppData\\Local\\Temp\\ipykernel_13040\\364376139.py:78: FutureWarning: Setting an item of incompatible dtype is deprecated and will raise in a future error of pandas. Value '0.809857120270697' has dtype incompatible with int64, please explicitly cast to a compatible dtype first.\n",
      "  future_dates_copy.iloc[:, 1:] = values\n",
      "C:\\Users\\jonas\\AppData\\Local\\Temp\\ipykernel_13040\\364376139.py:78: FutureWarning: Setting an item of incompatible dtype is deprecated and will raise in a future error of pandas. Value '-0.6218238886938128' has dtype incompatible with int64, please explicitly cast to a compatible dtype first.\n",
      "  future_dates_copy.iloc[:, 1:] = values\n",
      "C:\\Users\\jonas\\AppData\\Local\\Temp\\ipykernel_13040\\364376139.py:78: FutureWarning: Setting an item of incompatible dtype is deprecated and will raise in a future error of pandas. Value '-0.6218238886938128' has dtype incompatible with int64, please explicitly cast to a compatible dtype first.\n",
      "  future_dates_copy.iloc[:, 1:] = values\n",
      "C:\\Users\\jonas\\AppData\\Local\\Temp\\ipykernel_13040\\364376139.py:78: FutureWarning: Setting an item of incompatible dtype is deprecated and will raise in a future error of pandas. Value '0.2688033861351665' has dtype incompatible with int64, please explicitly cast to a compatible dtype first.\n",
      "  future_dates_copy.iloc[:, 1:] = values\n",
      "C:\\Users\\jonas\\AppData\\Local\\Temp\\ipykernel_13040\\364376139.py:78: FutureWarning: Setting an item of incompatible dtype is deprecated and will raise in a future error of pandas. Value '0.2669553030057803' has dtype incompatible with int64, please explicitly cast to a compatible dtype first.\n",
      "  future_dates_copy.iloc[:, 1:] = values\n",
      "C:\\Users\\jonas\\AppData\\Local\\Temp\\ipykernel_13040\\364376139.py:78: FutureWarning: Setting an item of incompatible dtype is deprecated and will raise in a future error of pandas. Value '-1.1833048673468962' has dtype incompatible with int64, please explicitly cast to a compatible dtype first.\n",
      "  future_dates_copy.iloc[:, 1:] = values\n",
      "C:\\Users\\jonas\\AppData\\Local\\Temp\\ipykernel_13040\\364376139.py:78: FutureWarning: Setting an item of incompatible dtype is deprecated and will raise in a future error of pandas. Value '-1.2972232579842802' has dtype incompatible with int64, please explicitly cast to a compatible dtype first.\n",
      "  future_dates_copy.iloc[:, 1:] = values\n",
      "C:\\Users\\jonas\\AppData\\Local\\Temp\\ipykernel_13040\\364376139.py:78: FutureWarning: Setting an item of incompatible dtype is deprecated and will raise in a future error of pandas. Value '0.2210605387125364' has dtype incompatible with int64, please explicitly cast to a compatible dtype first.\n",
      "  future_dates_copy.iloc[:, 1:] = values\n",
      "C:\\Users\\jonas\\AppData\\Local\\Temp\\ipykernel_13040\\364376139.py:78: FutureWarning: Setting an item of incompatible dtype is deprecated and will raise in a future error of pandas. Value '1.831405152855644' has dtype incompatible with int64, please explicitly cast to a compatible dtype first.\n",
      "  future_dates_copy.iloc[:, 1:] = values\n",
      "C:\\Users\\jonas\\AppData\\Local\\Temp\\ipykernel_13040\\364376139.py:78: FutureWarning: Setting an item of incompatible dtype is deprecated and will raise in a future error of pandas. Value '-0.08961966163479414' has dtype incompatible with int64, please explicitly cast to a compatible dtype first.\n",
      "  future_dates_copy.iloc[:, 1:] = values\n",
      "C:\\Users\\jonas\\AppData\\Local\\Temp\\ipykernel_13040\\364376139.py:78: FutureWarning: Setting an item of incompatible dtype is deprecated and will raise in a future error of pandas. Value '-0.8525965384188267' has dtype incompatible with int64, please explicitly cast to a compatible dtype first.\n",
      "  future_dates_copy.iloc[:, 1:] = values\n",
      "C:\\Users\\jonas\\AppData\\Local\\Temp\\ipykernel_13040\\364376139.py:78: FutureWarning: Setting an item of incompatible dtype is deprecated and will raise in a future error of pandas. Value '0.198058073697955' has dtype incompatible with int64, please explicitly cast to a compatible dtype first.\n",
      "  future_dates_copy.iloc[:, 1:] = values\n",
      "C:\\Users\\jonas\\AppData\\Local\\Temp\\ipykernel_13040\\364376139.py:78: FutureWarning: Setting an item of incompatible dtype is deprecated and will raise in a future error of pandas. Value '1.831405152855644' has dtype incompatible with int64, please explicitly cast to a compatible dtype first.\n",
      "  future_dates_copy.iloc[:, 1:] = values\n",
      "C:\\Users\\jonas\\AppData\\Local\\Temp\\ipykernel_13040\\364376139.py:78: FutureWarning: Setting an item of incompatible dtype is deprecated and will raise in a future error of pandas. Value '-0.5859485242977358' has dtype incompatible with int64, please explicitly cast to a compatible dtype first.\n",
      "  future_dates_copy.iloc[:, 1:] = values\n",
      "C:\\Users\\jonas\\AppData\\Local\\Temp\\ipykernel_13040\\364376139.py:78: FutureWarning: Setting an item of incompatible dtype is deprecated and will raise in a future error of pandas. Value '-0.6186154658808897' has dtype incompatible with int64, please explicitly cast to a compatible dtype first.\n",
      "  future_dates_copy.iloc[:, 1:] = values\n",
      "C:\\Users\\jonas\\AppData\\Local\\Temp\\ipykernel_13040\\364376139.py:78: FutureWarning: Setting an item of incompatible dtype is deprecated and will raise in a future error of pandas. Value '-0.42017186634062564' has dtype incompatible with int64, please explicitly cast to a compatible dtype first.\n",
      "  future_dates_copy.iloc[:, 1:] = values\n",
      "C:\\Users\\jonas\\AppData\\Local\\Temp\\ipykernel_13040\\364376139.py:78: FutureWarning: Setting an item of incompatible dtype is deprecated and will raise in a future error of pandas. Value '0.198058073697955' has dtype incompatible with int64, please explicitly cast to a compatible dtype first.\n",
      "  future_dates_copy.iloc[:, 1:] = values\n",
      "C:\\Users\\jonas\\AppData\\Local\\Temp\\ipykernel_13040\\364376139.py:78: FutureWarning: Setting an item of incompatible dtype is deprecated and will raise in a future error of pandas. Value '-0.21027869609146732' has dtype incompatible with int64, please explicitly cast to a compatible dtype first.\n",
      "  future_dates_copy.iloc[:, 1:] = values\n",
      "C:\\Users\\jonas\\AppData\\Local\\Temp\\ipykernel_13040\\364376139.py:78: FutureWarning: Setting an item of incompatible dtype is deprecated and will raise in a future error of pandas. Value '-1.163064492266786' has dtype incompatible with int64, please explicitly cast to a compatible dtype first.\n",
      "  future_dates_copy.iloc[:, 1:] = values\n",
      "C:\\Users\\jonas\\AppData\\Local\\Temp\\ipykernel_13040\\364376139.py:78: FutureWarning: Setting an item of incompatible dtype is deprecated and will raise in a future error of pandas. Value '-0.1422225677932303' has dtype incompatible with int64, please explicitly cast to a compatible dtype first.\n",
      "  future_dates_copy.iloc[:, 1:] = values\n",
      "C:\\Users\\jonas\\AppData\\Local\\Temp\\ipykernel_13040\\364376139.py:78: FutureWarning: Setting an item of incompatible dtype is deprecated and will raise in a future error of pandas. Value '-0.6186154658808897' has dtype incompatible with int64, please explicitly cast to a compatible dtype first.\n",
      "  future_dates_copy.iloc[:, 1:] = values\n",
      "C:\\Users\\jonas\\AppData\\Local\\Temp\\ipykernel_13040\\364376139.py:78: FutureWarning: Setting an item of incompatible dtype is deprecated and will raise in a future error of pandas. Value '2.648078692434489' has dtype incompatible with int64, please explicitly cast to a compatible dtype first.\n",
      "  future_dates_copy.iloc[:, 1:] = values\n",
      "C:\\Users\\jonas\\AppData\\Local\\Temp\\ipykernel_13040\\364376139.py:78: FutureWarning: Setting an item of incompatible dtype is deprecated and will raise in a future error of pandas. Value '0.7862210152205417' has dtype incompatible with int64, please explicitly cast to a compatible dtype first.\n",
      "  future_dates_copy.iloc[:, 1:] = values\n",
      "C:\\Users\\jonas\\AppData\\Local\\Temp\\ipykernel_13040\\364376139.py:78: FutureWarning: Setting an item of incompatible dtype is deprecated and will raise in a future error of pandas. Value '-0.6186154658808897' has dtype incompatible with int64, please explicitly cast to a compatible dtype first.\n",
      "  future_dates_copy.iloc[:, 1:] = values\n",
      "C:\\Users\\jonas\\AppData\\Local\\Temp\\ipykernel_13040\\364376139.py:78: FutureWarning: Setting an item of incompatible dtype is deprecated and will raise in a future error of pandas. Value '-0.6186154658808897' has dtype incompatible with int64, please explicitly cast to a compatible dtype first.\n",
      "  future_dates_copy.iloc[:, 1:] = values\n",
      "C:\\Users\\jonas\\AppData\\Local\\Temp\\ipykernel_13040\\364376139.py:78: FutureWarning: Setting an item of incompatible dtype is deprecated and will raise in a future error of pandas. Value '0.3435053812399506' has dtype incompatible with int64, please explicitly cast to a compatible dtype first.\n",
      "  future_dates_copy.iloc[:, 1:] = values\n",
      "C:\\Users\\jonas\\AppData\\Local\\Temp\\ipykernel_13040\\364376139.py:78: FutureWarning: Setting an item of incompatible dtype is deprecated and will raise in a future error of pandas. Value '0.3611002549834853' has dtype incompatible with int64, please explicitly cast to a compatible dtype first.\n",
      "  future_dates_copy.iloc[:, 1:] = values\n",
      "C:\\Users\\jonas\\AppData\\Local\\Temp\\ipykernel_13040\\364376139.py:78: FutureWarning: Setting an item of incompatible dtype is deprecated and will raise in a future error of pandas. Value '-1.1235948407805318' has dtype incompatible with int64, please explicitly cast to a compatible dtype first.\n",
      "  future_dates_copy.iloc[:, 1:] = values\n",
      "C:\\Users\\jonas\\AppData\\Local\\Temp\\ipykernel_13040\\364376139.py:78: FutureWarning: Setting an item of incompatible dtype is deprecated and will raise in a future error of pandas. Value '-1.2452035446166865' has dtype incompatible with int64, please explicitly cast to a compatible dtype first.\n",
      "  future_dates_copy.iloc[:, 1:] = values\n",
      "C:\\Users\\jonas\\AppData\\Local\\Temp\\ipykernel_13040\\364376139.py:78: FutureWarning: Setting an item of incompatible dtype is deprecated and will raise in a future error of pandas. Value '0.029180000302686068' has dtype incompatible with int64, please explicitly cast to a compatible dtype first.\n",
      "  future_dates_copy.iloc[:, 1:] = values\n",
      "C:\\Users\\jonas\\AppData\\Local\\Temp\\ipykernel_13040\\364376139.py:78: FutureWarning: Setting an item of incompatible dtype is deprecated and will raise in a future error of pandas. Value '1.786240763668417' has dtype incompatible with int64, please explicitly cast to a compatible dtype first.\n",
      "  future_dates_copy.iloc[:, 1:] = values\n",
      "C:\\Users\\jonas\\AppData\\Local\\Temp\\ipykernel_13040\\364376139.py:78: FutureWarning: Setting an item of incompatible dtype is deprecated and will raise in a future error of pandas. Value '-0.3680301843783168' has dtype incompatible with int64, please explicitly cast to a compatible dtype first.\n",
      "  future_dates_copy.iloc[:, 1:] = values\n",
      "C:\\Users\\jonas\\AppData\\Local\\Temp\\ipykernel_13040\\364376139.py:78: FutureWarning: Setting an item of incompatible dtype is deprecated and will raise in a future error of pandas. Value '-0.9370312739255012' has dtype incompatible with int64, please explicitly cast to a compatible dtype first.\n",
      "  future_dates_copy.iloc[:, 1:] = values\n",
      "C:\\Users\\jonas\\AppData\\Local\\Temp\\ipykernel_13040\\364376139.py:78: FutureWarning: Setting an item of incompatible dtype is deprecated and will raise in a future error of pandas. Value '0.16439807906598153' has dtype incompatible with int64, please explicitly cast to a compatible dtype first.\n",
      "  future_dates_copy.iloc[:, 1:] = values\n",
      "C:\\Users\\jonas\\AppData\\Local\\Temp\\ipykernel_13040\\364376139.py:78: FutureWarning: Setting an item of incompatible dtype is deprecated and will raise in a future error of pandas. Value '0.9753194213671993' has dtype incompatible with int64, please explicitly cast to a compatible dtype first.\n",
      "  future_dates_copy.iloc[:, 1:] = values\n",
      "C:\\Users\\jonas\\AppData\\Local\\Temp\\ipykernel_13040\\364376139.py:78: FutureWarning: Setting an item of incompatible dtype is deprecated and will raise in a future error of pandas. Value '-0.5816495558511388' has dtype incompatible with int64, please explicitly cast to a compatible dtype first.\n",
      "  future_dates_copy.iloc[:, 1:] = values\n",
      "C:\\Users\\jonas\\AppData\\Local\\Temp\\ipykernel_13040\\364376139.py:78: FutureWarning: Setting an item of incompatible dtype is deprecated and will raise in a future error of pandas. Value '-0.6465232632352362' has dtype incompatible with int64, please explicitly cast to a compatible dtype first.\n",
      "  future_dates_copy.iloc[:, 1:] = values\n",
      "C:\\Users\\jonas\\AppData\\Local\\Temp\\ipykernel_13040\\364376139.py:78: FutureWarning: Setting an item of incompatible dtype is deprecated and will raise in a future error of pandas. Value '-0.43938131392452756' has dtype incompatible with int64, please explicitly cast to a compatible dtype first.\n",
      "  future_dates_copy.iloc[:, 1:] = values\n",
      "C:\\Users\\jonas\\AppData\\Local\\Temp\\ipykernel_13040\\364376139.py:78: FutureWarning: Setting an item of incompatible dtype is deprecated and will raise in a future error of pandas. Value '1.786240763668417' has dtype incompatible with int64, please explicitly cast to a compatible dtype first.\n",
      "  future_dates_copy.iloc[:, 1:] = values\n",
      "C:\\Users\\jonas\\AppData\\Local\\Temp\\ipykernel_13040\\364376139.py:78: FutureWarning: Setting an item of incompatible dtype is deprecated and will raise in a future error of pandas. Value '-0.24106259208462733' has dtype incompatible with int64, please explicitly cast to a compatible dtype first.\n",
      "  future_dates_copy.iloc[:, 1:] = values\n",
      "C:\\Users\\jonas\\AppData\\Local\\Temp\\ipykernel_13040\\364376139.py:78: FutureWarning: Setting an item of incompatible dtype is deprecated and will raise in a future error of pandas. Value '-0.9844071558607435' has dtype incompatible with int64, please explicitly cast to a compatible dtype first.\n",
      "  future_dates_copy.iloc[:, 1:] = values\n",
      "C:\\Users\\jonas\\AppData\\Local\\Temp\\ipykernel_13040\\364376139.py:78: FutureWarning: Setting an item of incompatible dtype is deprecated and will raise in a future error of pandas. Value '-0.24106259208462733' has dtype incompatible with int64, please explicitly cast to a compatible dtype first.\n",
      "  future_dates_copy.iloc[:, 1:] = values\n",
      "C:\\Users\\jonas\\AppData\\Local\\Temp\\ipykernel_13040\\364376139.py:78: FutureWarning: Setting an item of incompatible dtype is deprecated and will raise in a future error of pandas. Value '-0.6465232632352362' has dtype incompatible with int64, please explicitly cast to a compatible dtype first.\n",
      "  future_dates_copy.iloc[:, 1:] = values\n",
      "C:\\Users\\jonas\\AppData\\Local\\Temp\\ipykernel_13040\\364376139.py:78: FutureWarning: Setting an item of incompatible dtype is deprecated and will raise in a future error of pandas. Value '2.597162105969635' has dtype incompatible with int64, please explicitly cast to a compatible dtype first.\n",
      "  future_dates_copy.iloc[:, 1:] = values\n",
      "C:\\Users\\jonas\\AppData\\Local\\Temp\\ipykernel_13040\\364376139.py:78: FutureWarning: Setting an item of incompatible dtype is deprecated and will raise in a future error of pandas. Value '0.7484183257330793' has dtype incompatible with int64, please explicitly cast to a compatible dtype first.\n",
      "  future_dates_copy.iloc[:, 1:] = values\n",
      "C:\\Users\\jonas\\AppData\\Local\\Temp\\ipykernel_13040\\364376139.py:78: FutureWarning: Setting an item of incompatible dtype is deprecated and will raise in a future error of pandas. Value '-0.6465232632352362' has dtype incompatible with int64, please explicitly cast to a compatible dtype first.\n",
      "  future_dates_copy.iloc[:, 1:] = values\n",
      "C:\\Users\\jonas\\AppData\\Local\\Temp\\ipykernel_13040\\364376139.py:78: FutureWarning: Setting an item of incompatible dtype is deprecated and will raise in a future error of pandas. Value '-0.6465232632352362' has dtype incompatible with int64, please explicitly cast to a compatible dtype first.\n",
      "  future_dates_copy.iloc[:, 1:] = values\n",
      "C:\\Users\\jonas\\AppData\\Local\\Temp\\ipykernel_13040\\364376139.py:78: FutureWarning: Setting an item of incompatible dtype is deprecated and will raise in a future error of pandas. Value '0.30882093611958167' has dtype incompatible with int64, please explicitly cast to a compatible dtype first.\n",
      "  future_dates_copy.iloc[:, 1:] = values\n",
      "C:\\Users\\jonas\\AppData\\Local\\Temp\\ipykernel_13040\\364376139.py:78: FutureWarning: Setting an item of incompatible dtype is deprecated and will raise in a future error of pandas. Value '0.3517357105526477' has dtype incompatible with int64, please explicitly cast to a compatible dtype first.\n",
      "  future_dates_copy.iloc[:, 1:] = values\n",
      "C:\\Users\\jonas\\AppData\\Local\\Temp\\ipykernel_13040\\364376139.py:78: FutureWarning: Setting an item of incompatible dtype is deprecated and will raise in a future error of pandas. Value '-1.0612204868763269' has dtype incompatible with int64, please explicitly cast to a compatible dtype first.\n",
      "  future_dates_copy.iloc[:, 1:] = values\n",
      "C:\\Users\\jonas\\AppData\\Local\\Temp\\ipykernel_13040\\364376139.py:78: FutureWarning: Setting an item of incompatible dtype is deprecated and will raise in a future error of pandas. Value '-1.1977535237966348' has dtype incompatible with int64, please explicitly cast to a compatible dtype first.\n",
      "  future_dates_copy.iloc[:, 1:] = values\n",
      "C:\\Users\\jonas\\AppData\\Local\\Temp\\ipykernel_13040\\364376139.py:78: FutureWarning: Setting an item of incompatible dtype is deprecated and will raise in a future error of pandas. Value '-0.07153254859897046' has dtype incompatible with int64, please explicitly cast to a compatible dtype first.\n",
      "  future_dates_copy.iloc[:, 1:] = values\n",
      "C:\\Users\\jonas\\AppData\\Local\\Temp\\ipykernel_13040\\364376139.py:78: FutureWarning: Setting an item of incompatible dtype is deprecated and will raise in a future error of pandas. Value '0.8624133060254289' has dtype incompatible with int64, please explicitly cast to a compatible dtype first.\n",
      "  future_dates_copy.iloc[:, 1:] = values\n",
      "C:\\Users\\jonas\\AppData\\Local\\Temp\\ipykernel_13040\\364376139.py:78: FutureWarning: Setting an item of incompatible dtype is deprecated and will raise in a future error of pandas. Value '-0.4713218413521408' has dtype incompatible with int64, please explicitly cast to a compatible dtype first.\n",
      "  future_dates_copy.iloc[:, 1:] = values\n",
      "C:\\Users\\jonas\\AppData\\Local\\Temp\\ipykernel_13040\\364376139.py:78: FutureWarning: Setting an item of incompatible dtype is deprecated and will raise in a future error of pandas. Value '-0.835937900713285' has dtype incompatible with int64, please explicitly cast to a compatible dtype first.\n",
      "  future_dates_copy.iloc[:, 1:] = values\n",
      "C:\\Users\\jonas\\AppData\\Local\\Temp\\ipykernel_13040\\364376139.py:78: FutureWarning: Setting an item of incompatible dtype is deprecated and will raise in a future error of pandas. Value '0.10809957262780803' has dtype incompatible with int64, please explicitly cast to a compatible dtype first.\n",
      "  future_dates_copy.iloc[:, 1:] = values\n",
      "C:\\Users\\jonas\\AppData\\Local\\Temp\\ipykernel_13040\\364376139.py:78: FutureWarning: Setting an item of incompatible dtype is deprecated and will raise in a future error of pandas. Value '2.3710407728206704' has dtype incompatible with int64, please explicitly cast to a compatible dtype first.\n",
      "  future_dates_copy.iloc[:, 1:] = values\n",
      "C:\\Users\\jonas\\AppData\\Local\\Temp\\ipykernel_13040\\364376139.py:78: FutureWarning: Setting an item of incompatible dtype is deprecated and will raise in a future error of pandas. Value '-0.585869062098003' has dtype incompatible with int64, please explicitly cast to a compatible dtype first.\n",
      "  future_dates_copy.iloc[:, 1:] = values\n",
      "C:\\Users\\jonas\\AppData\\Local\\Temp\\ipykernel_13040\\364376139.py:78: FutureWarning: Setting an item of incompatible dtype is deprecated and will raise in a future error of pandas. Value '-0.6462141607698128' has dtype incompatible with int64, please explicitly cast to a compatible dtype first.\n",
      "  future_dates_copy.iloc[:, 1:] = values\n",
      "C:\\Users\\jonas\\AppData\\Local\\Temp\\ipykernel_13040\\364376139.py:78: FutureWarning: Setting an item of incompatible dtype is deprecated and will raise in a future error of pandas. Value '-0.42117396017938896' has dtype incompatible with int64, please explicitly cast to a compatible dtype first.\n",
      "  future_dates_copy.iloc[:, 1:] = values\n",
      "C:\\Users\\jonas\\AppData\\Local\\Temp\\ipykernel_13040\\364376139.py:78: FutureWarning: Setting an item of incompatible dtype is deprecated and will raise in a future error of pandas. Value '1.6167270394230497' has dtype incompatible with int64, please explicitly cast to a compatible dtype first.\n",
      "  future_dates_copy.iloc[:, 1:] = values\n",
      "C:\\Users\\jonas\\AppData\\Local\\Temp\\ipykernel_13040\\364376139.py:78: FutureWarning: Setting an item of incompatible dtype is deprecated and will raise in a future error of pandas. Value '-0.2690572940710024' has dtype incompatible with int64, please explicitly cast to a compatible dtype first.\n",
      "  future_dates_copy.iloc[:, 1:] = values\n",
      "C:\\Users\\jonas\\AppData\\Local\\Temp\\ipykernel_13040\\364376139.py:78: FutureWarning: Setting an item of incompatible dtype is deprecated and will raise in a future error of pandas. Value '-0.834792594119218' has dtype incompatible with int64, please explicitly cast to a compatible dtype first.\n",
      "  future_dates_copy.iloc[:, 1:] = values\n",
      "C:\\Users\\jonas\\AppData\\Local\\Temp\\ipykernel_13040\\364376139.py:78: FutureWarning: Setting an item of incompatible dtype is deprecated and will raise in a future error of pandas. Value '-0.3947762496372726' has dtype incompatible with int64, please explicitly cast to a compatible dtype first.\n",
      "  future_dates_copy.iloc[:, 1:] = values\n",
      "C:\\Users\\jonas\\AppData\\Local\\Temp\\ipykernel_13040\\364376139.py:78: FutureWarning: Setting an item of incompatible dtype is deprecated and will raise in a future error of pandas. Value '-0.6462141607698128' has dtype incompatible with int64, please explicitly cast to a compatible dtype first.\n",
      "  future_dates_copy.iloc[:, 1:] = values\n",
      "C:\\Users\\jonas\\AppData\\Local\\Temp\\ipykernel_13040\\364376139.py:78: FutureWarning: Setting an item of incompatible dtype is deprecated and will raise in a future error of pandas. Value '2.3710407728206704' has dtype incompatible with int64, please explicitly cast to a compatible dtype first.\n",
      "  future_dates_copy.iloc[:, 1:] = values\n",
      "C:\\Users\\jonas\\AppData\\Local\\Temp\\ipykernel_13040\\364376139.py:78: FutureWarning: Setting an item of incompatible dtype is deprecated and will raise in a future error of pandas. Value '0.7464151055408628' has dtype incompatible with int64, please explicitly cast to a compatible dtype first.\n",
      "  future_dates_copy.iloc[:, 1:] = values\n",
      "C:\\Users\\jonas\\AppData\\Local\\Temp\\ipykernel_13040\\364376139.py:78: FutureWarning: Setting an item of incompatible dtype is deprecated and will raise in a future error of pandas. Value '-0.6462141607698128' has dtype incompatible with int64, please explicitly cast to a compatible dtype first.\n",
      "  future_dates_copy.iloc[:, 1:] = values\n",
      "C:\\Users\\jonas\\AppData\\Local\\Temp\\ipykernel_13040\\364376139.py:78: FutureWarning: Setting an item of incompatible dtype is deprecated and will raise in a future error of pandas. Value '-0.6462141607698128' has dtype incompatible with int64, please explicitly cast to a compatible dtype first.\n",
      "  future_dates_copy.iloc[:, 1:] = values\n",
      "C:\\Users\\jonas\\AppData\\Local\\Temp\\ipykernel_13040\\364376139.py:78: FutureWarning: Setting an item of incompatible dtype is deprecated and will raise in a future error of pandas. Value '0.24244077048419158' has dtype incompatible with int64, please explicitly cast to a compatible dtype first.\n",
      "  future_dates_copy.iloc[:, 1:] = values\n",
      "C:\\Users\\jonas\\AppData\\Local\\Temp\\ipykernel_13040\\364376139.py:78: FutureWarning: Setting an item of incompatible dtype is deprecated and will raise in a future error of pandas. Value '0.4101147647788114' has dtype incompatible with int64, please explicitly cast to a compatible dtype first.\n",
      "  future_dates_copy.iloc[:, 1:] = values\n",
      "C:\\Users\\jonas\\AppData\\Local\\Temp\\ipykernel_13040\\364376139.py:78: FutureWarning: Setting an item of incompatible dtype is deprecated and will raise in a future error of pandas. Value '-1.1779997231513646' has dtype incompatible with int64, please explicitly cast to a compatible dtype first.\n",
      "  future_dates_copy.iloc[:, 1:] = values\n",
      "C:\\Users\\jonas\\AppData\\Local\\Temp\\ipykernel_13040\\364376139.py:78: FutureWarning: Setting an item of incompatible dtype is deprecated and will raise in a future error of pandas. Value '-1.3248239416457024' has dtype incompatible with int64, please explicitly cast to a compatible dtype first.\n",
      "  future_dates_copy.iloc[:, 1:] = values\n",
      "C:\\Users\\jonas\\AppData\\Local\\Temp\\ipykernel_13040\\364376139.py:78: FutureWarning: Setting an item of incompatible dtype is deprecated and will raise in a future error of pandas. Value '-0.11866884124796044' has dtype incompatible with int64, please explicitly cast to a compatible dtype first.\n",
      "  future_dates_copy.iloc[:, 1:] = values\n",
      "C:\\Users\\jonas\\AppData\\Local\\Temp\\ipykernel_13040\\364376139.py:78: FutureWarning: Setting an item of incompatible dtype is deprecated and will raise in a future error of pandas. Value '0.838711064275688' has dtype incompatible with int64, please explicitly cast to a compatible dtype first.\n",
      "  future_dates_copy.iloc[:, 1:] = values\n",
      "C:\\Users\\jonas\\AppData\\Local\\Temp\\ipykernel_13040\\364376139.py:78: FutureWarning: Setting an item of incompatible dtype is deprecated and will raise in a future error of pandas. Value '-0.6372168394548335' has dtype incompatible with int64, please explicitly cast to a compatible dtype first.\n",
      "  future_dates_copy.iloc[:, 1:] = values\n",
      "C:\\Users\\jonas\\AppData\\Local\\Temp\\ipykernel_13040\\364376139.py:78: FutureWarning: Setting an item of incompatible dtype is deprecated and will raise in a future error of pandas. Value '-0.8976187786220694' has dtype incompatible with int64, please explicitly cast to a compatible dtype first.\n",
      "  future_dates_copy.iloc[:, 1:] = values\n",
      "C:\\Users\\jonas\\AppData\\Local\\Temp\\ipykernel_13040\\364376139.py:78: FutureWarning: Setting an item of incompatible dtype is deprecated and will raise in a future error of pandas. Value '0.042825942741243905' has dtype incompatible with int64, please explicitly cast to a compatible dtype first.\n",
      "  future_dates_copy.iloc[:, 1:] = values\n",
      "C:\\Users\\jonas\\AppData\\Local\\Temp\\ipykernel_13040\\364376139.py:78: FutureWarning: Setting an item of incompatible dtype is deprecated and will raise in a future error of pandas. Value '2.4304813073445763' has dtype incompatible with int64, please explicitly cast to a compatible dtype first.\n",
      "  future_dates_copy.iloc[:, 1:] = values\n",
      "C:\\Users\\jonas\\AppData\\Local\\Temp\\ipykernel_13040\\364376139.py:78: FutureWarning: Setting an item of incompatible dtype is deprecated and will raise in a future error of pandas. Value '-0.7212237739318224' has dtype incompatible with int64, please explicitly cast to a compatible dtype first.\n",
      "  future_dates_copy.iloc[:, 1:] = values\n",
      "C:\\Users\\jonas\\AppData\\Local\\Temp\\ipykernel_13040\\364376139.py:78: FutureWarning: Setting an item of incompatible dtype is deprecated and will raise in a future error of pandas. Value '0.838711064275688' has dtype incompatible with int64, please explicitly cast to a compatible dtype first.\n",
      "  future_dates_copy.iloc[:, 1:] = values\n",
      "C:\\Users\\jonas\\AppData\\Local\\Temp\\ipykernel_13040\\364376139.py:78: FutureWarning: Setting an item of incompatible dtype is deprecated and will raise in a future error of pandas. Value '-0.5120892658371684' has dtype incompatible with int64, please explicitly cast to a compatible dtype first.\n",
      "  future_dates_copy.iloc[:, 1:] = values\n",
      "C:\\Users\\jonas\\AppData\\Local\\Temp\\ipykernel_13040\\364376139.py:78: FutureWarning: Setting an item of incompatible dtype is deprecated and will raise in a future error of pandas. Value '0.838711064275688' has dtype incompatible with int64, please explicitly cast to a compatible dtype first.\n",
      "  future_dates_copy.iloc[:, 1:] = values\n",
      "C:\\Users\\jonas\\AppData\\Local\\Temp\\ipykernel_13040\\364376139.py:78: FutureWarning: Setting an item of incompatible dtype is deprecated and will raise in a future error of pandas. Value '-0.3551166180259781' has dtype incompatible with int64, please explicitly cast to a compatible dtype first.\n",
      "  future_dates_copy.iloc[:, 1:] = values\n",
      "C:\\Users\\jonas\\AppData\\Local\\Temp\\ipykernel_13040\\364376139.py:78: FutureWarning: Setting an item of incompatible dtype is deprecated and will raise in a future error of pandas. Value '-0.08982157751449683' has dtype incompatible with int64, please explicitly cast to a compatible dtype first.\n",
      "  future_dates_copy.iloc[:, 1:] = values\n",
      "C:\\Users\\jonas\\AppData\\Local\\Temp\\ipykernel_13040\\364376139.py:78: FutureWarning: Setting an item of incompatible dtype is deprecated and will raise in a future error of pandas. Value '-0.6204116585374594' has dtype incompatible with int64, please explicitly cast to a compatible dtype first.\n",
      "  future_dates_copy.iloc[:, 1:] = values\n",
      "C:\\Users\\jonas\\AppData\\Local\\Temp\\ipykernel_13040\\364376139.py:78: FutureWarning: Setting an item of incompatible dtype is deprecated and will raise in a future error of pandas. Value '-0.7530591787932002' has dtype incompatible with int64, please explicitly cast to a compatible dtype first.\n",
      "  future_dates_copy.iloc[:, 1:] = values\n",
      "C:\\Users\\jonas\\AppData\\Local\\Temp\\ipykernel_13040\\364376139.py:78: FutureWarning: Setting an item of incompatible dtype is deprecated and will raise in a future error of pandas. Value '2.4304813073445763' has dtype incompatible with int64, please explicitly cast to a compatible dtype first.\n",
      "  future_dates_copy.iloc[:, 1:] = values\n",
      "C:\\Users\\jonas\\AppData\\Local\\Temp\\ipykernel_13040\\364376139.py:78: FutureWarning: Setting an item of incompatible dtype is deprecated and will raise in a future error of pandas. Value '0.7163200248409459' has dtype incompatible with int64, please explicitly cast to a compatible dtype first.\n",
      "  future_dates_copy.iloc[:, 1:] = values\n",
      "C:\\Users\\jonas\\AppData\\Local\\Temp\\ipykernel_13040\\364376139.py:78: FutureWarning: Setting an item of incompatible dtype is deprecated and will raise in a future error of pandas. Value '-0.7530591787932002' has dtype incompatible with int64, please explicitly cast to a compatible dtype first.\n",
      "  future_dates_copy.iloc[:, 1:] = values\n",
      "C:\\Users\\jonas\\AppData\\Local\\Temp\\ipykernel_13040\\364376139.py:78: FutureWarning: Setting an item of incompatible dtype is deprecated and will raise in a future error of pandas. Value '-0.7530591787932002' has dtype incompatible with int64, please explicitly cast to a compatible dtype first.\n",
      "  future_dates_copy.iloc[:, 1:] = values\n",
      "C:\\Users\\jonas\\AppData\\Local\\Temp\\ipykernel_13040\\364376139.py:78: FutureWarning: Setting an item of incompatible dtype is deprecated and will raise in a future error of pandas. Value '0.18457089029962262' has dtype incompatible with int64, please explicitly cast to a compatible dtype first.\n",
      "  future_dates_copy.iloc[:, 1:] = values\n",
      "C:\\Users\\jonas\\AppData\\Local\\Temp\\ipykernel_13040\\364376139.py:78: FutureWarning: Setting an item of incompatible dtype is deprecated and will raise in a future error of pandas. Value '0.393355888950428' has dtype incompatible with int64, please explicitly cast to a compatible dtype first.\n",
      "  future_dates_copy.iloc[:, 1:] = values\n",
      "C:\\Users\\jonas\\AppData\\Local\\Temp\\ipykernel_13040\\364376139.py:78: FutureWarning: Setting an item of incompatible dtype is deprecated and will raise in a future error of pandas. Value '-1.2408999466516508' has dtype incompatible with int64, please explicitly cast to a compatible dtype first.\n",
      "  future_dates_copy.iloc[:, 1:] = values\n",
      "C:\\Users\\jonas\\AppData\\Local\\Temp\\ipykernel_13040\\364376139.py:78: FutureWarning: Setting an item of incompatible dtype is deprecated and will raise in a future error of pandas. Value '-1.3954309136232763' has dtype incompatible with int64, please explicitly cast to a compatible dtype first.\n",
      "  future_dates_copy.iloc[:, 1:] = values\n",
      "C:\\Users\\jonas\\AppData\\Local\\Temp\\ipykernel_13040\\364376139.py:78: FutureWarning: Setting an item of incompatible dtype is deprecated and will raise in a future error of pandas. Value '0.12345487607057345' has dtype incompatible with int64, please explicitly cast to a compatible dtype first.\n",
      "  future_dates_copy.iloc[:, 1:] = values\n",
      "C:\\Users\\jonas\\AppData\\Local\\Temp\\ipykernel_13040\\364376139.py:78: FutureWarning: Setting an item of incompatible dtype is deprecated and will raise in a future error of pandas. Value '1.2860808193550228' has dtype incompatible with int64, please explicitly cast to a compatible dtype first.\n",
      "  future_dates_copy.iloc[:, 1:] = values\n",
      "C:\\Users\\jonas\\AppData\\Local\\Temp\\ipykernel_13040\\364376139.py:78: FutureWarning: Setting an item of incompatible dtype is deprecated and will raise in a future error of pandas. Value '-0.42045123519556066' has dtype incompatible with int64, please explicitly cast to a compatible dtype first.\n",
      "  future_dates_copy.iloc[:, 1:] = values\n",
      "C:\\Users\\jonas\\AppData\\Local\\Temp\\ipykernel_13040\\364376139.py:78: FutureWarning: Setting an item of incompatible dtype is deprecated and will raise in a future error of pandas. Value '-0.5543782013611583' has dtype incompatible with int64, please explicitly cast to a compatible dtype first.\n",
      "  future_dates_copy.iloc[:, 1:] = values\n",
      "C:\\Users\\jonas\\AppData\\Local\\Temp\\ipykernel_13040\\364376139.py:78: FutureWarning: Setting an item of incompatible dtype is deprecated and will raise in a future error of pandas. Value '0.32092625492608534' has dtype incompatible with int64, please explicitly cast to a compatible dtype first.\n",
      "  future_dates_copy.iloc[:, 1:] = values\n",
      "C:\\Users\\jonas\\AppData\\Local\\Temp\\ipykernel_13040\\364376139.py:78: FutureWarning: Setting an item of incompatible dtype is deprecated and will raise in a future error of pandas. Value '1.2860808193550228' has dtype incompatible with int64, please explicitly cast to a compatible dtype first.\n",
      "  future_dates_copy.iloc[:, 1:] = values\n",
      "C:\\Users\\jonas\\AppData\\Local\\Temp\\ipykernel_13040\\364376139.py:78: FutureWarning: Setting an item of incompatible dtype is deprecated and will raise in a future error of pandas. Value '-0.6056221269256946' has dtype incompatible with int64, please explicitly cast to a compatible dtype first.\n",
      "  future_dates_copy.iloc[:, 1:] = values\n",
      "C:\\Users\\jonas\\AppData\\Local\\Temp\\ipykernel_13040\\364376139.py:78: FutureWarning: Setting an item of incompatible dtype is deprecated and will raise in a future error of pandas. Value '-0.6442283095028521' has dtype incompatible with int64, please explicitly cast to a compatible dtype first.\n",
      "  future_dates_copy.iloc[:, 1:] = values\n",
      "C:\\Users\\jonas\\AppData\\Local\\Temp\\ipykernel_13040\\364376139.py:78: FutureWarning: Setting an item of incompatible dtype is deprecated and will raise in a future error of pandas. Value '-0.3815323644288968' has dtype incompatible with int64, please explicitly cast to a compatible dtype first.\n",
      "  future_dates_copy.iloc[:, 1:] = values\n",
      "C:\\Users\\jonas\\AppData\\Local\\Temp\\ipykernel_13040\\364376139.py:78: FutureWarning: Setting an item of incompatible dtype is deprecated and will raise in a future error of pandas. Value '0.32092625492608534' has dtype incompatible with int64, please explicitly cast to a compatible dtype first.\n",
      "  future_dates_copy.iloc[:, 1:] = values\n",
      "C:\\Users\\jonas\\AppData\\Local\\Temp\\ipykernel_13040\\364376139.py:78: FutureWarning: Setting an item of incompatible dtype is deprecated and will raise in a future error of pandas. Value '-0.1616510272883834' has dtype incompatible with int64, please explicitly cast to a compatible dtype first.\n",
      "  future_dates_copy.iloc[:, 1:] = values\n",
      "C:\\Users\\jonas\\AppData\\Local\\Temp\\ipykernel_13040\\364376139.py:78: FutureWarning: Setting an item of incompatible dtype is deprecated and will raise in a future error of pandas. Value '-0.40293966839561773' has dtype incompatible with int64, please explicitly cast to a compatible dtype first.\n",
      "  future_dates_copy.iloc[:, 1:] = values\n",
      "C:\\Users\\jonas\\AppData\\Local\\Temp\\ipykernel_13040\\364376139.py:78: FutureWarning: Setting an item of incompatible dtype is deprecated and will raise in a future error of pandas. Value '-0.6442283095028521' has dtype incompatible with int64, please explicitly cast to a compatible dtype first.\n",
      "  future_dates_copy.iloc[:, 1:] = values\n",
      "C:\\Users\\jonas\\AppData\\Local\\Temp\\ipykernel_13040\\364376139.py:78: FutureWarning: Setting an item of incompatible dtype is deprecated and will raise in a future error of pandas. Value '-0.6442283095028521' has dtype incompatible with int64, please explicitly cast to a compatible dtype first.\n",
      "  future_dates_copy.iloc[:, 1:] = values\n",
      "C:\\Users\\jonas\\AppData\\Local\\Temp\\ipykernel_13040\\364376139.py:78: FutureWarning: Setting an item of incompatible dtype is deprecated and will raise in a future error of pandas. Value '3.216389948212898' has dtype incompatible with int64, please explicitly cast to a compatible dtype first.\n",
      "  future_dates_copy.iloc[:, 1:] = values\n",
      "C:\\Users\\jonas\\AppData\\Local\\Temp\\ipykernel_13040\\364376139.py:78: FutureWarning: Setting an item of incompatible dtype is deprecated and will raise in a future error of pandas. Value '1.0160242593639652' has dtype incompatible with int64, please explicitly cast to a compatible dtype first.\n",
      "  future_dates_copy.iloc[:, 1:] = values\n",
      "C:\\Users\\jonas\\AppData\\Local\\Temp\\ipykernel_13040\\364376139.py:78: FutureWarning: Setting an item of incompatible dtype is deprecated and will raise in a future error of pandas. Value '-0.6442283095028521' has dtype incompatible with int64, please explicitly cast to a compatible dtype first.\n",
      "  future_dates_copy.iloc[:, 1:] = values\n",
      "C:\\Users\\jonas\\AppData\\Local\\Temp\\ipykernel_13040\\364376139.py:78: FutureWarning: Setting an item of incompatible dtype is deprecated and will raise in a future error of pandas. Value '-0.6442283095028521' has dtype incompatible with int64, please explicitly cast to a compatible dtype first.\n",
      "  future_dates_copy.iloc[:, 1:] = values\n",
      "C:\\Users\\jonas\\AppData\\Local\\Temp\\ipykernel_13040\\364376139.py:78: FutureWarning: Setting an item of incompatible dtype is deprecated and will raise in a future error of pandas. Value '0.49281762394295037' has dtype incompatible with int64, please explicitly cast to a compatible dtype first.\n",
      "  future_dates_copy.iloc[:, 1:] = values\n",
      "C:\\Users\\jonas\\AppData\\Local\\Temp\\ipykernel_13040\\364376139.py:78: FutureWarning: Setting an item of incompatible dtype is deprecated and will raise in a future error of pandas. Value '0.3213461752318959' has dtype incompatible with int64, please explicitly cast to a compatible dtype first.\n",
      "  future_dates_copy.iloc[:, 1:] = values\n",
      "C:\\Users\\jonas\\AppData\\Local\\Temp\\ipykernel_13040\\364376139.py:78: FutureWarning: Setting an item of incompatible dtype is deprecated and will raise in a future error of pandas. Value '-1.1407137532536997' has dtype incompatible with int64, please explicitly cast to a compatible dtype first.\n",
      "  future_dates_copy.iloc[:, 1:] = values\n",
      "C:\\Users\\jonas\\AppData\\Local\\Temp\\ipykernel_13040\\364376139.py:78: FutureWarning: Setting an item of incompatible dtype is deprecated and will raise in a future error of pandas. Value '-1.2508024287391053' has dtype incompatible with int64, please explicitly cast to a compatible dtype first.\n",
      "  future_dates_copy.iloc[:, 1:] = values\n",
      "C:\\Users\\jonas\\AppData\\Local\\Temp\\ipykernel_13040\\364376139.py:78: FutureWarning: Setting an item of incompatible dtype is deprecated and will raise in a future error of pandas. Value '0.09099543491332102' has dtype incompatible with int64, please explicitly cast to a compatible dtype first.\n",
      "  future_dates_copy.iloc[:, 1:] = values\n",
      "C:\\Users\\jonas\\AppData\\Local\\Temp\\ipykernel_13040\\364376139.py:78: FutureWarning: Setting an item of incompatible dtype is deprecated and will raise in a future error of pandas. Value '2.917544190764701' has dtype incompatible with int64, please explicitly cast to a compatible dtype first.\n",
      "  future_dates_copy.iloc[:, 1:] = values\n",
      "C:\\Users\\jonas\\AppData\\Local\\Temp\\ipykernel_13040\\364376139.py:78: FutureWarning: Setting an item of incompatible dtype is deprecated and will raise in a future error of pandas. Value '-0.40064356542417956' has dtype incompatible with int64, please explicitly cast to a compatible dtype first.\n",
      "  future_dates_copy.iloc[:, 1:] = values\n",
      "C:\\Users\\jonas\\AppData\\Local\\Temp\\ipykernel_13040\\364376139.py:78: FutureWarning: Setting an item of incompatible dtype is deprecated and will raise in a future error of pandas. Value '-0.5717604014171717' has dtype incompatible with int64, please explicitly cast to a compatible dtype first.\n",
      "  future_dates_copy.iloc[:, 1:] = values\n",
      "C:\\Users\\jonas\\AppData\\Local\\Temp\\ipykernel_13040\\364376139.py:78: FutureWarning: Setting an item of incompatible dtype is deprecated and will raise in a future error of pandas. Value '0.10715279609476464' has dtype incompatible with int64, please explicitly cast to a compatible dtype first.\n",
      "  future_dates_copy.iloc[:, 1:] = values\n",
      "C:\\Users\\jonas\\AppData\\Local\\Temp\\ipykernel_13040\\364376139.py:78: FutureWarning: Setting an item of incompatible dtype is deprecated and will raise in a future error of pandas. Value '1.5123484934297327' has dtype incompatible with int64, please explicitly cast to a compatible dtype first.\n",
      "  future_dates_copy.iloc[:, 1:] = values\n",
      "C:\\Users\\jonas\\AppData\\Local\\Temp\\ipykernel_13040\\364376139.py:78: FutureWarning: Setting an item of incompatible dtype is deprecated and will raise in a future error of pandas. Value '-0.5173786249429989' has dtype incompatible with int64, please explicitly cast to a compatible dtype first.\n",
      "  future_dates_copy.iloc[:, 1:] = values\n",
      "C:\\Users\\jonas\\AppData\\Local\\Temp\\ipykernel_13040\\364376139.py:78: FutureWarning: Setting an item of incompatible dtype is deprecated and will raise in a future error of pandas. Value '-0.5954450525727194' has dtype incompatible with int64, please explicitly cast to a compatible dtype first.\n",
      "  future_dates_copy.iloc[:, 1:] = values\n",
      "C:\\Users\\jonas\\AppData\\Local\\Temp\\ipykernel_13040\\364376139.py:78: FutureWarning: Setting an item of incompatible dtype is deprecated and will raise in a future error of pandas. Value '-0.40560024766319297' has dtype incompatible with int64, please explicitly cast to a compatible dtype first.\n",
      "  future_dates_copy.iloc[:, 1:] = values\n",
      "C:\\Users\\jonas\\AppData\\Local\\Temp\\ipykernel_13040\\364376139.py:78: FutureWarning: Setting an item of incompatible dtype is deprecated and will raise in a future error of pandas. Value '0.10715279609476464' has dtype incompatible with int64, please explicitly cast to a compatible dtype first.\n",
      "  future_dates_copy.iloc[:, 1:] = values\n",
      "C:\\Users\\jonas\\AppData\\Local\\Temp\\ipykernel_13040\\364376139.py:78: FutureWarning: Setting an item of incompatible dtype is deprecated and will raise in a future error of pandas. Value '-0.3612457696835581' has dtype incompatible with int64, please explicitly cast to a compatible dtype first.\n",
      "  future_dates_copy.iloc[:, 1:] = values\n",
      "C:\\Users\\jonas\\AppData\\Local\\Temp\\ipykernel_13040\\364376139.py:78: FutureWarning: Setting an item of incompatible dtype is deprecated and will raise in a future error of pandas. Value '-0.009946845349816083' has dtype incompatible with int64, please explicitly cast to a compatible dtype first.\n",
      "  future_dates_copy.iloc[:, 1:] = values\n",
      "C:\\Users\\jonas\\AppData\\Local\\Temp\\ipykernel_13040\\364376139.py:78: FutureWarning: Setting an item of incompatible dtype is deprecated and will raise in a future error of pandas. Value '-0.6539948732950097' has dtype incompatible with int64, please explicitly cast to a compatible dtype first.\n",
      "  future_dates_copy.iloc[:, 1:] = values\n",
      "C:\\Users\\jonas\\AppData\\Local\\Temp\\ipykernel_13040\\364376139.py:78: FutureWarning: Setting an item of incompatible dtype is deprecated and will raise in a future error of pandas. Value '-0.5954450525727194' has dtype incompatible with int64, please explicitly cast to a compatible dtype first.\n",
      "  future_dates_copy.iloc[:, 1:] = values\n",
      "C:\\Users\\jonas\\AppData\\Local\\Temp\\ipykernel_13040\\364376139.py:78: FutureWarning: Setting an item of incompatible dtype is deprecated and will raise in a future error of pandas. Value '2.2149463420972166' has dtype incompatible with int64, please explicitly cast to a compatible dtype first.\n",
      "  future_dates_copy.iloc[:, 1:] = values\n",
      "C:\\Users\\jonas\\AppData\\Local\\Temp\\ipykernel_13040\\364376139.py:78: FutureWarning: Setting an item of incompatible dtype is deprecated and will raise in a future error of pandas. Value '0.7017053016890706' has dtype incompatible with int64, please explicitly cast to a compatible dtype first.\n",
      "  future_dates_copy.iloc[:, 1:] = values\n",
      "C:\\Users\\jonas\\AppData\\Local\\Temp\\ipykernel_13040\\364376139.py:78: FutureWarning: Setting an item of incompatible dtype is deprecated and will raise in a future error of pandas. Value '-0.5954450525727194' has dtype incompatible with int64, please explicitly cast to a compatible dtype first.\n",
      "  future_dates_copy.iloc[:, 1:] = values\n",
      "C:\\Users\\jonas\\AppData\\Local\\Temp\\ipykernel_13040\\364376139.py:78: FutureWarning: Setting an item of incompatible dtype is deprecated and will raise in a future error of pandas. Value '-0.5954450525727194' has dtype incompatible with int64, please explicitly cast to a compatible dtype first.\n",
      "  future_dates_copy.iloc[:, 1:] = values\n",
      "C:\\Users\\jonas\\AppData\\Local\\Temp\\ipykernel_13040\\364376139.py:78: FutureWarning: Setting an item of incompatible dtype is deprecated and will raise in a future error of pandas. Value '-0.04362599262224278' has dtype incompatible with int64, please explicitly cast to a compatible dtype first.\n",
      "  future_dates_copy.iloc[:, 1:] = values\n",
      "C:\\Users\\jonas\\AppData\\Local\\Temp\\ipykernel_13040\\364376139.py:78: FutureWarning: Setting an item of incompatible dtype is deprecated and will raise in a future error of pandas. Value '0.08564735759828274' has dtype incompatible with int64, please explicitly cast to a compatible dtype first.\n",
      "  future_dates_copy.iloc[:, 1:] = values\n",
      "C:\\Users\\jonas\\AppData\\Local\\Temp\\ipykernel_13040\\364376139.py:78: FutureWarning: Setting an item of incompatible dtype is deprecated and will raise in a future error of pandas. Value '-1.1101750252792808' has dtype incompatible with int64, please explicitly cast to a compatible dtype first.\n",
      "  future_dates_copy.iloc[:, 1:] = values\n",
      "C:\\Users\\jonas\\AppData\\Local\\Temp\\ipykernel_13040\\364376139.py:78: FutureWarning: Setting an item of incompatible dtype is deprecated and will raise in a future error of pandas. Value '-1.2070104849286398' has dtype incompatible with int64, please explicitly cast to a compatible dtype first.\n",
      "  future_dates_copy.iloc[:, 1:] = values\n",
      "C:\\Users\\jonas\\AppData\\Local\\Temp\\ipykernel_13040\\364376139.py:78: FutureWarning: Setting an item of incompatible dtype is deprecated and will raise in a future error of pandas. Value '0.3090901457616855' has dtype incompatible with int64, please explicitly cast to a compatible dtype first.\n",
      "  future_dates_copy.iloc[:, 1:] = values\n",
      "C:\\Users\\jonas\\AppData\\Local\\Temp\\ipykernel_13040\\364376139.py:78: FutureWarning: Setting an item of incompatible dtype is deprecated and will raise in a future error of pandas. Value '3.3107066497966517' has dtype incompatible with int64, please explicitly cast to a compatible dtype first.\n",
      "  future_dates_copy.iloc[:, 1:] = values\n",
      "C:\\Users\\jonas\\AppData\\Local\\Temp\\ipykernel_13040\\364376139.py:78: FutureWarning: Setting an item of incompatible dtype is deprecated and will raise in a future error of pandas. Value '-0.24098022977222971' has dtype incompatible with int64, please explicitly cast to a compatible dtype first.\n",
      "  future_dates_copy.iloc[:, 1:] = values\n",
      "C:\\Users\\jonas\\AppData\\Local\\Temp\\ipykernel_13040\\364376139.py:78: FutureWarning: Setting an item of incompatible dtype is deprecated and will raise in a future error of pandas. Value '-1.109703136430425' has dtype incompatible with int64, please explicitly cast to a compatible dtype first.\n",
      "  future_dates_copy.iloc[:, 1:] = values\n",
      "C:\\Users\\jonas\\AppData\\Local\\Temp\\ipykernel_13040\\364376139.py:78: FutureWarning: Setting an item of incompatible dtype is deprecated and will raise in a future error of pandas. Value '0.02188352572603653' has dtype incompatible with int64, please explicitly cast to a compatible dtype first.\n",
      "  future_dates_copy.iloc[:, 1:] = values\n",
      "C:\\Users\\jonas\\AppData\\Local\\Temp\\ipykernel_13040\\364376139.py:78: FutureWarning: Setting an item of incompatible dtype is deprecated and will raise in a future error of pandas. Value '1.3726501659693249' has dtype incompatible with int64, please explicitly cast to a compatible dtype first.\n",
      "  future_dates_copy.iloc[:, 1:] = values\n",
      "C:\\Users\\jonas\\AppData\\Local\\Temp\\ipykernel_13040\\364376139.py:78: FutureWarning: Setting an item of incompatible dtype is deprecated and will raise in a future error of pandas. Value '-0.5175530713437468' has dtype incompatible with int64, please explicitly cast to a compatible dtype first.\n",
      "  future_dates_copy.iloc[:, 1:] = values\n",
      "C:\\Users\\jonas\\AppData\\Local\\Temp\\ipykernel_13040\\364376139.py:78: FutureWarning: Setting an item of incompatible dtype is deprecated and will raise in a future error of pandas. Value '-0.5654063178580019' has dtype incompatible with int64, please explicitly cast to a compatible dtype first.\n",
      "  future_dates_copy.iloc[:, 1:] = values\n",
      "C:\\Users\\jonas\\AppData\\Local\\Temp\\ipykernel_13040\\364376139.py:78: FutureWarning: Setting an item of incompatible dtype is deprecated and will raise in a future error of pandas. Value '-0.41825340142225526' has dtype incompatible with int64, please explicitly cast to a compatible dtype first.\n",
      "  future_dates_copy.iloc[:, 1:] = values\n",
      "C:\\Users\\jonas\\AppData\\Local\\Temp\\ipykernel_13040\\364376139.py:78: FutureWarning: Setting an item of incompatible dtype is deprecated and will raise in a future error of pandas. Value '0.7266313380268827' has dtype incompatible with int64, please explicitly cast to a compatible dtype first.\n",
      "  future_dates_copy.iloc[:, 1:] = values\n",
      "C:\\Users\\jonas\\AppData\\Local\\Temp\\ipykernel_13040\\364376139.py:78: FutureWarning: Setting an item of incompatible dtype is deprecated and will raise in a future error of pandas. Value '0.08061251008444038' has dtype incompatible with int64, please explicitly cast to a compatible dtype first.\n",
      "  future_dates_copy.iloc[:, 1:] = values\n",
      "C:\\Users\\jonas\\AppData\\Local\\Temp\\ipykernel_13040\\364376139.py:78: FutureWarning: Setting an item of incompatible dtype is deprecated and will raise in a future error of pandas. Value '-0.08089219690117018' has dtype incompatible with int64, please explicitly cast to a compatible dtype first.\n",
      "  future_dates_copy.iloc[:, 1:] = values\n",
      "C:\\Users\\jonas\\AppData\\Local\\Temp\\ipykernel_13040\\364376139.py:78: FutureWarning: Setting an item of incompatible dtype is deprecated and will raise in a future error of pandas. Value '-0.7269110248436124' has dtype incompatible with int64, please explicitly cast to a compatible dtype first.\n",
      "  future_dates_copy.iloc[:, 1:] = values\n",
      "C:\\Users\\jonas\\AppData\\Local\\Temp\\ipykernel_13040\\364376139.py:78: FutureWarning: Setting an item of incompatible dtype is deprecated and will raise in a future error of pandas. Value '-0.5654063178580019' has dtype incompatible with int64, please explicitly cast to a compatible dtype first.\n",
      "  future_dates_copy.iloc[:, 1:] = values\n",
      "C:\\Users\\jonas\\AppData\\Local\\Temp\\ipykernel_13040\\364376139.py:78: FutureWarning: Setting an item of incompatible dtype is deprecated and will raise in a future error of pandas. Value '1.3726501659693249' has dtype incompatible with int64, please explicitly cast to a compatible dtype first.\n",
      "  future_dates_copy.iloc[:, 1:] = values\n",
      "C:\\Users\\jonas\\AppData\\Local\\Temp\\ipykernel_13040\\364376139.py:78: FutureWarning: Setting an item of incompatible dtype is deprecated and will raise in a future error of pandas. Value '0.6272867043517983' has dtype incompatible with int64, please explicitly cast to a compatible dtype first.\n",
      "  future_dates_copy.iloc[:, 1:] = values\n",
      "C:\\Users\\jonas\\AppData\\Local\\Temp\\ipykernel_13040\\364376139.py:78: FutureWarning: Setting an item of incompatible dtype is deprecated and will raise in a future error of pandas. Value '-0.5654063178580019' has dtype incompatible with int64, please explicitly cast to a compatible dtype first.\n",
      "  future_dates_copy.iloc[:, 1:] = values\n",
      "C:\\Users\\jonas\\AppData\\Local\\Temp\\ipykernel_13040\\364376139.py:78: FutureWarning: Setting an item of incompatible dtype is deprecated and will raise in a future error of pandas. Value '-0.5654063178580019' has dtype incompatible with int64, please explicitly cast to a compatible dtype first.\n",
      "  future_dates_copy.iloc[:, 1:] = values\n",
      "C:\\Users\\jonas\\AppData\\Local\\Temp\\ipykernel_13040\\364376139.py:78: FutureWarning: Setting an item of incompatible dtype is deprecated and will raise in a future error of pandas. Value '-0.05802431687180216' has dtype incompatible with int64, please explicitly cast to a compatible dtype first.\n",
      "  future_dates_copy.iloc[:, 1:] = values\n",
      "C:\\Users\\jonas\\AppData\\Local\\Temp\\ipykernel_13040\\364376139.py:78: FutureWarning: Setting an item of incompatible dtype is deprecated and will raise in a future error of pandas. Value '-0.09038304646097478' has dtype incompatible with int64, please explicitly cast to a compatible dtype first.\n",
      "  future_dates_copy.iloc[:, 1:] = values\n",
      "C:\\Users\\jonas\\AppData\\Local\\Temp\\ipykernel_13040\\364376139.py:78: FutureWarning: Setting an item of incompatible dtype is deprecated and will raise in a future error of pandas. Value '-1.101214475705083' has dtype incompatible with int64, please explicitly cast to a compatible dtype first.\n",
      "  future_dates_copy.iloc[:, 1:] = values\n",
      "C:\\Users\\jonas\\AppData\\Local\\Temp\\ipykernel_13040\\364376139.py:78: FutureWarning: Setting an item of incompatible dtype is deprecated and will raise in a future error of pandas. Value '-0.6898265611135844' has dtype incompatible with int64, please explicitly cast to a compatible dtype first.\n",
      "  future_dates_copy.iloc[:, 1:] = values\n",
      "C:\\Users\\jonas\\AppData\\Local\\Temp\\ipykernel_13040\\364376139.py:78: FutureWarning: Setting an item of incompatible dtype is deprecated and will raise in a future error of pandas. Value '0.7401261295546812' has dtype incompatible with int64, please explicitly cast to a compatible dtype first.\n",
      "  future_dates_copy.iloc[:, 1:] = values\n",
      "C:\\Users\\jonas\\AppData\\Local\\Temp\\ipykernel_13040\\364376139.py:78: FutureWarning: Setting an item of incompatible dtype is deprecated and will raise in a future error of pandas. Value '3.1002716806418205' has dtype incompatible with int64, please explicitly cast to a compatible dtype first.\n",
      "  future_dates_copy.iloc[:, 1:] = values\n",
      "C:\\Users\\jonas\\AppData\\Local\\Temp\\ipykernel_13040\\364376139.py:78: FutureWarning: Setting an item of incompatible dtype is deprecated and will raise in a future error of pandas. Value '-0.16954204156529123' has dtype incompatible with int64, please explicitly cast to a compatible dtype first.\n",
      "  future_dates_copy.iloc[:, 1:] = values\n",
      "C:\\Users\\jonas\\AppData\\Local\\Temp\\ipykernel_13040\\364376139.py:78: FutureWarning: Setting an item of incompatible dtype is deprecated and will raise in a future error of pandas. Value '-0.46010994073958' has dtype incompatible with int64, please explicitly cast to a compatible dtype first.\n",
      "  future_dates_copy.iloc[:, 1:] = values\n",
      "C:\\Users\\jonas\\AppData\\Local\\Temp\\ipykernel_13040\\364376139.py:78: FutureWarning: Setting an item of incompatible dtype is deprecated and will raise in a future error of pandas. Value '-0.11805137690026313' has dtype incompatible with int64, please explicitly cast to a compatible dtype first.\n",
      "  future_dates_copy.iloc[:, 1:] = values\n",
      "C:\\Users\\jonas\\AppData\\Local\\Temp\\ipykernel_13040\\364376139.py:78: FutureWarning: Setting an item of incompatible dtype is deprecated and will raise in a future error of pandas. Value '2.0435088856280017' has dtype incompatible with int64, please explicitly cast to a compatible dtype first.\n",
      "  future_dates_copy.iloc[:, 1:] = values\n",
      "C:\\Users\\jonas\\AppData\\Local\\Temp\\ipykernel_13040\\364376139.py:78: FutureWarning: Setting an item of incompatible dtype is deprecated and will raise in a future error of pandas. Value '-0.5103345356553927' has dtype incompatible with int64, please explicitly cast to a compatible dtype first.\n",
      "  future_dates_copy.iloc[:, 1:] = values\n",
      "C:\\Users\\jonas\\AppData\\Local\\Temp\\ipykernel_13040\\364376139.py:78: FutureWarning: Setting an item of incompatible dtype is deprecated and will raise in a future error of pandas. Value '-0.5983981019065443' has dtype incompatible with int64, please explicitly cast to a compatible dtype first.\n",
      "  future_dates_copy.iloc[:, 1:] = values\n",
      "C:\\Users\\jonas\\AppData\\Local\\Temp\\ipykernel_13040\\364376139.py:78: FutureWarning: Setting an item of incompatible dtype is deprecated and will raise in a future error of pandas. Value '-0.5271222349224661' has dtype incompatible with int64, please explicitly cast to a compatible dtype first.\n",
      "  future_dates_copy.iloc[:, 1:] = values\n",
      "C:\\Users\\jonas\\AppData\\Local\\Temp\\ipykernel_13040\\364376139.py:78: FutureWarning: Setting an item of incompatible dtype is deprecated and will raise in a future error of pandas. Value '1.5151274881210925' has dtype incompatible with int64, please explicitly cast to a compatible dtype first.\n",
      "  future_dates_copy.iloc[:, 1:] = values\n",
      "C:\\Users\\jonas\\AppData\\Local\\Temp\\ipykernel_13040\\364376139.py:78: FutureWarning: Setting an item of incompatible dtype is deprecated and will raise in a future error of pandas. Value '-0.46630275252981696' has dtype incompatible with int64, please explicitly cast to a compatible dtype first.\n",
      "  future_dates_copy.iloc[:, 1:] = values\n",
      "C:\\Users\\jonas\\AppData\\Local\\Temp\\ipykernel_13040\\364376139.py:78: FutureWarning: Setting an item of incompatible dtype is deprecated and will raise in a future error of pandas. Value '-0.24614383690193806' has dtype incompatible with int64, please explicitly cast to a compatible dtype first.\n",
      "  future_dates_copy.iloc[:, 1:] = values\n",
      "C:\\Users\\jonas\\AppData\\Local\\Temp\\ipykernel_13040\\364376139.py:78: FutureWarning: Setting an item of incompatible dtype is deprecated and will raise in a future error of pandas. Value '-0.8185570175344231' has dtype incompatible with int64, please explicitly cast to a compatible dtype first.\n",
      "  future_dates_copy.iloc[:, 1:] = values\n",
      "C:\\Users\\jonas\\AppData\\Local\\Temp\\ipykernel_13040\\364376139.py:78: FutureWarning: Setting an item of incompatible dtype is deprecated and will raise in a future error of pandas. Value '-0.5983981019065443' has dtype incompatible with int64, please explicitly cast to a compatible dtype first.\n",
      "  future_dates_copy.iloc[:, 1:] = values\n",
      "C:\\Users\\jonas\\AppData\\Local\\Temp\\ipykernel_13040\\364376139.py:78: FutureWarning: Setting an item of incompatible dtype is deprecated and will raise in a future error of pandas. Value '0.45836469310727423' has dtype incompatible with int64, please explicitly cast to a compatible dtype first.\n",
      "  future_dates_copy.iloc[:, 1:] = values\n",
      "C:\\Users\\jonas\\AppData\\Local\\Temp\\ipykernel_13040\\364376139.py:78: FutureWarning: Setting an item of incompatible dtype is deprecated and will raise in a future error of pandas. Value '0.2853860688359798' has dtype incompatible with int64, please explicitly cast to a compatible dtype first.\n",
      "  future_dates_copy.iloc[:, 1:] = values\n",
      "C:\\Users\\jonas\\AppData\\Local\\Temp\\ipykernel_13040\\364376139.py:78: FutureWarning: Setting an item of incompatible dtype is deprecated and will raise in a future error of pandas. Value '-0.5983981019065443' has dtype incompatible with int64, please explicitly cast to a compatible dtype first.\n",
      "  future_dates_copy.iloc[:, 1:] = values\n",
      "C:\\Users\\jonas\\AppData\\Local\\Temp\\ipykernel_13040\\364376139.py:78: FutureWarning: Setting an item of incompatible dtype is deprecated and will raise in a future error of pandas. Value '-0.5983981019065443' has dtype incompatible with int64, please explicitly cast to a compatible dtype first.\n",
      "  future_dates_copy.iloc[:, 1:] = values\n",
      "C:\\Users\\jonas\\AppData\\Local\\Temp\\ipykernel_13040\\364376139.py:78: FutureWarning: Setting an item of incompatible dtype is deprecated and will raise in a future error of pandas. Value '-0.3909032123188788' has dtype incompatible with int64, please explicitly cast to a compatible dtype first.\n",
      "  future_dates_copy.iloc[:, 1:] = values\n",
      "C:\\Users\\jonas\\AppData\\Local\\Temp\\ipykernel_13040\\364376139.py:78: FutureWarning: Setting an item of incompatible dtype is deprecated and will raise in a future error of pandas. Value '-0.2510845523759564' has dtype incompatible with int64, please explicitly cast to a compatible dtype first.\n",
      "  future_dates_copy.iloc[:, 1:] = values\n",
      "C:\\Users\\jonas\\AppData\\Local\\Temp\\ipykernel_13040\\364376139.py:78: FutureWarning: Setting an item of incompatible dtype is deprecated and will raise in a future error of pandas. Value '-0.609971265993041' has dtype incompatible with int64, please explicitly cast to a compatible dtype first.\n",
      "  future_dates_copy.iloc[:, 1:] = values\n",
      "C:\\Users\\jonas\\AppData\\Local\\Temp\\ipykernel_13040\\364376139.py:78: FutureWarning: Setting an item of incompatible dtype is deprecated and will raise in a future error of pandas. Value '-0.6228696998081052' has dtype incompatible with int64, please explicitly cast to a compatible dtype first.\n",
      "  future_dates_copy.iloc[:, 1:] = values\n",
      "C:\\Users\\jonas\\AppData\\Local\\Temp\\ipykernel_13040\\364376139.py:78: FutureWarning: Setting an item of incompatible dtype is deprecated and will raise in a future error of pandas. Value '0.689593511302897' has dtype incompatible with int64, please explicitly cast to a compatible dtype first.\n",
      "  future_dates_copy.iloc[:, 1:] = values\n",
      "C:\\Users\\jonas\\AppData\\Local\\Temp\\ipykernel_13040\\364376139.py:78: FutureWarning: Setting an item of incompatible dtype is deprecated and will raise in a future error of pandas. Value '2.8101881332847465' has dtype incompatible with int64, please explicitly cast to a compatible dtype first.\n",
      "  future_dates_copy.iloc[:, 1:] = values\n",
      "C:\\Users\\jonas\\AppData\\Local\\Temp\\ipykernel_13040\\364376139.py:78: FutureWarning: Setting an item of incompatible dtype is deprecated and will raise in a future error of pandas. Value '-0.20134526091201735' has dtype incompatible with int64, please explicitly cast to a compatible dtype first.\n",
      "  future_dates_copy.iloc[:, 1:] = values\n",
      "C:\\Users\\jonas\\AppData\\Local\\Temp\\ipykernel_13040\\364376139.py:78: FutureWarning: Setting an item of incompatible dtype is deprecated and will raise in a future error of pandas. Value '-0.49323938000413636' has dtype incompatible with int64, please explicitly cast to a compatible dtype first.\n",
      "  future_dates_copy.iloc[:, 1:] = values\n",
      "C:\\Users\\jonas\\AppData\\Local\\Temp\\ipykernel_13040\\364376139.py:78: FutureWarning: Setting an item of incompatible dtype is deprecated and will raise in a future error of pandas. Value '-0.17919815135092146' has dtype incompatible with int64, please explicitly cast to a compatible dtype first.\n",
      "  future_dates_copy.iloc[:, 1:] = values\n",
      "C:\\Users\\jonas\\AppData\\Local\\Temp\\ipykernel_13040\\364376139.py:78: FutureWarning: Setting an item of incompatible dtype is deprecated and will raise in a future error of pandas. Value '1.8285986069864675' has dtype incompatible with int64, please explicitly cast to a compatible dtype first.\n",
      "  future_dates_copy.iloc[:, 1:] = values\n",
      "C:\\Users\\jonas\\AppData\\Local\\Temp\\ipykernel_13040\\364376139.py:78: FutureWarning: Setting an item of incompatible dtype is deprecated and will raise in a future error of pandas. Value '-0.5435760815677068' has dtype incompatible with int64, please explicitly cast to a compatible dtype first.\n",
      "  future_dates_copy.iloc[:, 1:] = values\n",
      "C:\\Users\\jonas\\AppData\\Local\\Temp\\ipykernel_13040\\364376139.py:78: FutureWarning: Setting an item of incompatible dtype is deprecated and will raise in a future error of pandas. Value '-0.6253752087592301' has dtype incompatible with int64, please explicitly cast to a compatible dtype first.\n",
      "  future_dates_copy.iloc[:, 1:] = values\n",
      "C:\\Users\\jonas\\AppData\\Local\\Temp\\ipykernel_13040\\364376139.py:78: FutureWarning: Setting an item of incompatible dtype is deprecated and will raise in a future error of pandas. Value '-0.6072119341351291' has dtype incompatible with int64, please explicitly cast to a compatible dtype first.\n",
      "  future_dates_copy.iloc[:, 1:] = values\n",
      "C:\\Users\\jonas\\AppData\\Local\\Temp\\ipykernel_13040\\364376139.py:78: FutureWarning: Setting an item of incompatible dtype is deprecated and will raise in a future error of pandas. Value '2.319393370135607' has dtype incompatible with int64, please explicitly cast to a compatible dtype first.\n",
      "  future_dates_copy.iloc[:, 1:] = values\n",
      "C:\\Users\\jonas\\AppData\\Local\\Temp\\ipykernel_13040\\364376139.py:78: FutureWarning: Setting an item of incompatible dtype is deprecated and will raise in a future error of pandas. Value '-0.5272162561294023' has dtype incompatible with int64, please explicitly cast to a compatible dtype first.\n",
      "  future_dates_copy.iloc[:, 1:] = values\n",
      "C:\\Users\\jonas\\AppData\\Local\\Temp\\ipykernel_13040\\364376139.py:78: FutureWarning: Setting an item of incompatible dtype is deprecated and will raise in a future error of pandas. Value '-0.29817869999313706' has dtype incompatible with int64, please explicitly cast to a compatible dtype first.\n",
      "  future_dates_copy.iloc[:, 1:] = values\n",
      "C:\\Users\\jonas\\AppData\\Local\\Temp\\ipykernel_13040\\364376139.py:78: FutureWarning: Setting an item of incompatible dtype is deprecated and will raise in a future error of pandas. Value '-0.8707725903337998' has dtype incompatible with int64, please explicitly cast to a compatible dtype first.\n",
      "  future_dates_copy.iloc[:, 1:] = values\n",
      "C:\\Users\\jonas\\AppData\\Local\\Temp\\ipykernel_13040\\364376139.py:78: FutureWarning: Setting an item of incompatible dtype is deprecated and will raise in a future error of pandas. Value '-0.6253752087592301' has dtype incompatible with int64, please explicitly cast to a compatible dtype first.\n",
      "  future_dates_copy.iloc[:, 1:] = values\n",
      "C:\\Users\\jonas\\AppData\\Local\\Temp\\ipykernel_13040\\364376139.py:78: FutureWarning: Setting an item of incompatible dtype is deprecated and will raise in a future error of pandas. Value '0.3562143175390489' has dtype incompatible with int64, please explicitly cast to a compatible dtype first.\n",
      "  future_dates_copy.iloc[:, 1:] = values\n",
      "C:\\Users\\jonas\\AppData\\Local\\Temp\\ipykernel_13040\\364376139.py:78: FutureWarning: Setting an item of incompatible dtype is deprecated and will raise in a future error of pandas. Value '0.21888673262926298' has dtype incompatible with int64, please explicitly cast to a compatible dtype first.\n",
      "  future_dates_copy.iloc[:, 1:] = values\n",
      "C:\\Users\\jonas\\AppData\\Local\\Temp\\ipykernel_13040\\364376139.py:78: FutureWarning: Setting an item of incompatible dtype is deprecated and will raise in a future error of pandas. Value '-0.6253752087592301' has dtype incompatible with int64, please explicitly cast to a compatible dtype first.\n",
      "  future_dates_copy.iloc[:, 1:] = values\n",
      "C:\\Users\\jonas\\AppData\\Local\\Temp\\ipykernel_13040\\364376139.py:78: FutureWarning: Setting an item of incompatible dtype is deprecated and will raise in a future error of pandas. Value '-0.6253752087592301' has dtype incompatible with int64, please explicitly cast to a compatible dtype first.\n",
      "  future_dates_copy.iloc[:, 1:] = values\n",
      "C:\\Users\\jonas\\AppData\\Local\\Temp\\ipykernel_13040\\364376139.py:78: FutureWarning: Setting an item of incompatible dtype is deprecated and will raise in a future error of pandas. Value '-0.4326405559680075' has dtype incompatible with int64, please explicitly cast to a compatible dtype first.\n",
      "  future_dates_copy.iloc[:, 1:] = values\n",
      "C:\\Users\\jonas\\AppData\\Local\\Temp\\ipykernel_13040\\364376139.py:78: FutureWarning: Setting an item of incompatible dtype is deprecated and will raise in a future error of pandas. Value '-0.3351539606457052' has dtype incompatible with int64, please explicitly cast to a compatible dtype first.\n",
      "  future_dates_copy.iloc[:, 1:] = values\n",
      "C:\\Users\\jonas\\AppData\\Local\\Temp\\ipykernel_13040\\364376139.py:78: FutureWarning: Setting an item of incompatible dtype is deprecated and will raise in a future error of pandas. Value '-0.1083200836480748' has dtype incompatible with int64, please explicitly cast to a compatible dtype first.\n",
      "  future_dates_copy.iloc[:, 1:] = values\n",
      "C:\\Users\\jonas\\AppData\\Local\\Temp\\ipykernel_13040\\364376139.py:78: FutureWarning: Setting an item of incompatible dtype is deprecated and will raise in a future error of pandas. Value '-0.5990276068335157' has dtype incompatible with int64, please explicitly cast to a compatible dtype first.\n",
      "  future_dates_copy.iloc[:, 1:] = values\n",
      "C:\\Users\\jonas\\AppData\\Local\\Temp\\ipykernel_13040\\364376139.py:78: FutureWarning: Setting an item of incompatible dtype is deprecated and will raise in a future error of pandas. Value '0.7699535759195535' has dtype incompatible with int64, please explicitly cast to a compatible dtype first.\n",
      "  future_dates_copy.iloc[:, 1:] = values\n",
      "C:\\Users\\jonas\\AppData\\Local\\Temp\\ipykernel_13040\\364376139.py:78: FutureWarning: Setting an item of incompatible dtype is deprecated and will raise in a future error of pandas. Value '2.8341212284249515' has dtype incompatible with int64, please explicitly cast to a compatible dtype first.\n",
      "  future_dates_copy.iloc[:, 1:] = values\n",
      "C:\\Users\\jonas\\AppData\\Local\\Temp\\ipykernel_13040\\364376139.py:78: FutureWarning: Setting an item of incompatible dtype is deprecated and will raise in a future error of pandas. Value '-0.1358794131297967' has dtype incompatible with int64, please explicitly cast to a compatible dtype first.\n",
      "  future_dates_copy.iloc[:, 1:] = values\n",
      "C:\\Users\\jonas\\AppData\\Local\\Temp\\ipykernel_13040\\364376139.py:78: FutureWarning: Setting an item of incompatible dtype is deprecated and will raise in a future error of pandas. Value '-0.5244740365116675' has dtype incompatible with int64, please explicitly cast to a compatible dtype first.\n",
      "  future_dates_copy.iloc[:, 1:] = values\n",
      "C:\\Users\\jonas\\AppData\\Local\\Temp\\ipykernel_13040\\364376139.py:78: FutureWarning: Setting an item of incompatible dtype is deprecated and will raise in a future error of pandas. Value '-0.16009923102141163' has dtype incompatible with int64, please explicitly cast to a compatible dtype first.\n",
      "  future_dates_copy.iloc[:, 1:] = values\n",
      "C:\\Users\\jonas\\AppData\\Local\\Temp\\ipykernel_13040\\364376139.py:78: FutureWarning: Setting an item of incompatible dtype is deprecated and will raise in a future error of pandas. Value '2.2459707810337015' has dtype incompatible with int64, please explicitly cast to a compatible dtype first.\n",
      "  future_dates_copy.iloc[:, 1:] = values\n",
      "C:\\Users\\jonas\\AppData\\Local\\Temp\\ipykernel_13040\\364376139.py:78: FutureWarning: Setting an item of incompatible dtype is deprecated and will raise in a future error of pandas. Value '-0.5967563813573395' has dtype incompatible with int64, please explicitly cast to a compatible dtype first.\n",
      "  future_dates_copy.iloc[:, 1:] = values\n",
      "C:\\Users\\jonas\\AppData\\Local\\Temp\\ipykernel_13040\\364376139.py:78: FutureWarning: Setting an item of incompatible dtype is deprecated and will raise in a future error of pandas. Value '-0.6947814559225479' has dtype incompatible with int64, please explicitly cast to a compatible dtype first.\n",
      "  future_dates_copy.iloc[:, 1:] = values\n",
      "C:\\Users\\jonas\\AppData\\Local\\Temp\\ipykernel_13040\\364376139.py:78: FutureWarning: Setting an item of incompatible dtype is deprecated and will raise in a future error of pandas. Value '-0.658722458799702' has dtype incompatible with int64, please explicitly cast to a compatible dtype first.\n",
      "  future_dates_copy.iloc[:, 1:] = values\n",
      "C:\\Users\\jonas\\AppData\\Local\\Temp\\ipykernel_13040\\364376139.py:78: FutureWarning: Setting an item of incompatible dtype is deprecated and will raise in a future error of pandas. Value '1.6578203336424515' has dtype incompatible with int64, please explicitly cast to a compatible dtype first.\n",
      "  future_dates_copy.iloc[:, 1:] = values\n",
      "C:\\Users\\jonas\\AppData\\Local\\Temp\\ipykernel_13040\\364376139.py:78: FutureWarning: Setting an item of incompatible dtype is deprecated and will raise in a future error of pandas. Value '-0.5477438440747354' has dtype incompatible with int64, please explicitly cast to a compatible dtype first.\n",
      "  future_dates_copy.iloc[:, 1:] = values\n",
      "C:\\Users\\jonas\\AppData\\Local\\Temp\\ipykernel_13040\\364376139.py:78: FutureWarning: Setting an item of incompatible dtype is deprecated and will raise in a future error of pandas. Value '-0.4007062322269229' has dtype incompatible with int64, please explicitly cast to a compatible dtype first.\n",
      "  future_dates_copy.iloc[:, 1:] = values\n",
      "C:\\Users\\jonas\\AppData\\Local\\Temp\\ipykernel_13040\\364376139.py:78: FutureWarning: Setting an item of incompatible dtype is deprecated and will raise in a future error of pandas. Value '-1.037869216900777' has dtype incompatible with int64, please explicitly cast to a compatible dtype first.\n",
      "  future_dates_copy.iloc[:, 1:] = values\n",
      "C:\\Users\\jonas\\AppData\\Local\\Temp\\ipykernel_13040\\364376139.py:78: FutureWarning: Setting an item of incompatible dtype is deprecated and will raise in a future error of pandas. Value '-0.6947814559225479' has dtype incompatible with int64, please explicitly cast to a compatible dtype first.\n",
      "  future_dates_copy.iloc[:, 1:] = values\n",
      "C:\\Users\\jonas\\AppData\\Local\\Temp\\ipykernel_13040\\364376139.py:78: FutureWarning: Setting an item of incompatible dtype is deprecated and will raise in a future error of pandas. Value '0.4815194388599519' has dtype incompatible with int64, please explicitly cast to a compatible dtype first.\n",
      "  future_dates_copy.iloc[:, 1:] = values\n",
      "C:\\Users\\jonas\\AppData\\Local\\Temp\\ipykernel_13040\\364376139.py:78: FutureWarning: Setting an item of incompatible dtype is deprecated and will raise in a future error of pandas. Value '0.3169510967170939' has dtype incompatible with int64, please explicitly cast to a compatible dtype first.\n",
      "  future_dates_copy.iloc[:, 1:] = values\n",
      "C:\\Users\\jonas\\AppData\\Local\\Temp\\ipykernel_13040\\364376139.py:78: FutureWarning: Setting an item of incompatible dtype is deprecated and will raise in a future error of pandas. Value '-0.6947814559225479' has dtype incompatible with int64, please explicitly cast to a compatible dtype first.\n",
      "  future_dates_copy.iloc[:, 1:] = values\n",
      "C:\\Users\\jonas\\AppData\\Local\\Temp\\ipykernel_13040\\364376139.py:78: FutureWarning: Setting an item of incompatible dtype is deprecated and will raise in a future error of pandas. Value '-0.6947814559225479' has dtype incompatible with int64, please explicitly cast to a compatible dtype first.\n",
      "  future_dates_copy.iloc[:, 1:] = values\n",
      "C:\\Users\\jonas\\AppData\\Local\\Temp\\ipykernel_13040\\364376139.py:78: FutureWarning: Setting an item of incompatible dtype is deprecated and will raise in a future error of pandas. Value '-0.4638153153312951' has dtype incompatible with int64, please explicitly cast to a compatible dtype first.\n",
      "  future_dates_copy.iloc[:, 1:] = values\n",
      "C:\\Users\\jonas\\AppData\\Local\\Temp\\ipykernel_13040\\364376139.py:78: FutureWarning: Setting an item of incompatible dtype is deprecated and will raise in a future error of pandas. Value '-0.29379681107227446' has dtype incompatible with int64, please explicitly cast to a compatible dtype first.\n",
      "  future_dates_copy.iloc[:, 1:] = values\n"
     ]
    }
   ],
   "source": [
    "########### Prophet TEST ##################\n",
    "\n",
    "horizon = 12\n",
    "\n",
    "###########################################################\n",
    "######### Considerar Janelas > 36 para o Prophet ##########\n",
    "###########################################################\n",
    "\n",
    "window = 12\n",
    "\n",
    "\n",
    "products = sorted([name for name in os.listdir('./uf/') if os.path.isdir(os.path.join('./uf/', name))])\n",
    "\n",
    "product = 'etanolhidratado'\n",
    "estado = 'ac'\n",
    "\n",
    "# for product in products:\n",
    "#     folder_path = f'./uf/{product}/'\n",
    "#     # Read the CSV files and extract estado names\n",
    "#     estados = read_csv_files(folder_path)\n",
    "#     for estado in estados:\n",
    "\n",
    "df = pd.read_csv(f\"./uf/{product}/mensal_{estado}_{product}.csv\", header=0, sep=\";\")\n",
    "\n",
    "# Convert timestamp to datetime\n",
    "df['timestamp'] = pd.to_datetime(df['timestamp'].astype(str), format='%Y%m')\n",
    "series = df[\"m3\"]\n",
    "\n",
    "Catch22 = rolling_window_featureCatch22N(series, window)\n",
    "\n",
    "Catch22_filled = Catch22.fillna(0)\n",
    "Catch22_filled.replace([float('inf'), -float('inf')], 0, inplace=True)\n",
    "Catch22_filled.columns = [f'F_{i+1}' for i in range(Catch22_filled.shape[1])]\n",
    "\n",
    "y_norm = rolling_window(series,window)\n",
    "\n",
    "# Catch22_filled.insert(len(Catch22_filled.columns), 'timestamp', df['timestamp'].tail(len(series)-horizon).reset_index(drop=True))\n",
    "Catch22_filled.insert(0, 'timestamp', df['timestamp'].tail(len(series)-window).reset_index(drop=True))\n",
    "\n",
    "Catch22_filled['y'] = y_norm.iloc[:, [-1]]\n",
    "\n",
    "X_train, X_test, y_train, y_test = train_test_split(Catch22_filled, horizon)\n",
    "\n",
    "# Selecting the first column of monthly_data to pass the dates\n",
    "first_column=[]\n",
    "first_column = df['timestamp']\n",
    "first_column = first_column[window:-(horizon)]\n",
    "first_column = first_column.reset_index(drop=True)\n",
    "\n",
    "# Concatenating the first column with monthly_data_norm along axis 1 (columns)\n",
    "prophet_data2 = pd.concat([X_train, y_train], axis=1)\n",
    "prophet_data2.rename(columns={'timestamp': 'ds'}, inplace=True)\n",
    "\n",
    "model = Prophet()\n",
    "\n",
    "new_column_names = []\n",
    "for col in prophet_data2.columns:\n",
    "    if col == 'ds':\n",
    "        new_column_names.append('ds')\n",
    "    elif col == 'y':\n",
    "        new_column_names.append('y')\n",
    "    else:\n",
    "        new_column_names.append(f'{col}')\n",
    "        model.add_regressor(f'{col}', standardize=False)\n",
    "\n",
    "\n",
    "model.fit(prophet_data2)\n",
    "\n",
    "\n",
    "##########################################################################\n",
    "\n",
    "## RECURSIVO PARA FEATURES\n",
    "\n",
    "##########################################################################\n",
    "\n",
    "future_dates = pd.DataFrame(df['timestamp'].tail(12))\n",
    "future_dates = future_dates.iloc[[0]].reset_index(drop=True)\n",
    "future_dates.rename(columns={'timestamp': 'ds'}, inplace=True)\n",
    "for col in new_column_names:\n",
    "    if col != 'ds' and col != 'y':\n",
    "        future_dates[col] = 0 \n",
    "\n",
    "############################################################################\n",
    "\n",
    "predictions1a, predprophet = recursive_multistep_forecasting_ProphetCatch22N(series, model, horizon, window, future_dates)\n",
    "    \n",
    "Valores_Previsao = [x[0] for x in predictions1a]\n",
    "\n",
    "Valores_Reais = df['m3'].tail(12)\n",
    "Valores_Reais = Valores_Reais.reset_index(drop=True)\n",
    "\n",
    "###########################################################\n",
    "\n",
    "mean_norm, std_norm = get_stats_norm(series, horizon, window)\n",
    "basepredictionsnorm = baseline_persistent_window(series, horizon)\n",
    "basepredictions = znorm_reverse(basepredictionsnorm, mean_norm, std_norm)\n",
    "\n",
    "###########################################################\n",
    "\n",
    "rmse_result2 = rmse(Valores_Reais, Valores_Previsao)\n",
    "mape_result2 = mape(Valores_Reais, Valores_Previsao)\n",
    "pocid_result2 = pocid(Valores_Reais, Valores_Previsao)\n",
    "mcpm_result2 = mcpm(rmse_result2, mape_result2, pocid_result2)\n",
    "pbe_result2 = pbe(Valores_Reais, Valores_Previsao)\n",
    "mase_result2 = mase(Valores_Reais, Valores_Previsao, basepredictions)\n",
    "\n",
    "# CSV Output VALORES REAIS\n",
    "with open(f'02-Prophet_{window}_Catch22_output.csv', 'a', newline='') as file:\n",
    "    writer = csv.writer(file)\n",
    "    writer.writerow([\n",
    "        product, estado, 'Prophet', mape_result2, pocid_result2, pbe_result2, mase_result2, Valores_Previsao\n",
    "    ])\n",
    "\n",
    "# import pickle\n",
    "# with open(f'./00-MODELS_UF_MENSAL-Prophet-Catch22/{estado}_{product}_Prophet_Catchqq_model.pkl', 'wb') as fd: pickle.dump({model}, fd)\n",
    "\n"
   ]
  },
  {
   "cell_type": "code",
   "execution_count": null,
   "metadata": {},
   "outputs": [],
   "source": []
  },
  {
   "cell_type": "code",
   "execution_count": 10,
   "metadata": {},
   "outputs": [
    {
     "data": {
      "application/vnd.plotly.v1+json": {
       "config": {
        "plotlyServerURL": "https://plot.ly"
       },
       "data": [
        {
         "marker": {
          "color": "black",
          "size": 4
         },
         "mode": "markers",
         "name": "Actual",
         "type": "scatter",
         "x": [
          "1991-01-01T00:00:00",
          "1991-02-01T00:00:00",
          "1991-03-01T00:00:00",
          "1991-04-01T00:00:00",
          "1991-05-01T00:00:00",
          "1991-06-01T00:00:00",
          "1991-07-01T00:00:00",
          "1991-08-01T00:00:00",
          "1991-09-01T00:00:00",
          "1991-10-01T00:00:00",
          "1991-11-01T00:00:00",
          "1991-12-01T00:00:00",
          "1992-01-01T00:00:00",
          "1992-02-01T00:00:00",
          "1992-03-01T00:00:00",
          "1992-04-01T00:00:00",
          "1992-05-01T00:00:00",
          "1992-06-01T00:00:00",
          "1992-07-01T00:00:00",
          "1992-08-01T00:00:00",
          "1992-09-01T00:00:00",
          "1992-10-01T00:00:00",
          "1992-11-01T00:00:00",
          "1992-12-01T00:00:00",
          "1993-01-01T00:00:00",
          "1993-02-01T00:00:00",
          "1993-03-01T00:00:00",
          "1993-04-01T00:00:00",
          "1993-05-01T00:00:00",
          "1993-06-01T00:00:00",
          "1993-07-01T00:00:00",
          "1993-08-01T00:00:00",
          "1993-09-01T00:00:00",
          "1993-10-01T00:00:00",
          "1993-11-01T00:00:00",
          "1993-12-01T00:00:00",
          "1994-01-01T00:00:00",
          "1994-02-01T00:00:00",
          "1994-03-01T00:00:00",
          "1994-04-01T00:00:00",
          "1994-05-01T00:00:00",
          "1994-06-01T00:00:00",
          "1994-07-01T00:00:00",
          "1994-08-01T00:00:00",
          "1994-09-01T00:00:00",
          "1994-10-01T00:00:00",
          "1994-11-01T00:00:00",
          "1994-12-01T00:00:00",
          "1995-01-01T00:00:00",
          "1995-02-01T00:00:00",
          "1995-03-01T00:00:00",
          "1995-04-01T00:00:00",
          "1995-05-01T00:00:00",
          "1995-06-01T00:00:00",
          "1995-07-01T00:00:00",
          "1995-08-01T00:00:00",
          "1995-09-01T00:00:00",
          "1995-10-01T00:00:00",
          "1995-11-01T00:00:00",
          "1995-12-01T00:00:00",
          "1996-01-01T00:00:00",
          "1996-02-01T00:00:00",
          "1996-03-01T00:00:00",
          "1996-04-01T00:00:00",
          "1996-05-01T00:00:00",
          "1996-06-01T00:00:00",
          "1996-07-01T00:00:00",
          "1996-08-01T00:00:00",
          "1996-09-01T00:00:00",
          "1996-10-01T00:00:00",
          "1996-11-01T00:00:00",
          "1996-12-01T00:00:00",
          "1997-01-01T00:00:00",
          "1997-02-01T00:00:00",
          "1997-03-01T00:00:00",
          "1997-04-01T00:00:00",
          "1997-05-01T00:00:00",
          "1997-06-01T00:00:00",
          "1997-07-01T00:00:00",
          "1997-08-01T00:00:00",
          "1997-09-01T00:00:00",
          "1997-10-01T00:00:00",
          "1997-11-01T00:00:00",
          "1997-12-01T00:00:00",
          "1998-01-01T00:00:00",
          "1998-02-01T00:00:00",
          "1998-03-01T00:00:00",
          "1998-04-01T00:00:00",
          "1998-05-01T00:00:00",
          "1998-06-01T00:00:00",
          "1998-07-01T00:00:00",
          "1998-08-01T00:00:00",
          "1998-09-01T00:00:00",
          "1998-10-01T00:00:00",
          "1998-11-01T00:00:00",
          "1998-12-01T00:00:00",
          "1999-01-01T00:00:00",
          "1999-02-01T00:00:00",
          "1999-03-01T00:00:00",
          "1999-04-01T00:00:00",
          "1999-05-01T00:00:00",
          "1999-06-01T00:00:00",
          "1999-07-01T00:00:00",
          "1999-08-01T00:00:00",
          "1999-09-01T00:00:00",
          "1999-10-01T00:00:00",
          "1999-11-01T00:00:00",
          "1999-12-01T00:00:00",
          "2000-01-01T00:00:00",
          "2000-02-01T00:00:00",
          "2000-03-01T00:00:00",
          "2000-04-01T00:00:00",
          "2000-05-01T00:00:00",
          "2000-06-01T00:00:00",
          "2000-07-01T00:00:00",
          "2000-08-01T00:00:00",
          "2000-09-01T00:00:00",
          "2000-10-01T00:00:00",
          "2000-11-01T00:00:00",
          "2000-12-01T00:00:00",
          "2001-01-01T00:00:00",
          "2001-02-01T00:00:00",
          "2001-03-01T00:00:00",
          "2001-04-01T00:00:00",
          "2001-05-01T00:00:00",
          "2001-06-01T00:00:00",
          "2001-07-01T00:00:00",
          "2001-08-01T00:00:00",
          "2001-09-01T00:00:00",
          "2001-10-01T00:00:00",
          "2001-11-01T00:00:00",
          "2001-12-01T00:00:00",
          "2002-01-01T00:00:00",
          "2002-02-01T00:00:00",
          "2002-03-01T00:00:00",
          "2002-04-01T00:00:00",
          "2002-05-01T00:00:00",
          "2002-06-01T00:00:00",
          "2002-07-01T00:00:00",
          "2002-08-01T00:00:00",
          "2002-09-01T00:00:00",
          "2002-10-01T00:00:00",
          "2002-11-01T00:00:00",
          "2002-12-01T00:00:00",
          "2003-01-01T00:00:00",
          "2003-02-01T00:00:00",
          "2003-03-01T00:00:00",
          "2003-04-01T00:00:00",
          "2003-05-01T00:00:00",
          "2003-06-01T00:00:00",
          "2003-07-01T00:00:00",
          "2003-08-01T00:00:00",
          "2003-09-01T00:00:00",
          "2003-10-01T00:00:00",
          "2003-11-01T00:00:00",
          "2003-12-01T00:00:00",
          "2004-01-01T00:00:00",
          "2004-02-01T00:00:00",
          "2004-03-01T00:00:00",
          "2004-04-01T00:00:00",
          "2004-05-01T00:00:00",
          "2004-06-01T00:00:00",
          "2004-07-01T00:00:00",
          "2004-08-01T00:00:00",
          "2004-09-01T00:00:00",
          "2004-10-01T00:00:00",
          "2004-11-01T00:00:00",
          "2004-12-01T00:00:00",
          "2005-01-01T00:00:00",
          "2005-02-01T00:00:00",
          "2005-03-01T00:00:00",
          "2005-04-01T00:00:00",
          "2005-05-01T00:00:00",
          "2005-06-01T00:00:00",
          "2005-07-01T00:00:00",
          "2005-08-01T00:00:00",
          "2005-09-01T00:00:00",
          "2005-10-01T00:00:00",
          "2005-11-01T00:00:00",
          "2005-12-01T00:00:00",
          "2006-01-01T00:00:00",
          "2006-02-01T00:00:00",
          "2006-03-01T00:00:00",
          "2006-04-01T00:00:00",
          "2006-05-01T00:00:00",
          "2006-06-01T00:00:00",
          "2006-07-01T00:00:00",
          "2006-08-01T00:00:00",
          "2006-09-01T00:00:00",
          "2006-10-01T00:00:00",
          "2006-11-01T00:00:00",
          "2006-12-01T00:00:00",
          "2007-01-01T00:00:00",
          "2007-02-01T00:00:00",
          "2007-03-01T00:00:00",
          "2007-04-01T00:00:00",
          "2007-05-01T00:00:00",
          "2007-06-01T00:00:00",
          "2007-07-01T00:00:00",
          "2007-08-01T00:00:00",
          "2007-09-01T00:00:00",
          "2007-10-01T00:00:00",
          "2007-11-01T00:00:00",
          "2007-12-01T00:00:00",
          "2008-01-01T00:00:00",
          "2008-02-01T00:00:00",
          "2008-03-01T00:00:00",
          "2008-04-01T00:00:00",
          "2008-05-01T00:00:00",
          "2008-06-01T00:00:00",
          "2008-07-01T00:00:00",
          "2008-08-01T00:00:00",
          "2008-09-01T00:00:00",
          "2008-10-01T00:00:00",
          "2008-11-01T00:00:00",
          "2008-12-01T00:00:00",
          "2009-01-01T00:00:00",
          "2009-02-01T00:00:00",
          "2009-03-01T00:00:00",
          "2009-04-01T00:00:00",
          "2009-05-01T00:00:00",
          "2009-06-01T00:00:00",
          "2009-07-01T00:00:00",
          "2009-08-01T00:00:00",
          "2009-09-01T00:00:00",
          "2009-10-01T00:00:00",
          "2009-11-01T00:00:00",
          "2009-12-01T00:00:00",
          "2010-01-01T00:00:00",
          "2010-02-01T00:00:00",
          "2010-03-01T00:00:00",
          "2010-04-01T00:00:00",
          "2010-05-01T00:00:00",
          "2010-06-01T00:00:00",
          "2010-07-01T00:00:00",
          "2010-08-01T00:00:00",
          "2010-09-01T00:00:00",
          "2010-10-01T00:00:00",
          "2010-11-01T00:00:00",
          "2010-12-01T00:00:00",
          "2011-01-01T00:00:00",
          "2011-02-01T00:00:00",
          "2011-03-01T00:00:00",
          "2011-04-01T00:00:00",
          "2011-05-01T00:00:00",
          "2011-06-01T00:00:00",
          "2011-07-01T00:00:00",
          "2011-08-01T00:00:00",
          "2011-09-01T00:00:00",
          "2011-10-01T00:00:00",
          "2011-11-01T00:00:00",
          "2011-12-01T00:00:00",
          "2012-01-01T00:00:00",
          "2012-02-01T00:00:00",
          "2012-03-01T00:00:00",
          "2012-04-01T00:00:00",
          "2012-05-01T00:00:00",
          "2012-06-01T00:00:00",
          "2012-07-01T00:00:00",
          "2012-08-01T00:00:00",
          "2012-09-01T00:00:00",
          "2012-10-01T00:00:00",
          "2012-11-01T00:00:00",
          "2012-12-01T00:00:00",
          "2013-01-01T00:00:00",
          "2013-02-01T00:00:00",
          "2013-03-01T00:00:00",
          "2013-04-01T00:00:00",
          "2013-05-01T00:00:00",
          "2013-06-01T00:00:00",
          "2013-07-01T00:00:00",
          "2013-08-01T00:00:00",
          "2013-09-01T00:00:00",
          "2013-10-01T00:00:00",
          "2013-11-01T00:00:00",
          "2013-12-01T00:00:00",
          "2014-01-01T00:00:00",
          "2014-02-01T00:00:00",
          "2014-03-01T00:00:00",
          "2014-04-01T00:00:00",
          "2014-05-01T00:00:00",
          "2014-06-01T00:00:00",
          "2014-07-01T00:00:00",
          "2014-08-01T00:00:00",
          "2014-09-01T00:00:00",
          "2014-10-01T00:00:00",
          "2014-11-01T00:00:00",
          "2014-12-01T00:00:00",
          "2015-01-01T00:00:00",
          "2015-02-01T00:00:00",
          "2015-03-01T00:00:00",
          "2015-04-01T00:00:00",
          "2015-05-01T00:00:00",
          "2015-06-01T00:00:00",
          "2015-07-01T00:00:00",
          "2015-08-01T00:00:00",
          "2015-09-01T00:00:00",
          "2015-10-01T00:00:00",
          "2015-11-01T00:00:00",
          "2015-12-01T00:00:00",
          "2016-01-01T00:00:00",
          "2016-02-01T00:00:00",
          "2016-03-01T00:00:00",
          "2016-04-01T00:00:00",
          "2016-05-01T00:00:00",
          "2016-06-01T00:00:00",
          "2016-07-01T00:00:00",
          "2016-08-01T00:00:00",
          "2016-09-01T00:00:00",
          "2016-10-01T00:00:00",
          "2016-11-01T00:00:00",
          "2016-12-01T00:00:00",
          "2017-01-01T00:00:00",
          "2017-02-01T00:00:00",
          "2017-03-01T00:00:00",
          "2017-04-01T00:00:00",
          "2017-05-01T00:00:00",
          "2017-06-01T00:00:00",
          "2017-07-01T00:00:00",
          "2017-08-01T00:00:00",
          "2017-09-01T00:00:00",
          "2017-10-01T00:00:00",
          "2017-11-01T00:00:00",
          "2017-12-01T00:00:00",
          "2018-01-01T00:00:00",
          "2018-02-01T00:00:00",
          "2018-03-01T00:00:00",
          "2018-04-01T00:00:00",
          "2018-05-01T00:00:00",
          "2018-06-01T00:00:00",
          "2018-07-01T00:00:00",
          "2018-08-01T00:00:00",
          "2018-09-01T00:00:00",
          "2018-10-01T00:00:00",
          "2018-11-01T00:00:00",
          "2018-12-01T00:00:00",
          "2019-01-01T00:00:00",
          "2019-02-01T00:00:00",
          "2019-03-01T00:00:00",
          "2019-04-01T00:00:00",
          "2019-05-01T00:00:00",
          "2019-06-01T00:00:00",
          "2019-07-01T00:00:00",
          "2019-08-01T00:00:00",
          "2019-09-01T00:00:00",
          "2019-10-01T00:00:00",
          "2019-11-01T00:00:00",
          "2019-12-01T00:00:00",
          "2020-01-01T00:00:00",
          "2020-02-01T00:00:00",
          "2020-03-01T00:00:00",
          "2020-04-01T00:00:00",
          "2020-05-01T00:00:00",
          "2020-06-01T00:00:00",
          "2020-07-01T00:00:00",
          "2020-08-01T00:00:00",
          "2020-09-01T00:00:00",
          "2020-10-01T00:00:00",
          "2020-11-01T00:00:00",
          "2020-12-01T00:00:00",
          "2021-01-01T00:00:00",
          "2021-02-01T00:00:00",
          "2021-03-01T00:00:00",
          "2021-04-01T00:00:00",
          "2021-05-01T00:00:00",
          "2021-06-01T00:00:00",
          "2021-07-01T00:00:00",
          "2021-08-01T00:00:00",
          "2021-09-01T00:00:00",
          "2021-10-01T00:00:00",
          "2021-11-01T00:00:00",
          "2021-12-01T00:00:00",
          "2022-01-01T00:00:00",
          "2022-02-01T00:00:00",
          "2022-03-01T00:00:00",
          "2022-04-01T00:00:00",
          "2022-05-01T00:00:00",
          "2022-06-01T00:00:00",
          "2022-07-01T00:00:00",
          "2022-08-01T00:00:00",
          "2022-09-01T00:00:00",
          "2022-10-01T00:00:00",
          "2022-11-01T00:00:00",
          "2022-12-01T00:00:00",
          "2023-01-01T00:00:00",
          "2023-02-01T00:00:00"
         ],
         "y": [
          -0.6370207938266548,
          -0.7296521879321892,
          -0.5846437285626023,
          -0.09265269030522194,
          -1.2589574917485578,
          -0.24015336952903155,
          0.5974354480116468,
          2.0037774985654746,
          -0.08689249141258275,
          0.048336074496546914,
          -2.0276808160529747,
          0.5161335887129488,
          -0.6450561305538851,
          -0.45197031543153654,
          -0.5471693010082758,
          -0.21993285063629645,
          -0.7096772128446446,
          -0.04789304949391442,
          -0.2992436339524252,
          -0.48598575752515666,
          -0.48742182856862104,
          0.011722002082885343,
          -0.360227464018271,
          -0.36801986036936146,
          -2.831136187572732,
          -1.997473348896463,
          0.3028009362656651,
          -0.9543874562179828,
          -0.7748034607685735,
          0.5894974642689835,
          -1.518568341158623,
          0.6422783426065866,
          -0.6748557919189399,
          -0.20518338854740495,
          -0.053276386642032963,
          1.1995140203193875,
          -1.2543156801264923,
          -0.9471309175395856,
          0.46212337567670403,
          -1.6049317905677944,
          -0.3547468875663287,
          -0.5978192280278184,
          -0.8451043245423803,
          0.8022676368164244,
          0.9281189629175031,
          0.2768833386897223,
          -0.01925703954358263,
          0.8376491478255037,
          -0.46143308531818644,
          -1.1871251240594356,
          0.29509078750984896,
          -1.2776514418242444,
          -0.39193006225804594,
          0.6973508666349473,
          -1.5572411417853331,
          -1.1924858383116514,
          -0.7509081425295441,
          -0.6476571264803044,
          -0.2778995270454682,
          0.7407264533284253,
          -2.020715257472659,
          -2.042686271165884,
          -0.9671367911302237,
          -1.2368285972803679,
          -0.8897446771900248,
          -1.5583887024736027,
          -0.41800105824814315,
          -0.9000601559282929,
          -1.3267279424048146,
          -1.07483329408502,
          -1.3262972396206458,
          -0.11638712730107177,
          -2.6434192858804044,
          -2.4069461208007774,
          -1.4955001516097144,
          -1.0094277609108382,
          -1.049057013076989,
          -1.2714020446869079,
          -0.7457340949359681,
          -0.4934055427635105,
          -1.2253441031960453,
          -0.5235159923606303,
          -1.0560233725065467,
          -1.1032086571044284,
          -2.7203678349634837,
          -2.7304403094830403,
          -1.667189098971943,
          -0.011276948393276226,
          -0.8502297872101677,
          -0.5232052772985216,
          -1.338993914686189,
          -1.010395225317461,
          -1.3695539411815427,
          -1.2534089663207115,
          -1.6504677694429095,
          -0.9551440512477697,
          -1.8159851867401706,
          -0.6366033935666693,
          0.056773628685361816,
          -0.25496530715649923,
          -0.4972151629411234,
          -0.16211725773804797,
          0.33405993970981046,
          0.7179662773343857,
          0.2227151637208322,
          1.3206409644938388,
          -0.32097478227900234,
          1.2216723532128089,
          -0.9451911391337701,
          -1.3007206155070776,
          -1.5942238317288049,
          -1.2682825013363472,
          -0.5354310616126805,
          -2.6006619915667453,
          -0.05617035107487915,
          0.020410131207896583,
          -0.8158473873510068,
          -0.38858276927964674,
          -0.4184915003957492,
          -0.8006143779538484,
          -1.6501308298865889,
          -1.8428833793771906,
          0.0874226121987361,
          -1.1881961910118561,
          -0.6681989136418575,
          -1.0422034147335448,
          -1.2207618544648462,
          -0.5624661553368292,
          -1.3133477576176127,
          0.40172344844569746,
          -1.699888656890605,
          -1.6081356293328848,
          -2.2904032588309984,
          -1.8244990428709766,
          -1.6435459365298986,
          0.016602559374846535,
          -0.785014371278799,
          0.34150424432404164,
          0.9637419879206555,
          1.6932511202124803,
          1.125583002346181,
          1.6462059484757516,
          0.636716384902353,
          -0.8591593936620823,
          -0.6291728150332736,
          -0.5146053920225061,
          -0.45274274623302546,
          0.15879990991434037,
          0.10536212833398846,
          -0.524243538527659,
          -0.9055550803074071,
          0.09465823143940998,
          -0.8540624698768564,
          -0.46120788488010045,
          -0.6170933007003668,
          1.0554537243724846,
          -1.3901427999902034,
          -1.8131820334304856,
          1.661194978076445,
          0.11298518434861218,
          0.7726104127775865,
          1.6591187138616827,
          1.5424691097102992,
          1.705487325695196,
          0.851029698572628,
          1.3883239693726428,
          1.0995431441701253,
          2.2487116682128905,
          -0.13828877224428177,
          -0.5827398761834585,
          -0.13836921889421633,
          0.24696599717400783,
          1.4532519537285264,
          2.316521985264708,
          1.2711327124040326,
          2.4149049963516425,
          1.6353688607776211,
          1.8458680763797537,
          2.0692507463748626,
          1.9424864264617525,
          0.20858073720143205,
          -0.508758811827766,
          -0.8052718611598917,
          -1.9503836701953194,
          -1.2184347478456015,
          -1.3229534839192365,
          -0.9143012449645798,
          -0.4074955198050546,
          -0.2974676034576835,
          0.0724934014067536,
          0.5082671455924133,
          0.8933504622245256,
          0.4588871285161637,
          1.150517148556058,
          1.3488215025554442,
          1.1948222800905621,
          1.1467615501258392,
          1.8391062982341864,
          2.589905623361515,
          2.6928147979980728,
          2.246318348138479,
          2.362289232749968,
          1.8408533364233124,
          1.451455798829985,
          0.911976117486831,
          0.7490323332074311,
          1.0060886183878133,
          1.0371048458006087,
          1.0024167885384359,
          0.6114138582379011,
          1.3619000708162454,
          1.4419833424864628,
          2.0185113899984324,
          2.0793941608568693,
          1.3132485750346945,
          2.287384567633342,
          1.2346946755349657,
          0.6891378263234208,
          1.650430064952664,
          1.6911819757334032,
          1.3046253718127738,
          2.084475690474128,
          1.8317370288311432,
          1.9981448324505044,
          2.1242876842140457,
          1.1267683273497429,
          0.5442651346770604,
          0.9082661169709411,
          -1.7094351099210567,
          -2.260389694252682,
          -2.06240860281492,
          -1.1988081520413758,
          -0.8301710761773662,
          -0.8423369359873,
          -0.60352547623345,
          -0.21681340620520803,
          -0.09662228341477454,
          -0.36647180136821383,
          -0.6258839518477312,
          0.9434255243474879,
          -0.8487576116050359,
          -0.6959416485597772,
          -0.9207581433904286,
          -2.4352169318303507,
          -1.569297267142599,
          -1.5542971648781903,
          -1.3374924255871865,
          -0.653076523387695,
          -0.38827356516888367,
          -0.14307791474052173,
          -0.1049979237266612,
          0.038120993886996614,
          -0.9278160772666646,
          -0.7712344978093194,
          0.4706762856435604,
          0.009326445379020165,
          0.7072529113055818,
          -0.18506967576966152,
          -0.6377483339621716,
          0.8426766914473467,
          -0.07107485759118973,
          1.7892709108168863,
          1.0476291244249833,
          1.5522511993562351,
          0.8092210733061211,
          1.0503865001151282,
          1.9786415775470512,
          1.159497684619654,
          0.9818456409444009,
          0.07689074790606021,
          0.7246482978040308,
          1.4338544913898923,
          0.043034967912893164,
          1.7264425814664948,
          0.41337609121060875,
          2.7386858719343143,
          0.44567831193472907,
          0.4965422899515716,
          -1.062704571791063,
          -0.7513772344567821,
          0.9325816765191575,
          -1.127358091406138,
          0.7847686975497562,
          1.0359756623264735,
          1.013694730513222,
          1.0998315403709331,
          1.0743667293620105,
          2.732604601057124,
          0.5981880539051246,
          2.533310719499047,
          2.6999192263570033,
          1.7522627675820168,
          1.4466448783225465,
          1.1905035365790813,
          1.119910751850003,
          1.0514187622883353,
          0.9408952922896117,
          1.4799897479114124,
          0.007159261538492008,
          -0.997568828256993,
          -2.570943568814164,
          -1.8539738418963396,
          -1.606633189211283,
          -1.8123604337968182,
          -1.7071612325614947,
          -1.4823815866738113,
          -0.7702716281464732,
          -0.0181022292904275,
          -0.19199696620977189,
          -0.6809854166385074,
          -1.2801360760749512,
          0.6555650658142063,
          -0.9663173144351199,
          -0.9297048947628113,
          -0.8420935236898625,
          0.821535340387794,
          -0.9750862485749346,
          -0.897595547264162,
          -0.636411177145208,
          0.18755151192161545,
          2.353450553873661,
          1.9265063167418317,
          1.1764742618736006,
          0.7058317531774311,
          2.10033773349904,
          1.4483636386030314,
          1.5241125187739006,
          1.3371875414265362,
          1.2654563101962022,
          0.8234526612903214,
          0.05867319301882455,
          2.026787235827173,
          2.2371651008770566,
          2.3011673615016988,
          1.8935095454679443,
          -0.7993924178631951,
          -1.6947512729280367,
          -1.2178497648703415,
          -0.0493781243881833,
          0.33692708618182754,
          -0.19791495387689143,
          1.4546694497569514,
          1.2525426040928294,
          -0.12376848896478322,
          0.4814445195458611,
          0.8724380028065242,
          1.3615144299608757,
          0.46787620306836064,
          0.311636684600163,
          1.5132966543696456,
          0.38706862939225917,
          -1.6013426658502319,
          -1.2363782318120846,
          -0.41354942213033075,
          -0.8963991224605027,
          -0.19923331590353618,
          0.5747005648086906,
          0.13996936905332674,
          -0.5923962055139065,
          0.979928103219089,
          -0.9638243306796653,
          0.02742736630669994,
          2.0687281886299895,
          1.7682496528384637,
          0.4967888114487589,
          -0.373522838081836,
          1.063734761205378,
          0.7153711401427545,
          0.4445711073449152,
          1.1183174350290872,
          0.42624673777929795,
          0.19842272134191064,
          -1.429783941361976,
          -1.3629381296498604,
          1.0429549450969107,
          1.7443535952377345,
          1.4613229188985928,
          0.5273861130272584,
          -1.0818194271815653,
          -1.7825068386967975,
          -1.6120517918885537,
          -0.676350229103026,
          -0.4075513723551129,
          -0.2755881678009945,
          -0.8001286504058134,
          0.5705054268261571
         ]
        },
        {
         "hoverinfo": "skip",
         "line": {
          "width": 0
         },
         "mode": "lines",
         "type": "scatter",
         "x": [
          "2023-03-01T00:00:00",
          "2023-04-01T00:00:00",
          "2023-05-01T00:00:00",
          "2023-06-01T00:00:00",
          "2023-07-01T00:00:00",
          "2023-08-01T00:00:00",
          "2023-09-01T00:00:00",
          "2023-10-01T00:00:00",
          "2023-11-01T00:00:00",
          "2023-12-01T00:00:00",
          "2024-01-01T00:00:00",
          "2024-02-01T00:00:00"
         ],
         "y": [
          -1.4182815365212944,
          -2.042302380822891,
          -1.3382008880596423,
          -1.4162996199568758,
          -1.1652544914621485,
          -0.020513539390606694,
          -0.12108890229285674,
          0.5304951351901599,
          -0.16823951372151008,
          -0.016107009620309354,
          -0.4512531122829874,
          -1.2447444758409
         ]
        },
        {
         "fill": "tonexty",
         "fillcolor": "rgba(0, 114, 178, 0.2)",
         "line": {
          "color": "#0072B2",
          "width": 2
         },
         "mode": "lines",
         "name": "Predicted",
         "type": "scatter",
         "x": [
          "2023-03-01T00:00:00",
          "2023-04-01T00:00:00",
          "2023-05-01T00:00:00",
          "2023-06-01T00:00:00",
          "2023-07-01T00:00:00",
          "2023-08-01T00:00:00",
          "2023-09-01T00:00:00",
          "2023-10-01T00:00:00",
          "2023-11-01T00:00:00",
          "2023-12-01T00:00:00",
          "2024-01-01T00:00:00",
          "2024-02-01T00:00:00"
         ],
         "y": [
          -0.28622674354262745,
          -0.6548436854943477,
          -0.19420565381026755,
          -0.11747078113146947,
          0.08161649174431773,
          1.3263096532029595,
          1.1694882557005504,
          1.7613682229353422,
          1.0959883710058547,
          1.2340766178396425,
          0.7771869556611719,
          -0.011768155969507088
         ]
        },
        {
         "fill": "tonexty",
         "fillcolor": "rgba(0, 114, 178, 0.2)",
         "hoverinfo": "skip",
         "line": {
          "width": 0
         },
         "mode": "lines",
         "type": "scatter",
         "x": [
          "2023-03-01T00:00:00",
          "2023-04-01T00:00:00",
          "2023-05-01T00:00:00",
          "2023-06-01T00:00:00",
          "2023-07-01T00:00:00",
          "2023-08-01T00:00:00",
          "2023-09-01T00:00:00",
          "2023-10-01T00:00:00",
          "2023-11-01T00:00:00",
          "2023-12-01T00:00:00",
          "2024-01-01T00:00:00",
          "2024-02-01T00:00:00"
         ],
         "y": [
          0.8937294783499689,
          0.6182474546460736,
          1.0769164977814436,
          1.1649078301351683,
          1.3874641714403746,
          2.5898203128176824,
          2.4790445951090803,
          3.0006964480087928,
          2.3321773247763735,
          2.5164009952300717,
          2.1107241946212345,
          1.213670409770443
         ]
        }
       ],
       "layout": {
        "height": 600,
        "showlegend": false,
        "template": {
         "data": {
          "bar": [
           {
            "error_x": {
             "color": "#2a3f5f"
            },
            "error_y": {
             "color": "#2a3f5f"
            },
            "marker": {
             "line": {
              "color": "#E5ECF6",
              "width": 0.5
             },
             "pattern": {
              "fillmode": "overlay",
              "size": 10,
              "solidity": 0.2
             }
            },
            "type": "bar"
           }
          ],
          "barpolar": [
           {
            "marker": {
             "line": {
              "color": "#E5ECF6",
              "width": 0.5
             },
             "pattern": {
              "fillmode": "overlay",
              "size": 10,
              "solidity": 0.2
             }
            },
            "type": "barpolar"
           }
          ],
          "carpet": [
           {
            "aaxis": {
             "endlinecolor": "#2a3f5f",
             "gridcolor": "white",
             "linecolor": "white",
             "minorgridcolor": "white",
             "startlinecolor": "#2a3f5f"
            },
            "baxis": {
             "endlinecolor": "#2a3f5f",
             "gridcolor": "white",
             "linecolor": "white",
             "minorgridcolor": "white",
             "startlinecolor": "#2a3f5f"
            },
            "type": "carpet"
           }
          ],
          "choropleth": [
           {
            "colorbar": {
             "outlinewidth": 0,
             "ticks": ""
            },
            "type": "choropleth"
           }
          ],
          "contour": [
           {
            "colorbar": {
             "outlinewidth": 0,
             "ticks": ""
            },
            "colorscale": [
             [
              0,
              "#0d0887"
             ],
             [
              0.1111111111111111,
              "#46039f"
             ],
             [
              0.2222222222222222,
              "#7201a8"
             ],
             [
              0.3333333333333333,
              "#9c179e"
             ],
             [
              0.4444444444444444,
              "#bd3786"
             ],
             [
              0.5555555555555556,
              "#d8576b"
             ],
             [
              0.6666666666666666,
              "#ed7953"
             ],
             [
              0.7777777777777778,
              "#fb9f3a"
             ],
             [
              0.8888888888888888,
              "#fdca26"
             ],
             [
              1,
              "#f0f921"
             ]
            ],
            "type": "contour"
           }
          ],
          "contourcarpet": [
           {
            "colorbar": {
             "outlinewidth": 0,
             "ticks": ""
            },
            "type": "contourcarpet"
           }
          ],
          "heatmap": [
           {
            "colorbar": {
             "outlinewidth": 0,
             "ticks": ""
            },
            "colorscale": [
             [
              0,
              "#0d0887"
             ],
             [
              0.1111111111111111,
              "#46039f"
             ],
             [
              0.2222222222222222,
              "#7201a8"
             ],
             [
              0.3333333333333333,
              "#9c179e"
             ],
             [
              0.4444444444444444,
              "#bd3786"
             ],
             [
              0.5555555555555556,
              "#d8576b"
             ],
             [
              0.6666666666666666,
              "#ed7953"
             ],
             [
              0.7777777777777778,
              "#fb9f3a"
             ],
             [
              0.8888888888888888,
              "#fdca26"
             ],
             [
              1,
              "#f0f921"
             ]
            ],
            "type": "heatmap"
           }
          ],
          "heatmapgl": [
           {
            "colorbar": {
             "outlinewidth": 0,
             "ticks": ""
            },
            "colorscale": [
             [
              0,
              "#0d0887"
             ],
             [
              0.1111111111111111,
              "#46039f"
             ],
             [
              0.2222222222222222,
              "#7201a8"
             ],
             [
              0.3333333333333333,
              "#9c179e"
             ],
             [
              0.4444444444444444,
              "#bd3786"
             ],
             [
              0.5555555555555556,
              "#d8576b"
             ],
             [
              0.6666666666666666,
              "#ed7953"
             ],
             [
              0.7777777777777778,
              "#fb9f3a"
             ],
             [
              0.8888888888888888,
              "#fdca26"
             ],
             [
              1,
              "#f0f921"
             ]
            ],
            "type": "heatmapgl"
           }
          ],
          "histogram": [
           {
            "marker": {
             "pattern": {
              "fillmode": "overlay",
              "size": 10,
              "solidity": 0.2
             }
            },
            "type": "histogram"
           }
          ],
          "histogram2d": [
           {
            "colorbar": {
             "outlinewidth": 0,
             "ticks": ""
            },
            "colorscale": [
             [
              0,
              "#0d0887"
             ],
             [
              0.1111111111111111,
              "#46039f"
             ],
             [
              0.2222222222222222,
              "#7201a8"
             ],
             [
              0.3333333333333333,
              "#9c179e"
             ],
             [
              0.4444444444444444,
              "#bd3786"
             ],
             [
              0.5555555555555556,
              "#d8576b"
             ],
             [
              0.6666666666666666,
              "#ed7953"
             ],
             [
              0.7777777777777778,
              "#fb9f3a"
             ],
             [
              0.8888888888888888,
              "#fdca26"
             ],
             [
              1,
              "#f0f921"
             ]
            ],
            "type": "histogram2d"
           }
          ],
          "histogram2dcontour": [
           {
            "colorbar": {
             "outlinewidth": 0,
             "ticks": ""
            },
            "colorscale": [
             [
              0,
              "#0d0887"
             ],
             [
              0.1111111111111111,
              "#46039f"
             ],
             [
              0.2222222222222222,
              "#7201a8"
             ],
             [
              0.3333333333333333,
              "#9c179e"
             ],
             [
              0.4444444444444444,
              "#bd3786"
             ],
             [
              0.5555555555555556,
              "#d8576b"
             ],
             [
              0.6666666666666666,
              "#ed7953"
             ],
             [
              0.7777777777777778,
              "#fb9f3a"
             ],
             [
              0.8888888888888888,
              "#fdca26"
             ],
             [
              1,
              "#f0f921"
             ]
            ],
            "type": "histogram2dcontour"
           }
          ],
          "mesh3d": [
           {
            "colorbar": {
             "outlinewidth": 0,
             "ticks": ""
            },
            "type": "mesh3d"
           }
          ],
          "parcoords": [
           {
            "line": {
             "colorbar": {
              "outlinewidth": 0,
              "ticks": ""
             }
            },
            "type": "parcoords"
           }
          ],
          "pie": [
           {
            "automargin": true,
            "type": "pie"
           }
          ],
          "scatter": [
           {
            "fillpattern": {
             "fillmode": "overlay",
             "size": 10,
             "solidity": 0.2
            },
            "type": "scatter"
           }
          ],
          "scatter3d": [
           {
            "line": {
             "colorbar": {
              "outlinewidth": 0,
              "ticks": ""
             }
            },
            "marker": {
             "colorbar": {
              "outlinewidth": 0,
              "ticks": ""
             }
            },
            "type": "scatter3d"
           }
          ],
          "scattercarpet": [
           {
            "marker": {
             "colorbar": {
              "outlinewidth": 0,
              "ticks": ""
             }
            },
            "type": "scattercarpet"
           }
          ],
          "scattergeo": [
           {
            "marker": {
             "colorbar": {
              "outlinewidth": 0,
              "ticks": ""
             }
            },
            "type": "scattergeo"
           }
          ],
          "scattergl": [
           {
            "marker": {
             "colorbar": {
              "outlinewidth": 0,
              "ticks": ""
             }
            },
            "type": "scattergl"
           }
          ],
          "scattermapbox": [
           {
            "marker": {
             "colorbar": {
              "outlinewidth": 0,
              "ticks": ""
             }
            },
            "type": "scattermapbox"
           }
          ],
          "scatterpolar": [
           {
            "marker": {
             "colorbar": {
              "outlinewidth": 0,
              "ticks": ""
             }
            },
            "type": "scatterpolar"
           }
          ],
          "scatterpolargl": [
           {
            "marker": {
             "colorbar": {
              "outlinewidth": 0,
              "ticks": ""
             }
            },
            "type": "scatterpolargl"
           }
          ],
          "scatterternary": [
           {
            "marker": {
             "colorbar": {
              "outlinewidth": 0,
              "ticks": ""
             }
            },
            "type": "scatterternary"
           }
          ],
          "surface": [
           {
            "colorbar": {
             "outlinewidth": 0,
             "ticks": ""
            },
            "colorscale": [
             [
              0,
              "#0d0887"
             ],
             [
              0.1111111111111111,
              "#46039f"
             ],
             [
              0.2222222222222222,
              "#7201a8"
             ],
             [
              0.3333333333333333,
              "#9c179e"
             ],
             [
              0.4444444444444444,
              "#bd3786"
             ],
             [
              0.5555555555555556,
              "#d8576b"
             ],
             [
              0.6666666666666666,
              "#ed7953"
             ],
             [
              0.7777777777777778,
              "#fb9f3a"
             ],
             [
              0.8888888888888888,
              "#fdca26"
             ],
             [
              1,
              "#f0f921"
             ]
            ],
            "type": "surface"
           }
          ],
          "table": [
           {
            "cells": {
             "fill": {
              "color": "#EBF0F8"
             },
             "line": {
              "color": "white"
             }
            },
            "header": {
             "fill": {
              "color": "#C8D4E3"
             },
             "line": {
              "color": "white"
             }
            },
            "type": "table"
           }
          ]
         },
         "layout": {
          "annotationdefaults": {
           "arrowcolor": "#2a3f5f",
           "arrowhead": 0,
           "arrowwidth": 1
          },
          "autotypenumbers": "strict",
          "coloraxis": {
           "colorbar": {
            "outlinewidth": 0,
            "ticks": ""
           }
          },
          "colorscale": {
           "diverging": [
            [
             0,
             "#8e0152"
            ],
            [
             0.1,
             "#c51b7d"
            ],
            [
             0.2,
             "#de77ae"
            ],
            [
             0.3,
             "#f1b6da"
            ],
            [
             0.4,
             "#fde0ef"
            ],
            [
             0.5,
             "#f7f7f7"
            ],
            [
             0.6,
             "#e6f5d0"
            ],
            [
             0.7,
             "#b8e186"
            ],
            [
             0.8,
             "#7fbc41"
            ],
            [
             0.9,
             "#4d9221"
            ],
            [
             1,
             "#276419"
            ]
           ],
           "sequential": [
            [
             0,
             "#0d0887"
            ],
            [
             0.1111111111111111,
             "#46039f"
            ],
            [
             0.2222222222222222,
             "#7201a8"
            ],
            [
             0.3333333333333333,
             "#9c179e"
            ],
            [
             0.4444444444444444,
             "#bd3786"
            ],
            [
             0.5555555555555556,
             "#d8576b"
            ],
            [
             0.6666666666666666,
             "#ed7953"
            ],
            [
             0.7777777777777778,
             "#fb9f3a"
            ],
            [
             0.8888888888888888,
             "#fdca26"
            ],
            [
             1,
             "#f0f921"
            ]
           ],
           "sequentialminus": [
            [
             0,
             "#0d0887"
            ],
            [
             0.1111111111111111,
             "#46039f"
            ],
            [
             0.2222222222222222,
             "#7201a8"
            ],
            [
             0.3333333333333333,
             "#9c179e"
            ],
            [
             0.4444444444444444,
             "#bd3786"
            ],
            [
             0.5555555555555556,
             "#d8576b"
            ],
            [
             0.6666666666666666,
             "#ed7953"
            ],
            [
             0.7777777777777778,
             "#fb9f3a"
            ],
            [
             0.8888888888888888,
             "#fdca26"
            ],
            [
             1,
             "#f0f921"
            ]
           ]
          },
          "colorway": [
           "#636efa",
           "#EF553B",
           "#00cc96",
           "#ab63fa",
           "#FFA15A",
           "#19d3f3",
           "#FF6692",
           "#B6E880",
           "#FF97FF",
           "#FECB52"
          ],
          "font": {
           "color": "#2a3f5f"
          },
          "geo": {
           "bgcolor": "white",
           "lakecolor": "white",
           "landcolor": "#E5ECF6",
           "showlakes": true,
           "showland": true,
           "subunitcolor": "white"
          },
          "hoverlabel": {
           "align": "left"
          },
          "hovermode": "closest",
          "mapbox": {
           "style": "light"
          },
          "paper_bgcolor": "white",
          "plot_bgcolor": "#E5ECF6",
          "polar": {
           "angularaxis": {
            "gridcolor": "white",
            "linecolor": "white",
            "ticks": ""
           },
           "bgcolor": "#E5ECF6",
           "radialaxis": {
            "gridcolor": "white",
            "linecolor": "white",
            "ticks": ""
           }
          },
          "scene": {
           "xaxis": {
            "backgroundcolor": "#E5ECF6",
            "gridcolor": "white",
            "gridwidth": 2,
            "linecolor": "white",
            "showbackground": true,
            "ticks": "",
            "zerolinecolor": "white"
           },
           "yaxis": {
            "backgroundcolor": "#E5ECF6",
            "gridcolor": "white",
            "gridwidth": 2,
            "linecolor": "white",
            "showbackground": true,
            "ticks": "",
            "zerolinecolor": "white"
           },
           "zaxis": {
            "backgroundcolor": "#E5ECF6",
            "gridcolor": "white",
            "gridwidth": 2,
            "linecolor": "white",
            "showbackground": true,
            "ticks": "",
            "zerolinecolor": "white"
           }
          },
          "shapedefaults": {
           "line": {
            "color": "#2a3f5f"
           }
          },
          "ternary": {
           "aaxis": {
            "gridcolor": "white",
            "linecolor": "white",
            "ticks": ""
           },
           "baxis": {
            "gridcolor": "white",
            "linecolor": "white",
            "ticks": ""
           },
           "bgcolor": "#E5ECF6",
           "caxis": {
            "gridcolor": "white",
            "linecolor": "white",
            "ticks": ""
           }
          },
          "title": {
           "x": 0.05
          },
          "xaxis": {
           "automargin": true,
           "gridcolor": "white",
           "linecolor": "white",
           "ticks": "",
           "title": {
            "standoff": 15
           },
           "zerolinecolor": "white",
           "zerolinewidth": 2
          },
          "yaxis": {
           "automargin": true,
           "gridcolor": "white",
           "linecolor": "white",
           "ticks": "",
           "title": {
            "standoff": 15
           },
           "zerolinecolor": "white",
           "zerolinewidth": 2
          }
         }
        },
        "width": 900,
        "xaxis": {
         "rangeselector": {
          "buttons": [
           {
            "count": 7,
            "label": "1w",
            "step": "day",
            "stepmode": "backward"
           },
           {
            "count": 1,
            "label": "1m",
            "step": "month",
            "stepmode": "backward"
           },
           {
            "count": 6,
            "label": "6m",
            "step": "month",
            "stepmode": "backward"
           },
           {
            "count": 1,
            "label": "1y",
            "step": "year",
            "stepmode": "backward"
           },
           {
            "step": "all"
           }
          ]
         },
         "rangeslider": {
          "visible": true
         },
         "title": {
          "text": "ds"
         },
         "type": "date"
        },
        "yaxis": {
         "title": {
          "text": "y"
         }
        }
       }
      }
     },
     "metadata": {},
     "output_type": "display_data"
    },
    {
     "data": {
      "application/vnd.plotly.v1+json": {
       "config": {
        "plotlyServerURL": "https://plot.ly"
       },
       "data": [
        {
         "line": {
          "color": "#0072B2",
          "width": 2
         },
         "mode": "lines",
         "name": "trend",
         "type": "scatter",
         "x": [
          "2023-03-01T00:00:00",
          "2023-04-01T00:00:00",
          "2023-05-01T00:00:00",
          "2023-06-01T00:00:00",
          "2023-07-01T00:00:00",
          "2023-08-01T00:00:00",
          "2023-09-01T00:00:00",
          "2023-10-01T00:00:00",
          "2023-11-01T00:00:00",
          "2023-12-01T00:00:00",
          "2024-01-01T00:00:00",
          "2024-02-01T00:00:00"
         ],
         "xaxis": "x",
         "y": [
          0.8367523599147036,
          0.8368168405086592,
          0.836879241083455,
          0.8369437216774105,
          0.8370061222522064,
          0.8370706028461619,
          0.8371350834401176,
          0.8371974840149133,
          0.8372619646088689,
          0.8373243651836647,
          0.8373888457776203,
          0.8374533263715759
         ],
         "yaxis": "y"
        },
        {
         "line": {
          "color": "#0072B2",
          "width": 2
         },
         "mode": "lines",
         "name": "extra_regressors_additive",
         "type": "scatter",
         "x": [
          "2023-03-01T00:00:00",
          "2023-04-01T00:00:00",
          "2023-05-01T00:00:00",
          "2023-06-01T00:00:00",
          "2023-07-01T00:00:00",
          "2023-08-01T00:00:00",
          "2023-09-01T00:00:00",
          "2023-10-01T00:00:00",
          "2023-11-01T00:00:00",
          "2023-12-01T00:00:00",
          "2024-01-01T00:00:00",
          "2024-02-01T00:00:00"
         ],
         "xaxis": "x2",
         "y": [
          -1.1893690352351767,
          -1.2143459292939132,
          -0.7510867531418193,
          -0.8194062886835017,
          -0.7614317527056741,
          0.29806167172473014,
          0.10769515723528224,
          0.5932813680786174,
          0.4144052722154733,
          -0.11108140375175177,
          -0.1114686758205308,
          -0.3241884610043538
         ],
         "yaxis": "y2"
        },
        {
         "line": {
          "color": "#0072B2",
          "width": 2
         },
         "mode": "lines",
         "name": "yearly",
         "type": "scatter",
         "x": [
          "2017-01-01T00:00:00",
          "2017-01-02T00:00:59.178082",
          "2017-01-03T00:01:58.356164",
          "2017-01-04T00:02:57.534246",
          "2017-01-05T00:03:56.712328",
          "2017-01-06T00:04:55.890411",
          "2017-01-07T00:05:55.068493",
          "2017-01-08T00:06:54.246575",
          "2017-01-09T00:07:53.424657",
          "2017-01-10T00:08:52.602739",
          "2017-01-11T00:09:51.780822",
          "2017-01-12T00:10:50.958904",
          "2017-01-13T00:11:50.136986",
          "2017-01-14T00:12:49.315068",
          "2017-01-15T00:13:48.493150",
          "2017-01-16T00:14:47.671232",
          "2017-01-17T00:15:46.849315",
          "2017-01-18T00:16:46.027397",
          "2017-01-19T00:17:45.205479",
          "2017-01-20T00:18:44.383561",
          "2017-01-21T00:19:43.561643",
          "2017-01-22T00:20:42.739726",
          "2017-01-23T00:21:41.917808",
          "2017-01-24T00:22:41.095890",
          "2017-01-25T00:23:40.273972",
          "2017-01-26T00:24:39.452054",
          "2017-01-27T00:25:38.630137",
          "2017-01-28T00:26:37.808219",
          "2017-01-29T00:27:36.986301",
          "2017-01-30T00:28:36.164383",
          "2017-01-31T00:29:35.342465",
          "2017-02-01T00:30:34.520547",
          "2017-02-02T00:31:33.698630",
          "2017-02-03T00:32:32.876712",
          "2017-02-04T00:33:32.054794",
          "2017-02-05T00:34:31.232876",
          "2017-02-06T00:35:30.410958",
          "2017-02-07T00:36:29.589041",
          "2017-02-08T00:37:28.767123",
          "2017-02-09T00:38:27.945205",
          "2017-02-10T00:39:27.123287",
          "2017-02-11T00:40:26.301369",
          "2017-02-12T00:41:25.479452",
          "2017-02-13T00:42:24.657534",
          "2017-02-14T00:43:23.835616",
          "2017-02-15T00:44:23.013698",
          "2017-02-16T00:45:22.191780",
          "2017-02-17T00:46:21.369862",
          "2017-02-18T00:47:20.547945",
          "2017-02-19T00:48:19.726027",
          "2017-02-20T00:49:18.904109",
          "2017-02-21T00:50:18.082191",
          "2017-02-22T00:51:17.260273",
          "2017-02-23T00:52:16.438356",
          "2017-02-24T00:53:15.616438",
          "2017-02-25T00:54:14.794520",
          "2017-02-26T00:55:13.972602",
          "2017-02-27T00:56:13.150684",
          "2017-02-28T00:57:12.328767",
          "2017-03-01T00:58:11.506849",
          "2017-03-02T00:59:10.684931",
          "2017-03-03T01:00:09.863013",
          "2017-03-04T01:01:09.041095",
          "2017-03-05T01:02:08.219177",
          "2017-03-06T01:03:07.397260",
          "2017-03-07T01:04:06.575342",
          "2017-03-08T01:05:05.753424",
          "2017-03-09T01:06:04.931506",
          "2017-03-10T01:07:04.109588",
          "2017-03-11T01:08:03.287671",
          "2017-03-12T01:09:02.465753",
          "2017-03-13T01:10:01.643835",
          "2017-03-14T01:11:00.821917",
          "2017-03-15T01:12:00",
          "2017-03-16T01:12:59.178082",
          "2017-03-17T01:13:58.356164",
          "2017-03-18T01:14:57.534246",
          "2017-03-19T01:15:56.712328",
          "2017-03-20T01:16:55.890411",
          "2017-03-21T01:17:55.068493",
          "2017-03-22T01:18:54.246575",
          "2017-03-23T01:19:53.424657",
          "2017-03-24T01:20:52.602739",
          "2017-03-25T01:21:51.780822",
          "2017-03-26T01:22:50.958904",
          "2017-03-27T01:23:50.136986",
          "2017-03-28T01:24:49.315068",
          "2017-03-29T01:25:48.493150",
          "2017-03-30T01:26:47.671232",
          "2017-03-31T01:27:46.849315",
          "2017-04-01T01:28:46.027397",
          "2017-04-02T01:29:45.205479",
          "2017-04-03T01:30:44.383561",
          "2017-04-04T01:31:43.561643",
          "2017-04-05T01:32:42.739726",
          "2017-04-06T01:33:41.917808",
          "2017-04-07T01:34:41.095890",
          "2017-04-08T01:35:40.273972",
          "2017-04-09T01:36:39.452054",
          "2017-04-10T01:37:38.630137",
          "2017-04-11T01:38:37.808219",
          "2017-04-12T01:39:36.986301",
          "2017-04-13T01:40:36.164383",
          "2017-04-14T01:41:35.342465",
          "2017-04-15T01:42:34.520547",
          "2017-04-16T01:43:33.698630",
          "2017-04-17T01:44:32.876712",
          "2017-04-18T01:45:32.054794",
          "2017-04-19T01:46:31.232876",
          "2017-04-20T01:47:30.410958",
          "2017-04-21T01:48:29.589041",
          "2017-04-22T01:49:28.767123",
          "2017-04-23T01:50:27.945205",
          "2017-04-24T01:51:27.123287",
          "2017-04-25T01:52:26.301369",
          "2017-04-26T01:53:25.479452",
          "2017-04-27T01:54:24.657534",
          "2017-04-28T01:55:23.835616",
          "2017-04-29T01:56:23.013698",
          "2017-04-30T01:57:22.191780",
          "2017-05-01T01:58:21.369862",
          "2017-05-02T01:59:20.547945",
          "2017-05-03T02:00:19.726027",
          "2017-05-04T02:01:18.904109",
          "2017-05-05T02:02:18.082191",
          "2017-05-06T02:03:17.260273",
          "2017-05-07T02:04:16.438356",
          "2017-05-08T02:05:15.616438",
          "2017-05-09T02:06:14.794520",
          "2017-05-10T02:07:13.972602",
          "2017-05-11T02:08:13.150684",
          "2017-05-12T02:09:12.328767",
          "2017-05-13T02:10:11.506849",
          "2017-05-14T02:11:10.684931",
          "2017-05-15T02:12:09.863013",
          "2017-05-16T02:13:09.041095",
          "2017-05-17T02:14:08.219177",
          "2017-05-18T02:15:07.397260",
          "2017-05-19T02:16:06.575342",
          "2017-05-20T02:17:05.753424",
          "2017-05-21T02:18:04.931506",
          "2017-05-22T02:19:04.109588",
          "2017-05-23T02:20:03.287671",
          "2017-05-24T02:21:02.465753",
          "2017-05-25T02:22:01.643835",
          "2017-05-26T02:23:00.821917",
          "2017-05-27T02:24:00",
          "2017-05-28T02:24:59.178082",
          "2017-05-29T02:25:58.356164",
          "2017-05-30T02:26:57.534246",
          "2017-05-31T02:27:56.712328",
          "2017-06-01T02:28:55.890411",
          "2017-06-02T02:29:55.068493",
          "2017-06-03T02:30:54.246575",
          "2017-06-04T02:31:53.424657",
          "2017-06-05T02:32:52.602739",
          "2017-06-06T02:33:51.780822",
          "2017-06-07T02:34:50.958904",
          "2017-06-08T02:35:50.136986",
          "2017-06-09T02:36:49.315068",
          "2017-06-10T02:37:48.493150",
          "2017-06-11T02:38:47.671232",
          "2017-06-12T02:39:46.849315",
          "2017-06-13T02:40:46.027397",
          "2017-06-14T02:41:45.205479",
          "2017-06-15T02:42:44.383561",
          "2017-06-16T02:43:43.561643",
          "2017-06-17T02:44:42.739726",
          "2017-06-18T02:45:41.917808",
          "2017-06-19T02:46:41.095890",
          "2017-06-20T02:47:40.273972",
          "2017-06-21T02:48:39.452054",
          "2017-06-22T02:49:38.630137",
          "2017-06-23T02:50:37.808219",
          "2017-06-24T02:51:36.986301",
          "2017-06-25T02:52:36.164383",
          "2017-06-26T02:53:35.342465",
          "2017-06-27T02:54:34.520547",
          "2017-06-28T02:55:33.698630",
          "2017-06-29T02:56:32.876712",
          "2017-06-30T02:57:32.054794",
          "2017-07-01T02:58:31.232876",
          "2017-07-02T02:59:30.410958",
          "2017-07-03T03:00:29.589041",
          "2017-07-04T03:01:28.767123",
          "2017-07-05T03:02:27.945205",
          "2017-07-06T03:03:27.123287",
          "2017-07-07T03:04:26.301369",
          "2017-07-08T03:05:25.479452",
          "2017-07-09T03:06:24.657534",
          "2017-07-10T03:07:23.835616",
          "2017-07-11T03:08:23.013698",
          "2017-07-12T03:09:22.191780",
          "2017-07-13T03:10:21.369862",
          "2017-07-14T03:11:20.547945",
          "2017-07-15T03:12:19.726027",
          "2017-07-16T03:13:18.904109",
          "2017-07-17T03:14:18.082191",
          "2017-07-18T03:15:17.260273",
          "2017-07-19T03:16:16.438356",
          "2017-07-20T03:17:15.616438",
          "2017-07-21T03:18:14.794520",
          "2017-07-22T03:19:13.972602",
          "2017-07-23T03:20:13.150684",
          "2017-07-24T03:21:12.328767",
          "2017-07-25T03:22:11.506849",
          "2017-07-26T03:23:10.684931",
          "2017-07-27T03:24:09.863013",
          "2017-07-28T03:25:09.041095",
          "2017-07-29T03:26:08.219177",
          "2017-07-30T03:27:07.397260",
          "2017-07-31T03:28:06.575342",
          "2017-08-01T03:29:05.753424",
          "2017-08-02T03:30:04.931506",
          "2017-08-03T03:31:04.109588",
          "2017-08-04T03:32:03.287671",
          "2017-08-05T03:33:02.465753",
          "2017-08-06T03:34:01.643835",
          "2017-08-07T03:35:00.821917",
          "2017-08-08T03:36:00",
          "2017-08-09T03:36:59.178082",
          "2017-08-10T03:37:58.356164",
          "2017-08-11T03:38:57.534246",
          "2017-08-12T03:39:56.712328",
          "2017-08-13T03:40:55.890411",
          "2017-08-14T03:41:55.068493",
          "2017-08-15T03:42:54.246575",
          "2017-08-16T03:43:53.424657",
          "2017-08-17T03:44:52.602739",
          "2017-08-18T03:45:51.780822",
          "2017-08-19T03:46:50.958904",
          "2017-08-20T03:47:50.136986",
          "2017-08-21T03:48:49.315068",
          "2017-08-22T03:49:48.493150",
          "2017-08-23T03:50:47.671232",
          "2017-08-24T03:51:46.849315",
          "2017-08-25T03:52:46.027397",
          "2017-08-26T03:53:45.205479",
          "2017-08-27T03:54:44.383561",
          "2017-08-28T03:55:43.561643",
          "2017-08-29T03:56:42.739726",
          "2017-08-30T03:57:41.917808",
          "2017-08-31T03:58:41.095890",
          "2017-09-01T03:59:40.273972",
          "2017-09-02T04:00:39.452054",
          "2017-09-03T04:01:38.630137",
          "2017-09-04T04:02:37.808219",
          "2017-09-05T04:03:36.986301",
          "2017-09-06T04:04:36.164383",
          "2017-09-07T04:05:35.342465",
          "2017-09-08T04:06:34.520547",
          "2017-09-09T04:07:33.698630",
          "2017-09-10T04:08:32.876712",
          "2017-09-11T04:09:32.054794",
          "2017-09-12T04:10:31.232876",
          "2017-09-13T04:11:30.410958",
          "2017-09-14T04:12:29.589041",
          "2017-09-15T04:13:28.767123",
          "2017-09-16T04:14:27.945205",
          "2017-09-17T04:15:27.123287",
          "2017-09-18T04:16:26.301369",
          "2017-09-19T04:17:25.479452",
          "2017-09-20T04:18:24.657534",
          "2017-09-21T04:19:23.835616",
          "2017-09-22T04:20:23.013698",
          "2017-09-23T04:21:22.191780",
          "2017-09-24T04:22:21.369862",
          "2017-09-25T04:23:20.547945",
          "2017-09-26T04:24:19.726027",
          "2017-09-27T04:25:18.904109",
          "2017-09-28T04:26:18.082191",
          "2017-09-29T04:27:17.260273",
          "2017-09-30T04:28:16.438356",
          "2017-10-01T04:29:15.616438",
          "2017-10-02T04:30:14.794520",
          "2017-10-03T04:31:13.972602",
          "2017-10-04T04:32:13.150684",
          "2017-10-05T04:33:12.328767",
          "2017-10-06T04:34:11.506849",
          "2017-10-07T04:35:10.684931",
          "2017-10-08T04:36:09.863013",
          "2017-10-09T04:37:09.041095",
          "2017-10-10T04:38:08.219177",
          "2017-10-11T04:39:07.397260",
          "2017-10-12T04:40:06.575342",
          "2017-10-13T04:41:05.753424",
          "2017-10-14T04:42:04.931506",
          "2017-10-15T04:43:04.109588",
          "2017-10-16T04:44:03.287671",
          "2017-10-17T04:45:02.465753",
          "2017-10-18T04:46:01.643835",
          "2017-10-19T04:47:00.821917",
          "2017-10-20T04:48:00",
          "2017-10-21T04:48:59.178082",
          "2017-10-22T04:49:58.356164",
          "2017-10-23T04:50:57.534246",
          "2017-10-24T04:51:56.712328",
          "2017-10-25T04:52:55.890411",
          "2017-10-26T04:53:55.068493",
          "2017-10-27T04:54:54.246575",
          "2017-10-28T04:55:53.424657",
          "2017-10-29T04:56:52.602739",
          "2017-10-30T04:57:51.780822",
          "2017-10-31T04:58:50.958904",
          "2017-11-01T04:59:50.136986",
          "2017-11-02T05:00:49.315068",
          "2017-11-03T05:01:48.493150",
          "2017-11-04T05:02:47.671232",
          "2017-11-05T05:03:46.849315",
          "2017-11-06T05:04:46.027397",
          "2017-11-07T05:05:45.205479",
          "2017-11-08T05:06:44.383561",
          "2017-11-09T05:07:43.561643",
          "2017-11-10T05:08:42.739726",
          "2017-11-11T05:09:41.917808",
          "2017-11-12T05:10:41.095890",
          "2017-11-13T05:11:40.273972",
          "2017-11-14T05:12:39.452054",
          "2017-11-15T05:13:38.630137",
          "2017-11-16T05:14:37.808219",
          "2017-11-17T05:15:36.986301",
          "2017-11-18T05:16:36.164383",
          "2017-11-19T05:17:35.342465",
          "2017-11-20T05:18:34.520547",
          "2017-11-21T05:19:33.698630",
          "2017-11-22T05:20:32.876712",
          "2017-11-23T05:21:32.054794",
          "2017-11-24T05:22:31.232876",
          "2017-11-25T05:23:30.410958",
          "2017-11-26T05:24:29.589041",
          "2017-11-27T05:25:28.767123",
          "2017-11-28T05:26:27.945205",
          "2017-11-29T05:27:27.123287",
          "2017-11-30T05:28:26.301369",
          "2017-12-01T05:29:25.479452",
          "2017-12-02T05:30:24.657534",
          "2017-12-03T05:31:23.835616",
          "2017-12-04T05:32:23.013698",
          "2017-12-05T05:33:22.191780",
          "2017-12-06T05:34:21.369862",
          "2017-12-07T05:35:20.547945",
          "2017-12-08T05:36:19.726027",
          "2017-12-09T05:37:18.904109",
          "2017-12-10T05:38:18.082191",
          "2017-12-11T05:39:17.260273",
          "2017-12-12T05:40:16.438356",
          "2017-12-13T05:41:15.616438",
          "2017-12-14T05:42:14.794520",
          "2017-12-15T05:43:13.972602",
          "2017-12-16T05:44:13.150684",
          "2017-12-17T05:45:12.328767",
          "2017-12-18T05:46:11.506849",
          "2017-12-19T05:47:10.684931",
          "2017-12-20T05:48:09.863013",
          "2017-12-21T05:49:09.041095",
          "2017-12-22T05:50:08.219177",
          "2017-12-23T05:51:07.397260",
          "2017-12-24T05:52:06.575342",
          "2017-12-25T05:53:05.753424",
          "2017-12-26T05:54:04.931506",
          "2017-12-27T05:55:04.109588",
          "2017-12-28T05:56:03.287671",
          "2017-12-29T05:57:02.465753",
          "2017-12-30T05:58:01.643835",
          "2017-12-31T05:59:00.821917"
         ],
         "xaxis": "x3",
         "y": [
          -1.2123075362299323,
          -1.1964612454442052,
          -1.1683958082709485,
          -1.1288814195616583,
          -1.0789386437617607,
          -1.0198167951235442,
          -0.9529657280106446,
          -0.8800064686314996,
          -0.8026895966852153,
          -0.722857804368017,
          -0.6424021660125083,
          -0.5632176598501422,
          -0.48715745709175645,
          -0.4159922928476637,
          -0.3513628934253833,
          -0.2947442128711795,
          -0.24740910995593818,
          -0.21039738923734794,
          -0.18449241503087577,
          -0.17019981389648303,
          -0.16773735664313189,
          -0.17702957821590237,
          -0.1977100976488203,
          -0.22913152528613515,
          -0.27038030201834257,
          -0.32030184539019013,
          -0.3775281129840854,
          -0.4405120338571771,
          -0.507566000190113,
          -0.5769045557870502,
          -0.6466853664136205,
          -0.7150594808063813,
          -0.7802136008922229,
          -0.8404152611883307,
          -0.8940555855631939,
          -0.9396857949375885,
          -0.9760556336955487,
          -1.002140375137878,
          -1.0171652481759226,
          -1.020622813609237,
          -1.01228338351411,
          -0.9921991122150192,
          -0.9606999224556122,
          -0.9183833385444771,
          -0.8660974413485569,
          -0.8049169821877681,
          -0.7361177158573474,
          -0.6611388358549393,
          -0.5815486241827464,
          -0.4990038895826029,
          -0.4152083062059493,
          -0.3318691275978634,
          -0.25065913392905503,
          -0.1731704123661235,
          -0.10088035642018339,
          -0.03511628041999142,
          0.02297468233537933,
          0.07245116489070637,
          0.11259482654142913,
          0.14292720465164688,
          0.16321441625366967,
          0.17346848847274612,
          0.17394170076522694,
          0.16511500192362755,
          0.1476806937002457,
          0.12251984599918264,
          0.09067546863640995,
          0.05332197437538299,
          0.011731367852822585,
          -0.03275992770379208,
          -0.07878999809727796,
          -0.1250054535981994,
          -0.17009672692315003,
          -0.21283140403018996,
          -0.25208229750040895,
          -0.2868568715283899,
          -0.31631743244258714,
          -0.3397991043656884,
          -0.35682217167966523,
          -0.3670991479903162,
          -0.3705359389695337,
          -0.36722875926292836,
          -0.35745464282909034,
          -0.3416578924951065,
          -0.3204320829805587,
          -0.2944980496366107,
          -0.26468045822843,
          -0.2318790666592619,
          -0.19704153072041466,
          -0.1611341904126789,
          -0.1251129650287982,
          -0.08989739426942385,
          -0.05634232693571614,
          -0.025216338745157198,
          0.0028187935010983867,
          0.027224533244088016,
          0.04759817062391745,
          0.06367996206631585,
          0.0753580997386628,
          0.0826667746100442,
          0.08578111966238454,
          0.08500776679143546,
          0.08077157306987959,
          0.07359935561753163,
          0.06410034553197472,
          0.05294499515952877,
          0.04084216046406705,
          0.028515450187519976,
          0.016680288624314296,
          0.006020243678083148,
          -0.0028338155726145083,
          -0.009323272701447387,
          -0.012978611171747138,
          -0.013433213220975532,
          -0.010433783246392856,
          -0.003847119829651938,
          0.006337032230376926,
          0.02000689844864864,
          0.03693360150662639,
          0.05677862982074203,
          0.07910658584141446,
          0.10339888611525257,
          0.1290707923279381,
          0.15549012533116183,
          0.18199755083315222,
          0.20792597469955007,
          0.23262302440378174,
          0.25546982203633506,
          0.27590007311034553,
          0.2934170630396677,
          0.3076085134763441,
          0.3181579693319579,
          0.32485474883120524,
          0.3275989163162161,
          0.3264037130921906,
          0.3213942649435037,
          0.3128032572611502,
          0.300962766054874,
          0.28629368472578826,
          0.2692923348042661,
          0.25051495434721666,
          0.2305602852390436,
          0.2100522065401818,
          0.1896194745448603,
          0.16987779659999871,
          0.15141135572869197,
          0.13475552439631452,
          0.12038216350089201,
          0.10868511810680077,
          0.09997017428967164,
          0.09444682034295007,
          0.09222323919910702,
          0.09330448557696598,
          0.09759372518223125,
          0.10489675451646398,
          0.1149293839906324,
          0.12732752830725821,
          0.14165967358521903,
          0.15744150276415783,
          0.17415109551719862,
          0.1912469918066346,
          0.20818491453510982,
          0.2244353328082578,
          0.23950042824487375,
          0.25292911355989156,
          0.2643322158658039,
          0.273393894305281,
          0.2798816027773247,
          0.283653231685433,
          0.2846614039058123,
          0.28295480483333757,
          0.2786766150331967,
          0.27205988153144134,
          0.26342023680772075,
          0.2531460692658059,
          0.2416863480726076,
          0.2295373003106409,
          0.2172263395091341,
          0.20529639198769678,
          0.19428914026518496,
          0.18472836462994371,
          0.1771043827786169,
          0.17185844175434464,
          0.16936974247229877,
          0.1699437683699566,
          0.17380295950397365,
          0.1810799820654727,
          0.19181319651104067,
          0.20594579246503153,
          0.22332692989493824,
          0.24371598271995665,
          0.2667895948732375,
          0.2921497275809951,
          0.3193364929798958,
          0.3478400626463165,
          0.37711519089192547,
          0.4065963683249828,
          0.43571372856299523,
          0.46390722950367413,
          0.49064369619249815,
          0.5154295185494319,
          0.537823683259452,
          0.5574487380269162,
          0.5739998949799133,
          0.5872509578614544,
          0.5970596909250444,
          0.6033686995085471,
          0.6062047837740494,
          0.6056755844891252,
          0.6019639890366869,
          0.5953203192466406,
          0.5860527113226933,
          0.5745160187475493,
          0.5610995753899014,
          0.5462140596480878,
          0.5302789487962701,
          0.5137083599989936,
          0.49689916188342265,
          0.4802191938014484,
          0.46399677656027644,
          0.44851277804461337,
          0.4339926870350384,
          0.4206026563084327,
          0.40844679774270337,
          0.39756692176936664,
          0.38794440180714723,
          0.3795047043408849,
          0.3721227857119844,
          0.3656313451670409,
          0.35982994191599443,
          0.3544953362360399,
          0.34939250564719215,
          0.34428629081854284,
          0.3389523905202875,
          0.33318847058452095,
          0.3268241183864156,
          0.31972955268636793,
          0.3118232207095968,
          0.3030767636705071,
          0.2935187801163637,
          0.28323604130355157,
          0.2723725631421426,
          0.2611263309339739,
          0.2497445448677201,
          0.23851557087191683,
          0.22776043034085175,
          0.21782215843480615,
          0.20905413907234519,
          0.2018075891025358,
          0.19641906162982398,
          0.19319717131741865,
          0.19241066030048326,
          0.19427690285654395,
          0.19895185563394704,
          0.20652132542308074,
          0.21699475451227693,
          0.23030069667608136,
          0.2462848919531053,
          0.2647107935588599,
          0.28526286660014566,
          0.3075511394066625,
          0.33112051899089484,
          0.3554598983543801,
          0.38001430870272346,
          0.40419867906373025,
          0.42741138150796265,
          0.44905133563240374,
          0.46853259784602186,
          0.48530020601462537,
          0.49884511893234185,
          0.5087181764331504,
          0.5145420629817328,
          0.5160225088130569,
          0.5129561016895879,
          0.505236287441505,
          0.49285659502229756,
          0.47591089271919873,
          0.45459193195379183,
          0.4291851609868147,
          0.400061880194319,
          0.3676691446514129,
          0.3325173598696402,
          0.29516825847628025,
          0.256217479386056,
          0.21628036007964566,
          0.17597537558106022,
          0.13590809866763154,
          0.09665532887562464,
          0.05875255974363955,
          0.022678423954919976,
          -0.011154389138811283,
          -0.042408274867676156,
          -0.07082721477670655,
          -0.09623901452954384,
          -0.11855803433060914,
          -0.13778182402349376,
          -0.1539867685894088,
          -0.16732087370545995,
          -0.17799439956531407,
          -0.18626799137940567,
          -0.19244046980982268,
          -0.19683427243081278,
          -0.1997809494990797,
          -0.2016064257892205,
          -0.20261669259138823,
          -0.20308438539956675,
          -0.2032368781332157,
          -0.20324611590752403,
          -0.20322075738731493,
          -0.2032008585222868,
          -0.20315534924281592,
          -0.20298244670089596,
          -0.20251305717866583,
          -0.20151711301062544,
          -0.19971269626923016,
          -0.1967776604991975,
          -0.1923636447935163,
          -0.1861115255171705,
          -0.17766847740414407,
          -0.16670563769506255,
          -0.1529359590817577,
          -0.1361314035950332,
          -0.11614010299230854,
          -0.09289988642993223,
          -0.06645149157971168,
          -0.036948129332577816,
          -0.004661665546476438,
          0.030012808664603225,
          0.06655996650300385,
          0.10434745561698479,
          0.14263489888292574,
          0.1805864168129736,
          0.21728723523602375,
          0.2517615399827233,
          0.28299749094056137,
          0.3099703189759774,
          0.3316693281130247,
          0.3471256526167554,
          0.35543952992720834,
          0.3558088216248982,
          0.34755436741102863,
          0.3301442948471483,
          0.30321530348692927,
          0.26658996898754844,
          0.22029222146285204,
          0.1645538432703361,
          0.0998200567760963,
          0.026747855853752896,
          -0.053800739437861865,
          -0.14077190182880372,
          -0.23293335365905488,
          -0.32890285559614263,
          -0.4271712005854585,
          -0.5261340914161741,
          -0.6241274182284142,
          -0.7194593379110196,
          -0.8104552742342883,
          -0.8954921415708641,
          -0.9730379197172918,
          -1.0416887380133582,
          -1.1002042516758124,
          -1.1475365618600644,
          -1.1828616914092127,
          -1.2055992585683257,
          -1.215430191348658
         ],
         "yaxis": "y3"
        }
       ],
       "layout": {
        "height": 600,
        "showlegend": false,
        "template": {
         "data": {
          "bar": [
           {
            "error_x": {
             "color": "#2a3f5f"
            },
            "error_y": {
             "color": "#2a3f5f"
            },
            "marker": {
             "line": {
              "color": "#E5ECF6",
              "width": 0.5
             },
             "pattern": {
              "fillmode": "overlay",
              "size": 10,
              "solidity": 0.2
             }
            },
            "type": "bar"
           }
          ],
          "barpolar": [
           {
            "marker": {
             "line": {
              "color": "#E5ECF6",
              "width": 0.5
             },
             "pattern": {
              "fillmode": "overlay",
              "size": 10,
              "solidity": 0.2
             }
            },
            "type": "barpolar"
           }
          ],
          "carpet": [
           {
            "aaxis": {
             "endlinecolor": "#2a3f5f",
             "gridcolor": "white",
             "linecolor": "white",
             "minorgridcolor": "white",
             "startlinecolor": "#2a3f5f"
            },
            "baxis": {
             "endlinecolor": "#2a3f5f",
             "gridcolor": "white",
             "linecolor": "white",
             "minorgridcolor": "white",
             "startlinecolor": "#2a3f5f"
            },
            "type": "carpet"
           }
          ],
          "choropleth": [
           {
            "colorbar": {
             "outlinewidth": 0,
             "ticks": ""
            },
            "type": "choropleth"
           }
          ],
          "contour": [
           {
            "colorbar": {
             "outlinewidth": 0,
             "ticks": ""
            },
            "colorscale": [
             [
              0,
              "#0d0887"
             ],
             [
              0.1111111111111111,
              "#46039f"
             ],
             [
              0.2222222222222222,
              "#7201a8"
             ],
             [
              0.3333333333333333,
              "#9c179e"
             ],
             [
              0.4444444444444444,
              "#bd3786"
             ],
             [
              0.5555555555555556,
              "#d8576b"
             ],
             [
              0.6666666666666666,
              "#ed7953"
             ],
             [
              0.7777777777777778,
              "#fb9f3a"
             ],
             [
              0.8888888888888888,
              "#fdca26"
             ],
             [
              1,
              "#f0f921"
             ]
            ],
            "type": "contour"
           }
          ],
          "contourcarpet": [
           {
            "colorbar": {
             "outlinewidth": 0,
             "ticks": ""
            },
            "type": "contourcarpet"
           }
          ],
          "heatmap": [
           {
            "colorbar": {
             "outlinewidth": 0,
             "ticks": ""
            },
            "colorscale": [
             [
              0,
              "#0d0887"
             ],
             [
              0.1111111111111111,
              "#46039f"
             ],
             [
              0.2222222222222222,
              "#7201a8"
             ],
             [
              0.3333333333333333,
              "#9c179e"
             ],
             [
              0.4444444444444444,
              "#bd3786"
             ],
             [
              0.5555555555555556,
              "#d8576b"
             ],
             [
              0.6666666666666666,
              "#ed7953"
             ],
             [
              0.7777777777777778,
              "#fb9f3a"
             ],
             [
              0.8888888888888888,
              "#fdca26"
             ],
             [
              1,
              "#f0f921"
             ]
            ],
            "type": "heatmap"
           }
          ],
          "heatmapgl": [
           {
            "colorbar": {
             "outlinewidth": 0,
             "ticks": ""
            },
            "colorscale": [
             [
              0,
              "#0d0887"
             ],
             [
              0.1111111111111111,
              "#46039f"
             ],
             [
              0.2222222222222222,
              "#7201a8"
             ],
             [
              0.3333333333333333,
              "#9c179e"
             ],
             [
              0.4444444444444444,
              "#bd3786"
             ],
             [
              0.5555555555555556,
              "#d8576b"
             ],
             [
              0.6666666666666666,
              "#ed7953"
             ],
             [
              0.7777777777777778,
              "#fb9f3a"
             ],
             [
              0.8888888888888888,
              "#fdca26"
             ],
             [
              1,
              "#f0f921"
             ]
            ],
            "type": "heatmapgl"
           }
          ],
          "histogram": [
           {
            "marker": {
             "pattern": {
              "fillmode": "overlay",
              "size": 10,
              "solidity": 0.2
             }
            },
            "type": "histogram"
           }
          ],
          "histogram2d": [
           {
            "colorbar": {
             "outlinewidth": 0,
             "ticks": ""
            },
            "colorscale": [
             [
              0,
              "#0d0887"
             ],
             [
              0.1111111111111111,
              "#46039f"
             ],
             [
              0.2222222222222222,
              "#7201a8"
             ],
             [
              0.3333333333333333,
              "#9c179e"
             ],
             [
              0.4444444444444444,
              "#bd3786"
             ],
             [
              0.5555555555555556,
              "#d8576b"
             ],
             [
              0.6666666666666666,
              "#ed7953"
             ],
             [
              0.7777777777777778,
              "#fb9f3a"
             ],
             [
              0.8888888888888888,
              "#fdca26"
             ],
             [
              1,
              "#f0f921"
             ]
            ],
            "type": "histogram2d"
           }
          ],
          "histogram2dcontour": [
           {
            "colorbar": {
             "outlinewidth": 0,
             "ticks": ""
            },
            "colorscale": [
             [
              0,
              "#0d0887"
             ],
             [
              0.1111111111111111,
              "#46039f"
             ],
             [
              0.2222222222222222,
              "#7201a8"
             ],
             [
              0.3333333333333333,
              "#9c179e"
             ],
             [
              0.4444444444444444,
              "#bd3786"
             ],
             [
              0.5555555555555556,
              "#d8576b"
             ],
             [
              0.6666666666666666,
              "#ed7953"
             ],
             [
              0.7777777777777778,
              "#fb9f3a"
             ],
             [
              0.8888888888888888,
              "#fdca26"
             ],
             [
              1,
              "#f0f921"
             ]
            ],
            "type": "histogram2dcontour"
           }
          ],
          "mesh3d": [
           {
            "colorbar": {
             "outlinewidth": 0,
             "ticks": ""
            },
            "type": "mesh3d"
           }
          ],
          "parcoords": [
           {
            "line": {
             "colorbar": {
              "outlinewidth": 0,
              "ticks": ""
             }
            },
            "type": "parcoords"
           }
          ],
          "pie": [
           {
            "automargin": true,
            "type": "pie"
           }
          ],
          "scatter": [
           {
            "fillpattern": {
             "fillmode": "overlay",
             "size": 10,
             "solidity": 0.2
            },
            "type": "scatter"
           }
          ],
          "scatter3d": [
           {
            "line": {
             "colorbar": {
              "outlinewidth": 0,
              "ticks": ""
             }
            },
            "marker": {
             "colorbar": {
              "outlinewidth": 0,
              "ticks": ""
             }
            },
            "type": "scatter3d"
           }
          ],
          "scattercarpet": [
           {
            "marker": {
             "colorbar": {
              "outlinewidth": 0,
              "ticks": ""
             }
            },
            "type": "scattercarpet"
           }
          ],
          "scattergeo": [
           {
            "marker": {
             "colorbar": {
              "outlinewidth": 0,
              "ticks": ""
             }
            },
            "type": "scattergeo"
           }
          ],
          "scattergl": [
           {
            "marker": {
             "colorbar": {
              "outlinewidth": 0,
              "ticks": ""
             }
            },
            "type": "scattergl"
           }
          ],
          "scattermapbox": [
           {
            "marker": {
             "colorbar": {
              "outlinewidth": 0,
              "ticks": ""
             }
            },
            "type": "scattermapbox"
           }
          ],
          "scatterpolar": [
           {
            "marker": {
             "colorbar": {
              "outlinewidth": 0,
              "ticks": ""
             }
            },
            "type": "scatterpolar"
           }
          ],
          "scatterpolargl": [
           {
            "marker": {
             "colorbar": {
              "outlinewidth": 0,
              "ticks": ""
             }
            },
            "type": "scatterpolargl"
           }
          ],
          "scatterternary": [
           {
            "marker": {
             "colorbar": {
              "outlinewidth": 0,
              "ticks": ""
             }
            },
            "type": "scatterternary"
           }
          ],
          "surface": [
           {
            "colorbar": {
             "outlinewidth": 0,
             "ticks": ""
            },
            "colorscale": [
             [
              0,
              "#0d0887"
             ],
             [
              0.1111111111111111,
              "#46039f"
             ],
             [
              0.2222222222222222,
              "#7201a8"
             ],
             [
              0.3333333333333333,
              "#9c179e"
             ],
             [
              0.4444444444444444,
              "#bd3786"
             ],
             [
              0.5555555555555556,
              "#d8576b"
             ],
             [
              0.6666666666666666,
              "#ed7953"
             ],
             [
              0.7777777777777778,
              "#fb9f3a"
             ],
             [
              0.8888888888888888,
              "#fdca26"
             ],
             [
              1,
              "#f0f921"
             ]
            ],
            "type": "surface"
           }
          ],
          "table": [
           {
            "cells": {
             "fill": {
              "color": "#EBF0F8"
             },
             "line": {
              "color": "white"
             }
            },
            "header": {
             "fill": {
              "color": "#C8D4E3"
             },
             "line": {
              "color": "white"
             }
            },
            "type": "table"
           }
          ]
         },
         "layout": {
          "annotationdefaults": {
           "arrowcolor": "#2a3f5f",
           "arrowhead": 0,
           "arrowwidth": 1
          },
          "autotypenumbers": "strict",
          "coloraxis": {
           "colorbar": {
            "outlinewidth": 0,
            "ticks": ""
           }
          },
          "colorscale": {
           "diverging": [
            [
             0,
             "#8e0152"
            ],
            [
             0.1,
             "#c51b7d"
            ],
            [
             0.2,
             "#de77ae"
            ],
            [
             0.3,
             "#f1b6da"
            ],
            [
             0.4,
             "#fde0ef"
            ],
            [
             0.5,
             "#f7f7f7"
            ],
            [
             0.6,
             "#e6f5d0"
            ],
            [
             0.7,
             "#b8e186"
            ],
            [
             0.8,
             "#7fbc41"
            ],
            [
             0.9,
             "#4d9221"
            ],
            [
             1,
             "#276419"
            ]
           ],
           "sequential": [
            [
             0,
             "#0d0887"
            ],
            [
             0.1111111111111111,
             "#46039f"
            ],
            [
             0.2222222222222222,
             "#7201a8"
            ],
            [
             0.3333333333333333,
             "#9c179e"
            ],
            [
             0.4444444444444444,
             "#bd3786"
            ],
            [
             0.5555555555555556,
             "#d8576b"
            ],
            [
             0.6666666666666666,
             "#ed7953"
            ],
            [
             0.7777777777777778,
             "#fb9f3a"
            ],
            [
             0.8888888888888888,
             "#fdca26"
            ],
            [
             1,
             "#f0f921"
            ]
           ],
           "sequentialminus": [
            [
             0,
             "#0d0887"
            ],
            [
             0.1111111111111111,
             "#46039f"
            ],
            [
             0.2222222222222222,
             "#7201a8"
            ],
            [
             0.3333333333333333,
             "#9c179e"
            ],
            [
             0.4444444444444444,
             "#bd3786"
            ],
            [
             0.5555555555555556,
             "#d8576b"
            ],
            [
             0.6666666666666666,
             "#ed7953"
            ],
            [
             0.7777777777777778,
             "#fb9f3a"
            ],
            [
             0.8888888888888888,
             "#fdca26"
            ],
            [
             1,
             "#f0f921"
            ]
           ]
          },
          "colorway": [
           "#636efa",
           "#EF553B",
           "#00cc96",
           "#ab63fa",
           "#FFA15A",
           "#19d3f3",
           "#FF6692",
           "#B6E880",
           "#FF97FF",
           "#FECB52"
          ],
          "font": {
           "color": "#2a3f5f"
          },
          "geo": {
           "bgcolor": "white",
           "lakecolor": "white",
           "landcolor": "#E5ECF6",
           "showlakes": true,
           "showland": true,
           "subunitcolor": "white"
          },
          "hoverlabel": {
           "align": "left"
          },
          "hovermode": "closest",
          "mapbox": {
           "style": "light"
          },
          "paper_bgcolor": "white",
          "plot_bgcolor": "#E5ECF6",
          "polar": {
           "angularaxis": {
            "gridcolor": "white",
            "linecolor": "white",
            "ticks": ""
           },
           "bgcolor": "#E5ECF6",
           "radialaxis": {
            "gridcolor": "white",
            "linecolor": "white",
            "ticks": ""
           }
          },
          "scene": {
           "xaxis": {
            "backgroundcolor": "#E5ECF6",
            "gridcolor": "white",
            "gridwidth": 2,
            "linecolor": "white",
            "showbackground": true,
            "ticks": "",
            "zerolinecolor": "white"
           },
           "yaxis": {
            "backgroundcolor": "#E5ECF6",
            "gridcolor": "white",
            "gridwidth": 2,
            "linecolor": "white",
            "showbackground": true,
            "ticks": "",
            "zerolinecolor": "white"
           },
           "zaxis": {
            "backgroundcolor": "#E5ECF6",
            "gridcolor": "white",
            "gridwidth": 2,
            "linecolor": "white",
            "showbackground": true,
            "ticks": "",
            "zerolinecolor": "white"
           }
          },
          "shapedefaults": {
           "line": {
            "color": "#2a3f5f"
           }
          },
          "ternary": {
           "aaxis": {
            "gridcolor": "white",
            "linecolor": "white",
            "ticks": ""
           },
           "baxis": {
            "gridcolor": "white",
            "linecolor": "white",
            "ticks": ""
           },
           "bgcolor": "#E5ECF6",
           "caxis": {
            "gridcolor": "white",
            "linecolor": "white",
            "ticks": ""
           }
          },
          "title": {
           "x": 0.05
          },
          "xaxis": {
           "automargin": true,
           "gridcolor": "white",
           "linecolor": "white",
           "ticks": "",
           "title": {
            "standoff": 15
           },
           "zerolinecolor": "white",
           "zerolinewidth": 2
          },
          "yaxis": {
           "automargin": true,
           "gridcolor": "white",
           "linecolor": "white",
           "ticks": "",
           "title": {
            "standoff": 15
           },
           "zerolinecolor": "white",
           "zerolinewidth": 2
          }
         }
        },
        "width": 900,
        "xaxis": {
         "anchor": "y",
         "domain": [
          0,
          1
         ],
         "range": [
          "2023-02-12T03:36:00",
          "2024-02-17T20:24:00"
         ],
         "type": "date"
        },
        "xaxis2": {
         "anchor": "y2",
         "domain": [
          0,
          1
         ],
         "range": [
          "2023-02-12T03:36:00",
          "2024-02-17T20:24:00"
         ],
         "type": "date"
        },
        "xaxis3": {
         "anchor": "y3",
         "domain": [
          0,
          1
         ],
         "range": [
          "2016-12-13T18:54:02.958904115",
          "2018-01-18T11:04:57.863013581"
         ],
         "tickformat": "%B %e",
         "type": "date"
        },
        "yaxis": {
         "anchor": "x",
         "domain": [
          0.7333333333333333,
          1
         ],
         "rangemode": "normal",
         "title": {
          "text": "trend"
         },
         "zerolinecolor": "#AAA"
        },
        "yaxis2": {
         "anchor": "x2",
         "domain": [
          0.36666666666666664,
          0.6333333333333333
         ],
         "rangemode": "tozero",
         "title": {
          "text": "extra_regressors_additive"
         },
         "zerolinecolor": "#AAA"
        },
        "yaxis3": {
         "anchor": "x3",
         "domain": [
          0,
          0.26666666666666666
         ],
         "title": {
          "text": "yearly"
         },
         "zerolinecolor": "#AAA"
        }
       }
      }
     },
     "metadata": {},
     "output_type": "display_data"
    }
   ],
   "source": [
    "############### Plot Prophet\n",
    "\n",
    "from prophet.plot import plot_plotly, plot_components_plotly\n",
    "\n",
    "# Plot the forecast\n",
    "fig1 = plot_plotly(model, predprophet)\n",
    "fig1.show()\n",
    "\n",
    "# Plot forecast components\n",
    "fig2 = plot_components_plotly(model, predprophet)\n",
    "fig2.show()"
   ]
  }
 ],
 "metadata": {
  "kernelspec": {
   "display_name": "Python 3",
   "language": "python",
   "name": "python3"
  },
  "language_info": {
   "codemirror_mode": {
    "name": "ipython",
    "version": 3
   },
   "file_extension": ".py",
   "mimetype": "text/x-python",
   "name": "python",
   "nbconvert_exporter": "python",
   "pygments_lexer": "ipython3",
   "version": "3.12.5"
  }
 },
 "nbformat": 4,
 "nbformat_minor": 2
}
