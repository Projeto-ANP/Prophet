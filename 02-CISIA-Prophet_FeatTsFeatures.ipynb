{
 "cells": [
  {
   "cell_type": "code",
   "execution_count": 1,
   "metadata": {},
   "outputs": [],
   "source": [
    "############# Libraries ##############\n",
    "\n",
    "from matplotlib import pyplot as plt\n",
    "import numpy as np\n",
    "import pandas as pd\n",
    "\n",
    "# Evaluation metrics\n",
    "from sklearn.metrics import mean_squared_error as mse\n",
    "from sklearn.metrics import mean_absolute_percentage_error as mape\n",
    "\n",
    "epislon = 1e-20  # Define a small epsilon value for division by zero cases\n",
    "\n",
    "def rmse(y_true, y_pred):\n",
    "  return np.sqrt(mse(y_true, y_pred))\n",
    "\n",
    "def mase(y_true, y_pred, y_baseline):\n",
    "    # Calcula o MAE do modelo\n",
    "    mae_pred = np.mean(np.abs(y_true - y_pred))\n",
    "    # Calcula o MAE do modelo baseline Persistent Window (i.e., últimas h observações antes do teste)\n",
    "    mae_naive = np.mean(np.abs(y_true - y_baseline))\n",
    "    result = mae_pred/mae_naive\n",
    "    return result\n",
    "\n",
    "def pbe(y_true, y_pred):\n",
    "  if np.sum(y_true)!=0:\n",
    "    return 100*(np.sum(y_true - y_pred)/np.sum(y_true))\n",
    "  else:\n",
    "    return 100*(np.sum(y_true - y_pred)/(np.sum(y_true) + epislon))\n",
    "\n",
    "def pocid(y_true, y_pred):\n",
    "  n = len(y_true)\n",
    "  D = [1 if (y_pred[i] - y_pred[i-1]) * (y_true[i] - y_true[i-1]) > 0 else 0 for i in range(1, n)]\n",
    "  POCID = 100 * np.sum(D) / (n-1)\n",
    "  return POCID\n",
    "\n",
    "def mcpm(rmse_result, mape_result, pocid_result):\n",
    "  er_result = 100 - pocid_result\n",
    "\n",
    "  A1 = (rmse_result * mape_result * np.sin((2*np.pi)/3))/2\n",
    "  A2 = (mape_result * er_result * np.sin((2*np.pi)/3))/2\n",
    "  A3 = (er_result * rmse_result * np.sin((2*np.pi)/3))/2\n",
    "  total = A1 + A2 + A3\n",
    "  return total\n",
    "\n",
    "def znorm(x):\n",
    "  if np.std(x) != 0: \n",
    "      x_znorm = (x - np.mean(x)) / np.std(x)\n",
    "  else:\n",
    "      x_znorm = (x - np.mean(x)) / (np.std(x) + epislon)\n",
    "  return x_znorm\n",
    "\n",
    "def znorm_reverse(x, mean_x, std_x):\n",
    "  x_denormalized = (np.array(x) * std_x) + mean_x\n",
    "  return x_denormalized\n",
    "\n",
    "def get_stats_norm(series, horizon, window):\n",
    "  last_subsequence = series[-(horizon+window):-horizon].values\n",
    "  last_mean = np.mean(last_subsequence)\n",
    "  last_std = np.std(last_subsequence)\n",
    "  return last_mean, last_std\n",
    "\n",
    "# Para predição de vendas por UF (mensal), será considerado horizon = 12\n",
    "# Para predição de vendas por município (anual), será considerado horizon = 1\n",
    "def train_test_split(data, horizon):\n",
    "  X = data.iloc[:,:-1] # features\n",
    "  y = data.iloc[:,-1] # target\n",
    "\n",
    "  X_train = X[:-horizon] # features train\n",
    "  X_test =  X[-horizon:] # features test\n",
    "\n",
    "  y_train = y[:-horizon] # target train\n",
    "  y_test = y[-horizon:] # target test\n",
    "  return X_train, X_test, y_train, y_test\n",
    "\n",
    "def recursive_multistep_forecasting(X_test, model, horizon):\n",
    "  # example é composto pelas últimas observações vistas\n",
    "  # na prática, é o pbeprimeiro exemplo do conjunto de teste\n",
    "  example = X_test.iloc[0].values.reshape(1,-1)\n",
    "\n",
    "  preds = []\n",
    "  for i in range(horizon):\n",
    "    pred = model.predict(example)[0]\n",
    "    preds.append(pred)\n",
    "\n",
    "    # Descartar o valor da primeira posição do vetor de características\n",
    "    example = example[:,1:]\n",
    "\n",
    "    # Adicionar o valor predito na última posição do vetor de características\n",
    "    example = np.append(example, pred)\n",
    "    example = example.reshape(1,-1)\n",
    "  return preds\n",
    "\n",
    "def baseline_mean(series, horizon):\n",
    "  # como as séries são normalizadas, esse baseline irá retornar uma reta próxima de zero\n",
    "  pred = np.repeat(np.mean(znorm(series[:-horizon])), horizon)\n",
    "  return pred\n",
    "\n",
    "def baseline_persistent(series, horizon):\n",
    "  return np.repeat(znorm(series[-2*horizon:-horizon]).values[-1], horizon)\n",
    "\n",
    "def baseline_persistent_window(series, horizon):\n",
    "  subsequence = znorm(series[-horizon*2:-horizon]).values\n",
    "  return subsequence\n",
    "\n",
    "def baseline_persistent_windowR(series, horizon):\n",
    "  subsequence2 = series[-horizon*2:-horizon].values\n",
    "  return subsequence2\n",
    "\n",
    "# Em geral, considera-se um tamanho de janela capaz de capturar um ciclo dos dados\n",
    "# Por exemplo, 12 observações no caso dos dados com frequência mensal\n",
    "def rolling_window(series, window):\n",
    "  data = []\n",
    "  for i in range(len(series)-window):\n",
    "    example = znorm(np.array(series[i:i+window+1]))\n",
    "    data.append(example)\n",
    "  df = pd.DataFrame(data)\n",
    "  return df\n"
   ]
  },
  {
   "cell_type": "code",
   "execution_count": 14,
   "metadata": {},
   "outputs": [],
   "source": [
    "############# DEFs ##############\n",
    "\n",
    "from prophet import Prophet\n",
    "import os\n",
    "import csv\n",
    "import tsfeatures\n",
    "\n",
    "def extract_estado(file_name):\n",
    "    parts = file_name.split('_')\n",
    "    estado = parts[1]\n",
    "    return estado\n",
    "\n",
    "def read_csv_files(folder_path):\n",
    "    estados = []\n",
    "    files = os.listdir(folder_path)\n",
    "    for file_name in files:\n",
    "        if file_name.endswith('.csv'):\n",
    "            file_path = os.path.join(folder_path, file_name)\n",
    "            with open(file_path, 'r', newline='') as csvfile:\n",
    "                reader = csv.reader(csvfile)\n",
    "                headers = next(reader)\n",
    "                estado = extract_estado(file_name)\n",
    "                estados.append(estado)\n",
    "                estados.sort()\n",
    "    return estados\n",
    "\n",
    "\n",
    "##########################################\n",
    "\n",
    "def rolling_window_prophet(series, window):\n",
    "  data = []\n",
    "  for i in range(len(series)-window):\n",
    "    example = znorm(np.array(series[i:i+window+1]))\n",
    "    # example = (np.array(series[i:i+window+1]))\n",
    "    data.append(example)\n",
    "  df = pd.DataFrame(data)\n",
    "  return df\n",
    "\n",
    "\n",
    "def rolling_window_real(series, window):\n",
    "  data = []\n",
    "  for i in range(len(series)-window):\n",
    "    # example = znorm(np.array(series[i:i+window+1]))\n",
    "    example = np.array(series[i:i+window+1])\n",
    "    data.append(example)\n",
    "  df = pd.DataFrame(data)\n",
    "  return df\n",
    "\n",
    "#########################################################\n",
    "\n",
    "\n",
    "def rolling_window_featureCatch22N(series, window):\n",
    "  data = []\n",
    "  for i in range(len(series)-window):\n",
    "      example = np.array(series[i:i+window])\n",
    "      new_elements = pycatch22.catch22_all(example)\n",
    "      data_feature = znorm(new_elements['values'])\n",
    "      data.append(data_feature)\n",
    "  df = pd.DataFrame(data)\n",
    "  return df\n",
    "\n",
    "def rolling_window_TsFeaturesN(out_window, window, freqF):\n",
    "  results=[]\n",
    "  for i in range(len(out_window)-window):\n",
    "      target_feat = out_window[i:window+i]\n",
    "      target_feat = pd.DataFrame(target_feat)\n",
    "      target_feat.insert(0, 'unique_id', 'D1')\n",
    "      target_feat.rename(columns={'m3': 'y'}, inplace=True)\n",
    "      result = tsfeatures.tsfeatures(target_feat, freq=freqF)\n",
    "      result = result.drop(columns=['unique_id'])\n",
    "      result = result.apply(znorm, axis=1)\n",
    "      result.fillna(0, inplace=True)\n",
    "      results = pd.concat([results, result], ignore_index=True)\n",
    "  return results\n",
    "\n",
    "#########################################################\n",
    "\n",
    "\n",
    "\n",
    "def recursive_multistep_forecasting_ProphetCatch22N(series, model, horizon, window,future_dates):\n",
    "    serieatu=series[:-horizon]\n",
    "    seriec = serieatu.tail(window)\n",
    "    mean_norm, std_norm = get_stats_norm(series, horizon, window)\n",
    "    predsreal = []\n",
    "    predprophet = pd.DataFrame()\n",
    "    for i in range(horizon):\n",
    "\n",
    "        example = np.array(seriec)\n",
    "        new_elements = pycatch22.catch22_all(example)\n",
    "        exemple_feature = znorm(new_elements['values'])\n",
    "        exemple_feature_df = pd.DataFrame(exemple_feature)\n",
    "        exemple_feature_df.fillna(0, inplace=True)\n",
    "\n",
    "        values = exemple_feature_df[0].tolist()\n",
    "        future_dates_copy = future_dates.copy()\n",
    "\n",
    "        num_columns_to_update = len(future_dates_copy.columns) - 1  # Exclude the 'ds' column\n",
    "        if len(values) != num_columns_to_update:\n",
    "            raise ValueError(\"Number of values does not match the number of columns\")\n",
    "\n",
    "        future_dates_copy.iloc[:, 1:] = values\n",
    "        future_dates_copy = pd.DataFrame(future_dates_copy)\n",
    "\n",
    "        predn = model.predict(future_dates_copy)\n",
    "        predprophet = pd.concat([predprophet, predn], ignore_index=True)\n",
    "        future_dates['ds'] = future_dates['ds'] + pd.DateOffset(months=1)\n",
    "        pred = znorm_reverse(predn['yhat'], mean_norm, std_norm)\n",
    "        predsreal.append(pred)\n",
    "        series2 = seriec[1:]\n",
    "        seriec = np.append(series2, pred)\n",
    "\n",
    "    return predsreal, predprophet\n",
    "\n",
    "\n",
    "def recursive_multistep_forecasting_TsFeaturesN(series, model, horizon, freqF, window):\n",
    "    serieatu=series[:-horizon]\n",
    "    seriec = serieatu.tail(2*window).reset_index(drop=True)\n",
    "    mean_norm, std_norm = get_stats_norm(series, horizon, window)\n",
    "    predsreal = []  \n",
    "    for i in range(horizon):\n",
    "        out_window2 = rolling_window_real(seriec,window)\n",
    "        out_window2.rename(columns={window: 'y'}, inplace=True)\n",
    "        example = out_window2\n",
    "        example2 = pd.DataFrame(example)\n",
    "        example2.insert(0, 'unique_id', 'D1')\n",
    "        result = tsfeatures.tsfeatures(example2, freq=freqF)\n",
    "        result = result.drop(columns=['unique_id'])\n",
    "        result.apply(znorm)\n",
    "        result.fillna(0, inplace=True)\n",
    "        result.columns = range(result.shape[1])\n",
    "        predN = model.predict(result)\n",
    "        pred = znorm_reverse(predN, mean_norm, std_norm)    \n",
    "        predsreal.append(pred)\n",
    "        series2 = seriec[1:]\n",
    "        seriec = np.append(series2, pred)\n",
    "        preds2 = [val[0] for val in predsreal]\n",
    "\n",
    "    return preds2\n"
   ]
  },
  {
   "cell_type": "code",
   "execution_count": 12,
   "metadata": {},
   "outputs": [
    {
     "ename": "KeyboardInterrupt",
     "evalue": "",
     "output_type": "error",
     "traceback": [
      "\u001b[1;31m---------------------------------------------------------------------------\u001b[0m",
      "\u001b[1;31mKeyboardInterrupt\u001b[0m                         Traceback (most recent call last)",
      "Cell \u001b[1;32mIn[12], line 40\u001b[0m\n\u001b[0;32m     38\u001b[0m target_feat\u001b[38;5;241m.\u001b[39minsert(\u001b[38;5;241m0\u001b[39m, \u001b[38;5;124m'\u001b[39m\u001b[38;5;124munique_id\u001b[39m\u001b[38;5;124m'\u001b[39m, \u001b[38;5;124m'\u001b[39m\u001b[38;5;124mD1\u001b[39m\u001b[38;5;124m'\u001b[39m)\n\u001b[0;32m     39\u001b[0m target_feat\u001b[38;5;241m.\u001b[39mrename(columns\u001b[38;5;241m=\u001b[39m{\u001b[38;5;124m'\u001b[39m\u001b[38;5;124mm3\u001b[39m\u001b[38;5;124m'\u001b[39m: \u001b[38;5;124m'\u001b[39m\u001b[38;5;124my\u001b[39m\u001b[38;5;124m'\u001b[39m}, inplace\u001b[38;5;241m=\u001b[39m\u001b[38;5;28;01mTrue\u001b[39;00m)\n\u001b[1;32m---> 40\u001b[0m result \u001b[38;5;241m=\u001b[39m \u001b[43mtsfeatures\u001b[49m\u001b[38;5;241;43m.\u001b[39;49m\u001b[43mtsfeatures\u001b[49m\u001b[43m(\u001b[49m\u001b[43mtarget_feat\u001b[49m\u001b[43m,\u001b[49m\u001b[43m \u001b[49m\u001b[43mfreq\u001b[49m\u001b[38;5;241;43m=\u001b[39;49m\u001b[43mfreqF\u001b[49m\u001b[43m)\u001b[49m\n\u001b[0;32m     41\u001b[0m result \u001b[38;5;241m=\u001b[39m result\u001b[38;5;241m.\u001b[39mdrop(columns\u001b[38;5;241m=\u001b[39m[\u001b[38;5;124m'\u001b[39m\u001b[38;5;124munique_id\u001b[39m\u001b[38;5;124m'\u001b[39m])\n\u001b[0;32m     42\u001b[0m result \u001b[38;5;241m=\u001b[39m result\u001b[38;5;241m.\u001b[39mapply(znorm, axis\u001b[38;5;241m=\u001b[39m\u001b[38;5;241m1\u001b[39m)\n",
      "File \u001b[1;32m~\\AppData\\Local\\Packages\\PythonSoftwareFoundation.Python.3.12_qbz5n2kfra8p0\\LocalCache\\local-packages\\Python312\\site-packages\\tsfeatures\\tsfeatures.py:971\u001b[0m, in \u001b[0;36mtsfeatures\u001b[1;34m(ts, freq, features, dict_freqs, scale, threads)\u001b[0m\n\u001b[0;32m    967\u001b[0m partial_get_feats \u001b[38;5;241m=\u001b[39m partial(_get_feats, freq\u001b[38;5;241m=\u001b[39mfreq, scale\u001b[38;5;241m=\u001b[39mscale,\n\u001b[0;32m    968\u001b[0m                             features\u001b[38;5;241m=\u001b[39mfeatures, dict_freqs\u001b[38;5;241m=\u001b[39mdict_freqs)\n\u001b[0;32m    970\u001b[0m \u001b[38;5;28;01mwith\u001b[39;00m Pool(threads) \u001b[38;5;28;01mas\u001b[39;00m pool:\n\u001b[1;32m--> 971\u001b[0m     ts_features \u001b[38;5;241m=\u001b[39m \u001b[43mpool\u001b[49m\u001b[38;5;241;43m.\u001b[39;49m\u001b[43mstarmap\u001b[49m\u001b[43m(\u001b[49m\u001b[43mpartial_get_feats\u001b[49m\u001b[43m,\u001b[49m\u001b[43m \u001b[49m\u001b[43mts\u001b[49m\u001b[38;5;241;43m.\u001b[39;49m\u001b[43mgroupby\u001b[49m\u001b[43m(\u001b[49m\u001b[38;5;124;43m'\u001b[39;49m\u001b[38;5;124;43munique_id\u001b[39;49m\u001b[38;5;124;43m'\u001b[39;49m\u001b[43m)\u001b[49m\u001b[43m)\u001b[49m\n\u001b[0;32m    973\u001b[0m ts_features \u001b[38;5;241m=\u001b[39m pd\u001b[38;5;241m.\u001b[39mconcat(ts_features)\u001b[38;5;241m.\u001b[39mrename_axis(\u001b[38;5;124m'\u001b[39m\u001b[38;5;124munique_id\u001b[39m\u001b[38;5;124m'\u001b[39m)\n\u001b[0;32m    974\u001b[0m ts_features \u001b[38;5;241m=\u001b[39m ts_features\u001b[38;5;241m.\u001b[39mreset_index()\n",
      "File \u001b[1;32mC:\\Program Files\\WindowsApps\\PythonSoftwareFoundation.Python.3.12_3.12.1776.0_x64__qbz5n2kfra8p0\\Lib\\multiprocessing\\pool.py:375\u001b[0m, in \u001b[0;36mPool.starmap\u001b[1;34m(self, func, iterable, chunksize)\u001b[0m\n\u001b[0;32m    369\u001b[0m \u001b[38;5;28;01mdef\u001b[39;00m \u001b[38;5;21mstarmap\u001b[39m(\u001b[38;5;28mself\u001b[39m, func, iterable, chunksize\u001b[38;5;241m=\u001b[39m\u001b[38;5;28;01mNone\u001b[39;00m):\n\u001b[0;32m    370\u001b[0m \u001b[38;5;250m    \u001b[39m\u001b[38;5;124;03m'''\u001b[39;00m\n\u001b[0;32m    371\u001b[0m \u001b[38;5;124;03m    Like `map()` method but the elements of the `iterable` are expected to\u001b[39;00m\n\u001b[0;32m    372\u001b[0m \u001b[38;5;124;03m    be iterables as well and will be unpacked as arguments. Hence\u001b[39;00m\n\u001b[0;32m    373\u001b[0m \u001b[38;5;124;03m    `func` and (a, b) becomes func(a, b).\u001b[39;00m\n\u001b[0;32m    374\u001b[0m \u001b[38;5;124;03m    '''\u001b[39;00m\n\u001b[1;32m--> 375\u001b[0m     \u001b[38;5;28;01mreturn\u001b[39;00m \u001b[38;5;28;43mself\u001b[39;49m\u001b[38;5;241;43m.\u001b[39;49m\u001b[43m_map_async\u001b[49m\u001b[43m(\u001b[49m\u001b[43mfunc\u001b[49m\u001b[43m,\u001b[49m\u001b[43m \u001b[49m\u001b[43miterable\u001b[49m\u001b[43m,\u001b[49m\u001b[43m \u001b[49m\u001b[43mstarmapstar\u001b[49m\u001b[43m,\u001b[49m\u001b[43m \u001b[49m\u001b[43mchunksize\u001b[49m\u001b[43m)\u001b[49m\u001b[38;5;241;43m.\u001b[39;49m\u001b[43mget\u001b[49m\u001b[43m(\u001b[49m\u001b[43m)\u001b[49m\n",
      "File \u001b[1;32mC:\\Program Files\\WindowsApps\\PythonSoftwareFoundation.Python.3.12_3.12.1776.0_x64__qbz5n2kfra8p0\\Lib\\multiprocessing\\pool.py:768\u001b[0m, in \u001b[0;36mApplyResult.get\u001b[1;34m(self, timeout)\u001b[0m\n\u001b[0;32m    767\u001b[0m \u001b[38;5;28;01mdef\u001b[39;00m \u001b[38;5;21mget\u001b[39m(\u001b[38;5;28mself\u001b[39m, timeout\u001b[38;5;241m=\u001b[39m\u001b[38;5;28;01mNone\u001b[39;00m):\n\u001b[1;32m--> 768\u001b[0m     \u001b[38;5;28;43mself\u001b[39;49m\u001b[38;5;241;43m.\u001b[39;49m\u001b[43mwait\u001b[49m\u001b[43m(\u001b[49m\u001b[43mtimeout\u001b[49m\u001b[43m)\u001b[49m\n\u001b[0;32m    769\u001b[0m     \u001b[38;5;28;01mif\u001b[39;00m \u001b[38;5;129;01mnot\u001b[39;00m \u001b[38;5;28mself\u001b[39m\u001b[38;5;241m.\u001b[39mready():\n\u001b[0;32m    770\u001b[0m         \u001b[38;5;28;01mraise\u001b[39;00m \u001b[38;5;167;01mTimeoutError\u001b[39;00m\n",
      "File \u001b[1;32mC:\\Program Files\\WindowsApps\\PythonSoftwareFoundation.Python.3.12_3.12.1776.0_x64__qbz5n2kfra8p0\\Lib\\multiprocessing\\pool.py:765\u001b[0m, in \u001b[0;36mApplyResult.wait\u001b[1;34m(self, timeout)\u001b[0m\n\u001b[0;32m    764\u001b[0m \u001b[38;5;28;01mdef\u001b[39;00m \u001b[38;5;21mwait\u001b[39m(\u001b[38;5;28mself\u001b[39m, timeout\u001b[38;5;241m=\u001b[39m\u001b[38;5;28;01mNone\u001b[39;00m):\n\u001b[1;32m--> 765\u001b[0m     \u001b[38;5;28;43mself\u001b[39;49m\u001b[38;5;241;43m.\u001b[39;49m\u001b[43m_event\u001b[49m\u001b[38;5;241;43m.\u001b[39;49m\u001b[43mwait\u001b[49m\u001b[43m(\u001b[49m\u001b[43mtimeout\u001b[49m\u001b[43m)\u001b[49m\n",
      "File \u001b[1;32mC:\\Program Files\\WindowsApps\\PythonSoftwareFoundation.Python.3.12_3.12.1776.0_x64__qbz5n2kfra8p0\\Lib\\threading.py:655\u001b[0m, in \u001b[0;36mEvent.wait\u001b[1;34m(self, timeout)\u001b[0m\n\u001b[0;32m    653\u001b[0m signaled \u001b[38;5;241m=\u001b[39m \u001b[38;5;28mself\u001b[39m\u001b[38;5;241m.\u001b[39m_flag\n\u001b[0;32m    654\u001b[0m \u001b[38;5;28;01mif\u001b[39;00m \u001b[38;5;129;01mnot\u001b[39;00m signaled:\n\u001b[1;32m--> 655\u001b[0m     signaled \u001b[38;5;241m=\u001b[39m \u001b[38;5;28;43mself\u001b[39;49m\u001b[38;5;241;43m.\u001b[39;49m\u001b[43m_cond\u001b[49m\u001b[38;5;241;43m.\u001b[39;49m\u001b[43mwait\u001b[49m\u001b[43m(\u001b[49m\u001b[43mtimeout\u001b[49m\u001b[43m)\u001b[49m\n\u001b[0;32m    656\u001b[0m \u001b[38;5;28;01mreturn\u001b[39;00m signaled\n",
      "File \u001b[1;32mC:\\Program Files\\WindowsApps\\PythonSoftwareFoundation.Python.3.12_3.12.1776.0_x64__qbz5n2kfra8p0\\Lib\\threading.py:355\u001b[0m, in \u001b[0;36mCondition.wait\u001b[1;34m(self, timeout)\u001b[0m\n\u001b[0;32m    353\u001b[0m \u001b[38;5;28;01mtry\u001b[39;00m:    \u001b[38;5;66;03m# restore state no matter what (e.g., KeyboardInterrupt)\u001b[39;00m\n\u001b[0;32m    354\u001b[0m     \u001b[38;5;28;01mif\u001b[39;00m timeout \u001b[38;5;129;01mis\u001b[39;00m \u001b[38;5;28;01mNone\u001b[39;00m:\n\u001b[1;32m--> 355\u001b[0m         \u001b[43mwaiter\u001b[49m\u001b[38;5;241;43m.\u001b[39;49m\u001b[43macquire\u001b[49m\u001b[43m(\u001b[49m\u001b[43m)\u001b[49m\n\u001b[0;32m    356\u001b[0m         gotit \u001b[38;5;241m=\u001b[39m \u001b[38;5;28;01mTrue\u001b[39;00m\n\u001b[0;32m    357\u001b[0m     \u001b[38;5;28;01melse\u001b[39;00m:\n",
      "\u001b[1;31mKeyboardInterrupt\u001b[0m: "
     ]
    }
   ],
   "source": [
    "########### Prophet TEST ##################\n",
    "\n",
    "horizon = 12\n",
    "\n",
    "###########################################################\n",
    "######### Considerar Janelas > 36 para o Prophet ##########\n",
    "###########################################################\n",
    "\n",
    "window = 12\n",
    "freqF = 12\n",
    "\n",
    "products = sorted([name for name in os.listdir('./uf/') if os.path.isdir(os.path.join('./uf/', name))])\n",
    "\n",
    "product = 'etanolhidratado'\n",
    "estado = 'ac'\n",
    "\n",
    "# for product in products:\n",
    "#     folder_path = f'./uf/{product}/'\n",
    "#     # Read the CSV files and extract estado names\n",
    "#     estados = read_csv_files(folder_path)\n",
    "#     for estado in estados:\n",
    "\n",
    "df = pd.read_csv(f\"./uf/{product}/mensal_{estado}_{product}.csv\", header=0, sep=\";\")\n",
    "\n",
    "# Convert timestamp to datetime\n",
    "df['timestamp'] = pd.to_datetime(df['timestamp'].astype(str), format='%Y%m')\n",
    "series = df[\"m3\"]\n",
    "\n",
    "TsFeatures = rolling_window_TsFeaturesN(series, window, freqF)\n",
    "\n",
    "out_window = series\n",
    "\n",
    "# def rolling_window_TsFeaturesN(out_window, window, freqF):\n",
    "results=[]\n",
    "for i in range(len(out_window)-window):\n",
    "    target_feat = out_window[i:window+i]\n",
    "    target_feat = pd.DataFrame(target_feat)\n",
    "    target_feat.insert(0, 'unique_id', 'D1')\n",
    "    target_feat.rename(columns={'m3': 'y'}, inplace=True)\n",
    "    result = tsfeatures.tsfeatures(target_feat, freq=freqF)\n",
    "    result = result.drop(columns=['unique_id'])\n",
    "    result = result.apply(znorm, axis=1)\n",
    "    results.append((result.values))\n",
    "#   return results\n"
   ]
  },
  {
   "cell_type": "code",
   "execution_count": 13,
   "metadata": {},
   "outputs": [
    {
     "data": {
      "text/plain": [
       "[array([[-0.2177643 ,  2.26545515, -3.2702678 , -0.27561255,         nan,\n",
       "                 nan,         nan, -0.32075462, -0.10523713,  2.26545515,\n",
       "         -0.32075462, -0.32075462, -0.32075462, -0.32075462, -0.27329948,\n",
       "         -0.2557103 , -0.10523713,  2.04993767,  1.40338523,         nan,\n",
       "         -0.16153865, -0.21723034,         nan,  0.00862856, -0.32075462,\n",
       "         -0.32075461, -0.32075462,         nan,         nan,         nan,\n",
       "                 nan,  0.11028035, -0.14341784,  1.40338523,         nan,\n",
       "         -0.37186589, -0.26606671, -0.45068703, -0.1846479 , -0.44836521,\n",
       "         -0.19354218,         nan]]),\n",
       " array([[-0.19926709,  2.40801161, -3.22391967, -0.28829522,         nan,\n",
       "                 nan,         nan, -0.32146892, -0.09401221,  2.40801161,\n",
       "         -0.32146892, -0.32146892, -0.32146892, -0.32146892, -0.35266473,\n",
       "         -0.28569625, -0.09401221,  1.95309818,  1.27072805,         nan,\n",
       "         -0.19510467, -0.07619003,         nan, -0.02072612, -0.32146892,\n",
       "         -0.32146891, -0.32146892,         nan,         nan,         nan,\n",
       "                 nan,  0.1334445 , -0.13477199,  1.27072805,         nan,\n",
       "         -0.37036417, -0.26752769, -0.45019276, -0.20412698, -0.49380146,\n",
       "         -0.12159741,         nan]]),\n",
       " array([[-0.2182827 ,  2.27267673, -3.05359602, -0.31689389,         nan,\n",
       "                 nan,         nan, -0.33999765, -0.12227479,  2.27267673,\n",
       "         -0.33999765, -0.33999765, -0.33999765, -0.33999765, -0.35755808,\n",
       "         -0.24605972, -0.12227479,  1.61950814,  2.27267673,         nan,\n",
       "         -0.23549187, -0.12394144,         nan, -0.0671218 , -0.33999765,\n",
       "         -0.33999765, -0.33999765,         nan,         nan,         nan,\n",
       "                 nan,  0.09544808, -0.15302358,  1.1840624 ,         nan,\n",
       "         -0.37372943, -0.28019137, -0.46173475, -0.22078004, -0.50779332,\n",
       "         -0.13632001,         nan]]),\n",
       " array([[-0.21119469,  2.4169396 , -3.0026429 , -0.31500105,         nan,\n",
       "                 nan,         nan, -0.34109104, -0.11125516,  2.4169396 ,\n",
       "         -0.34109104, -0.34109104, -0.34109104, -0.34109104, -0.37171906,\n",
       "         -0.31525551, -0.11125516,  1.49759605,  2.18710372,         nan,\n",
       "         -0.22073101, -0.10899781,         nan, -0.06625871, -0.34109104,\n",
       "         -0.34109104, -0.34109104,         nan,         nan,         nan,\n",
       "                 nan,  0.11858073, -0.15642065,  1.03792428,         nan,\n",
       "         -0.35356204, -0.29239357, -0.4724147 , -0.20648459, -0.51759696,\n",
       "         -0.11317205,         nan]]),\n",
       " array([[-0.21559877,  2.43054864, -3.1402849 , -0.3177932 ,         nan,\n",
       "                 nan,         nan, -0.34297864, -0.11185136,  2.43054864,\n",
       "         -0.34297864, -0.34297864, -0.34297864, -0.34297864, -0.31771549,\n",
       "         -0.27474612, -0.11185136,  1.27491227,  1.96829409,         nan,\n",
       "         -0.20021111, -0.15611486,         nan,  0.21613716, -0.34297864,\n",
       "         -0.34297863, -0.34297864,         nan,         nan,         nan,\n",
       "                 nan,  0.11927591, -0.16433663,  1.27491227,         nan,\n",
       "         -0.3625732 , -0.28839429, -0.46440108, -0.21437079, -0.51656603,\n",
       "         -0.11399073,         nan]]),\n",
       " array([[-0.19402984,  2.35635955, -3.13900117, -0.25256279,         nan,\n",
       "                 nan,         nan, -0.323522  , -0.10019854,  2.35635955,\n",
       "         -0.323522  , -0.323522  , -0.323522  , -0.323522  , -0.32584969,\n",
       "         -0.28620558, -0.10019854,  1.01641877,  2.35635955,         nan,\n",
       "         -0.21777083, -0.16785628,         nan, -0.06925177, -0.323522  ,\n",
       "         -0.323522  , -0.323522  ,         nan,         nan,         nan,\n",
       "                 nan,  0.12312492, -0.17326092,  1.23974224,         nan,\n",
       "         -0.33523343, -0.26533094, -0.43307022, -0.18959985, -0.46970188,\n",
       "         -0.14106632,         nan]]),\n",
       " array([[-0.18276267,  2.43107891, -3.1791804 , -0.25687293,         nan,\n",
       "                 nan,         nan, -0.32234739, -0.09289519,  2.43107891,\n",
       "         -0.32234739, -0.32234739, -0.32234739, -0.32234739, -0.36911175,\n",
       "         -0.23736158, -0.09289519,  0.82491357,  2.20162672,         nan,\n",
       "         -0.18465859, -0.18535158,         nan, -0.02754344, -0.32234739,\n",
       "         -0.32234738, -0.32234738,         nan,         nan,         nan,\n",
       "                 nan,  0.136557  , -0.16994294,  1.28381796,         nan,\n",
       "         -0.33486178, -0.25796122, -0.46266736, -0.1198899 , -0.47019241,\n",
       "         -0.10614506,         nan]]),\n",
       " array([[-0.16999622,  2.54370967, -3.09938535, -0.28117837,         nan,\n",
       "                 nan,         nan, -0.32455196, -0.08553016,  2.54370967,\n",
       "         -0.32455196, -0.32455196, -0.32455196, -0.32455196, -0.40724486,\n",
       "         -0.22860846, -0.08553016,  0.63153525,  2.06566606,         nan,\n",
       "         -0.2449974 , -0.09160188,         nan, -0.06206512, -0.32455196,\n",
       "         -0.32455196, -0.32455196,         nan,         nan,         nan,\n",
       "                 nan,  0.15349164, -0.16211555,  1.34860065,         nan,\n",
       "         -0.33329312, -0.27169131, -0.44523808, -0.17387793, -0.49688801,\n",
       "         -0.05105529,         nan]]),\n",
       " array([[-0.21838945,  2.4329847 , -2.55328582, -0.34440387,         nan,\n",
       "                 nan,         nan, -0.37407062, -0.14014934,  2.4329847 ,\n",
       "         -0.37407062, -0.37407062, -0.37407062, -0.37407062, -0.41785892,\n",
       "         -0.32508282, -0.14014934,  2.4329847 ,  1.73122087,         nan,\n",
       "         -0.32195775, -0.19819175,         nan, -0.29680555, -0.37407062,\n",
       "         -0.37407061, -0.37407062,         nan,         nan,         nan,\n",
       "                 nan,  0.09377194, -0.19797913,  1.02945704,         nan,\n",
       "         -0.35192063, -0.29885499, -0.45336171, -0.2479571 , -0.53568357,\n",
       "         -0.11880724,         nan]]),\n",
       " array([[-0.18938575,  2.51375526, -2.782539  , -0.3177321 ,         nan,\n",
       "                 nan,         nan, -0.34823706, -0.1097377 ,  2.51375526,\n",
       "         -0.34823706, -0.34823706, -0.34823706, -0.34823706, -0.3999604 ,\n",
       "         -0.29584065, -0.1097377 ,  2.2752559 ,  1.55975782,         nan,\n",
       "         -0.25350335, -0.24091743,         nan, -0.28297214, -0.34823706,\n",
       "         -0.34823705, -0.34823706,         nan,         nan,         nan,\n",
       "                 nan,  0.12876166, -0.16724647,  0.84425974,         nan,\n",
       "         -0.32352922, -0.27070207, -0.44729645, -0.20634366, -0.46461598,\n",
       "         -0.18758911,         nan]]),\n",
       " array([[-0.15895423,  2.62426251, -2.8624767 , -0.30816362,         nan,\n",
       "                 nan,         nan, -0.34469299, -0.09728003,  2.62426251,\n",
       "         -0.34469299, -0.34469299, -0.34469299, -0.34469299, -0.35432696,\n",
       "         -0.26431   , -0.09728003,  2.12943659,  1.38719772,         nan,\n",
       "         -0.2734231 , -0.14193772,         nan, -0.19508757, -0.34469299,\n",
       "         -0.34469298, -0.34469299,         nan,         nan,         nan,\n",
       "                 nan,  0.15013293, -0.1638606 ,  0.64495884,         nan,\n",
       "         -0.30839148, -0.25795887, -0.44476193, -0.23117472, -0.50963541,\n",
       "         -0.13368423,         nan]]),\n",
       " array([[-0.19251039,  2.38799019, -2.8399079 , -0.32222046,         nan,\n",
       "                 nan,         nan, -0.34539324, -0.11761129,  2.38799019,\n",
       "         -0.34539324, -0.34539324, -0.34539324, -0.34539324, -0.42251427,\n",
       "         -0.24198434, -0.11761129,  1.70464433,  2.38799019,         nan,\n",
       "         -0.26160366, -0.21631596,         nan, -0.32876363, -0.34539324,\n",
       "         -0.34539324, -0.34539324,         nan,         nan,         nan,\n",
       "                 nan,  0.11017067, -0.15754961,  0.79351652,         nan,\n",
       "         -0.33926169, -0.25763608, -0.4368316 , -0.18955243, -0.5100786 ,\n",
       "         -0.05720296,         nan]]),\n",
       " array([[-1.76980818e-01,  2.44588880e+00, -2.99708956e+00,\n",
       "         -3.14551922e-01,             nan,             nan,\n",
       "                     nan, -3.41186473e-01, -1.08930200e-01,\n",
       "          2.44588880e+00, -3.41186473e-01, -3.41186473e-01,\n",
       "         -3.41186473e-01, -3.41186473e-01, -4.27885805e-01,\n",
       "         -1.80435359e-01, -1.08930200e-01,  1.51686371e+00,\n",
       "          2.21363252e+00,             nan, -1.83895818e-01,\n",
       "         -1.81225335e-01,             nan, -3.24128748e-01,\n",
       "         -3.41186473e-01, -3.41186469e-01, -3.41186473e-01,\n",
       "                     nan,             nan,             nan,\n",
       "                     nan,  1.23326072e-01, -1.48927845e-01,\n",
       "          8.20094889e-01,             nan, -3.42448235e-01,\n",
       "         -2.56502676e-01, -4.66080729e-01, -1.13988719e-01,\n",
       "         -5.05771129e-01,  1.57009258e-03,             nan]]),\n",
       " array([[-0.16738383,  2.49530999, -3.0511756 , -0.31818744,         nan,\n",
       "                 nan,         nan, -0.3446096 , -0.10794964,  2.49530999,\n",
       "         -0.3446096 , -0.3446096 , -0.3446096 , -0.3446096 , -0.43681174,\n",
       "         -0.28424915, -0.10794964,  1.31201016,  2.02199006,         nan,\n",
       "         -0.18017855, -0.07197518,         nan, -0.32432823, -0.3446096 ,\n",
       "         -0.3446096 , -0.3446096 ,         nan,         nan,         nan,\n",
       "                 nan,  0.12871033, -0.14966901,  1.07535019,         nan,\n",
       "         -0.3463918 , -0.25501872, -0.47853316, -0.06765918, -0.53337877,\n",
       "          0.10903576,         nan]]),\n",
       " array([[-0.15397986,  2.57814495, -3.1186415 , -0.31106651,         nan,\n",
       "                 nan,         nan, -0.33425103, -0.09155136,  2.57814495,\n",
       "         -0.33425103, -0.33425103, -0.33425103, -0.33425103, -0.37397203,\n",
       "         -0.22219781, -0.09155136,  1.12194696,  1.85004595,         nan,\n",
       "         -0.16375652, -0.05814582,         nan, -0.27843437, -0.33425103,\n",
       "         -0.33425102, -0.33425103,         nan,         nan,         nan,\n",
       "                 nan, -0.09155136, -0.14775962,  1.12194696,         nan,\n",
       "         -0.33932098, -0.21817743, -0.47172876, -0.04703475, -0.52700343,\n",
       "          0.12965191,         nan]]),\n",
       " array([[-0.14410482,  2.67216676, -3.21149433, -0.301282  ,         nan,\n",
       "                 nan,         nan, -0.32379232, -0.07412906,  2.67216676,\n",
       "         -0.32379232, -0.32379232, -0.32379232, -0.32379232, -0.31420575,\n",
       "         -0.22881891, -0.07412906,  0.92452397,  1.67351374,         nan,\n",
       "         -0.13205486, -0.10979511,         nan, -0.27428918, -0.32379232,\n",
       "         -0.32379231, -0.32379232,         nan,         nan,         nan,\n",
       "                 nan,  0.1755342 , -0.1308038 ,  0.92452397,         nan,\n",
       "         -0.32777454, -0.20778939, -0.45623049, -0.05157994, -0.50951622,\n",
       "          0.09590662,         nan]]),\n",
       " array([[-0.1375186 ,  2.75849274, -3.17972762, -0.3076958 ,         nan,\n",
       "                 nan,         nan, -0.33020223, -0.07281098,  2.75849274,\n",
       "         -0.33020223, -0.33020223, -0.33020223, -0.33020223, -0.30621562,\n",
       "         -0.16407882, -0.07281098,  0.69936276,  1.4715365 ,         nan,\n",
       "         -0.1762424 , -0.12605745,         nan, -0.23056743, -0.33020223,\n",
       "         -0.33020223, -0.33020223,         nan,         nan,         nan,\n",
       "                 nan,  0.44197151, -0.13028302,  0.95675401,         nan,\n",
       "         -0.33038392, -0.20435457, -0.45519213, -0.09361043, -0.54477757,\n",
       "          0.08733491,         nan]]),\n",
       " array([[-0.11720306,  2.69407328, -3.40529061, -0.24428424,         nan,\n",
       "                 nan,         nan, -0.29046254, -0.04175122,  2.69407328,\n",
       "         -0.29046254, -0.29046254, -0.29046254, -0.29046254, -0.33678367,\n",
       "         -0.21191248, -0.04175122,  0.45567142,  1.20180537,         nan,\n",
       "         -0.13887808, -0.06676258,         nan, -0.20337497, -0.29046254,\n",
       "         -0.29046253, -0.29046254,         nan,         nan,         nan,\n",
       "                 nan,  0.45567142, -0.08023563,  1.20180537,         nan,\n",
       "         -0.3053026 , -0.23932099, -0.43758733, -0.09322006, -0.49526626,\n",
       "          0.0795251 ,         nan]]),\n",
       " array([[-0.12072055,  2.68610962, -3.31843068, -0.25253037,         nan,\n",
       "                 nan,         nan, -0.29705311, -0.04845622,  2.68610962,\n",
       "         -0.29705311, -0.29705311, -0.29705311, -0.29705311, -0.23472329,\n",
       "         -0.18379106, -0.04845622,  0.20014068,  0.94593136,         nan,\n",
       "         -0.15032227, -0.13668734,         nan, -0.18719772, -0.29705311,\n",
       "         -0.29705311, -0.29705311,         nan,         nan,         nan,\n",
       "                 nan,  0.44873757, -0.0981534 ,  1.69172204,         nan,\n",
       "         -0.31405794, -0.22555926, -0.45884233, -0.03364371, -0.48411136,\n",
       "          0.01335771,         nan]]),\n",
       " array([[-0.13942614,  2.77173306, -3.06831205, -0.2833749 ,         nan,\n",
       "                 nan,         nan, -0.32512375, -0.06705235,  2.77173306,\n",
       "         -0.32512375, -0.32512375, -0.32512375, -0.32512375, -0.45908237,\n",
       "         -0.23857772, -0.06705235, -0.06705235,  0.70716185,         nan,\n",
       "         -0.20481318, -0.08660831,         nan,  0.70517884, -0.32512375,\n",
       "         -0.32512375, -0.32512375,         nan,         nan,         nan,\n",
       "                 nan,  0.44909045, -0.11860812,  1.73944746,         nan,\n",
       "         -0.35767828, -0.24295456, -0.47361958, -0.11110897, -0.53036311,\n",
       "         -0.02767035,         nan]]),\n",
       " array([[-0.1348665 ,  2.49147436, -3.68181229, -0.22014698,         nan,\n",
       "                 nan,         nan, -0.28000641, -0.04904968,  2.49147436,\n",
       "         -0.28000641, -0.28000641, -0.28000641, -0.28000641, -0.27884435,\n",
       "         -0.03188219, -0.04904968,  0.18190705,  0.41286378,         nan,\n",
       "         -0.11203624, -0.0359935 ,         nan,  1.22083688, -0.28000641,\n",
       "         -0.28000641, -0.28000641,         nan,         nan,         nan,\n",
       "                 nan,  0.41286378, -0.08081921,  1.33669071,         nan,\n",
       "         -0.35255279, -0.21788507, -0.43638395, -0.10672446, -0.44913872,\n",
       "         -0.07087408,         nan]]),\n",
       " array([[-0.06836199,  2.36355539, -4.02009539, -0.14730775,         nan,\n",
       "                 nan,         nan, -0.2016906 ,  0.0120799 ,  2.36355539,\n",
       "         -0.2016906 , -0.2016906 , -0.2016906 , -0.2016906 , -0.27515901,\n",
       "         -0.13115113,  0.0120799 ,  0.0120799 ,  0.2258504 ,         nan,\n",
       "         -0.11658064, -0.13457177,         nan,  0.98262012, -0.2016906 ,\n",
       "         -0.2016906 , -0.2016906 ,         nan,         nan,         nan,\n",
       "                 nan,  0.4396209 , -0.02460166,  1.29470289,         nan,\n",
       "         -0.2797336 , -0.12523607, -0.32010814, -0.07190875, -0.3104886 ,\n",
       "         -0.06731547,         nan]]),\n",
       " array([[-0.13645531,  2.60971559, -3.3744085 , -0.17976417,         nan,\n",
       "                 nan,         nan, -0.28041357, -0.03956948,  2.60971559,\n",
       "         -0.28041357, -0.28041357, -0.28041357, -0.28041357, -0.20592748,\n",
       "         -0.16397964, -0.03956948,  1.6463392 , -0.03956948,         nan,\n",
       "         -0.21643418, -0.17435654,         nan,  0.03718342, -0.28041357,\n",
       "         -0.28041357, -0.28041357,         nan,         nan,         nan,\n",
       "                 nan, -0.03956948, -0.07735546,  1.40549511,         nan,\n",
       "         -0.30333086, -0.2107983 , -0.3784491 , -0.10248788, -0.4180164 ,\n",
       "          0.03490141,         nan]]),\n",
       " array([[-0.11193856,  2.33495672, -3.79390841, -0.22960208,         nan,\n",
       "                 nan,         nan, -0.27702039, -0.05935563,  2.33495672,\n",
       "         -0.27702039, -0.27702039, -0.27702039, -0.27702039, -0.29686563,\n",
       "         -0.26628049, -0.05935563,  1.24663293,  1.02896817,         nan,\n",
       "         -0.12909886, -0.05060685,         nan,  0.2017611 , -0.27702039,\n",
       "         -0.27702038, -0.27702039,         nan,         nan,         nan,\n",
       "                 nan, -0.05935563, -0.11919209,  1.24663293,         nan,\n",
       "         -0.33636328, -0.11016174, -0.44772592,  0.15215514, -0.46888565,\n",
       "          0.2087958 ,         nan]]),\n",
       " array([[-1.02068358e-01,  2.47207632e+00, -3.67589450e+00,\n",
       "         -2.20910382e-01,             nan,             nan,\n",
       "                     nan, -2.79140743e-01, -4.98726550e-02,\n",
       "          2.47207632e+00, -2.79140743e-01, -2.79140743e-01,\n",
       "         -2.79140743e-01, -2.79140743e-01, -3.52065288e-01,\n",
       "         -2.01746703e-01, -4.98726550e-02,  1.09646779e+00,\n",
       "          8.67199699e-01,             nan, -1.06470979e-01,\n",
       "          2.93365812e-03,             nan, -9.26339272e-02,\n",
       "         -2.79140743e-01, -2.79140740e-01, -2.79140743e-01,\n",
       "                     nan,             nan,             nan,\n",
       "                     nan, -4.98726550e-02, -1.13336542e-01,\n",
       "          1.32573588e+00,             nan, -3.37870152e-01,\n",
       "         -9.82254025e-02, -4.68815267e-01,  1.61979377e-01,\n",
       "         -4.87640676e-01,  2.41953054e-01,             nan]]),\n",
       " array([[-0.13769417,  2.16719824, -3.59521899, -0.26267042,         nan,\n",
       "                 nan,         nan, -0.29286216, -0.08785713,  2.16719824,\n",
       "         -0.29286216, -0.29286216, -0.29286216, -0.29286216, -0.36525429,\n",
       "         -0.18059509, -0.08785713,  0.732163  ,  2.16719824,         nan,\n",
       "         -0.15217387, -0.10738249,         nan,  0.10589742, -0.29286216,\n",
       "         -0.29286216, -0.29286216,         nan,         nan,         nan,\n",
       "                 nan, -0.08785713, -0.16299348,  1.34717811,         nan,\n",
       "         -0.34526529, -0.15158991, -0.43082694,  0.07614022, -0.47063954,\n",
       "          0.20579971,         nan]]),\n",
       " array([[-0.18052695,  2.33405304, -3.25346901, -0.29816256,         nan,\n",
       "                 nan,         nan, -0.34711026, -0.12367999,  2.33405304,\n",
       "         -0.34711026, -0.34711026, -0.34711026, -0.34711026, -0.38500936,\n",
       "         -0.32112567, -0.12367999,  0.54661084,  2.11062276,         nan,\n",
       "         -0.18515998, -0.11144011,         nan,  0.67629933, -0.34711026,\n",
       "         -0.34711026, -0.34711026,         nan,         nan,         nan,\n",
       "                 nan, -0.12367999, -0.1905928 ,  1.44033194,         nan,\n",
       "         -0.3643629 , -0.23144927, -0.50840721,  0.09780243, -0.53341384,\n",
       "          0.17126833,         nan]]),\n",
       " array([[-0.16472663,  2.46357531, -3.27700254, -0.27074044,         nan,\n",
       "                 nan,         nan, -0.33318378, -0.10012052,  2.46357531,\n",
       "         -0.33318378, -0.33318378, -0.33318378, -0.33318378, -0.35361172,\n",
       "         -0.17973817, -0.10012052,  0.36600599,  1.99744879,         nan,\n",
       "         -0.16881608, -0.13515939,         nan,  0.62465229, -0.33318378,\n",
       "         -0.33318378, -0.33318378,         nan,         nan,         nan,\n",
       "                 nan, -0.10012052, -0.15394133,  1.29825902,         nan,\n",
       "         -0.34946003, -0.24091612, -0.47448591, -0.06303032, -0.50901297,\n",
       "          0.09295675,         nan]]),\n",
       " array([[-0.12920849,  2.46491076, -3.36900934, -0.25239108,         nan,\n",
       "                 nan,         nan, -0.30987896, -0.07864649,  2.46491076,\n",
       "         -0.30987896, -0.30987896, -0.30987896, -0.30987896, -0.31628126,\n",
       "         -0.0923954 , -0.07864649,  0.15258599,  1.77121333,         nan,\n",
       "         -0.1957457 , -0.16621636,         nan,  0.57619179, -0.30987896,\n",
       "         -0.30987896, -0.30987896,         nan,         nan,         nan,\n",
       "                 nan, -0.07864649, -0.12765229,  1.53998085,         nan,\n",
       "         -0.3181915 , -0.23103814, -0.4313816 , -0.11841401, -0.46910831,\n",
       "         -0.03778887,         nan]]),\n",
       " array([[-0.16569794,  2.81606071, -2.76609581, -0.26108813,         nan,\n",
       "                 nan,         nan, -0.35558369, -0.09127999,  2.81606071,\n",
       "         -0.35558369, -0.35558369, -0.35558369, -0.35558369, -0.30171585,\n",
       "         -0.17557034, -0.09127999, -0.09127999,  1.75884591,         nan,\n",
       "         -0.21798241, -0.09724699,         nan,  0.13290376, -0.35558369,\n",
       "         -0.35558369, -0.35558369,         nan,         nan,         nan,\n",
       "                 nan,  0.17302371, -0.14191207,  1.49454221,         nan,\n",
       "         -0.33013921, -0.26874172, -0.50500988, -0.18854245, -0.54715186,\n",
       "         -0.10603289,         nan]]),\n",
       " array([[-0.14595162,  2.71216747, -3.01770313, -0.29151122,         nan,\n",
       "                 nan,         nan, -0.33430724, -0.08043435,  2.71216747,\n",
       "         -0.33430724, -0.33430724, -0.33430724, -0.33430724, -0.36731075,\n",
       "         -0.26538404, -0.08043435,  0.17343855,  1.44280301,         nan,\n",
       "         -0.2299005 , -0.11358834,         nan,  0.40126712, -0.33430724,\n",
       "         -0.33430724, -0.33430724,         nan,         nan,         nan,\n",
       "                 nan,  0.17343855, -0.13374574,  1.6966759 ,         nan,\n",
       "         -0.33397456, -0.26959402, -0.45248478, -0.20673923, -0.49134126,\n",
       "         -0.15740225,         nan]]),\n",
       " array([[-0.1196799 ,  2.63711923, -3.34244461, -0.2554242 ,         nan,\n",
       "                 nan,         nan, -0.29478554, -0.05046014,  2.63711923,\n",
       "         -0.29478554, -0.29478554, -0.29478554, -0.29478554, -0.29235125,\n",
       "         -0.22584354, -0.05046014, -0.05046014,  1.17116684,         nan,\n",
       "         -0.21492108, -0.20884496,         nan,  0.96027818, -0.29478554,\n",
       "         -0.29478554, -0.29478554,         nan,         nan,         nan,\n",
       "                 nan,  0.19386525, -0.07902754,  1.41549224,         nan,\n",
       "         -0.33136761, -0.2372702 , -0.39947266, -0.1955248 , -0.41010115,\n",
       "         -0.1931027 ,         nan]]),\n",
       " array([[-0.18451992,  2.3867964 , -3.23481867, -0.30682255,         nan,\n",
       "                 nan,         nan, -0.34248023, -0.11504051,  2.3867964 ,\n",
       "         -0.34248023, -0.34248023, -0.34248023, -0.34248023, -0.32443626,\n",
       "         -0.28237983, -0.11504051,  1.93191696,  0.79471837,         nan,\n",
       "         -0.22991972, -0.21326121,         nan,  1.03482   , -0.34248023,\n",
       "         -0.34248022, -0.34248023,         nan,         nan,         nan,\n",
       "                 nan,  0.11239921, -0.13614271,  1.2495978 ,         nan,\n",
       "         -0.36742881, -0.30633083, -0.44425416, -0.24024705, -0.46821014,\n",
       "         -0.18835045,         nan]]),\n",
       " array([[-0.17664244,  2.52408728, -3.10515588, -0.32459236,         nan,\n",
       "                 nan,         nan, -0.34887835, -0.10946455,  2.52408728,\n",
       "         -0.34887835, -0.34887835, -0.34887835, -0.34887835, -0.41480101,\n",
       "         -0.3042402 , -0.10946455,  1.80584587,  0.60877686,         nan,\n",
       "         -0.24730573, -0.16297934,         nan,  0.96484859, -0.34887835,\n",
       "         -0.34887835, -0.34887835,         nan,         nan,         nan,\n",
       "                 nan,  0.12994926, -0.13164922,  1.32701827,         nan,\n",
       "         -0.37408985, -0.28664718, -0.47341917, -0.21603491, -0.50569237,\n",
       "         -0.15140784,         nan]]),\n",
       " array([[-0.1716846 ,  2.36489493, -3.35255578, -0.27160477,         nan,\n",
       "                 nan,         nan, -0.31925138, -0.09557252,  2.36489493,\n",
       "         -0.31925138, -0.31925138, -0.31925138, -0.31925138, -0.39894012,\n",
       "         -0.27633559, -0.09557252,  1.4701795 ,  0.3517852 ,         nan,\n",
       "         -0.20117515, -0.15096756,         nan,  1.46878799, -0.31925138,\n",
       "         -0.31925137, -0.31925138,         nan,         nan,         nan,\n",
       "                 nan,  0.12810634, -0.11565288,  1.4701795 ,         nan,\n",
       "         -0.36366266, -0.28911631, -0.44829882, -0.20454196, -0.47103606,\n",
       "         -0.15810007,         nan]]),\n",
       " array([[-0.15683246,  2.27061382, -3.58263247, -0.24530116,         nan,\n",
       "                 nan,         nan, -0.29475593, -0.08097512,  2.27061382,\n",
       "         -0.29475593, -0.29475593, -0.29475593, -0.29475593, -0.21820533,\n",
       "         -0.1164926 , -0.08097512,  1.20170975,  0.13280569,         nan,\n",
       "         -0.19784876, -0.19205998,         nan,  1.47437271, -0.29475593,\n",
       "         -0.29475593, -0.29475593,         nan,         nan,         nan,\n",
       "                 nan,  0.13280569, -0.10510372,  1.62927138,         nan,\n",
       "         -0.34625343, -0.251606  , -0.42033033, -0.17741527, -0.43890255,\n",
       "         -0.1432111 ,         nan]]),\n",
       " array([[-0.22010533,  2.2453931 , -2.7089515 , -0.28685054,         nan,\n",
       "                 nan,         nan, -0.36431728, -0.14684142,  2.2453931 ,\n",
       "         -0.36431728, -0.36431728, -0.36431728, -0.36431728, -0.40120637,\n",
       "         -0.33902517, -0.14684142,  0.94053791, -0.14684142,         nan,\n",
       "         -0.23535793, -0.13749678,         nan,  2.76601278, -0.36431728,\n",
       "         -0.36431728, -0.36431728,         nan,         nan,         nan,\n",
       "                 nan,  0.07063445, -0.17182264,  1.5929655 ,         nan,\n",
       "         -0.39423744, -0.3177651 , -0.52648698, -0.13918757, -0.55171578,\n",
       "         -0.07566522,         nan]]),\n",
       " array([[-0.14412254,  2.27903693, -3.95611055, -0.18685335,         nan,\n",
       "                 nan,         nan, -0.23165628, -0.02243185,  2.27903693,\n",
       "         -0.23165628, -0.23165628, -0.23165628, -0.23165628, -0.22980871,\n",
       "         -0.15888202, -0.02243185,  0.81446589, -0.02243185,         nan,\n",
       "         -0.0771288 , -0.04673406,         nan,  0.69204869, -0.23165628,\n",
       "         -0.23165628, -0.23165628,         nan,         nan,         nan,\n",
       "                 nan,  0.18679259, -0.07819426,  1.65136363,         nan,\n",
       "         -0.36303025, -0.05725632, -0.40351931,  0.04199342, -0.41276752,\n",
       "          0.09021542,         nan]]),\n",
       " array([[-1.76970512e-01,  2.18529693e+00, -4.00286405e+00,\n",
       "         -2.05079753e-01,             nan,             nan,\n",
       "                     nan, -2.29836441e-01, -2.85753270e-02,\n",
       "          2.18529693e+00, -2.29836441e-01, -2.29836441e-01,\n",
       "         -2.29836441e-01, -2.29836441e-01, -2.48186107e-01,\n",
       "         -2.19905924e-01, -2.85753270e-02,  5.75208016e-01,\n",
       "          1.17899136e+00,             nan, -3.12407149e-02,\n",
       "          1.49117296e-02,             nan, -1.46852430e-01,\n",
       "         -2.29836441e-01, -2.29836438e-01, -2.29836441e-01,\n",
       "                     nan,             nan,             nan,\n",
       "                     nan,  1.72685787e-01, -9.95095894e-02,\n",
       "          1.58151359e+00,             nan, -3.78199726e-01,\n",
       "          8.86888845e-04, -4.03403957e-01,  1.24322684e-01,\n",
       "         -4.14086740e-01,  2.03027768e-01,             nan]]),\n",
       " array([[-0.16645063,  2.22759452, -4.02107318, -0.20523612,         nan,\n",
       "                 nan,         nan, -0.23210817, -0.02713295,  2.22759452,\n",
       "         -0.23210817, -0.23210817, -0.23210817, -0.23210817, -0.14368522,\n",
       "         -0.08954591, -0.02713295,  0.3828175 ,  0.99774318,         nan,\n",
       "         -0.02878242,  0.04004207,         nan, -0.18345195, -0.23210817,\n",
       "         -0.23210817, -0.23210817,         nan,         nan,         nan,\n",
       "                 nan,  0.17784228, -0.09944232,  1.61266885,         nan,\n",
       "         -0.37456831,  0.02163733, -0.41097022,  0.15557396, -0.42047341,\n",
       "          0.21129676,         nan]]),\n",
       " array([[-0.11316575,  2.15962077, -4.1348977 , -0.13648837,         nan,\n",
       "                 nan,         nan, -0.18882321,  0.00688045,  2.15962077,\n",
       "         -0.18882321, -0.18882321, -0.18882321, -0.18882321, -0.2130944 ,\n",
       "         -0.11141915,  0.00688045,  0.20258412,  0.78969511,         nan,\n",
       "         -0.02547321, -0.02617263,         nan, -0.09310016, -0.18882321,\n",
       "         -0.18882321, -0.18882321,         nan,         nan,         nan,\n",
       "                 nan,  0.00688045, -0.04233632,  1.76821344,         nan,\n",
       "         -0.3075494 ,  0.02878576, -0.35815293,  0.15635514, -0.3577314 ,\n",
       "          0.14465062,         nan]]),\n",
       " array([[-0.0996076 ,  2.3162502 , -4.10985276, -0.11820485,         nan,\n",
       "                 nan,         nan, -0.18396059,  0.02439031,  2.3162502 ,\n",
       "         -0.18396059, -0.18396059, -0.18396059, -0.18396059, -0.25289129,\n",
       "         -0.10910631,  0.02439031,  0.02439031,  0.64944301,         nan,\n",
       "         -0.01691467, -0.02423043,         nan,  0.1485074 , -0.18396059,\n",
       "         -0.18396058, -0.18396059,         nan,         nan,         nan,\n",
       "                 nan,  0.02439031, -0.02756323,  1.4828466 ,         nan,\n",
       "         -0.29746939,  0.01542659, -0.35191106,  0.1123582 , -0.35668615,\n",
       "          0.09747897,         nan]]),\n",
       " array([[-0.05470592,  2.16893739, -4.17834139, -0.13311368,         nan,\n",
       "                 nan,         nan, -0.17866541,  0.01696816,  2.16893739,\n",
       "         -0.17866541, -0.17866541, -0.17866541, -0.17866541, -0.25316493,\n",
       "         -0.13060591,  0.01696816,  0.21260172,  0.40823529,         nan,\n",
       "         -0.02012441, -0.01860115,         nan,  0.27735639, -0.17866541,\n",
       "         -0.17866541, -0.17866541,         nan,         nan,         nan,\n",
       "                 nan,  0.01696816, -0.05425637,  1.77767026,         nan,\n",
       "         -0.2882768 ,  0.01938537, -0.33800801,  0.09028887, -0.33574467,\n",
       "          0.05994936,         nan]]),\n",
       " array([[-0.05260579,  2.3125125 , -4.16607727, -0.11001267,         nan,\n",
       "                 nan,         nan, -0.16735521,  0.03930043,  2.3125125 ,\n",
       "         -0.16735521, -0.16735521, -0.16735521, -0.16735521, -0.21653   ,\n",
       "         -0.13860899,  0.03930043,  0.03930043,  0.24595607,         nan,\n",
       "         -0.0157994 , -0.01053516,         nan,  0.26174304, -0.16735521,\n",
       "         -0.16735521, -0.16735521,         nan,         nan,         nan,\n",
       "                 nan,  0.03930043, -0.02987409,  1.48588993,         nan,\n",
       "         -0.26900506,  0.02114143, -0.32151442,  0.10855632, -0.32201259,\n",
       "          0.08590362,         nan]]),\n",
       " array([[-0.1114124 ,  2.31415984, -3.46277848, -0.2353123 ,         nan,\n",
       "                 nan,         nan, -0.26623074, -0.05119819,  2.31415984,\n",
       "         -0.26623074, -0.26623074, -0.26623074, -0.26623074, -0.32974817,\n",
       "         -0.19458155, -0.05119819,  2.31415984, -0.05119819,         nan,\n",
       "         -0.17123572, -0.12033105,         nan,  0.31904352, -0.26623074,\n",
       "         -0.26623074, -0.26623074,         nan,         nan,         nan,\n",
       "                 nan, -0.05119819, -0.11096402,  1.2389971 ,         nan,\n",
       "         -0.30397396, -0.19723127, -0.37595268, -0.10507797, -0.41668555,\n",
       "         -0.03059635,         nan]]),\n",
       " array([[-0.28509734,  2.62584406, -1.34373938, -0.44400877,         nan,\n",
       "                 nan,         nan, -0.50344702, -0.24267276,  2.62584406,\n",
       "         -0.50344702, -0.50344702, -0.50344702, -0.50344702, -0.51630574,\n",
       "         -0.4576188 , -0.24267276,  2.62584406,  1.32197278,         nan,\n",
       "         -0.45947891, -0.31970563,         nan,  1.07905309, -0.50344702,\n",
       "         -0.3384327 , -0.3384327 ,         nan,         nan,         nan,\n",
       "                 nan, -0.24267276, -0.32101987,  1.06119852,         nan,\n",
       "         -0.42370809, -0.42683088, -0.55306838, -0.42007659, -0.67743651,\n",
       "         -0.26609591,         nan]]),\n",
       " array([[-0.22550874,  2.63682735, -2.32950841, -0.3388777 ,         nan,\n",
       "                 nan,         nan, -0.4051307 , -0.15163419,  2.63682735,\n",
       "         -0.4051307 , -0.4051307 , -0.4051307 , -0.4051307 , -0.48798628,\n",
       "         -0.30319606, -0.15163419,  2.38333084,  1.11584833,         nan,\n",
       "         -0.34400963, -0.37570949,         nan,  0.96058421, -0.4051307 ,\n",
       "         -0.40513069, -0.4051307 ,         nan,         nan,         nan,\n",
       "                 nan, -0.15163419, -0.21410132,  0.86235182,         nan,\n",
       "         -0.31936241, -0.33441078, -0.47319649, -0.33915247, -0.47099345,\n",
       "         -0.34380853,         nan]]),\n",
       " array([[-0.18209631,  2.73413415, -2.32131282, -0.34070976,         nan,\n",
       "                 nan,         nan, -0.39932026, -0.13819906,  2.73413415,\n",
       "         -0.39932026, -0.39932026, -0.39932026, -0.39932026, -0.39175182,\n",
       "         -0.31695914, -0.13819906,  2.21189175,  0.90628574,         nan,\n",
       "         -0.35839642, -0.24195376,         nan,  1.45086669, -0.39932026,\n",
       "         -0.39932026, -0.39932026,         nan,         nan,         nan,\n",
       "                 nan, -0.13819906, -0.21524435,  0.12292214,         nan,\n",
       "         -0.29970927, -0.29914279, -0.45554611, -0.34596951, -0.5405189 ,\n",
       "         -0.24176438,         nan]]),\n",
       " array([[-0.22616346,  2.34503589, -1.84576537, -0.34368636,         nan,\n",
       "                 nan,         nan, -0.41116995, -0.18148613,  2.34503589,\n",
       "         -0.41116995, -0.41116995, -0.41116995, -0.41116995, -0.50801387,\n",
       "         -0.30316112, -0.18148613,  1.65598443,  0.50756533,         nan,\n",
       "         -0.33047247, -0.24190869,         nan,  3.23827335, -0.41116995,\n",
       "         -0.41116994, -0.41116995,         nan,         nan,         nan,\n",
       "                 nan,  0.04819769, -0.24953837, -0.18148613,         nan,\n",
       "         -0.31649936, -0.32459188, -0.47047783, -0.35033868, -0.53820682,\n",
       "         -0.25745033,         nan]]),\n",
       " array([[-0.1831117 ,  2.75738199, -2.14813354, -0.34969869,         nan,\n",
       "                 nan,         nan, -0.41120521, -0.14715628,  2.75738199,\n",
       "         -0.41120521, -0.41120521, -0.41120521, -0.41120521, -0.39993195,\n",
       "         -0.34822331, -0.14715628,  1.70118626,  0.38094159,         nan,\n",
       "         -0.35343025, -0.2054879 ,         nan,  2.26344507, -0.41120521,\n",
       "         -0.41120521, -0.41120521,         nan,         nan,         nan,\n",
       "                 nan,  0.11689266, -0.22556605,  0.11689266,         nan,\n",
       "         -0.31263646, -0.31443509, -0.47879003, -0.36419038, -0.55185766,\n",
       "         -0.27467498,         nan]]),\n",
       " array([[-0.23719583,  2.44682768, -1.98864955, -0.40762604,         nan,\n",
       "                 nan,         nan, -0.44151689, -0.20082151,  2.44682768,\n",
       "         -0.44151689, -0.44151689, -0.44151689, -0.44151689, -0.47511241,\n",
       "         -0.42260675, -0.20082151,  1.24335078,  2.44682768,         nan,\n",
       "         -0.38422349, -0.2977426 ,         nan,  2.01287859, -0.44151689,\n",
       "         -0.2818982 , -0.44151689,         nan,         nan,         nan,\n",
       "                 nan,  0.03987387, -0.28220154,  0.03987387,         nan,\n",
       "         -0.35760298, -0.30257871, -0.48371883, -0.37661887, -0.56176904,\n",
       "         -0.32465407,         nan]]),\n",
       " array([[-0.23606762,  2.48514798, -2.25396115, -0.40059035,         nan,\n",
       "                 nan,         nan, -0.43147359, -0.18842179,  2.48514798,\n",
       "         -0.43147359, -0.43147359, -0.43147359, -0.43147359, -0.45311482,\n",
       "         -0.29779386, -0.18842179,  1.02683719,  2.24209618,         nan,\n",
       "         -0.32580832, -0.29588697,         nan,  2.03569567, -0.43147359,\n",
       "         -0.43147359, -0.43147359,         nan,         nan,         nan,\n",
       "                 nan,  0.05463001, -0.24120982,  0.2976818 ,         nan,\n",
       "         -0.37160546, -0.31842405, -0.48526778, -0.31249306, -0.52669696,\n",
       "         -0.27968429,         nan]]),\n",
       " array([[-0.19786969,  2.69871786, -2.57180018, -0.35246995,         nan,\n",
       "                 nan,         nan, -0.39244127, -0.13484468,  2.69871786,\n",
       "         -0.39244127, -0.39244127, -0.39244127, -0.39244127, -0.47125323,\n",
       "         -0.33523068, -0.13484468,  0.8955417 ,  2.18352467,         nan,\n",
       "         -0.29640571, -0.22203662,         nan,  1.0121215 , -0.39244127,\n",
       "         -0.39244127, -0.39244127,         nan,         nan,         nan,\n",
       "                 nan,  0.12275192, -0.19028974,  0.63794511,         nan,\n",
       "         -0.34474018, -0.33735804, -0.47329817, -0.29349219, -0.51269468,\n",
       "         -0.24116203,         nan]]),\n",
       " array([[-0.24427479,  2.77417371, -1.80878563, -0.34745837,         nan,\n",
       "                 nan,         nan, -0.44124239, -0.17329104,  2.77417371,\n",
       "         -0.44124239, -0.44124239, -0.44124239, -0.44124239, -0.48695308,\n",
       "         -0.36831571, -0.17329104,  0.63056298,  2.77417371,         nan,\n",
       "         -0.39615102, -0.31326403,         nan,  0.50749357, -0.44124239,\n",
       "         -0.44124238, -0.44124239,         nan,         nan,         nan,\n",
       "                 nan,  0.36261164, -0.24437364,  0.63056298,         nan,\n",
       "         -0.38443218, -0.35751008, -0.44818958, -0.34082536, -0.53596254,\n",
       "         -0.30073514,         nan]]),\n",
       " array([[-0.19372822,  2.57936883, -2.7419828 , -0.2789024 ,         nan,\n",
       "                 nan,         nan, -0.36987386, -0.12410364,  2.57936883,\n",
       "         -0.36987386, -0.36987386, -0.36987386, -0.36987386, -0.50107212,\n",
       "         -0.24070442, -0.12410364,  0.36743681,  2.3335986 ,         nan,\n",
       "         -0.2789679 , -0.3055879 ,         nan,  0.38826248, -0.36987386,\n",
       "         -0.36987386, -0.36987386,         nan,         nan,         nan,\n",
       "                 nan,  0.36743681, -0.183509  ,  1.35051771,         nan,\n",
       "         -0.34905598, -0.30000429, -0.45421623, -0.23969657, -0.43463496,\n",
       "         -0.25672915,         nan]]),\n",
       " array([[-0.20156047,  2.68572306, -2.63873191, -0.28974844,         nan,\n",
       "                 nan,         nan, -0.3844063 , -0.12856219,  2.68572306,\n",
       "         -0.3844063 , -0.3844063 , -0.3844063 , -0.3844063 , -0.34809139,\n",
       "         -0.31362084, -0.12856219,  0.12728192,  2.17403483,         nan,\n",
       "         -0.23226897, -0.19747218,         nan,  0.44190773, -0.3844063 ,\n",
       "         -0.3844063 , -0.3844063 ,         nan,         nan,         nan,\n",
       "                 nan,  0.38312604, -0.19044062,  1.40650249,         nan,\n",
       "         -0.36458284, -0.31145326, -0.50547034, -0.23151533, -0.51737212,\n",
       "         -0.22959563,         nan]]),\n",
       " array([[-0.19094998,  2.61374268, -2.7396637 , -0.20583174,         nan,\n",
       "                 nan,         nan, -0.34439802, -0.09788629,  2.61374268,\n",
       "         -0.34439802, -0.34439802, -0.34439802, -0.34439802, -0.36280512,\n",
       "         -0.25079928, -0.09788629, -0.09788629,  2.61374268,         nan,\n",
       "         -0.22334735, -0.24711437,         nan,  0.18107569, -0.34439802,\n",
       "         -0.34439801, -0.34439802,         nan,         nan,         nan,\n",
       "                 nan,  0.39513716, -0.18552818,  0.88816061,         nan,\n",
       "         -0.35972021, -0.23351858, -0.41139698, -0.18135537, -0.42772987,\n",
       "         -0.23699775,         nan]]),\n",
       " array([[-0.22768434,  2.18869872, -3.11403892, -0.28119908,         nan,\n",
       "                 nan,         nan, -0.35820977, -0.14596739,  2.18869872,\n",
       "         -0.35820977, -0.35820977, -0.35820977, -0.35820977, -0.26587354,\n",
       "         -0.14939093, -0.14596739,  2.18869872,  1.97645634,         nan,\n",
       "         -0.19463405, -0.22017866,         nan,  0.23595856, -0.35820977,\n",
       "         -0.35820976, -0.35820977,         nan,         nan,         nan,\n",
       "                 nan,  0.06627498, -0.22301317,  0.91524448,         nan,\n",
       "         -0.42260194, -0.23544614, -0.45014821, -0.18267871, -0.43246212,\n",
       "         -0.2030678 ,         nan]]),\n",
       " array([[-0.25007008,  2.30959682, -2.90917374, -0.33861878,         nan,\n",
       "                 nan,         nan, -0.38830903, -0.16348354,  2.30959682,\n",
       "         -0.38830903, -0.38830903, -0.38830903, -0.38830903, -0.4137006 ,\n",
       "         -0.3379197 , -0.16348354,  2.08477133,  1.85994585,         nan,\n",
       "         -0.20374675, -0.09344829,         nan,  0.69510805, -0.38830903,\n",
       "         -0.38830902, -0.38830902,         nan,         nan,         nan,\n",
       "                 nan,  0.06134195, -0.24646407,  0.9606439 ,         nan,\n",
       "         -0.4443587 , -0.23125856, -0.49004328, -0.1991696 , -0.50451891,\n",
       "         -0.18507438,         nan]]),\n",
       " array([[-0.25814008,  2.31757868, -2.95577556, -0.35504809,         nan,\n",
       "                 nan,         nan, -0.3955201 , -0.16942853,  2.31757868,\n",
       "         -0.3955201 , -0.3955201 , -0.3955201 , -0.3955201 , -0.45416736,\n",
       "         -0.26976584, -0.16942853,  1.86539555,  1.63930399,         nan,\n",
       "         -0.19439035, -0.10298941,         nan,  1.29589209, -0.3955201 ,\n",
       "         -0.3955201 , -0.3955201 ,         nan,         nan,         nan,\n",
       "                 nan,  0.05666303, -0.25600939,  0.96102929,         nan,\n",
       "         -0.45203996, -0.25689448, -0.49644979, -0.19270745, -0.51137263,\n",
       "         -0.19467306,         nan]]),\n",
       " array([[-0.22706842,  2.45737447, -3.15984535, -0.30961108,         nan,\n",
       "                 nan,         nan, -0.36481951, -0.12963667,  2.45737447,\n",
       "         -0.36481951, -0.36481951, -0.36481951, -0.36481951, -0.39893005,\n",
       "         -0.34345178, -0.12963667,  1.75182598,  1.51664314,         nan,\n",
       "         -0.1426981 ,  0.01194678,         nan,  0.76071598, -0.36481951,\n",
       "         -0.3648195 , -0.36481951,         nan,         nan,         nan,\n",
       "                 nan,  0.10554616, -0.22024535,  0.81109465,         nan,\n",
       "         -0.42123355, -0.23239255, -0.47281711, -0.14236394, -0.48424273,\n",
       "         -0.13979222,         nan]]),\n",
       " array([[-0.22798611,  2.50346057, -3.19794734, -0.29773608,         nan,\n",
       "                 nan,         nan, -0.36425933, -0.12528267,  2.50346057,\n",
       "         -0.36425933, -0.36425933, -0.36425933, -0.36425933, -0.35859955,\n",
       "         -0.24590246, -0.12528267,  1.54755394,  1.30857728,         nan,\n",
       "         -0.14659286, -0.12401427,         nan,  0.85695205, -0.36425933,\n",
       "         -0.36425933, -0.36425933,         nan,         nan,         nan,\n",
       "                 nan,  0.11369398, -0.21703233,  1.06960062,         nan,\n",
       "         -0.41809012, -0.22965488, -0.47059889, -0.15676537, -0.48194563,\n",
       "         -0.16579311,         nan]]),\n",
       " array([[-0.2129169 ,  2.44160203, -3.11785268, -0.31555308,         nan,\n",
       "                 nan,         nan, -0.35991115, -0.12645172,  2.44160203,\n",
       "         -0.35991115, -0.35991115, -0.35991115, -0.35991115, -0.39945233,\n",
       "         -0.3388361 , -0.12645172,  1.27430487,  1.04084544,         nan,\n",
       "         -0.21569968, -0.10849872,         nan,  1.91120969, -0.35991115,\n",
       "         -0.35991114, -0.35991115,         nan,         nan,         nan,\n",
       "                 nan,  0.10700772, -0.21727994,  0.80738601,         nan,\n",
       "         -0.40943133, -0.23601538, -0.45785295, -0.20014062, -0.48529113,\n",
       "         -0.17694437,         nan]]),\n",
       " array([[-0.17440241,  2.63497327, -3.32724857, -0.25426877,         nan,\n",
       "                 nan,         nan, -0.32533908, -0.07864639,  2.63497327,\n",
       "         -0.32533908, -0.32533908, -0.32533908, -0.32533908, -0.42451174,\n",
       "         -0.23886822, -0.07864639,  1.15481709,  0.9081244 ,         nan,\n",
       "         -0.12583681, -0.15265677,         nan,  1.23818217, -0.32533908,\n",
       "         -0.32533908, -0.32533908,         nan,         nan,         nan,\n",
       "                 nan,  0.16804631, -0.16650471,  0.6614317 ,         nan,\n",
       "         -0.38102902, -0.22248766, -0.44572749, -0.13463887, -0.43912225,\n",
       "         -0.15323945,         nan]]),\n",
       " array([[-0.13728912,  2.74283652, -3.41111077, -0.22232621,         nan,\n",
       "                 nan,         nan, -0.29290437, -0.03992596,  2.74283652,\n",
       "         -0.29290437, -0.29290437, -0.29290437, -0.29290437, -0.41096394,\n",
       "         -0.20947535, -0.03992596,  0.97198767,  0.71900926,         nan,\n",
       "         -0.17229979, -0.17768835,         nan,  0.85116374, -0.29290437,\n",
       "         -0.29290437, -0.29290437,         nan,         nan,         nan,\n",
       "                 nan,  0.21305244, -0.12986402,  0.71900926,         nan,\n",
       "         -0.35159958, -0.18639706, -0.38063749, -0.16034735, -0.39239641,\n",
       "         -0.19441308,         nan]]),\n",
       " array([[-0.13217423,  2.87040073, -3.3355048 , -0.25772657,         nan,\n",
       "                 nan,         nan, -0.28442473, -0.02152261,  2.87040073,\n",
       "         -0.28442473, -0.28442473, -0.28442473, -0.28442473, -0.34832054,\n",
       "         -0.20577261, -0.02152261,  0.76718376,  0.50428164,         nan,\n",
       "         -0.14030054, -0.04491106,         nan,  0.85629058, -0.28442473,\n",
       "         -0.28442472, -0.28442473,         nan,         nan,         nan,\n",
       "                 nan,  0.24137952, -0.0755594 ,  0.50428164,         nan,\n",
       "         -0.33066684, -0.22828869, -0.39719306, -0.2049818 , -0.44947425,\n",
       "         -0.14490116,         nan]]),\n",
       " array([[-8.64198710e-02,  2.78636551e+00, -3.51565983e+00,\n",
       "         -2.22004250e-01,             nan,             nan,\n",
       "                     nan, -2.52239691e-01,  9.77409426e-04,\n",
       "          2.78636551e+00, -2.52239691e-01, -2.52239691e-01,\n",
       "         -2.52239691e-01, -2.52239691e-01, -4.26250077e-01,\n",
       "         -1.14643295e-01,  9.77409426e-04,  5.07411610e-01,\n",
       "          2.54194510e-01,             nan, -8.49276810e-02,\n",
       "         -1.67787681e-01,             nan,  6.57215453e-01,\n",
       "         -2.52239691e-01, -2.52239687e-01, -2.52239691e-01,\n",
       "                     nan,             nan,             nan,\n",
       "                     nan,  2.54194510e-01, -3.30602146e-02,\n",
       "          1.01384581e+00,             nan, -3.05117946e-01,\n",
       "         -2.13173274e-01, -3.80006997e-01, -1.59377942e-01,\n",
       "         -3.60730673e-01, -1.74470480e-01,             nan]]),\n",
       " array([[-0.05557176,  2.51300683, -3.89671032, -0.17394382,         nan,\n",
       "                 nan,         nan, -0.20712989,  0.01954817,  2.51300683,\n",
       "         -0.20712989, -0.20712989, -0.20712989, -0.20712989, -0.20348538,\n",
       "         -0.13915631,  0.01954817,  0.24622623,  0.01954817,         nan,\n",
       "         -0.18370562, -0.17639781,         nan,  1.2048988 , -0.20712989,\n",
       "         -0.20712988, -0.20712989,         nan,         nan,         nan,\n",
       "                 nan,  0.24622623, -0.01147474,  0.92626041,         nan,\n",
       "         -0.2389473 , -0.17441924, -0.22547975, -0.1759053 , -0.23703688,\n",
       "         -0.15899656,         nan]]),\n",
       " array([[-0.09018738,  3.32316223, -2.06838175, -0.29035556,         nan,\n",
       "                 nan,         nan, -0.37072382, -0.06289998,  3.32316223,\n",
       "         -0.37072382, -0.37072382, -0.37072382, -0.37072382, -0.47920704,\n",
       "         -0.23904644, -0.06289998, -0.06289998,  1.47621921,         nan,\n",
       "         -0.28846454, -0.11490363,         nan,  0.13073013, -0.37072382,\n",
       "         -0.1860229 , -0.37072382,         nan,         nan,         nan,\n",
       "                 nan,  0.24492386, -0.20012441,  0.24492386,         nan,\n",
       "         -0.25153224, -0.18405422, -0.49197169, -0.29044904, -0.56994679,\n",
       "         -0.21470721,         nan]]),\n",
       " array([[-5.57467066e-02,  3.22390648e+00, -2.62992498e+00,\n",
       "         -2.74622421e-01,             nan,             nan,\n",
       "                     nan, -3.19728944e-01, -2.44259919e-02,\n",
       "          3.22390648e+00, -3.19728944e-01, -3.19728944e-01,\n",
       "         -3.19728944e-01, -3.19728944e-01, -5.31569403e-01,\n",
       "         -2.48829776e-02, -2.44259919e-02, -2.44259919e-02,\n",
       "          1.15678582e+00,             nan, -2.26650160e-01,\n",
       "         -2.08227137e-04,             nan, -8.88416536e-03,\n",
       "         -3.19728944e-01, -1.53175535e-01, -3.19728944e-01,\n",
       "                     nan,             nan,             nan,\n",
       "                     nan,  2.70876960e-01, -1.30100902e-01,\n",
       "          2.70876960e-01,             nan, -2.50902240e-01,\n",
       "         -1.81013143e-01, -4.46617129e-01, -2.33249328e-01,\n",
       "         -5.09023644e-01, -1.78401151e-01,             nan]]),\n",
       " array([[-0.05477781,  3.23679068, -2.70693384, -0.26452456,         nan,\n",
       "                 nan,         nan, -0.30555453, -0.0103591 ,  3.23679068,\n",
       "         -0.30555453, -0.30555453, -0.30555453, -0.30555453, -0.38309728,\n",
       "         -0.23463498, -0.0103591 ,  0.28483634,  0.87522721,         nan,\n",
       "         -0.22328063, -0.14462235,         nan,  0.10978859, -0.30555453,\n",
       "         -0.30555453, -0.30555453,         nan,         nan,         nan,\n",
       "                 nan,  0.28483634, -0.07353147,  0.28483634,         nan,\n",
       "         -0.24413213, -0.21782199, -0.42615707, -0.23394961, -0.47964502,\n",
       "         -0.16084294,         nan]]),\n",
       " array([[-0.00548542,  3.02065509, -3.33908718, -0.18335887,         nan,\n",
       "                 nan,         nan, -0.23620636,  0.03519877,  3.02065509,\n",
       "         -0.23620636, -0.23620636, -0.23620636, -0.23620636, -0.37595241,\n",
       "         -0.08772693,  0.03519877,  0.03519877,  0.57800901,         nan,\n",
       "         -0.18403232, -0.05650783,         nan,  0.01633273, -0.23620636,\n",
       "         -0.23620635, -0.23620636,         nan,         nan,         nan,\n",
       "                 nan,  0.30660389, -0.02140496,  0.30660389,         nan,\n",
       "         -0.19919203, -0.18333525, -0.32831962, -0.15962803, -0.43919118,\n",
       "          0.09841687,         nan]]),\n",
       " array([[-8.67715241e-02,  2.99971372e+00, -2.93031331e+00,\n",
       "         -2.02030932e-01,             nan,             nan,\n",
       "                     nan, -3.06191876e-01, -3.06997426e-02,\n",
       "          2.99971372e+00, -3.06191876e-01, -3.06191876e-01,\n",
       "         -3.06191876e-01, -3.06191876e-01, -4.69582555e-01,\n",
       "         -4.71015518e-02, -3.06997426e-02,  1.62225305e+00,\n",
       "          2.44792390e-01,             nan, -1.50423657e-01,\n",
       "         -1.56149845e-01,             nan,  2.55171246e-03,\n",
       "         -3.06191876e-01, -3.06191871e-01, -3.06191875e-01,\n",
       "                     nan,             nan,             nan,\n",
       "                     nan,  2.44792390e-01, -1.17485862e-01,\n",
       "         -3.06997426e-02,             nan, -2.50736525e-01,\n",
       "         -1.56966353e-01, -4.95159225e-01, -1.57113984e-02,\n",
       "         -4.97443816e-01,  3.69379778e-03,             nan]]),\n",
       " array([[-0.0516765 ,  3.03847512, -3.01992271, -0.19992709,         nan,\n",
       "                 nan,         nan, -0.2930172 , -0.01539284,  3.03847512,\n",
       "         -0.2930172 , -0.2930172 , -0.2930172 , -0.2930172 , -0.40957566,\n",
       "         -0.12381206, -0.01539284,  1.37272896, -0.01539284,         nan,\n",
       "         -0.20891755, -0.14982215,         nan, -0.15771504, -0.2930172 ,\n",
       "         -0.16068891, -0.16068891,         nan,         nan,         nan,\n",
       "                 nan,  0.26223152, -0.10874094,  0.26223152,         nan,\n",
       "         -0.2456774 , -0.15231591, -0.42327545, -0.12588712, -0.46785546,\n",
       "         -0.0033617 ,         nan]]),\n",
       " array([[-0.23695252,  2.87629606, -1.17230345, -0.42809454,         nan,\n",
       "                 nan,         nan, -0.47970822, -0.20004119,  2.87629606,\n",
       "         -0.47970822, -0.47970822, -0.47970822, -0.47970822, -0.56231772,\n",
       "         -0.38652272, -0.20004119,  0.9186269 ,  2.87629606,         nan,\n",
       "         -0.43749894, -0.36556413,         nan,  0.15454271, -0.47970822,\n",
       "         -0.27346113, -0.27346113,         nan,         nan,         nan,\n",
       "                 nan,  0.35929285, -0.26514078,  0.07962583,         nan,\n",
       "         -0.42200429, -0.40022846, -0.46580794, -0.38110556, -0.59400881,\n",
       "         -0.19817265,         nan]]),\n",
       " array([[-0.18818767,  2.9672374 , -1.53275247, -0.3679255 ,         nan,\n",
       "                 nan,         nan, -0.43666251, -0.15300418,  2.9672374 ,\n",
       "         -0.43666251, -0.43666251, -0.43666251, -0.43666251, -0.40105377,\n",
       "         -0.22635729, -0.15300418,  0.69797079,  2.68357907,         nan,\n",
       "         -0.41537067, -0.33105931,         nan, -0.41097192, -0.43666251,\n",
       "         -0.27605036, -0.27605036,         nan,         nan,         nan,\n",
       "                 nan,  0.41431247, -0.29164093,  0.13065414,         nan,\n",
       "         -0.28187387, -0.2596083 , -0.47432043, -0.36438302, -0.57157331,\n",
       "         -0.26582867,         nan]]),\n",
       " array([[-0.18148139,  3.08110708, -1.48735668, -0.3253127 ,         nan,\n",
       "                 nan,         nan, -0.418888  , -0.12722175,  3.08110708,\n",
       "         -0.418888  , -0.418888  , -0.418888  , -0.418888  , -0.43674911,\n",
       "         -0.37321661, -0.12722175,  0.45611077,  2.49777457,         nan,\n",
       "         -0.38389628, -0.3096507 ,         nan, -0.32954137, -0.418888  ,\n",
       "         -0.418888  , -0.418888  ,         nan,         nan,         nan,\n",
       "                 nan,  0.45611077, -0.27870987,  0.16444451,         nan,\n",
       "         -0.23013714, -0.17657875, -0.43819691, -0.3665061 , -0.55400161,\n",
       "         -0.25977204,         nan]]),\n",
       " array([[-0.15856033,  3.21279463, -1.22672736, -0.31813062,         nan,\n",
       "                 nan,         nan, -0.43619365, -0.1321113 ,  3.21279463,\n",
       "         -0.43619365, -0.43619365, -0.43619365, -0.43619365, -0.48029727,\n",
       "         -0.40856601, -0.1321113 ,  0.17197106,  2.30054756,         nan,\n",
       "         -0.39216274, -0.27194102,         nan, -0.15527044, -0.43619365,\n",
       "         -0.43619365, -0.43619365,         nan,         nan,         nan,\n",
       "                 nan,  0.47605342, -0.29912812,  0.17197106,         nan,\n",
       "         -0.23764675, -0.1095861 , -0.47666711, -0.37776896, -0.55154753,\n",
       "         -0.32836018,         nan]]),\n",
       " array([[-0.10292567,  3.23538715, -1.72507744, -0.29652177,         nan,\n",
       "                 nan,         nan, -0.39963912, -0.09672026,  3.23538715,\n",
       "         -0.39963912, -0.39963912, -0.39963912, -0.39963912, -0.44876652,\n",
       "         -0.28762422, -0.09672026, -0.09672026,  2.02371173,         nan,\n",
       "         -0.34535399, -0.27443121,         nan,  0.23958658, -0.39963912,\n",
       "         -0.39963911, -0.39963912,         nan,         nan,         nan,\n",
       "                 nan,  0.50911745, -0.26145303, -0.09672026,         nan,\n",
       "         -0.22156023, -0.1300916 , -0.43853898, -0.34069087, -0.52060398,\n",
       "         -0.26555656,         nan]]),\n",
       " array([[-0.12448719,  3.23979321, -1.79981393, -0.30957631,         nan,\n",
       "                 nan,         nan, -0.41160741, -0.10732403,  3.23979321,\n",
       "         -0.41160741, -0.41160741, -0.41160741, -0.41160741, -0.45399471,\n",
       "         -0.38920209, -0.10732403,  0.19695936,  1.71837628,         nan,\n",
       "         -0.29948149, -0.2817076 ,         nan,  0.75957696, -0.41160741,\n",
       "         -0.41160741, -0.41160741,         nan,         nan,         nan,\n",
       "                 nan, -0.10732403, -0.23199778,  0.50124274,         nan,\n",
       "         -0.26167899, -0.21369376, -0.50325549, -0.33225734, -0.55445307,\n",
       "         -0.28531061,         nan]]),\n",
       " array([[-0.1244227 ,  3.2195502 , -2.02329805, -0.3196646 ,         nan,\n",
       "                 nan,         nan, -0.41162176, -0.10902409,  3.2195502 ,\n",
       "         -0.41162176, -0.41162176, -0.41162176, -0.41162176, -0.2431281 ,\n",
       "         -0.13240783, -0.10902409, -0.10902409,  1.40396422,         nan,\n",
       "         -0.33561565, -0.11859719,         nan,  1.12043102, -0.41162176,\n",
       "         -0.41162175, -0.41162176,         nan,         nan,         nan,\n",
       "                 nan, -0.10902409, -0.21441701,  0.49617123,         nan,\n",
       "         -0.27909601, -0.2688074 , -0.51709877, -0.33391301, -0.59343759,\n",
       "         -0.22669254,         nan]]),\n",
       " array([[-0.20634483,  2.67023058, -1.93922455, -0.37762009,         nan,\n",
       "                 nan,         nan, -0.43888221, -0.17978948,  2.67023058,\n",
       "         -0.43888221, -0.43888221, -0.43888221, -0.43888221, -0.33519053,\n",
       "         -0.30411199, -0.17978948,  0.07930326,  0.85658145,         nan,\n",
       "         -0.3570717 , -0.23170307,         nan,  2.84182434, -0.43888221,\n",
       "         -0.4388822 , -0.43888221,         nan,         nan,         nan,\n",
       "                 nan,  0.33839599, -0.26445458,  0.85658145,         nan,\n",
       "         -0.34218729, -0.33067643, -0.52784976, -0.36310122, -0.60312913,\n",
       "         -0.25984587,         nan]]),\n",
       " array([[-0.21645059,  2.58175079, -1.8871452 , -0.35775478,         nan,\n",
       "                 nan,         nan, -0.4167453 , -0.16687062,  2.58175079,\n",
       "         -0.4167453 , -0.4167453 , -0.4167453 , -0.4167453 , -0.46099835,\n",
       "         -0.27813383, -0.16687062, -0.16687062,  0.5827534 ,         nan,\n",
       "         -0.33393184, -0.24611217,         nan,  2.97777693, -0.4167453 ,\n",
       "         -0.41674529, -0.4167453 ,         nan,         nan,         nan,\n",
       "                 nan,  0.08300405, -0.23798759,  1.33237742,         nan,\n",
       "         -0.3587301 , -0.31331214, -0.49960809, -0.31095268, -0.56980293,\n",
       "         -0.23391884,         nan]]),\n",
       " array([[-0.21589244,  2.65556354, -2.28152803, -0.31056648,         nan,\n",
       "                 nan,         nan, -0.37950388, -0.12658159,  2.65556354,\n",
       "         -0.37950388, -0.37950388, -0.37950388, -0.37950388, -0.37795794,\n",
       "         -0.2164355 , -0.12658159, -0.12658159,  2.65556354,         nan,\n",
       "         -0.321542  , -0.19561022,         nan,  0.39507229, -0.37950388,\n",
       "         -0.37950388, -0.37950388,         nan,         nan,         nan,\n",
       "                 nan, -0.12658159, -0.19423596,  1.39095211,         nan,\n",
       "         -0.34068528, -0.29630002, -0.4490561 , -0.30383795, -0.54280608,\n",
       "         -0.16390358,         nan]]),\n",
       " array([[-0.17817886,  2.52706766, -3.00327644, -0.27667029,         nan,\n",
       "                 nan,         nan, -0.33143242, -0.09322408,  2.52706766,\n",
       "         -0.33143242, -0.33143242, -0.33143242, -0.33143242, -0.34325557,\n",
       "         -0.26442516, -0.09322408,  1.09781762,  2.28885932,         nan,\n",
       "         -0.25169494, -0.24846648,         nan,  0.03583383, -0.33143242,\n",
       "         -0.33143242, -0.33143242,         nan,         nan,         nan,\n",
       "                 nan,  0.14498426, -0.13835795,  0.85960928,         nan,\n",
       "         -0.3021847 , -0.2770383 , -0.42101445, -0.24730265, -0.44797301,\n",
       "         -0.24349328,         nan]]),\n",
       " array([[-0.13865973,  2.89187343, -2.28561277, -0.32310423,         nan,\n",
       "                 nan,         nan, -0.38188892, -0.10907539,  2.89187343,\n",
       "         -0.38188892, -0.38188892, -0.38188892, -0.38188892, -0.37814306,\n",
       "         -0.34319653, -0.10907539,  0.98217872,  2.34624637,         nan,\n",
       "         -0.27065777, -0.10078738,         nan, -0.09627744, -0.38188892,\n",
       "         -0.38188892, -0.38188892,         nan,         nan,         nan,\n",
       "                 nan,  0.16373814, -0.26008786,  0.16373814,         nan,\n",
       "         -0.27782964, -0.17666842, -0.49420987, -0.27619845, -0.57899494,\n",
       "         -0.16595798,         nan]]),\n",
       " array([[-0.26480433,  2.96033222, -0.25074234, -0.3833821 ,         nan,\n",
       "                 nan,         nan, -0.5051082 , -0.2163215 ,  2.96033222,\n",
       "         -0.5051082 , -0.5051082 , -0.5051082 , -0.5051082 , -0.36507912,\n",
       "         -0.25309449, -0.2163215 ,  0.65003861,  2.96033222,         nan,\n",
       "         -0.47856278, -0.4170911 ,         nan,  0.0851427 , -0.5051082 ,\n",
       "         -0.3693527 , -0.3693527 ,         nan,         nan,         nan,\n",
       "                 nan,  0.0724652 , -0.30670723,  0.0724652 ,         nan,\n",
       "         -0.419819  , -0.3636984 , -0.56216127, -0.44119727, -0.63597403,\n",
       "         -0.41679729,         nan]]),\n",
       " array([[-0.17985367,  2.97756651, -1.6333283 , -0.29241698,         nan,\n",
       "                 nan,         nan, -0.41753134, -0.13460652,  2.97756651,\n",
       "         -0.41753134, -0.41753134, -0.41753134, -0.41753134, -0.48347056,\n",
       "         -0.32985629, -0.13460652,  0.43124312,  2.69464169,         nan,\n",
       "         -0.28168451, -0.31437835,         nan,  0.36679488, -0.41753134,\n",
       "         -0.41753134, -0.41753134,         nan,         nan,         nan,\n",
       "                 nan,  0.1483183 , -0.23290109, -0.13460652,         nan,\n",
       "         -0.278346  , -0.20569891, -0.55270105, -0.25569133, -0.53794429,\n",
       "         -0.27378942,         nan]]),\n",
       " array([[-0.14329155,  3.06346321, -1.83962845, -0.27499135,         nan,\n",
       "                 nan,         nan, -0.3860966 , -0.09863328,  3.06346321,\n",
       "         -0.3860966 , -0.3860966 , -0.3860966 , -0.3860966 , -0.45946207,\n",
       "         -0.2807754 , -0.09863328,  0.18883003,  2.48853658,         nan,\n",
       "         -0.32049906, -0.26026048,         nan, -0.19558026, -0.3860966 ,\n",
       "         -0.3860966 , -0.3860966 ,         nan,         nan,         nan,\n",
       "                 nan,  0.18883003, -0.21190688,  0.18883003,         nan,\n",
       "         -0.24759555, -0.19032341, -0.45313015, -0.27119167, -0.51333956,\n",
       "         -0.23393786,         nan]]),\n",
       " array([[-0.14855864,  3.13300843, -1.87786186, -0.2742556 ,         nan,\n",
       "                 nan,         nan, -0.39814628, -0.10388339,  3.13300843,\n",
       "         -0.39814628, -0.39814628, -0.39814628, -0.39814628, -0.42808252,\n",
       "         -0.24911708, -0.10388339, -0.10388339,  2.25021975,         nan,\n",
       "         -0.26406704, -0.22185104,         nan, -0.11391368, -0.39814628,\n",
       "         -0.39814627, -0.39814627,         nan,         nan,         nan,\n",
       "                 nan,  0.19037951, -0.20957855,  0.4846424 ,         nan,\n",
       "         -0.28292781, -0.21223968, -0.468815  , -0.21698767, -0.49138182,\n",
       "         -0.23480016,         nan]]),\n",
       " array([[-0.21604703,  3.02814411, -2.05138446, -0.34533712,         nan,\n",
       "                 nan,         nan, -0.4373768 , -0.14858339,  3.02814411,\n",
       "         -0.4373768 , -0.4373768 , -0.4373768 , -0.4373768 , -0.48109864,\n",
       "         -0.33472472, -0.14858339,  0.14021002,  1.87297047,         nan,\n",
       "         -0.31293408, -0.17681239,         nan,  0.72327755, -0.4373768 ,\n",
       "         -0.4373768 , -0.4373768 ,         nan,         nan,         nan,\n",
       "                 nan,  0.42900343, -0.27468966,  1.00659024,         nan,\n",
       "         -0.33138171, -0.31077021, -0.51278973, -0.29071816, -0.55028572,\n",
       "         -0.24318511,         nan]]),\n",
       " array([[-0.21952703,  3.05414735, -2.16492212, -0.33955898,         nan,\n",
       "                 nan,         nan, -0.41056825, -0.12184195,  3.05414735,\n",
       "         -0.41056825, -0.41056825, -0.41056825, -0.41056825, -0.41148823,\n",
       "         -0.37411548, -0.12184195, -0.12184195,  1.61051585,         nan,\n",
       "         -0.28125926, -0.1155817 ,         nan,  0.67737484, -0.41056825,\n",
       "         -0.41056824, -0.41056825,         nan,         nan,         nan,\n",
       "                 nan,  0.16688435, -0.22853406,  1.32178955,         nan,\n",
       "         -0.33017741, -0.29673582, -0.48308684, -0.25160443, -0.53212071,\n",
       "         -0.20607537,         nan]]),\n",
       " array([[-0.20451687,  2.58749504, -2.41310614, -0.34609393,         nan,\n",
       "                 nan,         nan, -0.38542368, -0.13768046,  2.58749504,\n",
       "         -0.38542368, -0.38542368, -0.38542368, -0.38542368, -0.37284445,\n",
       "         -0.32099505, -0.13768046,  2.58749504,  1.10103568,         nan,\n",
       "         -0.31016771, -0.14731313,         nan, -0.25696728, -0.38542368,\n",
       "         -0.38542368, -0.38542368,         nan,         nan,         nan,\n",
       "                 nan,  0.11006277, -0.23398208,  1.10103568,         nan,\n",
       "         -0.34494619, -0.28354094, -0.43568074, -0.3023278 , -0.4926728 ,\n",
       "         -0.25071372,         nan]]),\n",
       " array([[-0.20376044,  2.70305474, -2.35412305, -0.32490076,         nan,\n",
       "                 nan,         nan, -0.38690059, -0.12940431,  2.70305474,\n",
       "         -0.38690059, -0.38690059, -0.38690059, -0.38690059, -0.41180084,\n",
       "         -0.34533889, -0.12940431,  2.44555846,  0.9005808 ,         nan,\n",
       "         -0.29799497, -0.1803701 ,         nan, -0.18501687, -0.38690059,\n",
       "         -0.38690058, -0.38690059,         nan,         nan,         nan,\n",
       "                 nan,  0.12809197, -0.22602951,  1.15807707,         nan,\n",
       "         -0.32045425, -0.30270506, -0.46568164, -0.29518415, -0.50079116,\n",
       "         -0.27025273,         nan]]),\n",
       " array([[-0.19802764,  2.84252887, -2.36094668, -0.30370496,         nan,\n",
       "                 nan,         nan, -0.38459153, -0.11566483,  2.84252887,\n",
       "         -0.38459153, -0.38459153, -0.38459153, -0.38459153, -0.35959833,\n",
       "         -0.2265454 , -0.11566483,  2.30467547,  0.69111527,         nan,\n",
       "         -0.2791927 , -0.20331184,         nan, -0.23327881, -0.38459153,\n",
       "         -0.38459152, -0.38459153,         nan,         nan,         nan,\n",
       "                 nan,  0.15326187, -0.21769521,  0.96004197,         nan,\n",
       "         -0.30389438, -0.29280413, -0.45310622, -0.27352887, -0.50350718,\n",
       "         -0.27694813,         nan]]),\n",
       " array([[-0.1715579 ,  2.90382206, -2.48978896, -0.29801511,         nan,\n",
       "                 nan,         nan, -0.35909609, -0.08718624,  2.90382206,\n",
       "         -0.35909609, -0.35909609, -0.35909609, -0.35909609, -0.44461215,\n",
       "         -0.24630161, -0.08718624,  2.08809253,  0.45663345,         nan,\n",
       "         -0.32187185, -0.18551493,         nan, -0.14462038, -0.35909609,\n",
       "         -0.35909608, -0.35909609,         nan,         nan,         nan,\n",
       "                 nan,  0.1847236 , -0.18660117,  1.00045314,         nan,\n",
       "         -0.28299157, -0.26763942, -0.41239835, -0.3019195 , -0.49389412,\n",
       "         -0.24267865,         nan]]),\n",
       " array([[-0.13912172,  3.02959783, -2.49803302, -0.29002071,         nan,\n",
       "                 nan,         nan, -0.34641753, -0.06508292,  3.02959783,\n",
       "         -0.34641753, -0.34641753, -0.34641753, -0.34641753, -0.29029786,\n",
       "         -0.21443049, -0.06508292,  1.90425937,  0.21625169,         nan,\n",
       "         -0.30571223, -0.29210553,         nan, -0.1634704 , -0.34641753,\n",
       "         -0.34641753, -0.34641753,         nan,         nan,         nan,\n",
       "                 nan,  0.21625169, -0.1639664 ,  0.77892092,         nan,\n",
       "         -0.26098314, -0.24334151, -0.41031442, -0.28791484, -0.42237437,\n",
       "         -0.2912866 ,         nan]]),\n",
       " array([[-0.19782297,  2.63451079, -2.27457174, -0.36392653,         nan,\n",
       "                 nan,         nan, -0.40315785, -0.1500188 ,  2.63451079,\n",
       "         -0.40315785, -0.40315785, -0.40315785, -0.40315785, -0.50549761,\n",
       "         -0.32400326, -0.1500188 ,  1.36881552,  2.63451079,         nan,\n",
       "         -0.37928078, -0.24419371,         nan, -0.20656125, -0.40315785,\n",
       "         -0.24675825, -0.24675825,         nan,         nan,         nan,\n",
       "                 nan,  0.10312025, -0.27542759,  0.60939836,         nan,\n",
       "         -0.3185721 , -0.28895873, -0.38231055, -0.33901104, -0.53686623,\n",
       "         -0.13536121,         nan]]),\n",
       " array([[-0.25446723,  2.84225043, -0.95678228, -0.41857682,         nan,\n",
       "                 nan,         nan, -0.49532386, -0.21719267,  2.84225043,\n",
       "         -0.49532386, -0.49532386, -0.49532386, -0.49532386, -0.58190381,\n",
       "         -0.36848673, -0.21719267,  1.17346329,  2.84225043,         nan,\n",
       "         -0.41855942, -0.31824935,         nan, -0.37340415, -0.49532386,\n",
       "         -0.32162704, -0.32162704,         nan,         nan,         nan,\n",
       "                 nan,  0.06093852, -0.351795  ,  0.61720091,         nan,\n",
       "         -0.33495463, -0.29069988, -0.5301505 , -0.34648571, -0.67057878,\n",
       "         -0.11367716,         nan]]),\n",
       " array([[-0.220449  ,  2.93420799, -1.5084438 , -0.36846487,         nan,\n",
       "                 nan,         nan, -0.46015252, -0.17728915,  2.93420799,\n",
       "         -0.46015252, -0.46015252, -0.46015252, -0.46015252, -0.40151169,\n",
       "         -0.41214821, -0.17728915,  0.95416436,  2.65134461,         nan,\n",
       "         -0.39487227, -0.38925575,         nan,  0.01744241, -0.46015252,\n",
       "         -0.1884924 , -0.46015252,         nan,         nan,         nan,\n",
       "                 nan,  0.10557423, -0.33053491,  0.38843761,         nan,\n",
       "         -0.26700864, -0.18716687, -0.46498826, -0.38903203, -0.55032539,\n",
       "         -0.33703915,         nan]]),\n",
       " array([[-0.20127374,  3.07692707, -1.28274855, -0.35805397,         nan,\n",
       "                 nan,         nan, -0.45828798, -0.16368673,  3.07692707,\n",
       "         -0.45828798, -0.45828798, -0.45828798, -0.45828798, -0.39369003,\n",
       "         -0.30485364, -0.16368673,  0.72011704,  2.48772456,         nan,\n",
       "         -0.41437254, -0.3250032 ,         nan,  0.4383106 , -0.45828798,\n",
       "         -0.45828798, -0.45828798,         nan,         nan,         nan,\n",
       "                 nan,  0.13091453, -0.37747804, -0.16368673,         nan,\n",
       "         -0.25002738, -0.07113705, -0.46876695, -0.40304095, -0.58424976,\n",
       "         -0.33886104,         nan]]),\n",
       " array([[-0.2106296 ,  3.17008928, -1.02663307, -0.35566941,         nan,\n",
       "                 nan,         nan, -0.48108608, -0.17682147,  3.17008928,\n",
       "         -0.48108608, -0.48108608, -0.48108608, -0.48108608, -0.39661618,\n",
       "         -0.36456414, -0.17682147,  0.43170776,  2.25729544,         nan,\n",
       "         -0.40985933, -0.33697112,         nan,  0.87189415, -0.48108608,\n",
       "         -0.48108607, -0.48108608,         nan,         nan,         nan,\n",
       "                 nan,  0.12744315, -0.36235707, -0.17682147,         nan,\n",
       "         -0.26693029, -0.07076482, -0.49501105, -0.38977774, -0.60861351,\n",
       "         -0.3549687 ,         nan]]),\n",
       " array([[-0.16725821,  3.2732538 , -0.96610423, -0.32757591,         nan,\n",
       "                 nan,         nan, -0.46284716, -0.15150542,  3.2732538 ,\n",
       "         -0.46284716, -0.46284716, -0.46284716, -0.46284716, -0.62719343,\n",
       "         -0.34522689, -0.15150542,  0.15983633,  2.02788681,         nan,\n",
       "         -0.37651806, -0.37932735,         nan,  0.87732234, -0.46284716,\n",
       "         -0.46284716, -0.46284716,         nan,         nan,         nan,\n",
       "                 nan,  0.15983633, -0.31954038, -0.15150542,         nan,\n",
       "         -0.23892016, -0.08627553, -0.49902432, -0.36280716, -0.55923584,\n",
       "         -0.35908837,         nan]]),\n",
       " array([[-0.20312423,  3.19165768, -1.23228894, -0.35765804,         nan,\n",
       "                 nan,         nan, -0.49465135, -0.18745893,  3.19165768,\n",
       "         -0.49465135, -0.49465135, -0.49465135, -0.49465135, -0.5125421 ,\n",
       "         -0.34516416, -0.18745893, -0.18745893,  1.65569559,         nan,\n",
       "         -0.44481116, -0.23902845,         nan,  1.45886109, -0.49465135,\n",
       "         -0.25936133, -0.49465135,         nan,         nan,         nan,\n",
       "                 nan,  0.42692591, -0.29513525,  0.42692591,         nan,\n",
       "         -0.29562818, -0.21397938, -0.51847856, -0.43103448, -0.60934086,\n",
       "         -0.3692125 ,         nan]]),\n",
       " array([[-0.10467991,  3.27271631, -2.05906908, -0.31631557,         nan,\n",
       "                 nan,         nan, -0.39219172, -0.08678272,  3.27271631,\n",
       "         -0.39219172, -0.39219172, -0.39219172, -0.39219172, -0.43473582,\n",
       "         -0.36970352, -0.08678272, -0.08678272,  1.44026229,         nan,\n",
       "         -0.35645716, -0.30012793,         nan,  0.19341993, -0.39219172,\n",
       "         -0.08678272, -0.39219172,         nan,         nan,         nan,\n",
       "                 nan,  0.21862628, -0.21035445,  0.82944429,         nan,\n",
       "         -0.28150016, -0.27320368, -0.38158089, -0.32028109, -0.46417549,\n",
       "         -0.26252776,         nan]]),\n",
       " array([[-0.14767576,  2.78291678, -2.28194306, -0.34682328,         nan,\n",
       "                 nan,         nan, -0.38857476, -0.1242838 ,  2.78291678,\n",
       "         -0.38857476, -0.38857476, -0.38857476, -0.38857476, -0.37390156,\n",
       "         -0.19049261, -0.1242838 ,  2.51862582,  0.93288005,         nan,\n",
       "         -0.32800459, -0.27988757,         nan, -0.20159153, -0.38857476,\n",
       "         -0.38857475, -0.38857476,         nan,         nan,         nan,\n",
       "                 nan,  0.14000717, -0.18886003,  0.66858909,         nan,\n",
       "         -0.32878203, -0.27118101, -0.45984613, -0.30253398, -0.49529814,\n",
       "         -0.27194874,         nan]]),\n",
       " array([[-0.13340297,  2.79114121, -2.65911413, -0.30809081,         nan,\n",
       "                 nan,         nan, -0.35005322, -0.08828702,  2.79114121,\n",
       "         -0.35005322, -0.35005322, -0.35005322, -0.35005322, -0.35965192,\n",
       "         -0.22415164, -0.08828702,  2.26760881,  0.69701159,         nan,\n",
       "         -0.26652764, -0.0371451 ,         nan, -0.32001974, -0.35005322,\n",
       "         -0.35005322, -0.35005322,         nan,         nan,         nan,\n",
       "                 nan,  0.17347918, -0.14424201,  0.69701159,         nan,\n",
       "         -0.31042641, -0.26950892, -0.43596588, -0.26353021, -0.49742292,\n",
       "         -0.21119348,         nan]]),\n",
       " array([[-0.10045725,  2.77141945, -3.01946415, -0.23793828,         nan,\n",
       "                 nan,         nan, -0.29918593, -0.04330214,  2.77141945,\n",
       "         -0.29918593, -0.29918593, -0.29918593, -0.29918593, -0.39698168,\n",
       "         -0.24210763, -0.04330214,  2.00376811,  0.46846542,         nan,\n",
       "         -0.21756573, -0.15503046,         nan, -0.26639812, -0.29918593,\n",
       "         -0.29918592, -0.29918593,         nan,         nan,         nan,\n",
       "                 nan,  0.21258164, -0.08807142,  0.7243492 ,         nan,\n",
       "         -0.27294831, -0.2522153 , -0.38713758, -0.21807326, -0.4462661 ,\n",
       "         -0.17125628,         nan]]),\n",
       " array([[-0.12211327,  3.0403097 , -2.53711747, -0.22325421,         nan,\n",
       "                 nan,         nan, -0.34702298, -0.06474525,  3.0403097 ,\n",
       "         -0.34702298, -0.34702298, -0.34702298, -0.34702298, -0.39199429,\n",
       "         -0.2580385 , -0.06474525,  1.91119881,  0.21753247,         nan,\n",
       "         -0.12045031, -0.11000162,         nan, -0.25659041, -0.34702298,\n",
       "         -0.34702297, -0.34702298,         nan,         nan,         nan,\n",
       "                 nan,  0.21753247, -0.11981796,  0.49981019,         nan,\n",
       "         -0.29733579, -0.25172341, -0.47992891, -0.19172679, -0.52804418,\n",
       "         -0.13288192,         nan]]),\n",
       " array([[-0.05369115,  2.89817997, -3.12291525, -0.18083206,         nan,\n",
       "                 nan,         nan, -0.27441484, -0.01003194,  2.89817997,\n",
       "         -0.27441484, -0.27441484, -0.27441484, -0.27441484, -0.32889859,\n",
       "         -0.1554089 , -0.01003194,  1.57626547, -0.01003194,         nan,\n",
       "         -0.13691575, -0.11272477,         nan, -0.23986676, -0.27441484,\n",
       "         -0.27441484, -0.27441484,         nan,         nan,         nan,\n",
       "                 nan, -0.01003194, -0.08023325,  0.78311676,         nan,\n",
       "         -0.25816636, -0.19757408, -0.40525026, -0.13300372, -0.43676048,\n",
       "         -0.07805429,         nan]]),\n",
       " array([[-0.07982822,  2.92443914, -3.05058003, -0.26496289,         nan,\n",
       "                 nan,         nan, -0.31505843, -0.0451003 ,  2.92443914,\n",
       "         -0.31505843, -0.31505843, -0.31505843, -0.31505843, -0.32988952,\n",
       "         -0.22660313, -0.0451003 ,  1.30469036,  0.76477409,         nan,\n",
       "         -0.21946075, -0.07227189,         nan, -0.2861732 , -0.31505843,\n",
       "         -0.31505843, -0.31505843,         nan,         nan,         nan,\n",
       "                 nan,  0.49481596, -0.10080906,  0.49481596,         nan,\n",
       "         -0.29113346, -0.25806414, -0.43686651, -0.17436636, -0.50942027,\n",
       "          0.00312281,         nan]]),\n",
       " array([[-0.06488559,  2.99770592, -3.06807751, -0.21641216,         nan,\n",
       "                 nan,         nan, -0.29787201, -0.02324052,  2.99770592,\n",
       "         -0.29787201, -0.29787201, -0.29787201, -0.29787201, -0.38167959,\n",
       "         -0.1941325 , -0.02324052,  1.07528546,  0.52602247,         nan,\n",
       "         -0.16341828, -0.13553287,         nan, -0.22149661, -0.29787201,\n",
       "         -0.29787201, -0.29787201,         nan,         nan,         nan,\n",
       "                 nan,  0.52602247, -0.06369129,  0.52602247,         nan,\n",
       "         -0.29648638, -0.26238973, -0.41815685, -0.16770549, -0.46302843,\n",
       "         -0.10221426,         nan]]),\n",
       " array([[-0.11484696,  3.14338034, -2.63535466, -0.24774402,         nan,\n",
       "                 nan,         nan, -0.34310051, -0.05256044,  3.14338034,\n",
       "         -0.34310051, -0.34310051, -0.34310051, -0.34310051, -0.32645858,\n",
       "         -0.28279666, -0.05256044,  0.81905977,  0.23797963,         nan,\n",
       "         -0.20127079, -0.04839969,         nan, -0.1985858 , -0.34310051,\n",
       "         -0.34310051, -0.34310051,         nan,         nan,         nan,\n",
       "                 nan,  0.5285197 , -0.1261054 ,  1.10959984,         nan,\n",
       "         -0.32676259, -0.2607541 , -0.48001265, -0.20469034, -0.5282472 ,\n",
       "         -0.14996521,         nan]]),\n",
       " array([[-0.11706025,  3.0847711 , -2.84220182, -0.23296729,         nan,\n",
       "                 nan,         nan, -0.30065028, -0.01853183,  3.0847711 ,\n",
       "         -0.30065028, -0.30065028, -0.30065028, -0.30065028, -0.30000553,\n",
       "         -0.15189956, -0.01853183,  0.54570506, -0.01853183,         nan,\n",
       "         -0.16311148, -0.08503674,         nan, -0.26172232, -0.30065028,\n",
       "         -0.30065028, -0.30065028,         nan,         nan,         nan,\n",
       "                 nan,  0.26358662, -0.10494141,  1.39206041,         nan,\n",
       "         -0.3374666 , -0.15045563, -0.41562807, -0.15471742, -0.46621046,\n",
       "         -0.12667194,         nan]]),\n",
       " array([[-0.1839485 ,  2.4433092 , -3.17360187, -0.27103915,         nan,\n",
       "                 nan,         nan, -0.31171049, -0.08212552,  2.4433092 ,\n",
       "         -0.31171049, -0.31171049, -0.31171049, -0.31171049, -0.25723426,\n",
       "         -0.11988422, -0.08212552,  0.14745946,  2.4433092 ,         nan,\n",
       "         -0.246087  , -0.22523562,         nan,  0.38623383, -0.31171049,\n",
       "         -0.31171049, -0.31171049,         nan,         nan,         nan,\n",
       "                 nan,  0.14745946, -0.15922392,  1.06579936,         nan,\n",
       "         -0.35553779, -0.19859563, -0.37925492, -0.21358198, -0.41201302,\n",
       "         -0.22370688,         nan]]),\n",
       " array([[-0.18594708,  2.76161192, -2.55601073, -0.2456228 ,         nan,\n",
       "                 nan,         nan, -0.33346666, -0.07554345,  2.76161192,\n",
       "         -0.33346666, -0.33346666, -0.33346666, -0.33346666, -0.43354817,\n",
       "         -0.16345993, -0.07554345, -0.07554345,  2.5036887 ,         nan,\n",
       "         -0.21871817, -0.22851691,         nan, -0.25699154, -0.33346666,\n",
       "         -0.33346666, -0.33346666,         nan,         nan,         nan,\n",
       "                 nan,  0.18237977, -0.17413175,  0.95614941,         nan,\n",
       "         -0.30372307, -0.23316614, -0.39403752, -0.19764945, -0.42129459,\n",
       "         -0.25826025,         nan]]),\n",
       " array([[-0.20756439,  2.76290771, -2.52079304, -0.31964134,         nan,\n",
       "                 nan,         nan, -0.36473939, -0.10410213,  2.76290771,\n",
       "         -0.36473939, -0.36473939, -0.36473939, -0.36473939, -0.50460644,\n",
       "         -0.24672587, -0.10410213,  0.67780964,  2.24163319,         nan,\n",
       "         -0.24494219, -0.2493865 ,         nan, -0.23345337, -0.36473939,\n",
       "         -0.36473939, -0.36473939,         nan,         nan,         nan,\n",
       "                 nan,  0.15653513, -0.18268999,  1.19908416,         nan,\n",
       "         -0.33489176, -0.24312455, -0.39151955, -0.25407981, -0.44469869,\n",
       "         -0.29664064,         nan]]),\n",
       " array([[-0.19998399,  2.84618234, -2.56797394, -0.31871753,         nan,\n",
       "                 nan,         nan, -0.37014882, -0.10212122,  2.84618234,\n",
       "         -0.37014882, -0.37014882, -0.37014882, -0.37014882, -0.40976704,\n",
       "         -0.29098019, -0.10212122,  0.43393397,  2.04209955,         nan,\n",
       "         -0.18309816, -0.1557985 ,         nan, -0.22089237, -0.37014882,\n",
       "         -0.37014882, -0.37014882,         nan,         nan,         nan,\n",
       "                 nan,  0.16590637, -0.18204097,  1.23801676,         nan,\n",
       "         -0.34144969, -0.25253226, -0.40817843, -0.21262928, -0.43781043,\n",
       "         -0.22503556,         nan]]),\n",
       " array([[-0.18281321,  2.94854264, -2.66138225, -0.31396505,         nan,\n",
       "                 nan,         nan, -0.35359701, -0.0784187 ,  2.94854264,\n",
       "         -0.35359701, -0.35359701, -0.35359701, -0.35359701, -0.34815045,\n",
       "         -0.28389307, -0.0784187 ,  0.1967596 ,  1.84782943,         nan,\n",
       "         -0.2023898 , -0.1760422 ,         nan, -0.20704464, -0.35359701,\n",
       "         -0.353597  , -0.35359701,         nan,         nan,         nan,\n",
       "                 nan,  0.1967596 , -0.16577922,  1.02229451,         nan,\n",
       "         -0.32312721, -0.22337577, -0.38322164, -0.17133476, -0.39129798,\n",
       "         -0.14129773,         nan]])]"
      ]
     },
     "execution_count": 13,
     "metadata": {},
     "output_type": "execute_result"
    }
   ],
   "source": [
    "results"
   ]
  },
  {
   "cell_type": "code",
   "execution_count": 10,
   "metadata": {},
   "outputs": [
    {
     "data": {
      "text/html": [
       "<div>\n",
       "<style scoped>\n",
       "    .dataframe tbody tr th:only-of-type {\n",
       "        vertical-align: middle;\n",
       "    }\n",
       "\n",
       "    .dataframe tbody tr th {\n",
       "        vertical-align: top;\n",
       "    }\n",
       "\n",
       "    .dataframe thead th {\n",
       "        text-align: right;\n",
       "    }\n",
       "</style>\n",
       "<table border=\"1\" class=\"dataframe\">\n",
       "  <thead>\n",
       "    <tr style=\"text-align: right;\">\n",
       "      <th></th>\n",
       "      <th>unique_id</th>\n",
       "      <th>m3</th>\n",
       "    </tr>\n",
       "  </thead>\n",
       "  <tbody>\n",
       "    <tr>\n",
       "      <th>0</th>\n",
       "      <td>D1</td>\n",
       "      <td>860.685</td>\n",
       "    </tr>\n",
       "    <tr>\n",
       "      <th>1</th>\n",
       "      <td>D1</td>\n",
       "      <td>1027.991</td>\n",
       "    </tr>\n",
       "    <tr>\n",
       "      <th>2</th>\n",
       "      <td>D1</td>\n",
       "      <td>919.660</td>\n",
       "    </tr>\n",
       "    <tr>\n",
       "      <th>3</th>\n",
       "      <td>D1</td>\n",
       "      <td>823.809</td>\n",
       "    </tr>\n",
       "    <tr>\n",
       "      <th>4</th>\n",
       "      <td>D1</td>\n",
       "      <td>727.958</td>\n",
       "    </tr>\n",
       "    <tr>\n",
       "      <th>5</th>\n",
       "      <td>D1</td>\n",
       "      <td>966.731</td>\n",
       "    </tr>\n",
       "    <tr>\n",
       "      <th>6</th>\n",
       "      <td>D1</td>\n",
       "      <td>986.084</td>\n",
       "    </tr>\n",
       "    <tr>\n",
       "      <th>7</th>\n",
       "      <td>D1</td>\n",
       "      <td>684.643</td>\n",
       "    </tr>\n",
       "    <tr>\n",
       "      <th>8</th>\n",
       "      <td>D1</td>\n",
       "      <td>975.116</td>\n",
       "    </tr>\n",
       "    <tr>\n",
       "      <th>9</th>\n",
       "      <td>D1</td>\n",
       "      <td>797.041</td>\n",
       "    </tr>\n",
       "    <tr>\n",
       "      <th>10</th>\n",
       "      <td>D1</td>\n",
       "      <td>1514.678</td>\n",
       "    </tr>\n",
       "    <tr>\n",
       "      <th>11</th>\n",
       "      <td>D1</td>\n",
       "      <td>899.800</td>\n",
       "    </tr>\n",
       "  </tbody>\n",
       "</table>\n",
       "</div>"
      ],
      "text/plain": [
       "   unique_id        m3\n",
       "0         D1   860.685\n",
       "1         D1  1027.991\n",
       "2         D1   919.660\n",
       "3         D1   823.809\n",
       "4         D1   727.958\n",
       "5         D1   966.731\n",
       "6         D1   986.084\n",
       "7         D1   684.643\n",
       "8         D1   975.116\n",
       "9         D1   797.041\n",
       "10        D1  1514.678\n",
       "11        D1   899.800"
      ]
     },
     "execution_count": 10,
     "metadata": {},
     "output_type": "execute_result"
    }
   ],
   "source": [
    "target_feat"
   ]
  },
  {
   "cell_type": "code",
   "execution_count": null,
   "metadata": {},
   "outputs": [],
   "source": [
    "\n",
    "# TsFeatures_filled = TsFeatures.fillna(0)\n",
    "# TsFeatures_filled.replace([float('inf'), -float('inf')], 0, inplace=True)\n",
    "# TsFeatures_filled.columns = [f'F_{i+1}' for i in range(TsFeatures_filled.shape[1])]\n",
    "\n",
    "# y_norm = rolling_window(series,window)\n",
    "\n",
    "# # Catch22_filled.insert(len(Catch22_filled.columns), 'timestamp', df['timestamp'].tail(len(series)-horizon).reset_index(drop=True))\n",
    "# TsFeatures_filled.insert(0, 'timestamp', df['timestamp'].tail(len(series)-window).reset_index(drop=True))\n",
    "\n",
    "# TsFeatures_filled['y'] = y_norm.iloc[:, [-1]]\n",
    "\n",
    "# X_train, X_test, y_train, y_test = train_test_split(TsFeatures_filled, horizon, freqF)\n",
    "\n",
    "# # Selecting the first column of monthly_data to pass the dates\n",
    "# first_column=[]\n",
    "# first_column = df['timestamp']\n",
    "# first_column = first_column[window:-(horizon)]\n",
    "# first_column = first_column.reset_index(drop=True)\n",
    "\n",
    "# # Concatenating the first column with monthly_data_norm along axis 1 (columns)\n",
    "# prophet_data2 = pd.concat([X_train, y_train], axis=1)\n",
    "# prophet_data2.rename(columns={'timestamp': 'ds'}, inplace=True)\n",
    "\n",
    "# model = Prophet()\n",
    "\n",
    "# new_column_names = []\n",
    "# for col in prophet_data2.columns:\n",
    "#     if col == 'ds':\n",
    "#         new_column_names.append('ds')\n",
    "#     elif col == 'y':\n",
    "#         new_column_names.append('y')\n",
    "#     else:\n",
    "#         new_column_names.append(f'{col}')\n",
    "#         model.add_regressor(f'{col}', standardize=False)\n",
    "\n",
    "\n",
    "# model.fit(prophet_data2)\n",
    "\n",
    "\n",
    "# ##########################################################################\n",
    "\n",
    "# ## RECURSIVO PARA FEATURES\n",
    "\n",
    "# ##########################################################################\n",
    "\n",
    "# future_dates = pd.DataFrame(df['timestamp'].tail(12))\n",
    "# future_dates = future_dates.iloc[[0]].reset_index(drop=True)\n",
    "# future_dates.rename(columns={'timestamp': 'ds'}, inplace=True)\n",
    "# for col in new_column_names:\n",
    "#     if col != 'ds' and col != 'y':\n",
    "#         future_dates[col] = 0 \n",
    "\n",
    "############################################################################\n",
    "\n",
    "# predictions1a, predprophet = recursive_multistep_forecasting_ProphetCatch22N(series, model, horizon, window, future_dates)\n",
    "    \n",
    "# Valores_Previsao = [x[0] for x in predictions1a]\n",
    "\n",
    "# Valores_Reais = df['m3'].tail(12)\n",
    "# Valores_Reais = Valores_Reais.reset_index(drop=True)\n",
    "\n",
    "# ###########################################################\n",
    "\n",
    "# mean_norm, std_norm = get_stats_norm(series, horizon, window)\n",
    "# basepredictionsnorm = baseline_persistent_window(series, horizon)\n",
    "# basepredictions = znorm_reverse(basepredictionsnorm, mean_norm, std_norm)\n",
    "\n",
    "# ###########################################################\n",
    "\n",
    "# rmse_result2 = rmse(Valores_Reais, Valores_Previsao)\n",
    "# mape_result2 = mape(Valores_Reais, Valores_Previsao)\n",
    "# pocid_result2 = pocid(Valores_Reais, Valores_Previsao)\n",
    "# mcpm_result2 = mcpm(rmse_result2, mape_result2, pocid_result2)\n",
    "# pbe_result2 = pbe(Valores_Reais, Valores_Previsao)\n",
    "# mase_result2 = mase(Valores_Reais, Valores_Previsao, basepredictions)\n",
    "\n",
    "# # CSV Output VALORES REAIS\n",
    "# with open(f'02-Prophet_{window}_Catch22_output.csv', 'a', newline='') as file:\n",
    "#     writer = csv.writer(file)\n",
    "#     writer.writerow([\n",
    "#         product, estado, 'Prophet', mape_result2, pocid_result2, pbe_result2, mase_result2, Valores_Previsao\n",
    "#     ])\n",
    "\n",
    "# # import pickle\n",
    "# # with open(f'./00-MODELS_UF_MENSAL-Prophet-Catch22/{estado}_{product}_Prophet_Catchqq_model.pkl', 'wb') as fd: pickle.dump({model}, fd)\n",
    "\n"
   ]
  },
  {
   "cell_type": "code",
   "execution_count": null,
   "metadata": {},
   "outputs": [],
   "source": []
  },
  {
   "cell_type": "code",
   "execution_count": 10,
   "metadata": {},
   "outputs": [
    {
     "data": {
      "application/vnd.plotly.v1+json": {
       "config": {
        "plotlyServerURL": "https://plot.ly"
       },
       "data": [
        {
         "marker": {
          "color": "black",
          "size": 4
         },
         "mode": "markers",
         "name": "Actual",
         "type": "scatter",
         "x": [
          "1991-01-01T00:00:00",
          "1991-02-01T00:00:00",
          "1991-03-01T00:00:00",
          "1991-04-01T00:00:00",
          "1991-05-01T00:00:00",
          "1991-06-01T00:00:00",
          "1991-07-01T00:00:00",
          "1991-08-01T00:00:00",
          "1991-09-01T00:00:00",
          "1991-10-01T00:00:00",
          "1991-11-01T00:00:00",
          "1991-12-01T00:00:00",
          "1992-01-01T00:00:00",
          "1992-02-01T00:00:00",
          "1992-03-01T00:00:00",
          "1992-04-01T00:00:00",
          "1992-05-01T00:00:00",
          "1992-06-01T00:00:00",
          "1992-07-01T00:00:00",
          "1992-08-01T00:00:00",
          "1992-09-01T00:00:00",
          "1992-10-01T00:00:00",
          "1992-11-01T00:00:00",
          "1992-12-01T00:00:00",
          "1993-01-01T00:00:00",
          "1993-02-01T00:00:00",
          "1993-03-01T00:00:00",
          "1993-04-01T00:00:00",
          "1993-05-01T00:00:00",
          "1993-06-01T00:00:00",
          "1993-07-01T00:00:00",
          "1993-08-01T00:00:00",
          "1993-09-01T00:00:00",
          "1993-10-01T00:00:00",
          "1993-11-01T00:00:00",
          "1993-12-01T00:00:00",
          "1994-01-01T00:00:00",
          "1994-02-01T00:00:00",
          "1994-03-01T00:00:00",
          "1994-04-01T00:00:00",
          "1994-05-01T00:00:00",
          "1994-06-01T00:00:00",
          "1994-07-01T00:00:00",
          "1994-08-01T00:00:00",
          "1994-09-01T00:00:00",
          "1994-10-01T00:00:00",
          "1994-11-01T00:00:00",
          "1994-12-01T00:00:00",
          "1995-01-01T00:00:00",
          "1995-02-01T00:00:00",
          "1995-03-01T00:00:00",
          "1995-04-01T00:00:00",
          "1995-05-01T00:00:00",
          "1995-06-01T00:00:00",
          "1995-07-01T00:00:00",
          "1995-08-01T00:00:00",
          "1995-09-01T00:00:00",
          "1995-10-01T00:00:00",
          "1995-11-01T00:00:00",
          "1995-12-01T00:00:00",
          "1996-01-01T00:00:00",
          "1996-02-01T00:00:00",
          "1996-03-01T00:00:00",
          "1996-04-01T00:00:00",
          "1996-05-01T00:00:00",
          "1996-06-01T00:00:00",
          "1996-07-01T00:00:00",
          "1996-08-01T00:00:00",
          "1996-09-01T00:00:00",
          "1996-10-01T00:00:00",
          "1996-11-01T00:00:00",
          "1996-12-01T00:00:00",
          "1997-01-01T00:00:00",
          "1997-02-01T00:00:00",
          "1997-03-01T00:00:00",
          "1997-04-01T00:00:00",
          "1997-05-01T00:00:00",
          "1997-06-01T00:00:00",
          "1997-07-01T00:00:00",
          "1997-08-01T00:00:00",
          "1997-09-01T00:00:00",
          "1997-10-01T00:00:00",
          "1997-11-01T00:00:00",
          "1997-12-01T00:00:00",
          "1998-01-01T00:00:00",
          "1998-02-01T00:00:00",
          "1998-03-01T00:00:00",
          "1998-04-01T00:00:00",
          "1998-05-01T00:00:00",
          "1998-06-01T00:00:00",
          "1998-07-01T00:00:00",
          "1998-08-01T00:00:00",
          "1998-09-01T00:00:00",
          "1998-10-01T00:00:00",
          "1998-11-01T00:00:00",
          "1998-12-01T00:00:00",
          "1999-01-01T00:00:00",
          "1999-02-01T00:00:00",
          "1999-03-01T00:00:00",
          "1999-04-01T00:00:00",
          "1999-05-01T00:00:00",
          "1999-06-01T00:00:00",
          "1999-07-01T00:00:00",
          "1999-08-01T00:00:00",
          "1999-09-01T00:00:00",
          "1999-10-01T00:00:00",
          "1999-11-01T00:00:00",
          "1999-12-01T00:00:00",
          "2000-01-01T00:00:00",
          "2000-02-01T00:00:00",
          "2000-03-01T00:00:00",
          "2000-04-01T00:00:00",
          "2000-05-01T00:00:00",
          "2000-06-01T00:00:00",
          "2000-07-01T00:00:00",
          "2000-08-01T00:00:00",
          "2000-09-01T00:00:00",
          "2000-10-01T00:00:00",
          "2000-11-01T00:00:00",
          "2000-12-01T00:00:00",
          "2001-01-01T00:00:00",
          "2001-02-01T00:00:00",
          "2001-03-01T00:00:00",
          "2001-04-01T00:00:00",
          "2001-05-01T00:00:00",
          "2001-06-01T00:00:00",
          "2001-07-01T00:00:00",
          "2001-08-01T00:00:00",
          "2001-09-01T00:00:00",
          "2001-10-01T00:00:00",
          "2001-11-01T00:00:00",
          "2001-12-01T00:00:00",
          "2002-01-01T00:00:00",
          "2002-02-01T00:00:00",
          "2002-03-01T00:00:00",
          "2002-04-01T00:00:00",
          "2002-05-01T00:00:00",
          "2002-06-01T00:00:00",
          "2002-07-01T00:00:00",
          "2002-08-01T00:00:00",
          "2002-09-01T00:00:00",
          "2002-10-01T00:00:00",
          "2002-11-01T00:00:00",
          "2002-12-01T00:00:00",
          "2003-01-01T00:00:00",
          "2003-02-01T00:00:00",
          "2003-03-01T00:00:00",
          "2003-04-01T00:00:00",
          "2003-05-01T00:00:00",
          "2003-06-01T00:00:00",
          "2003-07-01T00:00:00",
          "2003-08-01T00:00:00",
          "2003-09-01T00:00:00",
          "2003-10-01T00:00:00",
          "2003-11-01T00:00:00",
          "2003-12-01T00:00:00",
          "2004-01-01T00:00:00",
          "2004-02-01T00:00:00",
          "2004-03-01T00:00:00",
          "2004-04-01T00:00:00",
          "2004-05-01T00:00:00",
          "2004-06-01T00:00:00",
          "2004-07-01T00:00:00",
          "2004-08-01T00:00:00",
          "2004-09-01T00:00:00",
          "2004-10-01T00:00:00",
          "2004-11-01T00:00:00",
          "2004-12-01T00:00:00",
          "2005-01-01T00:00:00",
          "2005-02-01T00:00:00",
          "2005-03-01T00:00:00",
          "2005-04-01T00:00:00",
          "2005-05-01T00:00:00",
          "2005-06-01T00:00:00",
          "2005-07-01T00:00:00",
          "2005-08-01T00:00:00",
          "2005-09-01T00:00:00",
          "2005-10-01T00:00:00",
          "2005-11-01T00:00:00",
          "2005-12-01T00:00:00",
          "2006-01-01T00:00:00",
          "2006-02-01T00:00:00",
          "2006-03-01T00:00:00",
          "2006-04-01T00:00:00",
          "2006-05-01T00:00:00",
          "2006-06-01T00:00:00",
          "2006-07-01T00:00:00",
          "2006-08-01T00:00:00",
          "2006-09-01T00:00:00",
          "2006-10-01T00:00:00",
          "2006-11-01T00:00:00",
          "2006-12-01T00:00:00",
          "2007-01-01T00:00:00",
          "2007-02-01T00:00:00",
          "2007-03-01T00:00:00",
          "2007-04-01T00:00:00",
          "2007-05-01T00:00:00",
          "2007-06-01T00:00:00",
          "2007-07-01T00:00:00",
          "2007-08-01T00:00:00",
          "2007-09-01T00:00:00",
          "2007-10-01T00:00:00",
          "2007-11-01T00:00:00",
          "2007-12-01T00:00:00",
          "2008-01-01T00:00:00",
          "2008-02-01T00:00:00",
          "2008-03-01T00:00:00",
          "2008-04-01T00:00:00",
          "2008-05-01T00:00:00",
          "2008-06-01T00:00:00",
          "2008-07-01T00:00:00",
          "2008-08-01T00:00:00",
          "2008-09-01T00:00:00",
          "2008-10-01T00:00:00",
          "2008-11-01T00:00:00",
          "2008-12-01T00:00:00",
          "2009-01-01T00:00:00",
          "2009-02-01T00:00:00",
          "2009-03-01T00:00:00",
          "2009-04-01T00:00:00",
          "2009-05-01T00:00:00",
          "2009-06-01T00:00:00",
          "2009-07-01T00:00:00",
          "2009-08-01T00:00:00",
          "2009-09-01T00:00:00",
          "2009-10-01T00:00:00",
          "2009-11-01T00:00:00",
          "2009-12-01T00:00:00",
          "2010-01-01T00:00:00",
          "2010-02-01T00:00:00",
          "2010-03-01T00:00:00",
          "2010-04-01T00:00:00",
          "2010-05-01T00:00:00",
          "2010-06-01T00:00:00",
          "2010-07-01T00:00:00",
          "2010-08-01T00:00:00",
          "2010-09-01T00:00:00",
          "2010-10-01T00:00:00",
          "2010-11-01T00:00:00",
          "2010-12-01T00:00:00",
          "2011-01-01T00:00:00",
          "2011-02-01T00:00:00",
          "2011-03-01T00:00:00",
          "2011-04-01T00:00:00",
          "2011-05-01T00:00:00",
          "2011-06-01T00:00:00",
          "2011-07-01T00:00:00",
          "2011-08-01T00:00:00",
          "2011-09-01T00:00:00",
          "2011-10-01T00:00:00",
          "2011-11-01T00:00:00",
          "2011-12-01T00:00:00",
          "2012-01-01T00:00:00",
          "2012-02-01T00:00:00",
          "2012-03-01T00:00:00",
          "2012-04-01T00:00:00",
          "2012-05-01T00:00:00",
          "2012-06-01T00:00:00",
          "2012-07-01T00:00:00",
          "2012-08-01T00:00:00",
          "2012-09-01T00:00:00",
          "2012-10-01T00:00:00",
          "2012-11-01T00:00:00",
          "2012-12-01T00:00:00",
          "2013-01-01T00:00:00",
          "2013-02-01T00:00:00",
          "2013-03-01T00:00:00",
          "2013-04-01T00:00:00",
          "2013-05-01T00:00:00",
          "2013-06-01T00:00:00",
          "2013-07-01T00:00:00",
          "2013-08-01T00:00:00",
          "2013-09-01T00:00:00",
          "2013-10-01T00:00:00",
          "2013-11-01T00:00:00",
          "2013-12-01T00:00:00",
          "2014-01-01T00:00:00",
          "2014-02-01T00:00:00",
          "2014-03-01T00:00:00",
          "2014-04-01T00:00:00",
          "2014-05-01T00:00:00",
          "2014-06-01T00:00:00",
          "2014-07-01T00:00:00",
          "2014-08-01T00:00:00",
          "2014-09-01T00:00:00",
          "2014-10-01T00:00:00",
          "2014-11-01T00:00:00",
          "2014-12-01T00:00:00",
          "2015-01-01T00:00:00",
          "2015-02-01T00:00:00",
          "2015-03-01T00:00:00",
          "2015-04-01T00:00:00",
          "2015-05-01T00:00:00",
          "2015-06-01T00:00:00",
          "2015-07-01T00:00:00",
          "2015-08-01T00:00:00",
          "2015-09-01T00:00:00",
          "2015-10-01T00:00:00",
          "2015-11-01T00:00:00",
          "2015-12-01T00:00:00",
          "2016-01-01T00:00:00",
          "2016-02-01T00:00:00",
          "2016-03-01T00:00:00",
          "2016-04-01T00:00:00",
          "2016-05-01T00:00:00",
          "2016-06-01T00:00:00",
          "2016-07-01T00:00:00",
          "2016-08-01T00:00:00",
          "2016-09-01T00:00:00",
          "2016-10-01T00:00:00",
          "2016-11-01T00:00:00",
          "2016-12-01T00:00:00",
          "2017-01-01T00:00:00",
          "2017-02-01T00:00:00",
          "2017-03-01T00:00:00",
          "2017-04-01T00:00:00",
          "2017-05-01T00:00:00",
          "2017-06-01T00:00:00",
          "2017-07-01T00:00:00",
          "2017-08-01T00:00:00",
          "2017-09-01T00:00:00",
          "2017-10-01T00:00:00",
          "2017-11-01T00:00:00",
          "2017-12-01T00:00:00",
          "2018-01-01T00:00:00",
          "2018-02-01T00:00:00",
          "2018-03-01T00:00:00",
          "2018-04-01T00:00:00",
          "2018-05-01T00:00:00",
          "2018-06-01T00:00:00",
          "2018-07-01T00:00:00",
          "2018-08-01T00:00:00",
          "2018-09-01T00:00:00",
          "2018-10-01T00:00:00",
          "2018-11-01T00:00:00",
          "2018-12-01T00:00:00",
          "2019-01-01T00:00:00",
          "2019-02-01T00:00:00",
          "2019-03-01T00:00:00",
          "2019-04-01T00:00:00",
          "2019-05-01T00:00:00",
          "2019-06-01T00:00:00",
          "2019-07-01T00:00:00",
          "2019-08-01T00:00:00",
          "2019-09-01T00:00:00",
          "2019-10-01T00:00:00",
          "2019-11-01T00:00:00",
          "2019-12-01T00:00:00",
          "2020-01-01T00:00:00",
          "2020-02-01T00:00:00",
          "2020-03-01T00:00:00",
          "2020-04-01T00:00:00",
          "2020-05-01T00:00:00",
          "2020-06-01T00:00:00",
          "2020-07-01T00:00:00",
          "2020-08-01T00:00:00",
          "2020-09-01T00:00:00",
          "2020-10-01T00:00:00",
          "2020-11-01T00:00:00",
          "2020-12-01T00:00:00",
          "2021-01-01T00:00:00",
          "2021-02-01T00:00:00",
          "2021-03-01T00:00:00",
          "2021-04-01T00:00:00",
          "2021-05-01T00:00:00",
          "2021-06-01T00:00:00",
          "2021-07-01T00:00:00",
          "2021-08-01T00:00:00",
          "2021-09-01T00:00:00",
          "2021-10-01T00:00:00",
          "2021-11-01T00:00:00",
          "2021-12-01T00:00:00",
          "2022-01-01T00:00:00",
          "2022-02-01T00:00:00",
          "2022-03-01T00:00:00",
          "2022-04-01T00:00:00",
          "2022-05-01T00:00:00",
          "2022-06-01T00:00:00",
          "2022-07-01T00:00:00",
          "2022-08-01T00:00:00",
          "2022-09-01T00:00:00",
          "2022-10-01T00:00:00",
          "2022-11-01T00:00:00",
          "2022-12-01T00:00:00",
          "2023-01-01T00:00:00",
          "2023-02-01T00:00:00"
         ],
         "y": [
          -0.6370207938266548,
          -0.7296521879321892,
          -0.5846437285626023,
          -0.09265269030522194,
          -1.2589574917485578,
          -0.24015336952903155,
          0.5974354480116468,
          2.0037774985654746,
          -0.08689249141258275,
          0.048336074496546914,
          -2.0276808160529747,
          0.5161335887129488,
          -0.6450561305538851,
          -0.45197031543153654,
          -0.5471693010082758,
          -0.21993285063629645,
          -0.7096772128446446,
          -0.04789304949391442,
          -0.2992436339524252,
          -0.48598575752515666,
          -0.48742182856862104,
          0.011722002082885343,
          -0.360227464018271,
          -0.36801986036936146,
          -2.831136187572732,
          -1.997473348896463,
          0.3028009362656651,
          -0.9543874562179828,
          -0.7748034607685735,
          0.5894974642689835,
          -1.518568341158623,
          0.6422783426065866,
          -0.6748557919189399,
          -0.20518338854740495,
          -0.053276386642032963,
          1.1995140203193875,
          -1.2543156801264923,
          -0.9471309175395856,
          0.46212337567670403,
          -1.6049317905677944,
          -0.3547468875663287,
          -0.5978192280278184,
          -0.8451043245423803,
          0.8022676368164244,
          0.9281189629175031,
          0.2768833386897223,
          -0.01925703954358263,
          0.8376491478255037,
          -0.46143308531818644,
          -1.1871251240594356,
          0.29509078750984896,
          -1.2776514418242444,
          -0.39193006225804594,
          0.6973508666349473,
          -1.5572411417853331,
          -1.1924858383116514,
          -0.7509081425295441,
          -0.6476571264803044,
          -0.2778995270454682,
          0.7407264533284253,
          -2.020715257472659,
          -2.042686271165884,
          -0.9671367911302237,
          -1.2368285972803679,
          -0.8897446771900248,
          -1.5583887024736027,
          -0.41800105824814315,
          -0.9000601559282929,
          -1.3267279424048146,
          -1.07483329408502,
          -1.3262972396206458,
          -0.11638712730107177,
          -2.6434192858804044,
          -2.4069461208007774,
          -1.4955001516097144,
          -1.0094277609108382,
          -1.049057013076989,
          -1.2714020446869079,
          -0.7457340949359681,
          -0.4934055427635105,
          -1.2253441031960453,
          -0.5235159923606303,
          -1.0560233725065467,
          -1.1032086571044284,
          -2.7203678349634837,
          -2.7304403094830403,
          -1.667189098971943,
          -0.011276948393276226,
          -0.8502297872101677,
          -0.5232052772985216,
          -1.338993914686189,
          -1.010395225317461,
          -1.3695539411815427,
          -1.2534089663207115,
          -1.6504677694429095,
          -0.9551440512477697,
          -1.8159851867401706,
          -0.6366033935666693,
          0.056773628685361816,
          -0.25496530715649923,
          -0.4972151629411234,
          -0.16211725773804797,
          0.33405993970981046,
          0.7179662773343857,
          0.2227151637208322,
          1.3206409644938388,
          -0.32097478227900234,
          1.2216723532128089,
          -0.9451911391337701,
          -1.3007206155070776,
          -1.5942238317288049,
          -1.2682825013363472,
          -0.5354310616126805,
          -2.6006619915667453,
          -0.05617035107487915,
          0.020410131207896583,
          -0.8158473873510068,
          -0.38858276927964674,
          -0.4184915003957492,
          -0.8006143779538484,
          -1.6501308298865889,
          -1.8428833793771906,
          0.0874226121987361,
          -1.1881961910118561,
          -0.6681989136418575,
          -1.0422034147335448,
          -1.2207618544648462,
          -0.5624661553368292,
          -1.3133477576176127,
          0.40172344844569746,
          -1.699888656890605,
          -1.6081356293328848,
          -2.2904032588309984,
          -1.8244990428709766,
          -1.6435459365298986,
          0.016602559374846535,
          -0.785014371278799,
          0.34150424432404164,
          0.9637419879206555,
          1.6932511202124803,
          1.125583002346181,
          1.6462059484757516,
          0.636716384902353,
          -0.8591593936620823,
          -0.6291728150332736,
          -0.5146053920225061,
          -0.45274274623302546,
          0.15879990991434037,
          0.10536212833398846,
          -0.524243538527659,
          -0.9055550803074071,
          0.09465823143940998,
          -0.8540624698768564,
          -0.46120788488010045,
          -0.6170933007003668,
          1.0554537243724846,
          -1.3901427999902034,
          -1.8131820334304856,
          1.661194978076445,
          0.11298518434861218,
          0.7726104127775865,
          1.6591187138616827,
          1.5424691097102992,
          1.705487325695196,
          0.851029698572628,
          1.3883239693726428,
          1.0995431441701253,
          2.2487116682128905,
          -0.13828877224428177,
          -0.5827398761834585,
          -0.13836921889421633,
          0.24696599717400783,
          1.4532519537285264,
          2.316521985264708,
          1.2711327124040326,
          2.4149049963516425,
          1.6353688607776211,
          1.8458680763797537,
          2.0692507463748626,
          1.9424864264617525,
          0.20858073720143205,
          -0.508758811827766,
          -0.8052718611598917,
          -1.9503836701953194,
          -1.2184347478456015,
          -1.3229534839192365,
          -0.9143012449645798,
          -0.4074955198050546,
          -0.2974676034576835,
          0.0724934014067536,
          0.5082671455924133,
          0.8933504622245256,
          0.4588871285161637,
          1.150517148556058,
          1.3488215025554442,
          1.1948222800905621,
          1.1467615501258392,
          1.8391062982341864,
          2.589905623361515,
          2.6928147979980728,
          2.246318348138479,
          2.362289232749968,
          1.8408533364233124,
          1.451455798829985,
          0.911976117486831,
          0.7490323332074311,
          1.0060886183878133,
          1.0371048458006087,
          1.0024167885384359,
          0.6114138582379011,
          1.3619000708162454,
          1.4419833424864628,
          2.0185113899984324,
          2.0793941608568693,
          1.3132485750346945,
          2.287384567633342,
          1.2346946755349657,
          0.6891378263234208,
          1.650430064952664,
          1.6911819757334032,
          1.3046253718127738,
          2.084475690474128,
          1.8317370288311432,
          1.9981448324505044,
          2.1242876842140457,
          1.1267683273497429,
          0.5442651346770604,
          0.9082661169709411,
          -1.7094351099210567,
          -2.260389694252682,
          -2.06240860281492,
          -1.1988081520413758,
          -0.8301710761773662,
          -0.8423369359873,
          -0.60352547623345,
          -0.21681340620520803,
          -0.09662228341477454,
          -0.36647180136821383,
          -0.6258839518477312,
          0.9434255243474879,
          -0.8487576116050359,
          -0.6959416485597772,
          -0.9207581433904286,
          -2.4352169318303507,
          -1.569297267142599,
          -1.5542971648781903,
          -1.3374924255871865,
          -0.653076523387695,
          -0.38827356516888367,
          -0.14307791474052173,
          -0.1049979237266612,
          0.038120993886996614,
          -0.9278160772666646,
          -0.7712344978093194,
          0.4706762856435604,
          0.009326445379020165,
          0.7072529113055818,
          -0.18506967576966152,
          -0.6377483339621716,
          0.8426766914473467,
          -0.07107485759118973,
          1.7892709108168863,
          1.0476291244249833,
          1.5522511993562351,
          0.8092210733061211,
          1.0503865001151282,
          1.9786415775470512,
          1.159497684619654,
          0.9818456409444009,
          0.07689074790606021,
          0.7246482978040308,
          1.4338544913898923,
          0.043034967912893164,
          1.7264425814664948,
          0.41337609121060875,
          2.7386858719343143,
          0.44567831193472907,
          0.4965422899515716,
          -1.062704571791063,
          -0.7513772344567821,
          0.9325816765191575,
          -1.127358091406138,
          0.7847686975497562,
          1.0359756623264735,
          1.013694730513222,
          1.0998315403709331,
          1.0743667293620105,
          2.732604601057124,
          0.5981880539051246,
          2.533310719499047,
          2.6999192263570033,
          1.7522627675820168,
          1.4466448783225465,
          1.1905035365790813,
          1.119910751850003,
          1.0514187622883353,
          0.9408952922896117,
          1.4799897479114124,
          0.007159261538492008,
          -0.997568828256993,
          -2.570943568814164,
          -1.8539738418963396,
          -1.606633189211283,
          -1.8123604337968182,
          -1.7071612325614947,
          -1.4823815866738113,
          -0.7702716281464732,
          -0.0181022292904275,
          -0.19199696620977189,
          -0.6809854166385074,
          -1.2801360760749512,
          0.6555650658142063,
          -0.9663173144351199,
          -0.9297048947628113,
          -0.8420935236898625,
          0.821535340387794,
          -0.9750862485749346,
          -0.897595547264162,
          -0.636411177145208,
          0.18755151192161545,
          2.353450553873661,
          1.9265063167418317,
          1.1764742618736006,
          0.7058317531774311,
          2.10033773349904,
          1.4483636386030314,
          1.5241125187739006,
          1.3371875414265362,
          1.2654563101962022,
          0.8234526612903214,
          0.05867319301882455,
          2.026787235827173,
          2.2371651008770566,
          2.3011673615016988,
          1.8935095454679443,
          -0.7993924178631951,
          -1.6947512729280367,
          -1.2178497648703415,
          -0.0493781243881833,
          0.33692708618182754,
          -0.19791495387689143,
          1.4546694497569514,
          1.2525426040928294,
          -0.12376848896478322,
          0.4814445195458611,
          0.8724380028065242,
          1.3615144299608757,
          0.46787620306836064,
          0.311636684600163,
          1.5132966543696456,
          0.38706862939225917,
          -1.6013426658502319,
          -1.2363782318120846,
          -0.41354942213033075,
          -0.8963991224605027,
          -0.19923331590353618,
          0.5747005648086906,
          0.13996936905332674,
          -0.5923962055139065,
          0.979928103219089,
          -0.9638243306796653,
          0.02742736630669994,
          2.0687281886299895,
          1.7682496528384637,
          0.4967888114487589,
          -0.373522838081836,
          1.063734761205378,
          0.7153711401427545,
          0.4445711073449152,
          1.1183174350290872,
          0.42624673777929795,
          0.19842272134191064,
          -1.429783941361976,
          -1.3629381296498604,
          1.0429549450969107,
          1.7443535952377345,
          1.4613229188985928,
          0.5273861130272584,
          -1.0818194271815653,
          -1.7825068386967975,
          -1.6120517918885537,
          -0.676350229103026,
          -0.4075513723551129,
          -0.2755881678009945,
          -0.8001286504058134,
          0.5705054268261571
         ]
        },
        {
         "hoverinfo": "skip",
         "line": {
          "width": 0
         },
         "mode": "lines",
         "type": "scatter",
         "x": [
          "2023-03-01T00:00:00",
          "2023-04-01T00:00:00",
          "2023-05-01T00:00:00",
          "2023-06-01T00:00:00",
          "2023-07-01T00:00:00",
          "2023-08-01T00:00:00",
          "2023-09-01T00:00:00",
          "2023-10-01T00:00:00",
          "2023-11-01T00:00:00",
          "2023-12-01T00:00:00",
          "2024-01-01T00:00:00",
          "2024-02-01T00:00:00"
         ],
         "y": [
          -1.4182815365212944,
          -2.042302380822891,
          -1.3382008880596423,
          -1.4162996199568758,
          -1.1652544914621485,
          -0.020513539390606694,
          -0.12108890229285674,
          0.5304951351901599,
          -0.16823951372151008,
          -0.016107009620309354,
          -0.4512531122829874,
          -1.2447444758409
         ]
        },
        {
         "fill": "tonexty",
         "fillcolor": "rgba(0, 114, 178, 0.2)",
         "line": {
          "color": "#0072B2",
          "width": 2
         },
         "mode": "lines",
         "name": "Predicted",
         "type": "scatter",
         "x": [
          "2023-03-01T00:00:00",
          "2023-04-01T00:00:00",
          "2023-05-01T00:00:00",
          "2023-06-01T00:00:00",
          "2023-07-01T00:00:00",
          "2023-08-01T00:00:00",
          "2023-09-01T00:00:00",
          "2023-10-01T00:00:00",
          "2023-11-01T00:00:00",
          "2023-12-01T00:00:00",
          "2024-01-01T00:00:00",
          "2024-02-01T00:00:00"
         ],
         "y": [
          -0.28622674354262745,
          -0.6548436854943477,
          -0.19420565381026755,
          -0.11747078113146947,
          0.08161649174431773,
          1.3263096532029595,
          1.1694882557005504,
          1.7613682229353422,
          1.0959883710058547,
          1.2340766178396425,
          0.7771869556611719,
          -0.011768155969507088
         ]
        },
        {
         "fill": "tonexty",
         "fillcolor": "rgba(0, 114, 178, 0.2)",
         "hoverinfo": "skip",
         "line": {
          "width": 0
         },
         "mode": "lines",
         "type": "scatter",
         "x": [
          "2023-03-01T00:00:00",
          "2023-04-01T00:00:00",
          "2023-05-01T00:00:00",
          "2023-06-01T00:00:00",
          "2023-07-01T00:00:00",
          "2023-08-01T00:00:00",
          "2023-09-01T00:00:00",
          "2023-10-01T00:00:00",
          "2023-11-01T00:00:00",
          "2023-12-01T00:00:00",
          "2024-01-01T00:00:00",
          "2024-02-01T00:00:00"
         ],
         "y": [
          0.8937294783499689,
          0.6182474546460736,
          1.0769164977814436,
          1.1649078301351683,
          1.3874641714403746,
          2.5898203128176824,
          2.4790445951090803,
          3.0006964480087928,
          2.3321773247763735,
          2.5164009952300717,
          2.1107241946212345,
          1.213670409770443
         ]
        }
       ],
       "layout": {
        "height": 600,
        "showlegend": false,
        "template": {
         "data": {
          "bar": [
           {
            "error_x": {
             "color": "#2a3f5f"
            },
            "error_y": {
             "color": "#2a3f5f"
            },
            "marker": {
             "line": {
              "color": "#E5ECF6",
              "width": 0.5
             },
             "pattern": {
              "fillmode": "overlay",
              "size": 10,
              "solidity": 0.2
             }
            },
            "type": "bar"
           }
          ],
          "barpolar": [
           {
            "marker": {
             "line": {
              "color": "#E5ECF6",
              "width": 0.5
             },
             "pattern": {
              "fillmode": "overlay",
              "size": 10,
              "solidity": 0.2
             }
            },
            "type": "barpolar"
           }
          ],
          "carpet": [
           {
            "aaxis": {
             "endlinecolor": "#2a3f5f",
             "gridcolor": "white",
             "linecolor": "white",
             "minorgridcolor": "white",
             "startlinecolor": "#2a3f5f"
            },
            "baxis": {
             "endlinecolor": "#2a3f5f",
             "gridcolor": "white",
             "linecolor": "white",
             "minorgridcolor": "white",
             "startlinecolor": "#2a3f5f"
            },
            "type": "carpet"
           }
          ],
          "choropleth": [
           {
            "colorbar": {
             "outlinewidth": 0,
             "ticks": ""
            },
            "type": "choropleth"
           }
          ],
          "contour": [
           {
            "colorbar": {
             "outlinewidth": 0,
             "ticks": ""
            },
            "colorscale": [
             [
              0,
              "#0d0887"
             ],
             [
              0.1111111111111111,
              "#46039f"
             ],
             [
              0.2222222222222222,
              "#7201a8"
             ],
             [
              0.3333333333333333,
              "#9c179e"
             ],
             [
              0.4444444444444444,
              "#bd3786"
             ],
             [
              0.5555555555555556,
              "#d8576b"
             ],
             [
              0.6666666666666666,
              "#ed7953"
             ],
             [
              0.7777777777777778,
              "#fb9f3a"
             ],
             [
              0.8888888888888888,
              "#fdca26"
             ],
             [
              1,
              "#f0f921"
             ]
            ],
            "type": "contour"
           }
          ],
          "contourcarpet": [
           {
            "colorbar": {
             "outlinewidth": 0,
             "ticks": ""
            },
            "type": "contourcarpet"
           }
          ],
          "heatmap": [
           {
            "colorbar": {
             "outlinewidth": 0,
             "ticks": ""
            },
            "colorscale": [
             [
              0,
              "#0d0887"
             ],
             [
              0.1111111111111111,
              "#46039f"
             ],
             [
              0.2222222222222222,
              "#7201a8"
             ],
             [
              0.3333333333333333,
              "#9c179e"
             ],
             [
              0.4444444444444444,
              "#bd3786"
             ],
             [
              0.5555555555555556,
              "#d8576b"
             ],
             [
              0.6666666666666666,
              "#ed7953"
             ],
             [
              0.7777777777777778,
              "#fb9f3a"
             ],
             [
              0.8888888888888888,
              "#fdca26"
             ],
             [
              1,
              "#f0f921"
             ]
            ],
            "type": "heatmap"
           }
          ],
          "heatmapgl": [
           {
            "colorbar": {
             "outlinewidth": 0,
             "ticks": ""
            },
            "colorscale": [
             [
              0,
              "#0d0887"
             ],
             [
              0.1111111111111111,
              "#46039f"
             ],
             [
              0.2222222222222222,
              "#7201a8"
             ],
             [
              0.3333333333333333,
              "#9c179e"
             ],
             [
              0.4444444444444444,
              "#bd3786"
             ],
             [
              0.5555555555555556,
              "#d8576b"
             ],
             [
              0.6666666666666666,
              "#ed7953"
             ],
             [
              0.7777777777777778,
              "#fb9f3a"
             ],
             [
              0.8888888888888888,
              "#fdca26"
             ],
             [
              1,
              "#f0f921"
             ]
            ],
            "type": "heatmapgl"
           }
          ],
          "histogram": [
           {
            "marker": {
             "pattern": {
              "fillmode": "overlay",
              "size": 10,
              "solidity": 0.2
             }
            },
            "type": "histogram"
           }
          ],
          "histogram2d": [
           {
            "colorbar": {
             "outlinewidth": 0,
             "ticks": ""
            },
            "colorscale": [
             [
              0,
              "#0d0887"
             ],
             [
              0.1111111111111111,
              "#46039f"
             ],
             [
              0.2222222222222222,
              "#7201a8"
             ],
             [
              0.3333333333333333,
              "#9c179e"
             ],
             [
              0.4444444444444444,
              "#bd3786"
             ],
             [
              0.5555555555555556,
              "#d8576b"
             ],
             [
              0.6666666666666666,
              "#ed7953"
             ],
             [
              0.7777777777777778,
              "#fb9f3a"
             ],
             [
              0.8888888888888888,
              "#fdca26"
             ],
             [
              1,
              "#f0f921"
             ]
            ],
            "type": "histogram2d"
           }
          ],
          "histogram2dcontour": [
           {
            "colorbar": {
             "outlinewidth": 0,
             "ticks": ""
            },
            "colorscale": [
             [
              0,
              "#0d0887"
             ],
             [
              0.1111111111111111,
              "#46039f"
             ],
             [
              0.2222222222222222,
              "#7201a8"
             ],
             [
              0.3333333333333333,
              "#9c179e"
             ],
             [
              0.4444444444444444,
              "#bd3786"
             ],
             [
              0.5555555555555556,
              "#d8576b"
             ],
             [
              0.6666666666666666,
              "#ed7953"
             ],
             [
              0.7777777777777778,
              "#fb9f3a"
             ],
             [
              0.8888888888888888,
              "#fdca26"
             ],
             [
              1,
              "#f0f921"
             ]
            ],
            "type": "histogram2dcontour"
           }
          ],
          "mesh3d": [
           {
            "colorbar": {
             "outlinewidth": 0,
             "ticks": ""
            },
            "type": "mesh3d"
           }
          ],
          "parcoords": [
           {
            "line": {
             "colorbar": {
              "outlinewidth": 0,
              "ticks": ""
             }
            },
            "type": "parcoords"
           }
          ],
          "pie": [
           {
            "automargin": true,
            "type": "pie"
           }
          ],
          "scatter": [
           {
            "fillpattern": {
             "fillmode": "overlay",
             "size": 10,
             "solidity": 0.2
            },
            "type": "scatter"
           }
          ],
          "scatter3d": [
           {
            "line": {
             "colorbar": {
              "outlinewidth": 0,
              "ticks": ""
             }
            },
            "marker": {
             "colorbar": {
              "outlinewidth": 0,
              "ticks": ""
             }
            },
            "type": "scatter3d"
           }
          ],
          "scattercarpet": [
           {
            "marker": {
             "colorbar": {
              "outlinewidth": 0,
              "ticks": ""
             }
            },
            "type": "scattercarpet"
           }
          ],
          "scattergeo": [
           {
            "marker": {
             "colorbar": {
              "outlinewidth": 0,
              "ticks": ""
             }
            },
            "type": "scattergeo"
           }
          ],
          "scattergl": [
           {
            "marker": {
             "colorbar": {
              "outlinewidth": 0,
              "ticks": ""
             }
            },
            "type": "scattergl"
           }
          ],
          "scattermapbox": [
           {
            "marker": {
             "colorbar": {
              "outlinewidth": 0,
              "ticks": ""
             }
            },
            "type": "scattermapbox"
           }
          ],
          "scatterpolar": [
           {
            "marker": {
             "colorbar": {
              "outlinewidth": 0,
              "ticks": ""
             }
            },
            "type": "scatterpolar"
           }
          ],
          "scatterpolargl": [
           {
            "marker": {
             "colorbar": {
              "outlinewidth": 0,
              "ticks": ""
             }
            },
            "type": "scatterpolargl"
           }
          ],
          "scatterternary": [
           {
            "marker": {
             "colorbar": {
              "outlinewidth": 0,
              "ticks": ""
             }
            },
            "type": "scatterternary"
           }
          ],
          "surface": [
           {
            "colorbar": {
             "outlinewidth": 0,
             "ticks": ""
            },
            "colorscale": [
             [
              0,
              "#0d0887"
             ],
             [
              0.1111111111111111,
              "#46039f"
             ],
             [
              0.2222222222222222,
              "#7201a8"
             ],
             [
              0.3333333333333333,
              "#9c179e"
             ],
             [
              0.4444444444444444,
              "#bd3786"
             ],
             [
              0.5555555555555556,
              "#d8576b"
             ],
             [
              0.6666666666666666,
              "#ed7953"
             ],
             [
              0.7777777777777778,
              "#fb9f3a"
             ],
             [
              0.8888888888888888,
              "#fdca26"
             ],
             [
              1,
              "#f0f921"
             ]
            ],
            "type": "surface"
           }
          ],
          "table": [
           {
            "cells": {
             "fill": {
              "color": "#EBF0F8"
             },
             "line": {
              "color": "white"
             }
            },
            "header": {
             "fill": {
              "color": "#C8D4E3"
             },
             "line": {
              "color": "white"
             }
            },
            "type": "table"
           }
          ]
         },
         "layout": {
          "annotationdefaults": {
           "arrowcolor": "#2a3f5f",
           "arrowhead": 0,
           "arrowwidth": 1
          },
          "autotypenumbers": "strict",
          "coloraxis": {
           "colorbar": {
            "outlinewidth": 0,
            "ticks": ""
           }
          },
          "colorscale": {
           "diverging": [
            [
             0,
             "#8e0152"
            ],
            [
             0.1,
             "#c51b7d"
            ],
            [
             0.2,
             "#de77ae"
            ],
            [
             0.3,
             "#f1b6da"
            ],
            [
             0.4,
             "#fde0ef"
            ],
            [
             0.5,
             "#f7f7f7"
            ],
            [
             0.6,
             "#e6f5d0"
            ],
            [
             0.7,
             "#b8e186"
            ],
            [
             0.8,
             "#7fbc41"
            ],
            [
             0.9,
             "#4d9221"
            ],
            [
             1,
             "#276419"
            ]
           ],
           "sequential": [
            [
             0,
             "#0d0887"
            ],
            [
             0.1111111111111111,
             "#46039f"
            ],
            [
             0.2222222222222222,
             "#7201a8"
            ],
            [
             0.3333333333333333,
             "#9c179e"
            ],
            [
             0.4444444444444444,
             "#bd3786"
            ],
            [
             0.5555555555555556,
             "#d8576b"
            ],
            [
             0.6666666666666666,
             "#ed7953"
            ],
            [
             0.7777777777777778,
             "#fb9f3a"
            ],
            [
             0.8888888888888888,
             "#fdca26"
            ],
            [
             1,
             "#f0f921"
            ]
           ],
           "sequentialminus": [
            [
             0,
             "#0d0887"
            ],
            [
             0.1111111111111111,
             "#46039f"
            ],
            [
             0.2222222222222222,
             "#7201a8"
            ],
            [
             0.3333333333333333,
             "#9c179e"
            ],
            [
             0.4444444444444444,
             "#bd3786"
            ],
            [
             0.5555555555555556,
             "#d8576b"
            ],
            [
             0.6666666666666666,
             "#ed7953"
            ],
            [
             0.7777777777777778,
             "#fb9f3a"
            ],
            [
             0.8888888888888888,
             "#fdca26"
            ],
            [
             1,
             "#f0f921"
            ]
           ]
          },
          "colorway": [
           "#636efa",
           "#EF553B",
           "#00cc96",
           "#ab63fa",
           "#FFA15A",
           "#19d3f3",
           "#FF6692",
           "#B6E880",
           "#FF97FF",
           "#FECB52"
          ],
          "font": {
           "color": "#2a3f5f"
          },
          "geo": {
           "bgcolor": "white",
           "lakecolor": "white",
           "landcolor": "#E5ECF6",
           "showlakes": true,
           "showland": true,
           "subunitcolor": "white"
          },
          "hoverlabel": {
           "align": "left"
          },
          "hovermode": "closest",
          "mapbox": {
           "style": "light"
          },
          "paper_bgcolor": "white",
          "plot_bgcolor": "#E5ECF6",
          "polar": {
           "angularaxis": {
            "gridcolor": "white",
            "linecolor": "white",
            "ticks": ""
           },
           "bgcolor": "#E5ECF6",
           "radialaxis": {
            "gridcolor": "white",
            "linecolor": "white",
            "ticks": ""
           }
          },
          "scene": {
           "xaxis": {
            "backgroundcolor": "#E5ECF6",
            "gridcolor": "white",
            "gridwidth": 2,
            "linecolor": "white",
            "showbackground": true,
            "ticks": "",
            "zerolinecolor": "white"
           },
           "yaxis": {
            "backgroundcolor": "#E5ECF6",
            "gridcolor": "white",
            "gridwidth": 2,
            "linecolor": "white",
            "showbackground": true,
            "ticks": "",
            "zerolinecolor": "white"
           },
           "zaxis": {
            "backgroundcolor": "#E5ECF6",
            "gridcolor": "white",
            "gridwidth": 2,
            "linecolor": "white",
            "showbackground": true,
            "ticks": "",
            "zerolinecolor": "white"
           }
          },
          "shapedefaults": {
           "line": {
            "color": "#2a3f5f"
           }
          },
          "ternary": {
           "aaxis": {
            "gridcolor": "white",
            "linecolor": "white",
            "ticks": ""
           },
           "baxis": {
            "gridcolor": "white",
            "linecolor": "white",
            "ticks": ""
           },
           "bgcolor": "#E5ECF6",
           "caxis": {
            "gridcolor": "white",
            "linecolor": "white",
            "ticks": ""
           }
          },
          "title": {
           "x": 0.05
          },
          "xaxis": {
           "automargin": true,
           "gridcolor": "white",
           "linecolor": "white",
           "ticks": "",
           "title": {
            "standoff": 15
           },
           "zerolinecolor": "white",
           "zerolinewidth": 2
          },
          "yaxis": {
           "automargin": true,
           "gridcolor": "white",
           "linecolor": "white",
           "ticks": "",
           "title": {
            "standoff": 15
           },
           "zerolinecolor": "white",
           "zerolinewidth": 2
          }
         }
        },
        "width": 900,
        "xaxis": {
         "rangeselector": {
          "buttons": [
           {
            "count": 7,
            "label": "1w",
            "step": "day",
            "stepmode": "backward"
           },
           {
            "count": 1,
            "label": "1m",
            "step": "month",
            "stepmode": "backward"
           },
           {
            "count": 6,
            "label": "6m",
            "step": "month",
            "stepmode": "backward"
           },
           {
            "count": 1,
            "label": "1y",
            "step": "year",
            "stepmode": "backward"
           },
           {
            "step": "all"
           }
          ]
         },
         "rangeslider": {
          "visible": true
         },
         "title": {
          "text": "ds"
         },
         "type": "date"
        },
        "yaxis": {
         "title": {
          "text": "y"
         }
        }
       }
      }
     },
     "metadata": {},
     "output_type": "display_data"
    },
    {
     "data": {
      "application/vnd.plotly.v1+json": {
       "config": {
        "plotlyServerURL": "https://plot.ly"
       },
       "data": [
        {
         "line": {
          "color": "#0072B2",
          "width": 2
         },
         "mode": "lines",
         "name": "trend",
         "type": "scatter",
         "x": [
          "2023-03-01T00:00:00",
          "2023-04-01T00:00:00",
          "2023-05-01T00:00:00",
          "2023-06-01T00:00:00",
          "2023-07-01T00:00:00",
          "2023-08-01T00:00:00",
          "2023-09-01T00:00:00",
          "2023-10-01T00:00:00",
          "2023-11-01T00:00:00",
          "2023-12-01T00:00:00",
          "2024-01-01T00:00:00",
          "2024-02-01T00:00:00"
         ],
         "xaxis": "x",
         "y": [
          0.8367523599147036,
          0.8368168405086592,
          0.836879241083455,
          0.8369437216774105,
          0.8370061222522064,
          0.8370706028461619,
          0.8371350834401176,
          0.8371974840149133,
          0.8372619646088689,
          0.8373243651836647,
          0.8373888457776203,
          0.8374533263715759
         ],
         "yaxis": "y"
        },
        {
         "line": {
          "color": "#0072B2",
          "width": 2
         },
         "mode": "lines",
         "name": "extra_regressors_additive",
         "type": "scatter",
         "x": [
          "2023-03-01T00:00:00",
          "2023-04-01T00:00:00",
          "2023-05-01T00:00:00",
          "2023-06-01T00:00:00",
          "2023-07-01T00:00:00",
          "2023-08-01T00:00:00",
          "2023-09-01T00:00:00",
          "2023-10-01T00:00:00",
          "2023-11-01T00:00:00",
          "2023-12-01T00:00:00",
          "2024-01-01T00:00:00",
          "2024-02-01T00:00:00"
         ],
         "xaxis": "x2",
         "y": [
          -1.1893690352351767,
          -1.2143459292939132,
          -0.7510867531418193,
          -0.8194062886835017,
          -0.7614317527056741,
          0.29806167172473014,
          0.10769515723528224,
          0.5932813680786174,
          0.4144052722154733,
          -0.11108140375175177,
          -0.1114686758205308,
          -0.3241884610043538
         ],
         "yaxis": "y2"
        },
        {
         "line": {
          "color": "#0072B2",
          "width": 2
         },
         "mode": "lines",
         "name": "yearly",
         "type": "scatter",
         "x": [
          "2017-01-01T00:00:00",
          "2017-01-02T00:00:59.178082",
          "2017-01-03T00:01:58.356164",
          "2017-01-04T00:02:57.534246",
          "2017-01-05T00:03:56.712328",
          "2017-01-06T00:04:55.890411",
          "2017-01-07T00:05:55.068493",
          "2017-01-08T00:06:54.246575",
          "2017-01-09T00:07:53.424657",
          "2017-01-10T00:08:52.602739",
          "2017-01-11T00:09:51.780822",
          "2017-01-12T00:10:50.958904",
          "2017-01-13T00:11:50.136986",
          "2017-01-14T00:12:49.315068",
          "2017-01-15T00:13:48.493150",
          "2017-01-16T00:14:47.671232",
          "2017-01-17T00:15:46.849315",
          "2017-01-18T00:16:46.027397",
          "2017-01-19T00:17:45.205479",
          "2017-01-20T00:18:44.383561",
          "2017-01-21T00:19:43.561643",
          "2017-01-22T00:20:42.739726",
          "2017-01-23T00:21:41.917808",
          "2017-01-24T00:22:41.095890",
          "2017-01-25T00:23:40.273972",
          "2017-01-26T00:24:39.452054",
          "2017-01-27T00:25:38.630137",
          "2017-01-28T00:26:37.808219",
          "2017-01-29T00:27:36.986301",
          "2017-01-30T00:28:36.164383",
          "2017-01-31T00:29:35.342465",
          "2017-02-01T00:30:34.520547",
          "2017-02-02T00:31:33.698630",
          "2017-02-03T00:32:32.876712",
          "2017-02-04T00:33:32.054794",
          "2017-02-05T00:34:31.232876",
          "2017-02-06T00:35:30.410958",
          "2017-02-07T00:36:29.589041",
          "2017-02-08T00:37:28.767123",
          "2017-02-09T00:38:27.945205",
          "2017-02-10T00:39:27.123287",
          "2017-02-11T00:40:26.301369",
          "2017-02-12T00:41:25.479452",
          "2017-02-13T00:42:24.657534",
          "2017-02-14T00:43:23.835616",
          "2017-02-15T00:44:23.013698",
          "2017-02-16T00:45:22.191780",
          "2017-02-17T00:46:21.369862",
          "2017-02-18T00:47:20.547945",
          "2017-02-19T00:48:19.726027",
          "2017-02-20T00:49:18.904109",
          "2017-02-21T00:50:18.082191",
          "2017-02-22T00:51:17.260273",
          "2017-02-23T00:52:16.438356",
          "2017-02-24T00:53:15.616438",
          "2017-02-25T00:54:14.794520",
          "2017-02-26T00:55:13.972602",
          "2017-02-27T00:56:13.150684",
          "2017-02-28T00:57:12.328767",
          "2017-03-01T00:58:11.506849",
          "2017-03-02T00:59:10.684931",
          "2017-03-03T01:00:09.863013",
          "2017-03-04T01:01:09.041095",
          "2017-03-05T01:02:08.219177",
          "2017-03-06T01:03:07.397260",
          "2017-03-07T01:04:06.575342",
          "2017-03-08T01:05:05.753424",
          "2017-03-09T01:06:04.931506",
          "2017-03-10T01:07:04.109588",
          "2017-03-11T01:08:03.287671",
          "2017-03-12T01:09:02.465753",
          "2017-03-13T01:10:01.643835",
          "2017-03-14T01:11:00.821917",
          "2017-03-15T01:12:00",
          "2017-03-16T01:12:59.178082",
          "2017-03-17T01:13:58.356164",
          "2017-03-18T01:14:57.534246",
          "2017-03-19T01:15:56.712328",
          "2017-03-20T01:16:55.890411",
          "2017-03-21T01:17:55.068493",
          "2017-03-22T01:18:54.246575",
          "2017-03-23T01:19:53.424657",
          "2017-03-24T01:20:52.602739",
          "2017-03-25T01:21:51.780822",
          "2017-03-26T01:22:50.958904",
          "2017-03-27T01:23:50.136986",
          "2017-03-28T01:24:49.315068",
          "2017-03-29T01:25:48.493150",
          "2017-03-30T01:26:47.671232",
          "2017-03-31T01:27:46.849315",
          "2017-04-01T01:28:46.027397",
          "2017-04-02T01:29:45.205479",
          "2017-04-03T01:30:44.383561",
          "2017-04-04T01:31:43.561643",
          "2017-04-05T01:32:42.739726",
          "2017-04-06T01:33:41.917808",
          "2017-04-07T01:34:41.095890",
          "2017-04-08T01:35:40.273972",
          "2017-04-09T01:36:39.452054",
          "2017-04-10T01:37:38.630137",
          "2017-04-11T01:38:37.808219",
          "2017-04-12T01:39:36.986301",
          "2017-04-13T01:40:36.164383",
          "2017-04-14T01:41:35.342465",
          "2017-04-15T01:42:34.520547",
          "2017-04-16T01:43:33.698630",
          "2017-04-17T01:44:32.876712",
          "2017-04-18T01:45:32.054794",
          "2017-04-19T01:46:31.232876",
          "2017-04-20T01:47:30.410958",
          "2017-04-21T01:48:29.589041",
          "2017-04-22T01:49:28.767123",
          "2017-04-23T01:50:27.945205",
          "2017-04-24T01:51:27.123287",
          "2017-04-25T01:52:26.301369",
          "2017-04-26T01:53:25.479452",
          "2017-04-27T01:54:24.657534",
          "2017-04-28T01:55:23.835616",
          "2017-04-29T01:56:23.013698",
          "2017-04-30T01:57:22.191780",
          "2017-05-01T01:58:21.369862",
          "2017-05-02T01:59:20.547945",
          "2017-05-03T02:00:19.726027",
          "2017-05-04T02:01:18.904109",
          "2017-05-05T02:02:18.082191",
          "2017-05-06T02:03:17.260273",
          "2017-05-07T02:04:16.438356",
          "2017-05-08T02:05:15.616438",
          "2017-05-09T02:06:14.794520",
          "2017-05-10T02:07:13.972602",
          "2017-05-11T02:08:13.150684",
          "2017-05-12T02:09:12.328767",
          "2017-05-13T02:10:11.506849",
          "2017-05-14T02:11:10.684931",
          "2017-05-15T02:12:09.863013",
          "2017-05-16T02:13:09.041095",
          "2017-05-17T02:14:08.219177",
          "2017-05-18T02:15:07.397260",
          "2017-05-19T02:16:06.575342",
          "2017-05-20T02:17:05.753424",
          "2017-05-21T02:18:04.931506",
          "2017-05-22T02:19:04.109588",
          "2017-05-23T02:20:03.287671",
          "2017-05-24T02:21:02.465753",
          "2017-05-25T02:22:01.643835",
          "2017-05-26T02:23:00.821917",
          "2017-05-27T02:24:00",
          "2017-05-28T02:24:59.178082",
          "2017-05-29T02:25:58.356164",
          "2017-05-30T02:26:57.534246",
          "2017-05-31T02:27:56.712328",
          "2017-06-01T02:28:55.890411",
          "2017-06-02T02:29:55.068493",
          "2017-06-03T02:30:54.246575",
          "2017-06-04T02:31:53.424657",
          "2017-06-05T02:32:52.602739",
          "2017-06-06T02:33:51.780822",
          "2017-06-07T02:34:50.958904",
          "2017-06-08T02:35:50.136986",
          "2017-06-09T02:36:49.315068",
          "2017-06-10T02:37:48.493150",
          "2017-06-11T02:38:47.671232",
          "2017-06-12T02:39:46.849315",
          "2017-06-13T02:40:46.027397",
          "2017-06-14T02:41:45.205479",
          "2017-06-15T02:42:44.383561",
          "2017-06-16T02:43:43.561643",
          "2017-06-17T02:44:42.739726",
          "2017-06-18T02:45:41.917808",
          "2017-06-19T02:46:41.095890",
          "2017-06-20T02:47:40.273972",
          "2017-06-21T02:48:39.452054",
          "2017-06-22T02:49:38.630137",
          "2017-06-23T02:50:37.808219",
          "2017-06-24T02:51:36.986301",
          "2017-06-25T02:52:36.164383",
          "2017-06-26T02:53:35.342465",
          "2017-06-27T02:54:34.520547",
          "2017-06-28T02:55:33.698630",
          "2017-06-29T02:56:32.876712",
          "2017-06-30T02:57:32.054794",
          "2017-07-01T02:58:31.232876",
          "2017-07-02T02:59:30.410958",
          "2017-07-03T03:00:29.589041",
          "2017-07-04T03:01:28.767123",
          "2017-07-05T03:02:27.945205",
          "2017-07-06T03:03:27.123287",
          "2017-07-07T03:04:26.301369",
          "2017-07-08T03:05:25.479452",
          "2017-07-09T03:06:24.657534",
          "2017-07-10T03:07:23.835616",
          "2017-07-11T03:08:23.013698",
          "2017-07-12T03:09:22.191780",
          "2017-07-13T03:10:21.369862",
          "2017-07-14T03:11:20.547945",
          "2017-07-15T03:12:19.726027",
          "2017-07-16T03:13:18.904109",
          "2017-07-17T03:14:18.082191",
          "2017-07-18T03:15:17.260273",
          "2017-07-19T03:16:16.438356",
          "2017-07-20T03:17:15.616438",
          "2017-07-21T03:18:14.794520",
          "2017-07-22T03:19:13.972602",
          "2017-07-23T03:20:13.150684",
          "2017-07-24T03:21:12.328767",
          "2017-07-25T03:22:11.506849",
          "2017-07-26T03:23:10.684931",
          "2017-07-27T03:24:09.863013",
          "2017-07-28T03:25:09.041095",
          "2017-07-29T03:26:08.219177",
          "2017-07-30T03:27:07.397260",
          "2017-07-31T03:28:06.575342",
          "2017-08-01T03:29:05.753424",
          "2017-08-02T03:30:04.931506",
          "2017-08-03T03:31:04.109588",
          "2017-08-04T03:32:03.287671",
          "2017-08-05T03:33:02.465753",
          "2017-08-06T03:34:01.643835",
          "2017-08-07T03:35:00.821917",
          "2017-08-08T03:36:00",
          "2017-08-09T03:36:59.178082",
          "2017-08-10T03:37:58.356164",
          "2017-08-11T03:38:57.534246",
          "2017-08-12T03:39:56.712328",
          "2017-08-13T03:40:55.890411",
          "2017-08-14T03:41:55.068493",
          "2017-08-15T03:42:54.246575",
          "2017-08-16T03:43:53.424657",
          "2017-08-17T03:44:52.602739",
          "2017-08-18T03:45:51.780822",
          "2017-08-19T03:46:50.958904",
          "2017-08-20T03:47:50.136986",
          "2017-08-21T03:48:49.315068",
          "2017-08-22T03:49:48.493150",
          "2017-08-23T03:50:47.671232",
          "2017-08-24T03:51:46.849315",
          "2017-08-25T03:52:46.027397",
          "2017-08-26T03:53:45.205479",
          "2017-08-27T03:54:44.383561",
          "2017-08-28T03:55:43.561643",
          "2017-08-29T03:56:42.739726",
          "2017-08-30T03:57:41.917808",
          "2017-08-31T03:58:41.095890",
          "2017-09-01T03:59:40.273972",
          "2017-09-02T04:00:39.452054",
          "2017-09-03T04:01:38.630137",
          "2017-09-04T04:02:37.808219",
          "2017-09-05T04:03:36.986301",
          "2017-09-06T04:04:36.164383",
          "2017-09-07T04:05:35.342465",
          "2017-09-08T04:06:34.520547",
          "2017-09-09T04:07:33.698630",
          "2017-09-10T04:08:32.876712",
          "2017-09-11T04:09:32.054794",
          "2017-09-12T04:10:31.232876",
          "2017-09-13T04:11:30.410958",
          "2017-09-14T04:12:29.589041",
          "2017-09-15T04:13:28.767123",
          "2017-09-16T04:14:27.945205",
          "2017-09-17T04:15:27.123287",
          "2017-09-18T04:16:26.301369",
          "2017-09-19T04:17:25.479452",
          "2017-09-20T04:18:24.657534",
          "2017-09-21T04:19:23.835616",
          "2017-09-22T04:20:23.013698",
          "2017-09-23T04:21:22.191780",
          "2017-09-24T04:22:21.369862",
          "2017-09-25T04:23:20.547945",
          "2017-09-26T04:24:19.726027",
          "2017-09-27T04:25:18.904109",
          "2017-09-28T04:26:18.082191",
          "2017-09-29T04:27:17.260273",
          "2017-09-30T04:28:16.438356",
          "2017-10-01T04:29:15.616438",
          "2017-10-02T04:30:14.794520",
          "2017-10-03T04:31:13.972602",
          "2017-10-04T04:32:13.150684",
          "2017-10-05T04:33:12.328767",
          "2017-10-06T04:34:11.506849",
          "2017-10-07T04:35:10.684931",
          "2017-10-08T04:36:09.863013",
          "2017-10-09T04:37:09.041095",
          "2017-10-10T04:38:08.219177",
          "2017-10-11T04:39:07.397260",
          "2017-10-12T04:40:06.575342",
          "2017-10-13T04:41:05.753424",
          "2017-10-14T04:42:04.931506",
          "2017-10-15T04:43:04.109588",
          "2017-10-16T04:44:03.287671",
          "2017-10-17T04:45:02.465753",
          "2017-10-18T04:46:01.643835",
          "2017-10-19T04:47:00.821917",
          "2017-10-20T04:48:00",
          "2017-10-21T04:48:59.178082",
          "2017-10-22T04:49:58.356164",
          "2017-10-23T04:50:57.534246",
          "2017-10-24T04:51:56.712328",
          "2017-10-25T04:52:55.890411",
          "2017-10-26T04:53:55.068493",
          "2017-10-27T04:54:54.246575",
          "2017-10-28T04:55:53.424657",
          "2017-10-29T04:56:52.602739",
          "2017-10-30T04:57:51.780822",
          "2017-10-31T04:58:50.958904",
          "2017-11-01T04:59:50.136986",
          "2017-11-02T05:00:49.315068",
          "2017-11-03T05:01:48.493150",
          "2017-11-04T05:02:47.671232",
          "2017-11-05T05:03:46.849315",
          "2017-11-06T05:04:46.027397",
          "2017-11-07T05:05:45.205479",
          "2017-11-08T05:06:44.383561",
          "2017-11-09T05:07:43.561643",
          "2017-11-10T05:08:42.739726",
          "2017-11-11T05:09:41.917808",
          "2017-11-12T05:10:41.095890",
          "2017-11-13T05:11:40.273972",
          "2017-11-14T05:12:39.452054",
          "2017-11-15T05:13:38.630137",
          "2017-11-16T05:14:37.808219",
          "2017-11-17T05:15:36.986301",
          "2017-11-18T05:16:36.164383",
          "2017-11-19T05:17:35.342465",
          "2017-11-20T05:18:34.520547",
          "2017-11-21T05:19:33.698630",
          "2017-11-22T05:20:32.876712",
          "2017-11-23T05:21:32.054794",
          "2017-11-24T05:22:31.232876",
          "2017-11-25T05:23:30.410958",
          "2017-11-26T05:24:29.589041",
          "2017-11-27T05:25:28.767123",
          "2017-11-28T05:26:27.945205",
          "2017-11-29T05:27:27.123287",
          "2017-11-30T05:28:26.301369",
          "2017-12-01T05:29:25.479452",
          "2017-12-02T05:30:24.657534",
          "2017-12-03T05:31:23.835616",
          "2017-12-04T05:32:23.013698",
          "2017-12-05T05:33:22.191780",
          "2017-12-06T05:34:21.369862",
          "2017-12-07T05:35:20.547945",
          "2017-12-08T05:36:19.726027",
          "2017-12-09T05:37:18.904109",
          "2017-12-10T05:38:18.082191",
          "2017-12-11T05:39:17.260273",
          "2017-12-12T05:40:16.438356",
          "2017-12-13T05:41:15.616438",
          "2017-12-14T05:42:14.794520",
          "2017-12-15T05:43:13.972602",
          "2017-12-16T05:44:13.150684",
          "2017-12-17T05:45:12.328767",
          "2017-12-18T05:46:11.506849",
          "2017-12-19T05:47:10.684931",
          "2017-12-20T05:48:09.863013",
          "2017-12-21T05:49:09.041095",
          "2017-12-22T05:50:08.219177",
          "2017-12-23T05:51:07.397260",
          "2017-12-24T05:52:06.575342",
          "2017-12-25T05:53:05.753424",
          "2017-12-26T05:54:04.931506",
          "2017-12-27T05:55:04.109588",
          "2017-12-28T05:56:03.287671",
          "2017-12-29T05:57:02.465753",
          "2017-12-30T05:58:01.643835",
          "2017-12-31T05:59:00.821917"
         ],
         "xaxis": "x3",
         "y": [
          -1.2123075362299323,
          -1.1964612454442052,
          -1.1683958082709485,
          -1.1288814195616583,
          -1.0789386437617607,
          -1.0198167951235442,
          -0.9529657280106446,
          -0.8800064686314996,
          -0.8026895966852153,
          -0.722857804368017,
          -0.6424021660125083,
          -0.5632176598501422,
          -0.48715745709175645,
          -0.4159922928476637,
          -0.3513628934253833,
          -0.2947442128711795,
          -0.24740910995593818,
          -0.21039738923734794,
          -0.18449241503087577,
          -0.17019981389648303,
          -0.16773735664313189,
          -0.17702957821590237,
          -0.1977100976488203,
          -0.22913152528613515,
          -0.27038030201834257,
          -0.32030184539019013,
          -0.3775281129840854,
          -0.4405120338571771,
          -0.507566000190113,
          -0.5769045557870502,
          -0.6466853664136205,
          -0.7150594808063813,
          -0.7802136008922229,
          -0.8404152611883307,
          -0.8940555855631939,
          -0.9396857949375885,
          -0.9760556336955487,
          -1.002140375137878,
          -1.0171652481759226,
          -1.020622813609237,
          -1.01228338351411,
          -0.9921991122150192,
          -0.9606999224556122,
          -0.9183833385444771,
          -0.8660974413485569,
          -0.8049169821877681,
          -0.7361177158573474,
          -0.6611388358549393,
          -0.5815486241827464,
          -0.4990038895826029,
          -0.4152083062059493,
          -0.3318691275978634,
          -0.25065913392905503,
          -0.1731704123661235,
          -0.10088035642018339,
          -0.03511628041999142,
          0.02297468233537933,
          0.07245116489070637,
          0.11259482654142913,
          0.14292720465164688,
          0.16321441625366967,
          0.17346848847274612,
          0.17394170076522694,
          0.16511500192362755,
          0.1476806937002457,
          0.12251984599918264,
          0.09067546863640995,
          0.05332197437538299,
          0.011731367852822585,
          -0.03275992770379208,
          -0.07878999809727796,
          -0.1250054535981994,
          -0.17009672692315003,
          -0.21283140403018996,
          -0.25208229750040895,
          -0.2868568715283899,
          -0.31631743244258714,
          -0.3397991043656884,
          -0.35682217167966523,
          -0.3670991479903162,
          -0.3705359389695337,
          -0.36722875926292836,
          -0.35745464282909034,
          -0.3416578924951065,
          -0.3204320829805587,
          -0.2944980496366107,
          -0.26468045822843,
          -0.2318790666592619,
          -0.19704153072041466,
          -0.1611341904126789,
          -0.1251129650287982,
          -0.08989739426942385,
          -0.05634232693571614,
          -0.025216338745157198,
          0.0028187935010983867,
          0.027224533244088016,
          0.04759817062391745,
          0.06367996206631585,
          0.0753580997386628,
          0.0826667746100442,
          0.08578111966238454,
          0.08500776679143546,
          0.08077157306987959,
          0.07359935561753163,
          0.06410034553197472,
          0.05294499515952877,
          0.04084216046406705,
          0.028515450187519976,
          0.016680288624314296,
          0.006020243678083148,
          -0.0028338155726145083,
          -0.009323272701447387,
          -0.012978611171747138,
          -0.013433213220975532,
          -0.010433783246392856,
          -0.003847119829651938,
          0.006337032230376926,
          0.02000689844864864,
          0.03693360150662639,
          0.05677862982074203,
          0.07910658584141446,
          0.10339888611525257,
          0.1290707923279381,
          0.15549012533116183,
          0.18199755083315222,
          0.20792597469955007,
          0.23262302440378174,
          0.25546982203633506,
          0.27590007311034553,
          0.2934170630396677,
          0.3076085134763441,
          0.3181579693319579,
          0.32485474883120524,
          0.3275989163162161,
          0.3264037130921906,
          0.3213942649435037,
          0.3128032572611502,
          0.300962766054874,
          0.28629368472578826,
          0.2692923348042661,
          0.25051495434721666,
          0.2305602852390436,
          0.2100522065401818,
          0.1896194745448603,
          0.16987779659999871,
          0.15141135572869197,
          0.13475552439631452,
          0.12038216350089201,
          0.10868511810680077,
          0.09997017428967164,
          0.09444682034295007,
          0.09222323919910702,
          0.09330448557696598,
          0.09759372518223125,
          0.10489675451646398,
          0.1149293839906324,
          0.12732752830725821,
          0.14165967358521903,
          0.15744150276415783,
          0.17415109551719862,
          0.1912469918066346,
          0.20818491453510982,
          0.2244353328082578,
          0.23950042824487375,
          0.25292911355989156,
          0.2643322158658039,
          0.273393894305281,
          0.2798816027773247,
          0.283653231685433,
          0.2846614039058123,
          0.28295480483333757,
          0.2786766150331967,
          0.27205988153144134,
          0.26342023680772075,
          0.2531460692658059,
          0.2416863480726076,
          0.2295373003106409,
          0.2172263395091341,
          0.20529639198769678,
          0.19428914026518496,
          0.18472836462994371,
          0.1771043827786169,
          0.17185844175434464,
          0.16936974247229877,
          0.1699437683699566,
          0.17380295950397365,
          0.1810799820654727,
          0.19181319651104067,
          0.20594579246503153,
          0.22332692989493824,
          0.24371598271995665,
          0.2667895948732375,
          0.2921497275809951,
          0.3193364929798958,
          0.3478400626463165,
          0.37711519089192547,
          0.4065963683249828,
          0.43571372856299523,
          0.46390722950367413,
          0.49064369619249815,
          0.5154295185494319,
          0.537823683259452,
          0.5574487380269162,
          0.5739998949799133,
          0.5872509578614544,
          0.5970596909250444,
          0.6033686995085471,
          0.6062047837740494,
          0.6056755844891252,
          0.6019639890366869,
          0.5953203192466406,
          0.5860527113226933,
          0.5745160187475493,
          0.5610995753899014,
          0.5462140596480878,
          0.5302789487962701,
          0.5137083599989936,
          0.49689916188342265,
          0.4802191938014484,
          0.46399677656027644,
          0.44851277804461337,
          0.4339926870350384,
          0.4206026563084327,
          0.40844679774270337,
          0.39756692176936664,
          0.38794440180714723,
          0.3795047043408849,
          0.3721227857119844,
          0.3656313451670409,
          0.35982994191599443,
          0.3544953362360399,
          0.34939250564719215,
          0.34428629081854284,
          0.3389523905202875,
          0.33318847058452095,
          0.3268241183864156,
          0.31972955268636793,
          0.3118232207095968,
          0.3030767636705071,
          0.2935187801163637,
          0.28323604130355157,
          0.2723725631421426,
          0.2611263309339739,
          0.2497445448677201,
          0.23851557087191683,
          0.22776043034085175,
          0.21782215843480615,
          0.20905413907234519,
          0.2018075891025358,
          0.19641906162982398,
          0.19319717131741865,
          0.19241066030048326,
          0.19427690285654395,
          0.19895185563394704,
          0.20652132542308074,
          0.21699475451227693,
          0.23030069667608136,
          0.2462848919531053,
          0.2647107935588599,
          0.28526286660014566,
          0.3075511394066625,
          0.33112051899089484,
          0.3554598983543801,
          0.38001430870272346,
          0.40419867906373025,
          0.42741138150796265,
          0.44905133563240374,
          0.46853259784602186,
          0.48530020601462537,
          0.49884511893234185,
          0.5087181764331504,
          0.5145420629817328,
          0.5160225088130569,
          0.5129561016895879,
          0.505236287441505,
          0.49285659502229756,
          0.47591089271919873,
          0.45459193195379183,
          0.4291851609868147,
          0.400061880194319,
          0.3676691446514129,
          0.3325173598696402,
          0.29516825847628025,
          0.256217479386056,
          0.21628036007964566,
          0.17597537558106022,
          0.13590809866763154,
          0.09665532887562464,
          0.05875255974363955,
          0.022678423954919976,
          -0.011154389138811283,
          -0.042408274867676156,
          -0.07082721477670655,
          -0.09623901452954384,
          -0.11855803433060914,
          -0.13778182402349376,
          -0.1539867685894088,
          -0.16732087370545995,
          -0.17799439956531407,
          -0.18626799137940567,
          -0.19244046980982268,
          -0.19683427243081278,
          -0.1997809494990797,
          -0.2016064257892205,
          -0.20261669259138823,
          -0.20308438539956675,
          -0.2032368781332157,
          -0.20324611590752403,
          -0.20322075738731493,
          -0.2032008585222868,
          -0.20315534924281592,
          -0.20298244670089596,
          -0.20251305717866583,
          -0.20151711301062544,
          -0.19971269626923016,
          -0.1967776604991975,
          -0.1923636447935163,
          -0.1861115255171705,
          -0.17766847740414407,
          -0.16670563769506255,
          -0.1529359590817577,
          -0.1361314035950332,
          -0.11614010299230854,
          -0.09289988642993223,
          -0.06645149157971168,
          -0.036948129332577816,
          -0.004661665546476438,
          0.030012808664603225,
          0.06655996650300385,
          0.10434745561698479,
          0.14263489888292574,
          0.1805864168129736,
          0.21728723523602375,
          0.2517615399827233,
          0.28299749094056137,
          0.3099703189759774,
          0.3316693281130247,
          0.3471256526167554,
          0.35543952992720834,
          0.3558088216248982,
          0.34755436741102863,
          0.3301442948471483,
          0.30321530348692927,
          0.26658996898754844,
          0.22029222146285204,
          0.1645538432703361,
          0.0998200567760963,
          0.026747855853752896,
          -0.053800739437861865,
          -0.14077190182880372,
          -0.23293335365905488,
          -0.32890285559614263,
          -0.4271712005854585,
          -0.5261340914161741,
          -0.6241274182284142,
          -0.7194593379110196,
          -0.8104552742342883,
          -0.8954921415708641,
          -0.9730379197172918,
          -1.0416887380133582,
          -1.1002042516758124,
          -1.1475365618600644,
          -1.1828616914092127,
          -1.2055992585683257,
          -1.215430191348658
         ],
         "yaxis": "y3"
        }
       ],
       "layout": {
        "height": 600,
        "showlegend": false,
        "template": {
         "data": {
          "bar": [
           {
            "error_x": {
             "color": "#2a3f5f"
            },
            "error_y": {
             "color": "#2a3f5f"
            },
            "marker": {
             "line": {
              "color": "#E5ECF6",
              "width": 0.5
             },
             "pattern": {
              "fillmode": "overlay",
              "size": 10,
              "solidity": 0.2
             }
            },
            "type": "bar"
           }
          ],
          "barpolar": [
           {
            "marker": {
             "line": {
              "color": "#E5ECF6",
              "width": 0.5
             },
             "pattern": {
              "fillmode": "overlay",
              "size": 10,
              "solidity": 0.2
             }
            },
            "type": "barpolar"
           }
          ],
          "carpet": [
           {
            "aaxis": {
             "endlinecolor": "#2a3f5f",
             "gridcolor": "white",
             "linecolor": "white",
             "minorgridcolor": "white",
             "startlinecolor": "#2a3f5f"
            },
            "baxis": {
             "endlinecolor": "#2a3f5f",
             "gridcolor": "white",
             "linecolor": "white",
             "minorgridcolor": "white",
             "startlinecolor": "#2a3f5f"
            },
            "type": "carpet"
           }
          ],
          "choropleth": [
           {
            "colorbar": {
             "outlinewidth": 0,
             "ticks": ""
            },
            "type": "choropleth"
           }
          ],
          "contour": [
           {
            "colorbar": {
             "outlinewidth": 0,
             "ticks": ""
            },
            "colorscale": [
             [
              0,
              "#0d0887"
             ],
             [
              0.1111111111111111,
              "#46039f"
             ],
             [
              0.2222222222222222,
              "#7201a8"
             ],
             [
              0.3333333333333333,
              "#9c179e"
             ],
             [
              0.4444444444444444,
              "#bd3786"
             ],
             [
              0.5555555555555556,
              "#d8576b"
             ],
             [
              0.6666666666666666,
              "#ed7953"
             ],
             [
              0.7777777777777778,
              "#fb9f3a"
             ],
             [
              0.8888888888888888,
              "#fdca26"
             ],
             [
              1,
              "#f0f921"
             ]
            ],
            "type": "contour"
           }
          ],
          "contourcarpet": [
           {
            "colorbar": {
             "outlinewidth": 0,
             "ticks": ""
            },
            "type": "contourcarpet"
           }
          ],
          "heatmap": [
           {
            "colorbar": {
             "outlinewidth": 0,
             "ticks": ""
            },
            "colorscale": [
             [
              0,
              "#0d0887"
             ],
             [
              0.1111111111111111,
              "#46039f"
             ],
             [
              0.2222222222222222,
              "#7201a8"
             ],
             [
              0.3333333333333333,
              "#9c179e"
             ],
             [
              0.4444444444444444,
              "#bd3786"
             ],
             [
              0.5555555555555556,
              "#d8576b"
             ],
             [
              0.6666666666666666,
              "#ed7953"
             ],
             [
              0.7777777777777778,
              "#fb9f3a"
             ],
             [
              0.8888888888888888,
              "#fdca26"
             ],
             [
              1,
              "#f0f921"
             ]
            ],
            "type": "heatmap"
           }
          ],
          "heatmapgl": [
           {
            "colorbar": {
             "outlinewidth": 0,
             "ticks": ""
            },
            "colorscale": [
             [
              0,
              "#0d0887"
             ],
             [
              0.1111111111111111,
              "#46039f"
             ],
             [
              0.2222222222222222,
              "#7201a8"
             ],
             [
              0.3333333333333333,
              "#9c179e"
             ],
             [
              0.4444444444444444,
              "#bd3786"
             ],
             [
              0.5555555555555556,
              "#d8576b"
             ],
             [
              0.6666666666666666,
              "#ed7953"
             ],
             [
              0.7777777777777778,
              "#fb9f3a"
             ],
             [
              0.8888888888888888,
              "#fdca26"
             ],
             [
              1,
              "#f0f921"
             ]
            ],
            "type": "heatmapgl"
           }
          ],
          "histogram": [
           {
            "marker": {
             "pattern": {
              "fillmode": "overlay",
              "size": 10,
              "solidity": 0.2
             }
            },
            "type": "histogram"
           }
          ],
          "histogram2d": [
           {
            "colorbar": {
             "outlinewidth": 0,
             "ticks": ""
            },
            "colorscale": [
             [
              0,
              "#0d0887"
             ],
             [
              0.1111111111111111,
              "#46039f"
             ],
             [
              0.2222222222222222,
              "#7201a8"
             ],
             [
              0.3333333333333333,
              "#9c179e"
             ],
             [
              0.4444444444444444,
              "#bd3786"
             ],
             [
              0.5555555555555556,
              "#d8576b"
             ],
             [
              0.6666666666666666,
              "#ed7953"
             ],
             [
              0.7777777777777778,
              "#fb9f3a"
             ],
             [
              0.8888888888888888,
              "#fdca26"
             ],
             [
              1,
              "#f0f921"
             ]
            ],
            "type": "histogram2d"
           }
          ],
          "histogram2dcontour": [
           {
            "colorbar": {
             "outlinewidth": 0,
             "ticks": ""
            },
            "colorscale": [
             [
              0,
              "#0d0887"
             ],
             [
              0.1111111111111111,
              "#46039f"
             ],
             [
              0.2222222222222222,
              "#7201a8"
             ],
             [
              0.3333333333333333,
              "#9c179e"
             ],
             [
              0.4444444444444444,
              "#bd3786"
             ],
             [
              0.5555555555555556,
              "#d8576b"
             ],
             [
              0.6666666666666666,
              "#ed7953"
             ],
             [
              0.7777777777777778,
              "#fb9f3a"
             ],
             [
              0.8888888888888888,
              "#fdca26"
             ],
             [
              1,
              "#f0f921"
             ]
            ],
            "type": "histogram2dcontour"
           }
          ],
          "mesh3d": [
           {
            "colorbar": {
             "outlinewidth": 0,
             "ticks": ""
            },
            "type": "mesh3d"
           }
          ],
          "parcoords": [
           {
            "line": {
             "colorbar": {
              "outlinewidth": 0,
              "ticks": ""
             }
            },
            "type": "parcoords"
           }
          ],
          "pie": [
           {
            "automargin": true,
            "type": "pie"
           }
          ],
          "scatter": [
           {
            "fillpattern": {
             "fillmode": "overlay",
             "size": 10,
             "solidity": 0.2
            },
            "type": "scatter"
           }
          ],
          "scatter3d": [
           {
            "line": {
             "colorbar": {
              "outlinewidth": 0,
              "ticks": ""
             }
            },
            "marker": {
             "colorbar": {
              "outlinewidth": 0,
              "ticks": ""
             }
            },
            "type": "scatter3d"
           }
          ],
          "scattercarpet": [
           {
            "marker": {
             "colorbar": {
              "outlinewidth": 0,
              "ticks": ""
             }
            },
            "type": "scattercarpet"
           }
          ],
          "scattergeo": [
           {
            "marker": {
             "colorbar": {
              "outlinewidth": 0,
              "ticks": ""
             }
            },
            "type": "scattergeo"
           }
          ],
          "scattergl": [
           {
            "marker": {
             "colorbar": {
              "outlinewidth": 0,
              "ticks": ""
             }
            },
            "type": "scattergl"
           }
          ],
          "scattermapbox": [
           {
            "marker": {
             "colorbar": {
              "outlinewidth": 0,
              "ticks": ""
             }
            },
            "type": "scattermapbox"
           }
          ],
          "scatterpolar": [
           {
            "marker": {
             "colorbar": {
              "outlinewidth": 0,
              "ticks": ""
             }
            },
            "type": "scatterpolar"
           }
          ],
          "scatterpolargl": [
           {
            "marker": {
             "colorbar": {
              "outlinewidth": 0,
              "ticks": ""
             }
            },
            "type": "scatterpolargl"
           }
          ],
          "scatterternary": [
           {
            "marker": {
             "colorbar": {
              "outlinewidth": 0,
              "ticks": ""
             }
            },
            "type": "scatterternary"
           }
          ],
          "surface": [
           {
            "colorbar": {
             "outlinewidth": 0,
             "ticks": ""
            },
            "colorscale": [
             [
              0,
              "#0d0887"
             ],
             [
              0.1111111111111111,
              "#46039f"
             ],
             [
              0.2222222222222222,
              "#7201a8"
             ],
             [
              0.3333333333333333,
              "#9c179e"
             ],
             [
              0.4444444444444444,
              "#bd3786"
             ],
             [
              0.5555555555555556,
              "#d8576b"
             ],
             [
              0.6666666666666666,
              "#ed7953"
             ],
             [
              0.7777777777777778,
              "#fb9f3a"
             ],
             [
              0.8888888888888888,
              "#fdca26"
             ],
             [
              1,
              "#f0f921"
             ]
            ],
            "type": "surface"
           }
          ],
          "table": [
           {
            "cells": {
             "fill": {
              "color": "#EBF0F8"
             },
             "line": {
              "color": "white"
             }
            },
            "header": {
             "fill": {
              "color": "#C8D4E3"
             },
             "line": {
              "color": "white"
             }
            },
            "type": "table"
           }
          ]
         },
         "layout": {
          "annotationdefaults": {
           "arrowcolor": "#2a3f5f",
           "arrowhead": 0,
           "arrowwidth": 1
          },
          "autotypenumbers": "strict",
          "coloraxis": {
           "colorbar": {
            "outlinewidth": 0,
            "ticks": ""
           }
          },
          "colorscale": {
           "diverging": [
            [
             0,
             "#8e0152"
            ],
            [
             0.1,
             "#c51b7d"
            ],
            [
             0.2,
             "#de77ae"
            ],
            [
             0.3,
             "#f1b6da"
            ],
            [
             0.4,
             "#fde0ef"
            ],
            [
             0.5,
             "#f7f7f7"
            ],
            [
             0.6,
             "#e6f5d0"
            ],
            [
             0.7,
             "#b8e186"
            ],
            [
             0.8,
             "#7fbc41"
            ],
            [
             0.9,
             "#4d9221"
            ],
            [
             1,
             "#276419"
            ]
           ],
           "sequential": [
            [
             0,
             "#0d0887"
            ],
            [
             0.1111111111111111,
             "#46039f"
            ],
            [
             0.2222222222222222,
             "#7201a8"
            ],
            [
             0.3333333333333333,
             "#9c179e"
            ],
            [
             0.4444444444444444,
             "#bd3786"
            ],
            [
             0.5555555555555556,
             "#d8576b"
            ],
            [
             0.6666666666666666,
             "#ed7953"
            ],
            [
             0.7777777777777778,
             "#fb9f3a"
            ],
            [
             0.8888888888888888,
             "#fdca26"
            ],
            [
             1,
             "#f0f921"
            ]
           ],
           "sequentialminus": [
            [
             0,
             "#0d0887"
            ],
            [
             0.1111111111111111,
             "#46039f"
            ],
            [
             0.2222222222222222,
             "#7201a8"
            ],
            [
             0.3333333333333333,
             "#9c179e"
            ],
            [
             0.4444444444444444,
             "#bd3786"
            ],
            [
             0.5555555555555556,
             "#d8576b"
            ],
            [
             0.6666666666666666,
             "#ed7953"
            ],
            [
             0.7777777777777778,
             "#fb9f3a"
            ],
            [
             0.8888888888888888,
             "#fdca26"
            ],
            [
             1,
             "#f0f921"
            ]
           ]
          },
          "colorway": [
           "#636efa",
           "#EF553B",
           "#00cc96",
           "#ab63fa",
           "#FFA15A",
           "#19d3f3",
           "#FF6692",
           "#B6E880",
           "#FF97FF",
           "#FECB52"
          ],
          "font": {
           "color": "#2a3f5f"
          },
          "geo": {
           "bgcolor": "white",
           "lakecolor": "white",
           "landcolor": "#E5ECF6",
           "showlakes": true,
           "showland": true,
           "subunitcolor": "white"
          },
          "hoverlabel": {
           "align": "left"
          },
          "hovermode": "closest",
          "mapbox": {
           "style": "light"
          },
          "paper_bgcolor": "white",
          "plot_bgcolor": "#E5ECF6",
          "polar": {
           "angularaxis": {
            "gridcolor": "white",
            "linecolor": "white",
            "ticks": ""
           },
           "bgcolor": "#E5ECF6",
           "radialaxis": {
            "gridcolor": "white",
            "linecolor": "white",
            "ticks": ""
           }
          },
          "scene": {
           "xaxis": {
            "backgroundcolor": "#E5ECF6",
            "gridcolor": "white",
            "gridwidth": 2,
            "linecolor": "white",
            "showbackground": true,
            "ticks": "",
            "zerolinecolor": "white"
           },
           "yaxis": {
            "backgroundcolor": "#E5ECF6",
            "gridcolor": "white",
            "gridwidth": 2,
            "linecolor": "white",
            "showbackground": true,
            "ticks": "",
            "zerolinecolor": "white"
           },
           "zaxis": {
            "backgroundcolor": "#E5ECF6",
            "gridcolor": "white",
            "gridwidth": 2,
            "linecolor": "white",
            "showbackground": true,
            "ticks": "",
            "zerolinecolor": "white"
           }
          },
          "shapedefaults": {
           "line": {
            "color": "#2a3f5f"
           }
          },
          "ternary": {
           "aaxis": {
            "gridcolor": "white",
            "linecolor": "white",
            "ticks": ""
           },
           "baxis": {
            "gridcolor": "white",
            "linecolor": "white",
            "ticks": ""
           },
           "bgcolor": "#E5ECF6",
           "caxis": {
            "gridcolor": "white",
            "linecolor": "white",
            "ticks": ""
           }
          },
          "title": {
           "x": 0.05
          },
          "xaxis": {
           "automargin": true,
           "gridcolor": "white",
           "linecolor": "white",
           "ticks": "",
           "title": {
            "standoff": 15
           },
           "zerolinecolor": "white",
           "zerolinewidth": 2
          },
          "yaxis": {
           "automargin": true,
           "gridcolor": "white",
           "linecolor": "white",
           "ticks": "",
           "title": {
            "standoff": 15
           },
           "zerolinecolor": "white",
           "zerolinewidth": 2
          }
         }
        },
        "width": 900,
        "xaxis": {
         "anchor": "y",
         "domain": [
          0,
          1
         ],
         "range": [
          "2023-02-12T03:36:00",
          "2024-02-17T20:24:00"
         ],
         "type": "date"
        },
        "xaxis2": {
         "anchor": "y2",
         "domain": [
          0,
          1
         ],
         "range": [
          "2023-02-12T03:36:00",
          "2024-02-17T20:24:00"
         ],
         "type": "date"
        },
        "xaxis3": {
         "anchor": "y3",
         "domain": [
          0,
          1
         ],
         "range": [
          "2016-12-13T18:54:02.958904115",
          "2018-01-18T11:04:57.863013581"
         ],
         "tickformat": "%B %e",
         "type": "date"
        },
        "yaxis": {
         "anchor": "x",
         "domain": [
          0.7333333333333333,
          1
         ],
         "rangemode": "normal",
         "title": {
          "text": "trend"
         },
         "zerolinecolor": "#AAA"
        },
        "yaxis2": {
         "anchor": "x2",
         "domain": [
          0.36666666666666664,
          0.6333333333333333
         ],
         "rangemode": "tozero",
         "title": {
          "text": "extra_regressors_additive"
         },
         "zerolinecolor": "#AAA"
        },
        "yaxis3": {
         "anchor": "x3",
         "domain": [
          0,
          0.26666666666666666
         ],
         "title": {
          "text": "yearly"
         },
         "zerolinecolor": "#AAA"
        }
       }
      }
     },
     "metadata": {},
     "output_type": "display_data"
    }
   ],
   "source": [
    "############### Plot Prophet\n",
    "\n",
    "from prophet.plot import plot_plotly, plot_components_plotly\n",
    "\n",
    "# Plot the forecast\n",
    "fig1 = plot_plotly(model, predprophet)\n",
    "fig1.show()\n",
    "\n",
    "# Plot forecast components\n",
    "fig2 = plot_components_plotly(model, predprophet)\n",
    "fig2.show()"
   ]
  }
 ],
 "metadata": {
  "kernelspec": {
   "display_name": "Python 3",
   "language": "python",
   "name": "python3"
  },
  "language_info": {
   "codemirror_mode": {
    "name": "ipython",
    "version": 3
   },
   "file_extension": ".py",
   "mimetype": "text/x-python",
   "name": "python",
   "nbconvert_exporter": "python",
   "pygments_lexer": "ipython3",
   "version": "3.12.6"
  }
 },
 "nbformat": 4,
 "nbformat_minor": 2
}
