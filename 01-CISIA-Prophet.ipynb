{
 "cells": [
  {
   "cell_type": "code",
   "execution_count": 1,
   "metadata": {},
   "outputs": [],
   "source": [
    "############# Libraries ##############\n",
    "\n",
    "from matplotlib import pyplot as plt\n",
    "import numpy as np\n",
    "import pandas as pd\n",
    "\n",
    "# Evaluation metrics\n",
    "from sklearn.metrics import mean_squared_error as mse\n",
    "from sklearn.metrics import mean_absolute_percentage_error as mape\n",
    "\n",
    "epislon = 1e-20  # Define a small epsilon value for division by zero cases\n",
    "\n",
    "def rmse(y_true, y_pred):\n",
    "  return np.sqrt(mse(y_true, y_pred))\n",
    "\n",
    "def mase(y_true, y_pred, y_baseline):\n",
    "    # Calcula o MAE do modelo\n",
    "    mae_pred = np.mean(np.abs(y_true - y_pred))\n",
    "    # Calcula o MAE do modelo baseline Persistent Window (i.e., últimas h observações antes do teste)\n",
    "    mae_naive = np.mean(np.abs(y_true - y_baseline))\n",
    "    result = mae_pred/mae_naive\n",
    "    return result\n",
    "\n",
    "def pbe(y_true, y_pred):\n",
    "  if np.sum(y_true)!=0:\n",
    "    return 100*(np.sum(y_true - y_pred)/np.sum(y_true))\n",
    "  else:\n",
    "    return 100*(np.sum(y_true - y_pred)/(np.sum(y_true) + epislon))\n",
    "\n",
    "def pocid(y_true, y_pred):\n",
    "  n = len(y_true)\n",
    "  D = [1 if (y_pred[i] - y_pred[i-1]) * (y_true[i] - y_true[i-1]) > 0 else 0 for i in range(1, n)]\n",
    "  POCID = 100 * np.sum(D) / (n-1)\n",
    "  return POCID\n",
    "\n",
    "def mcpm(rmse_result, mape_result, pocid_result):\n",
    "  er_result = 100 - pocid_result\n",
    "\n",
    "  A1 = (rmse_result * mape_result * np.sin((2*np.pi)/3))/2\n",
    "  A2 = (mape_result * er_result * np.sin((2*np.pi)/3))/2\n",
    "  A3 = (er_result * rmse_result * np.sin((2*np.pi)/3))/2\n",
    "  total = A1 + A2 + A3\n",
    "  return total\n",
    "\n",
    "def znorm(x):\n",
    "  if np.std(x) != 0: \n",
    "      x_znorm = (x - np.mean(x)) / np.std(x)\n",
    "  else:\n",
    "      x_znorm = (x - np.mean(x)) / (np.std(x) + epislon)\n",
    "  return x_znorm\n",
    "\n",
    "def znorm_reverse(x, mean_x, std_x):\n",
    "  x_denormalized = (np.array(x) * std_x) + mean_x\n",
    "  return x_denormalized\n",
    "\n",
    "def get_stats_norm(series, horizon, window):\n",
    "  last_subsequence = series[-(horizon+window):-horizon].values\n",
    "  last_mean = np.mean(last_subsequence)\n",
    "  last_std = np.std(last_subsequence)\n",
    "  return last_mean, last_std\n",
    "\n",
    "# Para predição de vendas por UF (mensal), será considerado horizon = 12\n",
    "# Para predição de vendas por município (anual), será considerado horizon = 1\n",
    "def train_test_split(data, horizon):\n",
    "  X = data.iloc[:,:-1] # features\n",
    "  y = data.iloc[:,-1] # target\n",
    "\n",
    "  X_train = X[:-horizon] # features train\n",
    "  X_test =  X[-horizon:] # features test\n",
    "\n",
    "  y_train = y[:-horizon] # target train\n",
    "  y_test = y[-horizon:] # target test\n",
    "  return X_train, X_test, y_train, y_test\n",
    "\n",
    "def recursive_multistep_forecasting(X_test, model, horizon):\n",
    "  # example é composto pelas últimas observações vistas\n",
    "  # na prática, é o pbeprimeiro exemplo do conjunto de teste\n",
    "  example = X_test.iloc[0].values.reshape(1,-1)\n",
    "\n",
    "  preds = []\n",
    "  for i in range(horizon):\n",
    "    pred = model.predict(example)[0]\n",
    "    preds.append(pred)\n",
    "\n",
    "    # Descartar o valor da primeira posição do vetor de características\n",
    "    example = example[:,1:]\n",
    "\n",
    "    # Adicionar o valor predito na última posição do vetor de características\n",
    "    example = np.append(example, pred)\n",
    "    example = example.reshape(1,-1)\n",
    "  return preds\n",
    "\n",
    "def baseline_mean(series, horizon):\n",
    "  # como as séries são normalizadas, esse baseline irá retornar uma reta próxima de zero\n",
    "  pred = np.repeat(np.mean(znorm(series[:-horizon])), horizon)\n",
    "  return pred\n",
    "\n",
    "def baseline_persistent(series, horizon):\n",
    "  return np.repeat(znorm(series[-2*horizon:-horizon]).values[-1], horizon)\n",
    "\n",
    "def baseline_persistent_window(series, horizon):\n",
    "  subsequence = znorm(series[-horizon*2:-horizon]).values\n",
    "  return subsequence\n",
    "\n",
    "def baseline_persistent_windowR(series, horizon):\n",
    "  subsequence2 = series[-horizon*2:-horizon].values\n",
    "  return subsequence2\n",
    "\n",
    "# Em geral, considera-se um tamanho de janela capaz de capturar um ciclo dos dados\n",
    "# Por exemplo, 12 observações no caso dos dados com frequência mensal\n",
    "def rolling_window(series, window):\n",
    "  data = []\n",
    "  for i in range(len(series)-window):\n",
    "    example = znorm(np.array(series[i:i+window+1]))\n",
    "    data.append(example)\n",
    "  df = pd.DataFrame(data)\n",
    "  return df\n"
   ]
  },
  {
   "cell_type": "code",
   "execution_count": 2,
   "metadata": {},
   "outputs": [],
   "source": [
    "############# DEFs ##############\n",
    "\n",
    "import os\n",
    "import csv\n",
    "\n",
    "def extract_estado(file_name):\n",
    "    parts = file_name.split('_')\n",
    "    estado = parts[1]\n",
    "    return estado\n",
    "\n",
    "def read_csv_files(folder_path):\n",
    "    estados = []\n",
    "    files = os.listdir(folder_path)\n",
    "    for file_name in files:\n",
    "        if file_name.endswith('.csv'):\n",
    "            file_path = os.path.join(folder_path, file_name)\n",
    "            with open(file_path, 'r', newline='') as csvfile:\n",
    "                reader = csv.reader(csvfile)\n",
    "                headers = next(reader)\n",
    "                estado = extract_estado(file_name)\n",
    "                estados.append(estado)\n",
    "                estados.sort()\n",
    "    return estados\n",
    "\n",
    "\n",
    "##########################################\n",
    "\n",
    "def rolling_window_prophet(series, window):\n",
    "  data = []\n",
    "  for i in range(len(series)-window):\n",
    "    example = znorm(np.array(series[i:i+window+1]))\n",
    "    # example = (np.array(series[i:i+window+1]))\n",
    "    data.append(example)\n",
    "  df = pd.DataFrame(data)\n",
    "  return df\n",
    "\n",
    "#############################################"
   ]
  },
  {
   "cell_type": "code",
   "execution_count": 7,
   "metadata": {},
   "outputs": [
    {
     "name": "stderr",
     "output_type": "stream",
     "text": [
      "15:06:26 - cmdstanpy - INFO - Chain [1] start processing\n",
      "15:06:26 - cmdstanpy - INFO - Chain [1] done processing\n"
     ]
    }
   ],
   "source": [
    "########### Prophet TEST ##################\n",
    "\n",
    "from prophet import Prophet\n",
    "import os\n",
    "\n",
    "horizon = 12\n",
    "\n",
    "###########################################################\n",
    "####### Considerar Janelas > 36 para o Prophet (90)########\n",
    "###########################################################\n",
    "\n",
    "window = 90\n",
    "\n",
    "\n",
    "products = sorted([name for name in os.listdir('./uf/') if os.path.isdir(os.path.join('./uf/', name))])\n",
    "\n",
    "product = 'etanolhidratado'\n",
    "estado = 'ac'\n",
    "\n",
    "# for product in products:\n",
    "#     folder_path = f'./uf/{product}/'\n",
    "#     # Read the CSV files and extract estado names\n",
    "#     estados = read_csv_files(folder_path)\n",
    "#     for estado in estados:\n",
    "\n",
    "df = pd.read_csv(f\"./uf/{product}/mensal_{estado}_{product}.csv\", header=0, sep=\";\")\n",
    "df = pd.DataFrame(df)\n",
    "\n",
    "# Convert timestamp to datetime\n",
    "df['timestamp'] = pd.to_datetime(df['timestamp'].astype(str), format='%Y%m')\n",
    "series = df[\"m3\"]\n",
    "series.index = range(0, len(series))\n",
    "\n",
    "# Check the frequency of the data entries\n",
    "data_frequency = df['timestamp'].dt.to_period('M').value_counts().sort_index()\n",
    "\n",
    "# Aggregate data at the monthly level\n",
    "monthly_data = df.groupby(df['timestamp'].dt.to_period('M'))['m3'].sum().reset_index()\n",
    "monthly_data['timestamp'] = monthly_data['timestamp'].dt.to_timestamp()\n",
    "\n",
    "# Rename columns for Prophet compatibility\n",
    "monthly_data.rename(columns={'timestamp': 'ds', 'm3': 'y'}, inplace=True)\n",
    "\n",
    "# Rolling Window Prophet with Normalization\n",
    "monthly_data_norm_minuswind = rolling_window_prophet(monthly_data['y'], window)\n",
    "\n",
    "X_train, X_test, y_train, y_test = train_test_split(monthly_data_norm_minuswind, horizon)\n",
    "\n",
    "# Selecting the first column of monthly_data to pass the dates\n",
    "first_column = monthly_data.iloc[:, 0] \n",
    "first_column = first_column[window:-(horizon)]\n",
    "first_column = first_column.reset_index(drop=True)\n",
    "\n",
    "# Concatenating the first column with monthly_data_norm along axis 1 (columns)\n",
    "prophet_data = pd.concat([first_column, X_train], axis=1)\n",
    "prophet_data2 = pd.concat([prophet_data, y_train], axis=1)\n",
    "prophet_data2.rename(columns={window: 'y'}, inplace=True)\n",
    "\n",
    "# Initialize the Prophet model\n",
    "model = Prophet()\n",
    "\n",
    "# Fit the model to the monthly data\n",
    "model.fit(prophet_data2)\n",
    "\n",
    "# Create a dataframe for future dates to predict the next 12 months\n",
    "future_dates_temp = model.make_future_dataframe(periods=horizon, freq='ME')\n",
    "future_dates = df['timestamp'].tail(12)\n",
    "future_dates = pd.DataFrame(future_dates)\n",
    "future_dates.rename(columns={'timestamp': 'ds'}, inplace=True)\n",
    "\n",
    "data_forecast = model.predict(future_dates) # future_dates or future_dates_temp\n",
    "\n",
    "# TEST DATA\n",
    "monthly_data_norm_last = y_test\n",
    "monthly_data_norm_last = monthly_data_norm_last.reset_index(drop=True)\n",
    "\n",
    "future_forecast = data_forecast['yhat'].tail(12)\n",
    "future_forecast_12 = future_forecast.reset_index(drop=True)\n",
    "\n",
    "# import pickle\n",
    "# with open(f'./00-MODELS_UF_MENSAL-Prophet/{estado}_{product}_Prophet_RawData_model.pkl', 'wb') as fd: pickle.dump({model}, fd)\n",
    "\n",
    "################## DeNormalized #######################\n",
    "\n",
    "mean_norm, std_norm = get_stats_norm(series, horizon, window)\n",
    "predictions_rescaled = znorm_reverse(future_forecast_12, mean_norm, std_norm)\n",
    "\n",
    "# Convert the array into a DataFrame\n",
    "predictions_df2 = pd.DataFrame(predictions_rescaled, columns=['Predictions'])\n",
    "\n",
    "Valores_Reais = monthly_data['y'].tail(12)\n",
    "Valores_Reais = Valores_Reais.reset_index(drop=True)\n",
    "\n",
    "###########################################################\n",
    "\n",
    "basepredictionsnorm = baseline_persistent_window(series, horizon)\n",
    "basepredictions = znorm_reverse(basepredictionsnorm, mean_norm, std_norm)\n",
    "\n",
    "###########################################################\n",
    "\n",
    "rmse_result2 = rmse(Valores_Reais, predictions_df2['Predictions'])\n",
    "mape_result2 = mape(Valores_Reais, predictions_df2['Predictions'])\n",
    "pocid_result2 = pocid(Valores_Reais, predictions_df2['Predictions'])\n",
    "mcpm_result2 = mcpm(rmse_result2, mape_result2, pocid_result2)\n",
    "pbe_result2 = pbe(Valores_Reais, predictions_df2['Predictions'])\n",
    "mase_result2 = mase(Valores_Reais, predictions_df2['Predictions'], basepredictions)\n",
    "\n",
    "\n",
    "# CSV Output VALORES REAIS\n",
    "with open(f'01-Prophet_{window}_output.csv', 'a', newline='') as file:\n",
    "    writer = csv.writer(file)\n",
    "    writer.writerow([\n",
    "        product, estado, 'Prophet', mape_result2, pocid_result2, pbe_result2, mase_result2, *predictions_df2['Predictions'].values\n",
    "    ])\n",
    "\n"
   ]
  },
  {
   "cell_type": "code",
   "execution_count": 9,
   "metadata": {},
   "outputs": [
    {
     "name": "stderr",
     "output_type": "stream",
     "text": [
      "09:57:07 - cmdstanpy - INFO - Chain [1] start processing\n",
      "09:57:07 - cmdstanpy - INFO - Chain [1] done processing\n",
      "09:57:07 - cmdstanpy - INFO - Chain [1] start processing\n",
      "09:57:07 - cmdstanpy - INFO - Chain [1] done processing\n",
      "09:57:07 - cmdstanpy - INFO - Chain [1] start processing\n",
      "09:57:07 - cmdstanpy - INFO - Chain [1] done processing\n",
      "09:57:07 - cmdstanpy - INFO - Chain [1] start processing\n",
      "09:57:07 - cmdstanpy - INFO - Chain [1] done processing\n",
      "09:57:07 - cmdstanpy - INFO - Chain [1] start processing\n",
      "09:57:07 - cmdstanpy - INFO - Chain [1] done processing\n",
      "09:57:08 - cmdstanpy - INFO - Chain [1] start processing\n",
      "09:57:08 - cmdstanpy - INFO - Chain [1] done processing\n",
      "09:57:08 - cmdstanpy - INFO - Chain [1] start processing\n",
      "09:57:08 - cmdstanpy - INFO - Chain [1] done processing\n",
      "09:57:08 - cmdstanpy - INFO - Chain [1] start processing\n",
      "09:57:08 - cmdstanpy - INFO - Chain [1] done processing\n",
      "09:57:08 - cmdstanpy - INFO - Chain [1] start processing\n",
      "09:57:08 - cmdstanpy - INFO - Chain [1] done processing\n",
      "09:57:08 - cmdstanpy - INFO - Chain [1] start processing\n",
      "09:57:08 - cmdstanpy - INFO - Chain [1] done processing\n",
      "09:57:08 - cmdstanpy - INFO - Chain [1] start processing\n",
      "09:57:08 - cmdstanpy - INFO - Chain [1] done processing\n",
      "09:57:09 - cmdstanpy - INFO - Chain [1] start processing\n",
      "09:57:09 - cmdstanpy - INFO - Chain [1] done processing\n",
      "09:57:09 - cmdstanpy - INFO - Chain [1] start processing\n",
      "09:57:09 - cmdstanpy - INFO - Chain [1] done processing\n",
      "09:57:09 - cmdstanpy - INFO - Chain [1] start processing\n",
      "09:57:09 - cmdstanpy - INFO - Chain [1] done processing\n",
      "09:57:09 - cmdstanpy - INFO - Chain [1] start processing\n",
      "09:57:09 - cmdstanpy - INFO - Chain [1] done processing\n",
      "09:57:09 - cmdstanpy - INFO - Chain [1] start processing\n",
      "09:57:09 - cmdstanpy - INFO - Chain [1] done processing\n",
      "09:57:09 - cmdstanpy - INFO - Chain [1] start processing\n",
      "09:57:09 - cmdstanpy - INFO - Chain [1] done processing\n",
      "09:57:10 - cmdstanpy - INFO - Chain [1] start processing\n",
      "09:57:10 - cmdstanpy - INFO - Chain [1] done processing\n",
      "09:57:10 - cmdstanpy - INFO - Chain [1] start processing\n",
      "09:57:10 - cmdstanpy - INFO - Chain [1] done processing\n",
      "09:57:10 - cmdstanpy - INFO - Chain [1] start processing\n",
      "09:57:10 - cmdstanpy - INFO - Chain [1] done processing\n",
      "09:57:10 - cmdstanpy - INFO - Chain [1] start processing\n",
      "09:57:10 - cmdstanpy - INFO - Chain [1] done processing\n",
      "09:57:10 - cmdstanpy - INFO - Chain [1] start processing\n",
      "09:57:10 - cmdstanpy - INFO - Chain [1] done processing\n",
      "09:57:10 - cmdstanpy - INFO - Chain [1] start processing\n",
      "09:57:11 - cmdstanpy - INFO - Chain [1] done processing\n",
      "09:57:11 - cmdstanpy - INFO - Chain [1] start processing\n",
      "09:57:11 - cmdstanpy - INFO - Chain [1] done processing\n",
      "09:57:11 - cmdstanpy - INFO - Chain [1] start processing\n",
      "09:57:11 - cmdstanpy - INFO - Chain [1] done processing\n",
      "09:57:11 - cmdstanpy - INFO - Chain [1] start processing\n",
      "09:57:11 - cmdstanpy - INFO - Chain [1] done processing\n",
      "09:57:11 - cmdstanpy - INFO - Chain [1] start processing\n",
      "09:57:11 - cmdstanpy - INFO - Chain [1] done processing\n",
      "09:57:11 - cmdstanpy - INFO - Chain [1] start processing\n",
      "09:57:11 - cmdstanpy - INFO - Chain [1] done processing\n",
      "09:57:11 - cmdstanpy - INFO - Chain [1] start processing\n",
      "09:57:11 - cmdstanpy - INFO - Chain [1] done processing\n",
      "09:57:12 - cmdstanpy - INFO - Chain [1] start processing\n",
      "09:57:12 - cmdstanpy - INFO - Chain [1] done processing\n",
      "09:57:12 - cmdstanpy - INFO - Chain [1] start processing\n",
      "09:57:12 - cmdstanpy - INFO - Chain [1] done processing\n",
      "09:57:12 - cmdstanpy - INFO - Chain [1] start processing\n",
      "09:57:12 - cmdstanpy - INFO - Chain [1] done processing\n",
      "09:57:12 - cmdstanpy - INFO - Chain [1] start processing\n",
      "09:57:12 - cmdstanpy - INFO - Chain [1] done processing\n",
      "09:57:12 - cmdstanpy - INFO - Chain [1] start processing\n",
      "09:57:12 - cmdstanpy - INFO - Chain [1] done processing\n",
      "09:57:12 - cmdstanpy - INFO - Chain [1] start processing\n",
      "09:57:12 - cmdstanpy - INFO - Chain [1] done processing\n",
      "09:57:13 - cmdstanpy - INFO - Chain [1] start processing\n",
      "09:57:13 - cmdstanpy - INFO - Chain [1] done processing\n",
      "09:57:13 - cmdstanpy - INFO - Chain [1] start processing\n",
      "09:57:13 - cmdstanpy - INFO - Chain [1] done processing\n",
      "09:57:13 - cmdstanpy - INFO - Chain [1] start processing\n",
      "09:57:13 - cmdstanpy - INFO - Chain [1] done processing\n",
      "09:57:13 - cmdstanpy - INFO - Chain [1] start processing\n",
      "09:57:13 - cmdstanpy - INFO - Chain [1] done processing\n",
      "09:57:13 - cmdstanpy - INFO - Chain [1] start processing\n",
      "09:57:13 - cmdstanpy - INFO - Chain [1] done processing\n",
      "09:57:13 - cmdstanpy - INFO - Chain [1] start processing\n",
      "09:57:13 - cmdstanpy - INFO - Chain [1] done processing\n",
      "09:57:14 - cmdstanpy - INFO - Chain [1] start processing\n",
      "09:57:14 - cmdstanpy - INFO - Chain [1] done processing\n",
      "09:57:14 - cmdstanpy - INFO - Chain [1] start processing\n",
      "09:57:14 - cmdstanpy - INFO - Chain [1] done processing\n",
      "09:57:14 - cmdstanpy - INFO - Chain [1] start processing\n",
      "09:57:14 - cmdstanpy - INFO - Chain [1] done processing\n",
      "09:57:14 - cmdstanpy - INFO - Chain [1] start processing\n",
      "09:57:14 - cmdstanpy - INFO - Chain [1] done processing\n",
      "09:57:14 - cmdstanpy - INFO - Chain [1] start processing\n",
      "09:57:14 - cmdstanpy - INFO - Chain [1] done processing\n",
      "09:57:14 - cmdstanpy - INFO - Chain [1] start processing\n",
      "09:57:14 - cmdstanpy - INFO - Chain [1] done processing\n",
      "09:57:15 - cmdstanpy - INFO - Chain [1] start processing\n",
      "09:57:15 - cmdstanpy - INFO - Chain [1] done processing\n",
      "09:57:15 - cmdstanpy - INFO - Chain [1] start processing\n",
      "09:57:15 - cmdstanpy - INFO - Chain [1] done processing\n",
      "09:57:15 - cmdstanpy - INFO - Chain [1] start processing\n",
      "09:57:15 - cmdstanpy - INFO - Chain [1] done processing\n",
      "09:57:15 - cmdstanpy - INFO - Chain [1] start processing\n",
      "09:57:15 - cmdstanpy - INFO - Chain [1] done processing\n",
      "09:57:15 - cmdstanpy - INFO - Chain [1] start processing\n",
      "09:57:15 - cmdstanpy - INFO - Chain [1] done processing\n",
      "09:57:15 - cmdstanpy - INFO - Chain [1] start processing\n",
      "09:57:15 - cmdstanpy - INFO - Chain [1] done processing\n",
      "09:57:15 - cmdstanpy - INFO - Chain [1] start processing\n",
      "09:57:16 - cmdstanpy - INFO - Chain [1] done processing\n",
      "09:57:16 - cmdstanpy - INFO - Chain [1] start processing\n",
      "09:57:16 - cmdstanpy - INFO - Chain [1] done processing\n",
      "09:57:16 - cmdstanpy - INFO - Chain [1] start processing\n",
      "09:57:16 - cmdstanpy - INFO - Chain [1] done processing\n",
      "09:57:16 - cmdstanpy - INFO - Chain [1] start processing\n",
      "09:57:16 - cmdstanpy - INFO - Chain [1] done processing\n",
      "09:57:16 - cmdstanpy - INFO - Chain [1] start processing\n",
      "09:57:16 - cmdstanpy - INFO - Chain [1] done processing\n",
      "09:57:16 - cmdstanpy - INFO - Chain [1] start processing\n",
      "09:57:16 - cmdstanpy - INFO - Chain [1] done processing\n",
      "09:57:16 - cmdstanpy - INFO - Chain [1] start processing\n",
      "09:57:17 - cmdstanpy - INFO - Chain [1] done processing\n",
      "09:57:17 - cmdstanpy - INFO - Chain [1] start processing\n",
      "09:57:17 - cmdstanpy - INFO - Chain [1] done processing\n",
      "09:57:17 - cmdstanpy - INFO - Chain [1] start processing\n",
      "09:57:17 - cmdstanpy - INFO - Chain [1] done processing\n",
      "09:57:17 - cmdstanpy - INFO - Chain [1] start processing\n",
      "09:57:17 - cmdstanpy - INFO - Chain [1] done processing\n",
      "09:57:17 - cmdstanpy - INFO - Chain [1] start processing\n",
      "09:57:17 - cmdstanpy - INFO - Chain [1] done processing\n",
      "09:57:17 - cmdstanpy - INFO - Chain [1] start processing\n",
      "09:57:17 - cmdstanpy - INFO - Chain [1] done processing\n",
      "09:57:17 - cmdstanpy - INFO - Chain [1] start processing\n",
      "09:57:17 - cmdstanpy - INFO - Chain [1] done processing\n",
      "09:57:18 - cmdstanpy - INFO - Chain [1] start processing\n",
      "09:57:18 - cmdstanpy - INFO - Chain [1] done processing\n",
      "09:57:18 - cmdstanpy - INFO - Chain [1] start processing\n",
      "09:57:18 - cmdstanpy - INFO - Chain [1] done processing\n",
      "09:57:18 - cmdstanpy - INFO - Chain [1] start processing\n",
      "09:57:18 - cmdstanpy - INFO - Chain [1] done processing\n",
      "09:57:18 - cmdstanpy - INFO - Chain [1] start processing\n",
      "09:57:18 - cmdstanpy - INFO - Chain [1] done processing\n",
      "09:57:18 - cmdstanpy - INFO - Chain [1] start processing\n",
      "09:57:18 - cmdstanpy - INFO - Chain [1] done processing\n",
      "09:57:18 - cmdstanpy - INFO - Chain [1] start processing\n",
      "09:57:18 - cmdstanpy - INFO - Chain [1] done processing\n",
      "09:57:19 - cmdstanpy - INFO - Chain [1] start processing\n",
      "09:57:19 - cmdstanpy - INFO - Chain [1] done processing\n",
      "09:57:19 - cmdstanpy - INFO - Chain [1] start processing\n",
      "09:57:19 - cmdstanpy - INFO - Chain [1] done processing\n",
      "09:57:19 - cmdstanpy - INFO - Chain [1] start processing\n",
      "09:57:19 - cmdstanpy - INFO - Chain [1] done processing\n",
      "09:57:19 - cmdstanpy - INFO - Chain [1] start processing\n",
      "09:57:19 - cmdstanpy - INFO - Chain [1] done processing\n",
      "09:57:19 - cmdstanpy - INFO - Chain [1] start processing\n",
      "09:57:19 - cmdstanpy - INFO - Chain [1] done processing\n",
      "09:57:19 - cmdstanpy - INFO - Chain [1] start processing\n",
      "09:57:19 - cmdstanpy - INFO - Chain [1] done processing\n",
      "09:57:20 - cmdstanpy - INFO - Chain [1] start processing\n",
      "09:57:20 - cmdstanpy - INFO - Chain [1] done processing\n",
      "09:57:20 - cmdstanpy - INFO - Chain [1] start processing\n",
      "09:57:20 - cmdstanpy - INFO - Chain [1] done processing\n",
      "09:57:20 - cmdstanpy - INFO - Chain [1] start processing\n",
      "09:57:20 - cmdstanpy - INFO - Chain [1] done processing\n",
      "09:57:20 - cmdstanpy - INFO - Chain [1] start processing\n",
      "09:57:20 - cmdstanpy - INFO - Chain [1] done processing\n",
      "09:57:20 - cmdstanpy - INFO - Chain [1] start processing\n",
      "09:57:20 - cmdstanpy - INFO - Chain [1] done processing\n",
      "09:57:20 - cmdstanpy - INFO - Chain [1] start processing\n",
      "09:57:20 - cmdstanpy - INFO - Chain [1] done processing\n",
      "09:57:21 - cmdstanpy - INFO - Chain [1] start processing\n",
      "09:57:21 - cmdstanpy - INFO - Chain [1] done processing\n",
      "09:57:21 - cmdstanpy - INFO - Chain [1] start processing\n",
      "09:57:21 - cmdstanpy - INFO - Chain [1] done processing\n",
      "09:57:21 - cmdstanpy - INFO - Chain [1] start processing\n",
      "09:57:21 - cmdstanpy - INFO - Chain [1] done processing\n",
      "09:57:21 - cmdstanpy - INFO - Chain [1] start processing\n",
      "09:57:21 - cmdstanpy - INFO - Chain [1] done processing\n",
      "09:57:21 - cmdstanpy - INFO - Chain [1] start processing\n",
      "09:57:21 - cmdstanpy - INFO - Chain [1] done processing\n",
      "09:57:21 - cmdstanpy - INFO - Chain [1] start processing\n",
      "09:57:22 - cmdstanpy - INFO - Chain [1] done processing\n",
      "09:57:22 - cmdstanpy - INFO - Chain [1] start processing\n",
      "09:57:22 - cmdstanpy - INFO - Chain [1] done processing\n",
      "09:57:22 - cmdstanpy - INFO - Chain [1] start processing\n",
      "09:57:22 - cmdstanpy - INFO - Chain [1] done processing\n",
      "09:57:22 - cmdstanpy - INFO - Chain [1] start processing\n",
      "09:57:22 - cmdstanpy - INFO - Chain [1] done processing\n",
      "09:57:22 - cmdstanpy - INFO - Chain [1] start processing\n",
      "09:57:22 - cmdstanpy - INFO - Chain [1] done processing\n",
      "09:57:22 - cmdstanpy - INFO - Chain [1] start processing\n",
      "09:57:22 - cmdstanpy - INFO - Chain [1] done processing\n",
      "09:57:22 - cmdstanpy - INFO - Chain [1] start processing\n",
      "09:57:22 - cmdstanpy - INFO - Chain [1] done processing\n",
      "09:57:23 - cmdstanpy - INFO - Chain [1] start processing\n",
      "09:57:23 - cmdstanpy - INFO - Chain [1] done processing\n",
      "09:57:23 - cmdstanpy - INFO - Chain [1] start processing\n",
      "09:57:23 - cmdstanpy - INFO - Chain [1] done processing\n",
      "09:57:23 - cmdstanpy - INFO - Chain [1] start processing\n",
      "09:57:23 - cmdstanpy - INFO - Chain [1] done processing\n",
      "09:57:23 - cmdstanpy - INFO - Chain [1] start processing\n",
      "09:57:23 - cmdstanpy - INFO - Chain [1] done processing\n",
      "09:57:23 - cmdstanpy - INFO - Chain [1] start processing\n",
      "09:57:23 - cmdstanpy - INFO - Chain [1] done processing\n",
      "09:57:23 - cmdstanpy - INFO - Chain [1] start processing\n",
      "09:57:23 - cmdstanpy - INFO - Chain [1] done processing\n",
      "09:57:24 - cmdstanpy - INFO - Chain [1] start processing\n",
      "09:57:24 - cmdstanpy - INFO - Chain [1] done processing\n",
      "09:57:24 - cmdstanpy - INFO - Chain [1] start processing\n",
      "09:57:24 - cmdstanpy - INFO - Chain [1] done processing\n",
      "09:57:24 - cmdstanpy - INFO - Chain [1] start processing\n",
      "09:57:24 - cmdstanpy - INFO - Chain [1] done processing\n",
      "09:57:24 - cmdstanpy - INFO - Chain [1] start processing\n",
      "09:57:24 - cmdstanpy - INFO - Chain [1] done processing\n",
      "09:57:24 - cmdstanpy - INFO - Chain [1] start processing\n",
      "09:57:24 - cmdstanpy - INFO - Chain [1] done processing\n",
      "09:57:24 - cmdstanpy - INFO - Chain [1] start processing\n",
      "09:57:24 - cmdstanpy - INFO - Chain [1] done processing\n",
      "09:57:24 - cmdstanpy - INFO - Chain [1] start processing\n",
      "09:57:24 - cmdstanpy - INFO - Chain [1] done processing\n",
      "C:\\Users\\jonas\\AppData\\Local\\Temp\\ipykernel_20448\\499538783.py:21: RuntimeWarning: invalid value encountered in scalar divide\n",
      "  result = mae_pred/mae_naive\n",
      "09:57:25 - cmdstanpy - INFO - Chain [1] start processing\n",
      "09:57:25 - cmdstanpy - INFO - Chain [1] done processing\n",
      "09:57:25 - cmdstanpy - INFO - Chain [1] start processing\n",
      "09:57:25 - cmdstanpy - INFO - Chain [1] done processing\n",
      "09:57:25 - cmdstanpy - INFO - Chain [1] start processing\n",
      "09:57:25 - cmdstanpy - INFO - Chain [1] done processing\n",
      "C:\\Users\\jonas\\AppData\\Local\\Temp\\ipykernel_20448\\499538783.py:21: RuntimeWarning: invalid value encountered in scalar divide\n",
      "  result = mae_pred/mae_naive\n",
      "09:57:25 - cmdstanpy - INFO - Chain [1] start processing\n",
      "09:57:25 - cmdstanpy - INFO - Chain [1] done processing\n",
      "09:57:25 - cmdstanpy - INFO - Chain [1] start processing\n",
      "09:57:25 - cmdstanpy - INFO - Chain [1] done processing\n",
      "09:57:25 - cmdstanpy - INFO - Chain [1] start processing\n",
      "09:57:25 - cmdstanpy - INFO - Chain [1] done processing\n",
      "09:57:26 - cmdstanpy - INFO - Chain [1] start processing\n",
      "09:57:26 - cmdstanpy - INFO - Chain [1] done processing\n",
      "09:57:26 - cmdstanpy - INFO - Chain [1] start processing\n",
      "09:57:26 - cmdstanpy - INFO - Chain [1] done processing\n",
      "09:57:26 - cmdstanpy - INFO - Chain [1] start processing\n",
      "09:57:26 - cmdstanpy - INFO - Chain [1] done processing\n",
      "09:57:26 - cmdstanpy - INFO - Chain [1] start processing\n",
      "09:57:26 - cmdstanpy - INFO - Chain [1] done processing\n",
      "09:57:26 - cmdstanpy - INFO - Chain [1] start processing\n",
      "09:57:26 - cmdstanpy - INFO - Chain [1] done processing\n",
      "09:57:26 - cmdstanpy - INFO - Chain [1] start processing\n",
      "09:57:26 - cmdstanpy - INFO - Chain [1] done processing\n",
      "09:57:27 - cmdstanpy - INFO - Chain [1] start processing\n",
      "09:57:27 - cmdstanpy - INFO - Chain [1] done processing\n",
      "09:57:27 - cmdstanpy - INFO - Chain [1] start processing\n",
      "09:57:27 - cmdstanpy - INFO - Chain [1] done processing\n",
      "09:57:27 - cmdstanpy - INFO - Chain [1] start processing\n",
      "09:57:27 - cmdstanpy - INFO - Chain [1] done processing\n",
      "09:57:27 - cmdstanpy - INFO - Chain [1] start processing\n",
      "09:57:27 - cmdstanpy - INFO - Chain [1] done processing\n",
      "09:57:27 - cmdstanpy - INFO - Chain [1] start processing\n",
      "09:57:27 - cmdstanpy - INFO - Chain [1] done processing\n",
      "09:57:27 - cmdstanpy - INFO - Chain [1] start processing\n",
      "09:57:27 - cmdstanpy - INFO - Chain [1] done processing\n",
      "09:57:27 - cmdstanpy - INFO - Chain [1] start processing\n",
      "09:57:27 - cmdstanpy - INFO - Chain [1] done processing\n",
      "09:57:28 - cmdstanpy - INFO - Chain [1] start processing\n",
      "09:57:28 - cmdstanpy - INFO - Chain [1] done processing\n",
      "09:57:28 - cmdstanpy - INFO - Chain [1] start processing\n",
      "09:57:28 - cmdstanpy - INFO - Chain [1] done processing\n",
      "09:57:28 - cmdstanpy - INFO - Chain [1] start processing\n",
      "09:57:28 - cmdstanpy - INFO - Chain [1] done processing\n",
      "09:57:28 - cmdstanpy - INFO - Chain [1] start processing\n",
      "09:57:28 - cmdstanpy - INFO - Chain [1] done processing\n",
      "09:57:28 - cmdstanpy - INFO - Chain [1] start processing\n",
      "09:57:28 - cmdstanpy - INFO - Chain [1] done processing\n",
      "09:57:28 - cmdstanpy - INFO - Chain [1] start processing\n",
      "09:57:29 - cmdstanpy - INFO - Chain [1] done processing\n",
      "09:57:29 - cmdstanpy - INFO - Chain [1] start processing\n",
      "09:57:29 - cmdstanpy - INFO - Chain [1] done processing\n",
      "09:57:29 - cmdstanpy - INFO - Chain [1] start processing\n",
      "09:57:29 - cmdstanpy - INFO - Chain [1] done processing\n",
      "09:57:29 - cmdstanpy - INFO - Chain [1] start processing\n",
      "09:57:29 - cmdstanpy - INFO - Chain [1] done processing\n",
      "09:57:29 - cmdstanpy - INFO - Chain [1] start processing\n",
      "09:57:29 - cmdstanpy - INFO - Chain [1] done processing\n",
      "09:57:29 - cmdstanpy - INFO - Chain [1] start processing\n",
      "09:57:29 - cmdstanpy - INFO - Chain [1] done processing\n",
      "09:57:29 - cmdstanpy - INFO - Chain [1] start processing\n",
      "09:57:29 - cmdstanpy - INFO - Chain [1] done processing\n",
      "09:57:30 - cmdstanpy - INFO - Chain [1] start processing\n",
      "09:57:30 - cmdstanpy - INFO - Chain [1] done processing\n",
      "09:57:30 - cmdstanpy - INFO - Chain [1] start processing\n",
      "09:57:30 - cmdstanpy - INFO - Chain [1] done processing\n",
      "09:57:30 - cmdstanpy - INFO - Chain [1] start processing\n",
      "09:57:30 - cmdstanpy - INFO - Chain [1] done processing\n",
      "09:57:30 - cmdstanpy - INFO - Chain [1] start processing\n",
      "09:57:30 - cmdstanpy - INFO - Chain [1] done processing\n",
      "09:57:30 - cmdstanpy - INFO - Chain [1] start processing\n",
      "09:57:30 - cmdstanpy - INFO - Chain [1] done processing\n",
      "09:57:30 - cmdstanpy - INFO - Chain [1] start processing\n",
      "09:57:30 - cmdstanpy - INFO - Chain [1] done processing\n",
      "09:57:31 - cmdstanpy - INFO - Chain [1] start processing\n",
      "09:57:31 - cmdstanpy - INFO - Chain [1] done processing\n",
      "09:57:31 - cmdstanpy - INFO - Chain [1] start processing\n",
      "09:57:31 - cmdstanpy - INFO - Chain [1] done processing\n",
      "09:57:31 - cmdstanpy - INFO - Chain [1] start processing\n",
      "09:57:31 - cmdstanpy - INFO - Chain [1] done processing\n",
      "09:57:31 - cmdstanpy - INFO - Chain [1] start processing\n",
      "09:57:31 - cmdstanpy - INFO - Chain [1] done processing\n",
      "09:57:31 - cmdstanpy - INFO - Chain [1] start processing\n",
      "09:57:31 - cmdstanpy - INFO - Chain [1] done processing\n",
      "09:57:31 - cmdstanpy - INFO - Chain [1] start processing\n",
      "09:57:31 - cmdstanpy - INFO - Chain [1] done processing\n",
      "09:57:32 - cmdstanpy - INFO - Chain [1] start processing\n",
      "09:57:32 - cmdstanpy - INFO - Chain [1] done processing\n",
      "09:57:32 - cmdstanpy - INFO - Chain [1] start processing\n",
      "09:57:32 - cmdstanpy - INFO - Chain [1] done processing\n",
      "09:57:32 - cmdstanpy - INFO - Chain [1] start processing\n",
      "09:57:32 - cmdstanpy - INFO - Chain [1] done processing\n",
      "09:57:32 - cmdstanpy - INFO - Chain [1] start processing\n",
      "09:57:32 - cmdstanpy - INFO - Chain [1] done processing\n",
      "09:57:32 - cmdstanpy - INFO - Chain [1] start processing\n",
      "09:57:32 - cmdstanpy - INFO - Chain [1] done processing\n",
      "09:57:32 - cmdstanpy - INFO - Chain [1] start processing\n",
      "09:57:32 - cmdstanpy - INFO - Chain [1] done processing\n",
      "09:57:33 - cmdstanpy - INFO - Chain [1] start processing\n",
      "09:57:33 - cmdstanpy - INFO - Chain [1] done processing\n",
      "09:57:33 - cmdstanpy - INFO - Chain [1] start processing\n",
      "09:57:33 - cmdstanpy - INFO - Chain [1] done processing\n",
      "09:57:33 - cmdstanpy - INFO - Chain [1] start processing\n",
      "09:57:33 - cmdstanpy - INFO - Chain [1] done processing\n",
      "09:57:33 - cmdstanpy - INFO - Chain [1] start processing\n",
      "09:57:33 - cmdstanpy - INFO - Chain [1] done processing\n",
      "09:57:33 - cmdstanpy - INFO - Chain [1] start processing\n",
      "09:57:33 - cmdstanpy - INFO - Chain [1] done processing\n",
      "09:57:33 - cmdstanpy - INFO - Chain [1] start processing\n",
      "09:57:33 - cmdstanpy - INFO - Chain [1] done processing\n",
      "09:57:34 - cmdstanpy - INFO - Chain [1] start processing\n",
      "09:57:34 - cmdstanpy - INFO - Chain [1] done processing\n",
      "09:57:34 - cmdstanpy - INFO - Chain [1] start processing\n",
      "09:57:34 - cmdstanpy - INFO - Chain [1] done processing\n",
      "09:57:34 - cmdstanpy - INFO - Chain [1] start processing\n",
      "09:57:34 - cmdstanpy - INFO - Chain [1] done processing\n",
      "09:57:34 - cmdstanpy - INFO - Chain [1] start processing\n",
      "09:57:34 - cmdstanpy - INFO - Chain [1] done processing\n",
      "09:57:34 - cmdstanpy - INFO - Chain [1] start processing\n",
      "09:57:34 - cmdstanpy - INFO - Chain [1] done processing\n",
      "09:57:34 - cmdstanpy - INFO - Chain [1] start processing\n",
      "09:57:34 - cmdstanpy - INFO - Chain [1] done processing\n",
      "09:57:35 - cmdstanpy - INFO - Chain [1] start processing\n",
      "09:57:35 - cmdstanpy - INFO - Chain [1] done processing\n",
      "09:57:35 - cmdstanpy - INFO - Chain [1] start processing\n",
      "09:57:35 - cmdstanpy - INFO - Chain [1] done processing\n",
      "09:57:35 - cmdstanpy - INFO - Chain [1] start processing\n",
      "09:57:35 - cmdstanpy - INFO - Chain [1] done processing\n",
      "09:57:35 - cmdstanpy - INFO - Chain [1] start processing\n",
      "09:57:35 - cmdstanpy - INFO - Chain [1] done processing\n",
      "09:57:35 - cmdstanpy - INFO - Chain [1] start processing\n",
      "09:57:35 - cmdstanpy - INFO - Chain [1] done processing\n",
      "09:57:35 - cmdstanpy - INFO - Chain [1] start processing\n",
      "09:57:35 - cmdstanpy - INFO - Chain [1] done processing\n",
      "09:57:36 - cmdstanpy - INFO - Chain [1] start processing\n",
      "09:57:36 - cmdstanpy - INFO - Chain [1] done processing\n",
      "09:57:36 - cmdstanpy - INFO - Chain [1] start processing\n",
      "09:57:36 - cmdstanpy - INFO - Chain [1] done processing\n",
      "09:57:36 - cmdstanpy - INFO - Chain [1] start processing\n",
      "09:57:36 - cmdstanpy - INFO - Chain [1] done processing\n",
      "09:57:36 - cmdstanpy - INFO - Chain [1] start processing\n",
      "09:57:36 - cmdstanpy - INFO - Chain [1] done processing\n",
      "09:57:36 - cmdstanpy - INFO - Chain [1] start processing\n",
      "09:57:36 - cmdstanpy - INFO - Chain [1] done processing\n",
      "09:57:36 - cmdstanpy - INFO - Chain [1] start processing\n",
      "09:57:36 - cmdstanpy - INFO - Chain [1] done processing\n",
      "09:57:36 - cmdstanpy - INFO - Chain [1] start processing\n",
      "09:57:37 - cmdstanpy - INFO - Chain [1] done processing\n",
      "09:57:37 - cmdstanpy - INFO - Chain [1] start processing\n",
      "09:57:37 - cmdstanpy - INFO - Chain [1] done processing\n",
      "09:57:37 - cmdstanpy - INFO - Chain [1] start processing\n",
      "09:57:37 - cmdstanpy - INFO - Chain [1] done processing\n",
      "09:57:37 - cmdstanpy - INFO - Chain [1] start processing\n",
      "09:57:37 - cmdstanpy - INFO - Chain [1] done processing\n",
      "09:57:37 - cmdstanpy - INFO - Chain [1] start processing\n",
      "09:57:37 - cmdstanpy - INFO - Chain [1] done processing\n",
      "09:57:37 - cmdstanpy - INFO - Chain [1] start processing\n",
      "09:57:37 - cmdstanpy - INFO - Chain [1] done processing\n",
      "09:57:37 - cmdstanpy - INFO - Chain [1] start processing\n",
      "09:57:37 - cmdstanpy - INFO - Chain [1] done processing\n",
      "09:57:38 - cmdstanpy - INFO - Chain [1] start processing\n",
      "09:57:38 - cmdstanpy - INFO - Chain [1] done processing\n",
      "C:\\Users\\jonas\\AppData\\Local\\Temp\\ipykernel_20448\\499538783.py:21: RuntimeWarning: invalid value encountered in scalar divide\n",
      "  result = mae_pred/mae_naive\n",
      "09:57:38 - cmdstanpy - INFO - Chain [1] start processing\n",
      "09:57:38 - cmdstanpy - INFO - Chain [1] done processing\n",
      "09:57:38 - cmdstanpy - INFO - Chain [1] start processing\n",
      "09:57:38 - cmdstanpy - INFO - Chain [1] done processing\n",
      "C:\\Users\\jonas\\AppData\\Local\\Temp\\ipykernel_20448\\499538783.py:21: RuntimeWarning: invalid value encountered in scalar divide\n",
      "  result = mae_pred/mae_naive\n",
      "09:57:38 - cmdstanpy - INFO - Chain [1] start processing\n",
      "09:57:38 - cmdstanpy - INFO - Chain [1] done processing\n",
      "C:\\Users\\jonas\\AppData\\Local\\Temp\\ipykernel_20448\\499538783.py:21: RuntimeWarning: invalid value encountered in scalar divide\n",
      "  result = mae_pred/mae_naive\n",
      "09:57:38 - cmdstanpy - INFO - Chain [1] start processing\n",
      "09:57:38 - cmdstanpy - INFO - Chain [1] done processing\n",
      "09:57:38 - cmdstanpy - INFO - Chain [1] start processing\n",
      "09:57:38 - cmdstanpy - INFO - Chain [1] done processing\n",
      "09:57:39 - cmdstanpy - INFO - Chain [1] start processing\n",
      "09:57:39 - cmdstanpy - INFO - Chain [1] done processing\n",
      "C:\\Users\\jonas\\AppData\\Local\\Temp\\ipykernel_20448\\499538783.py:21: RuntimeWarning: invalid value encountered in scalar divide\n",
      "  result = mae_pred/mae_naive\n",
      "09:57:39 - cmdstanpy - INFO - Chain [1] start processing\n",
      "09:57:39 - cmdstanpy - INFO - Chain [1] done processing\n",
      "09:57:39 - cmdstanpy - INFO - Chain [1] start processing\n",
      "09:57:39 - cmdstanpy - INFO - Chain [1] done processing\n",
      "09:57:39 - cmdstanpy - INFO - Chain [1] start processing\n",
      "09:57:39 - cmdstanpy - INFO - Chain [1] done processing\n",
      "C:\\Users\\jonas\\AppData\\Local\\Temp\\ipykernel_20448\\499538783.py:21: RuntimeWarning: invalid value encountered in scalar divide\n",
      "  result = mae_pred/mae_naive\n",
      "09:57:39 - cmdstanpy - INFO - Chain [1] start processing\n",
      "09:57:39 - cmdstanpy - INFO - Chain [1] done processing\n",
      "09:57:39 - cmdstanpy - INFO - Chain [1] start processing\n",
      "09:57:39 - cmdstanpy - INFO - Chain [1] done processing\n",
      "C:\\Users\\jonas\\AppData\\Local\\Temp\\ipykernel_20448\\499538783.py:21: RuntimeWarning: invalid value encountered in scalar divide\n",
      "  result = mae_pred/mae_naive\n",
      "09:57:40 - cmdstanpy - INFO - Chain [1] start processing\n",
      "09:57:40 - cmdstanpy - INFO - Chain [1] done processing\n",
      "09:57:40 - cmdstanpy - INFO - Chain [1] start processing\n",
      "09:57:40 - cmdstanpy - INFO - Chain [1] done processing\n",
      "C:\\Users\\jonas\\AppData\\Local\\Temp\\ipykernel_20448\\499538783.py:21: RuntimeWarning: invalid value encountered in scalar divide\n",
      "  result = mae_pred/mae_naive\n",
      "09:57:40 - cmdstanpy - INFO - Chain [1] start processing\n",
      "09:57:40 - cmdstanpy - INFO - Chain [1] done processing\n",
      "C:\\Users\\jonas\\AppData\\Local\\Temp\\ipykernel_20448\\499538783.py:21: RuntimeWarning: invalid value encountered in scalar divide\n",
      "  result = mae_pred/mae_naive\n",
      "09:57:40 - cmdstanpy - INFO - Chain [1] start processing\n",
      "09:57:40 - cmdstanpy - INFO - Chain [1] done processing\n",
      "09:57:40 - cmdstanpy - INFO - Chain [1] start processing\n",
      "09:57:40 - cmdstanpy - INFO - Chain [1] done processing\n",
      "C:\\Users\\jonas\\AppData\\Local\\Temp\\ipykernel_20448\\499538783.py:21: RuntimeWarning: invalid value encountered in scalar divide\n",
      "  result = mae_pred/mae_naive\n",
      "09:57:40 - cmdstanpy - INFO - Chain [1] start processing\n",
      "09:57:40 - cmdstanpy - INFO - Chain [1] done processing\n",
      "09:57:41 - cmdstanpy - INFO - Chain [1] start processing\n",
      "09:57:41 - cmdstanpy - INFO - Chain [1] done processing\n",
      "09:57:41 - cmdstanpy - INFO - Chain [1] start processing\n",
      "09:57:41 - cmdstanpy - INFO - Chain [1] done processing\n",
      "09:57:41 - cmdstanpy - INFO - Chain [1] start processing\n",
      "09:57:41 - cmdstanpy - INFO - Chain [1] done processing\n",
      "C:\\Users\\jonas\\AppData\\Local\\Temp\\ipykernel_20448\\499538783.py:21: RuntimeWarning: invalid value encountered in scalar divide\n",
      "  result = mae_pred/mae_naive\n",
      "09:57:41 - cmdstanpy - INFO - Chain [1] start processing\n",
      "09:57:41 - cmdstanpy - INFO - Chain [1] done processing\n",
      "C:\\Users\\jonas\\AppData\\Local\\Temp\\ipykernel_20448\\499538783.py:21: RuntimeWarning: invalid value encountered in scalar divide\n",
      "  result = mae_pred/mae_naive\n",
      "09:57:41 - cmdstanpy - INFO - Chain [1] start processing\n",
      "09:57:41 - cmdstanpy - INFO - Chain [1] done processing\n",
      "09:57:41 - cmdstanpy - INFO - Chain [1] start processing\n",
      "09:57:42 - cmdstanpy - INFO - Chain [1] done processing\n",
      "09:57:42 - cmdstanpy - INFO - Chain [1] start processing\n",
      "09:57:42 - cmdstanpy - INFO - Chain [1] done processing\n",
      "09:57:42 - cmdstanpy - INFO - Chain [1] start processing\n",
      "09:57:42 - cmdstanpy - INFO - Chain [1] done processing\n",
      "09:57:42 - cmdstanpy - INFO - Chain [1] start processing\n",
      "09:57:42 - cmdstanpy - INFO - Chain [1] done processing\n",
      "C:\\Users\\jonas\\AppData\\Local\\Temp\\ipykernel_20448\\499538783.py:21: RuntimeWarning: invalid value encountered in scalar divide\n",
      "  result = mae_pred/mae_naive\n"
     ]
    }
   ],
   "source": [
    "########### Prophet AUTO ##################\n",
    "\n",
    "from prophet import Prophet\n",
    "import os\n",
    "\n",
    "horizon = 12\n",
    "\n",
    "###########################################################\n",
    "######### Considerar Janelas > 36 para o Prophet ##########\n",
    "###########################################################\n",
    "\n",
    "window = 12\n",
    "\n",
    "\n",
    "products = sorted([name for name in os.listdir('./uf/') if os.path.isdir(os.path.join('./uf/', name))])\n",
    "\n",
    "\n",
    "for product in products:\n",
    "    folder_path = f'./uf/{product}/'\n",
    "    # Read the CSV files and extract estado names\n",
    "    estados = read_csv_files(folder_path)\n",
    "    for estado in estados:\n",
    "\n",
    "        df = pd.read_csv(f\"./uf/{product}/mensal_{estado}_{product}.csv\", header=0, sep=\";\")\n",
    "        df = pd.DataFrame(df)\n",
    "\n",
    "        # Convert timestamp to datetime\n",
    "        df['timestamp'] = pd.to_datetime(df['timestamp'].astype(str), format='%Y%m')\n",
    "        series = df[\"m3\"]\n",
    "        series.index = range(0, len(series))\n",
    "\n",
    "        # Check the frequency of the data entries\n",
    "        data_frequency = df['timestamp'].dt.to_period('M').value_counts().sort_index()\n",
    "\n",
    "        # Aggregate data at the monthly level\n",
    "        monthly_data = df.groupby(df['timestamp'].dt.to_period('M'))['m3'].sum().reset_index()\n",
    "        monthly_data['timestamp'] = monthly_data['timestamp'].dt.to_timestamp()\n",
    "\n",
    "        # Rename columns for Prophet compatibility\n",
    "        monthly_data.rename(columns={'timestamp': 'ds', 'm3': 'y'}, inplace=True)\n",
    "\n",
    "        # Rolling Window Prophet with Normalization\n",
    "        monthly_data_norm_minuswind = rolling_window_prophet(monthly_data['y'], window)\n",
    "\n",
    "        X_train, X_test, y_train, y_test = train_test_split(monthly_data_norm_minuswind, horizon)\n",
    "\n",
    "        # Selecting the first column of monthly_data to pass the dates\n",
    "        first_column = monthly_data.iloc[:, 0] \n",
    "        first_column = first_column[window:-(horizon)]\n",
    "        first_column = first_column.reset_index(drop=True)\n",
    "\n",
    "        # Concatenating the first column with monthly_data_norm along axis 1 (columns)\n",
    "        prophet_data = pd.concat([first_column, X_train], axis=1)\n",
    "        prophet_data2 = pd.concat([prophet_data, y_train], axis=1)\n",
    "        prophet_data2.rename(columns={window: 'y'}, inplace=True)\n",
    "\n",
    "        # Initialize the Prophet model\n",
    "        model = Prophet()\n",
    "\n",
    "        # Fit the model to the monthly data\n",
    "        model.fit(prophet_data2)\n",
    "\n",
    "        # Create a dataframe for future dates to predict the next 12 months\n",
    "        # future_dates_temp = model.make_future_dataframe(periods=horizon, freq='ME')\n",
    "        future_dates = df['timestamp'].tail(12)\n",
    "        future_dates = pd.DataFrame(future_dates)\n",
    "        future_dates.rename(columns={'timestamp': 'ds'}, inplace=True)\n",
    "\n",
    "        data_forecast = model.predict(future_dates) # future_dates or future_dates_temp\n",
    "\n",
    "        # TEST DATA\n",
    "        monthly_data_norm_last = y_test\n",
    "        monthly_data_norm_last = monthly_data_norm_last.reset_index(drop=True)\n",
    "\n",
    "        future_forecast = data_forecast['yhat'].tail(12)\n",
    "        future_forecast_12 = future_forecast.reset_index(drop=True)\n",
    "\n",
    "        # import pickle\n",
    "        # with open(f'./00-MODELS_UF_MENSAL-Prophet/{estado}_{product}_Prophet_RawData_model.pkl', 'wb') as fd: pickle.dump({model}, fd)\n",
    "\n",
    "        ################## DeNormalized #######################\n",
    "\n",
    "        mean_norm, std_norm = get_stats_norm(series, horizon, window)\n",
    "        predictions_rescaled = znorm_reverse(future_forecast_12, mean_norm, std_norm)\n",
    "\n",
    "        # Convert the array into a DataFrame\n",
    "        predictions_df2 = pd.DataFrame(predictions_rescaled, columns=['Predictions'])\n",
    "\n",
    "        Valores_Reais = monthly_data['y'].tail(12)\n",
    "        Valores_Reais = Valores_Reais.reset_index(drop=True)\n",
    "\n",
    "        ###########################################################\n",
    "\n",
    "        basepredictionsnorm = baseline_persistent_window(series, horizon)\n",
    "        basepredictions = znorm_reverse(basepredictionsnorm, mean_norm, std_norm)\n",
    "\n",
    "        ###########################################################\n",
    "\n",
    "        rmse_result2 = rmse(Valores_Reais, predictions_df2['Predictions'])\n",
    "        mape_result2 = mape(Valores_Reais, predictions_df2['Predictions'])\n",
    "        pocid_result2 = pocid(Valores_Reais, predictions_df2['Predictions'])\n",
    "        mcpm_result2 = mcpm(rmse_result2, mape_result2, pocid_result2)\n",
    "        pbe_result2 = pbe(Valores_Reais, predictions_df2['Predictions'])\n",
    "        mase_result2 = mase(Valores_Reais, predictions_df2['Predictions'], basepredictions)\n",
    "\n",
    "\n",
    "        # CSV Output VALORES REAIS\n",
    "        with open(f'01-Prophet_{window}_output.csv', 'a', newline='') as file:\n",
    "            writer = csv.writer(file)\n",
    "            writer.writerow([\n",
    "                product, estado, 'Prophet', mape_result2, pocid_result2, pbe_result2, mase_result2, *predictions_df2['Predictions'].values\n",
    "            ])\n",
    "\n"
   ]
  },
  {
   "cell_type": "code",
   "execution_count": 45,
   "metadata": {},
   "outputs": [
    {
     "data": {
      "application/vnd.plotly.v1+json": {
       "config": {
        "plotlyServerURL": "https://plot.ly"
       },
       "data": [
        {
         "marker": {
          "color": "black",
          "size": 4
         },
         "mode": "markers",
         "name": "Actual",
         "type": "scatter",
         "x": [
          "1991-01-01T00:00:00",
          "1991-02-01T00:00:00",
          "1991-03-01T00:00:00",
          "1991-04-01T00:00:00",
          "1991-05-01T00:00:00",
          "1991-06-01T00:00:00",
          "1991-07-01T00:00:00",
          "1991-08-01T00:00:00",
          "1991-09-01T00:00:00",
          "1991-10-01T00:00:00",
          "1991-11-01T00:00:00",
          "1991-12-01T00:00:00",
          "1992-01-01T00:00:00",
          "1992-02-01T00:00:00",
          "1992-03-01T00:00:00",
          "1992-04-01T00:00:00",
          "1992-05-01T00:00:00",
          "1992-06-01T00:00:00",
          "1992-07-01T00:00:00",
          "1992-08-01T00:00:00",
          "1992-09-01T00:00:00",
          "1992-10-01T00:00:00",
          "1992-11-01T00:00:00",
          "1992-12-01T00:00:00",
          "1993-01-01T00:00:00",
          "1993-02-01T00:00:00",
          "1993-03-01T00:00:00",
          "1993-04-01T00:00:00",
          "1993-05-01T00:00:00",
          "1993-06-01T00:00:00",
          "1993-07-01T00:00:00",
          "1993-08-01T00:00:00",
          "1993-09-01T00:00:00",
          "1993-10-01T00:00:00",
          "1993-11-01T00:00:00",
          "1993-12-01T00:00:00",
          "1994-01-01T00:00:00",
          "1994-02-01T00:00:00",
          "1994-03-01T00:00:00",
          "1994-04-01T00:00:00",
          "1994-05-01T00:00:00",
          "1994-06-01T00:00:00",
          "1994-07-01T00:00:00",
          "1994-08-01T00:00:00",
          "1994-09-01T00:00:00",
          "1994-10-01T00:00:00",
          "1994-11-01T00:00:00",
          "1994-12-01T00:00:00",
          "1995-01-01T00:00:00",
          "1995-02-01T00:00:00",
          "1995-03-01T00:00:00",
          "1995-04-01T00:00:00",
          "1995-05-01T00:00:00",
          "1995-06-01T00:00:00",
          "1995-07-01T00:00:00",
          "1995-08-01T00:00:00",
          "1995-09-01T00:00:00",
          "1995-10-01T00:00:00",
          "1995-11-01T00:00:00",
          "1995-12-01T00:00:00",
          "1996-01-01T00:00:00",
          "1996-02-01T00:00:00",
          "1996-03-01T00:00:00",
          "1996-04-01T00:00:00",
          "1996-05-01T00:00:00",
          "1996-06-01T00:00:00",
          "1996-07-01T00:00:00",
          "1996-08-01T00:00:00",
          "1996-09-01T00:00:00",
          "1996-10-01T00:00:00",
          "1996-11-01T00:00:00",
          "1996-12-01T00:00:00",
          "1997-01-01T00:00:00",
          "1997-02-01T00:00:00",
          "1997-03-01T00:00:00",
          "1997-04-01T00:00:00",
          "1997-05-01T00:00:00",
          "1997-06-01T00:00:00",
          "1997-07-01T00:00:00",
          "1997-08-01T00:00:00",
          "1997-09-01T00:00:00",
          "1997-10-01T00:00:00",
          "1997-11-01T00:00:00",
          "1997-12-01T00:00:00",
          "1998-01-01T00:00:00",
          "1998-02-01T00:00:00",
          "1998-03-01T00:00:00",
          "1998-04-01T00:00:00",
          "1998-05-01T00:00:00",
          "1998-06-01T00:00:00",
          "1998-07-01T00:00:00",
          "1998-08-01T00:00:00",
          "1998-09-01T00:00:00",
          "1998-10-01T00:00:00",
          "1998-11-01T00:00:00",
          "1998-12-01T00:00:00",
          "1999-01-01T00:00:00",
          "1999-02-01T00:00:00",
          "1999-03-01T00:00:00",
          "1999-04-01T00:00:00",
          "1999-05-01T00:00:00",
          "1999-06-01T00:00:00",
          "1999-07-01T00:00:00",
          "1999-08-01T00:00:00",
          "1999-09-01T00:00:00",
          "1999-10-01T00:00:00",
          "1999-11-01T00:00:00",
          "1999-12-01T00:00:00",
          "2000-01-01T00:00:00",
          "2000-02-01T00:00:00",
          "2000-03-01T00:00:00",
          "2000-04-01T00:00:00",
          "2000-05-01T00:00:00",
          "2000-06-01T00:00:00",
          "2000-07-01T00:00:00",
          "2000-08-01T00:00:00",
          "2000-09-01T00:00:00",
          "2000-10-01T00:00:00",
          "2000-11-01T00:00:00",
          "2000-12-01T00:00:00",
          "2001-01-01T00:00:00",
          "2001-02-01T00:00:00",
          "2001-03-01T00:00:00",
          "2001-04-01T00:00:00",
          "2001-05-01T00:00:00",
          "2001-06-01T00:00:00",
          "2001-07-01T00:00:00",
          "2001-08-01T00:00:00",
          "2001-09-01T00:00:00",
          "2001-10-01T00:00:00",
          "2001-11-01T00:00:00",
          "2001-12-01T00:00:00",
          "2002-01-01T00:00:00",
          "2002-02-01T00:00:00",
          "2002-03-01T00:00:00",
          "2002-04-01T00:00:00",
          "2002-05-01T00:00:00",
          "2002-06-01T00:00:00",
          "2002-07-01T00:00:00",
          "2002-08-01T00:00:00",
          "2002-09-01T00:00:00",
          "2002-10-01T00:00:00",
          "2002-11-01T00:00:00",
          "2002-12-01T00:00:00",
          "2003-01-01T00:00:00",
          "2003-02-01T00:00:00",
          "2003-03-01T00:00:00",
          "2003-04-01T00:00:00",
          "2003-05-01T00:00:00",
          "2003-06-01T00:00:00",
          "2003-07-01T00:00:00",
          "2003-08-01T00:00:00",
          "2003-09-01T00:00:00",
          "2003-10-01T00:00:00",
          "2003-11-01T00:00:00",
          "2003-12-01T00:00:00",
          "2004-01-01T00:00:00",
          "2004-02-01T00:00:00",
          "2004-03-01T00:00:00",
          "2004-04-01T00:00:00",
          "2004-05-01T00:00:00",
          "2004-06-01T00:00:00",
          "2004-07-01T00:00:00",
          "2004-08-01T00:00:00",
          "2004-09-01T00:00:00",
          "2004-10-01T00:00:00",
          "2004-11-01T00:00:00",
          "2004-12-01T00:00:00",
          "2005-01-01T00:00:00",
          "2005-02-01T00:00:00",
          "2005-03-01T00:00:00",
          "2005-04-01T00:00:00",
          "2005-05-01T00:00:00",
          "2005-06-01T00:00:00",
          "2005-07-01T00:00:00",
          "2005-08-01T00:00:00",
          "2005-09-01T00:00:00",
          "2005-10-01T00:00:00",
          "2005-11-01T00:00:00",
          "2005-12-01T00:00:00",
          "2006-01-01T00:00:00",
          "2006-02-01T00:00:00",
          "2006-03-01T00:00:00",
          "2006-04-01T00:00:00",
          "2006-05-01T00:00:00",
          "2006-06-01T00:00:00",
          "2006-07-01T00:00:00",
          "2006-08-01T00:00:00",
          "2006-09-01T00:00:00",
          "2006-10-01T00:00:00",
          "2006-11-01T00:00:00",
          "2006-12-01T00:00:00",
          "2007-01-01T00:00:00",
          "2007-02-01T00:00:00",
          "2007-03-01T00:00:00",
          "2007-04-01T00:00:00",
          "2007-05-01T00:00:00",
          "2007-06-01T00:00:00",
          "2007-07-01T00:00:00",
          "2007-08-01T00:00:00",
          "2007-09-01T00:00:00",
          "2007-10-01T00:00:00",
          "2007-11-01T00:00:00",
          "2007-12-01T00:00:00",
          "2008-01-01T00:00:00",
          "2008-02-01T00:00:00",
          "2008-03-01T00:00:00",
          "2008-04-01T00:00:00",
          "2008-05-01T00:00:00",
          "2008-06-01T00:00:00",
          "2008-07-01T00:00:00",
          "2008-08-01T00:00:00",
          "2008-09-01T00:00:00",
          "2008-10-01T00:00:00",
          "2008-11-01T00:00:00",
          "2008-12-01T00:00:00",
          "2009-01-01T00:00:00",
          "2009-02-01T00:00:00",
          "2009-03-01T00:00:00",
          "2009-04-01T00:00:00",
          "2009-05-01T00:00:00",
          "2009-06-01T00:00:00",
          "2009-07-01T00:00:00",
          "2009-08-01T00:00:00",
          "2009-09-01T00:00:00",
          "2009-10-01T00:00:00",
          "2009-11-01T00:00:00",
          "2009-12-01T00:00:00",
          "2010-01-01T00:00:00",
          "2010-02-01T00:00:00",
          "2010-03-01T00:00:00",
          "2010-04-01T00:00:00",
          "2010-05-01T00:00:00",
          "2010-06-01T00:00:00",
          "2010-07-01T00:00:00",
          "2010-08-01T00:00:00",
          "2010-09-01T00:00:00",
          "2010-10-01T00:00:00",
          "2010-11-01T00:00:00",
          "2010-12-01T00:00:00",
          "2011-01-01T00:00:00",
          "2011-02-01T00:00:00",
          "2011-03-01T00:00:00",
          "2011-04-01T00:00:00",
          "2011-05-01T00:00:00",
          "2011-06-01T00:00:00",
          "2011-07-01T00:00:00",
          "2011-08-01T00:00:00",
          "2011-09-01T00:00:00",
          "2011-10-01T00:00:00",
          "2011-11-01T00:00:00",
          "2011-12-01T00:00:00",
          "2012-01-01T00:00:00",
          "2012-02-01T00:00:00",
          "2012-03-01T00:00:00",
          "2012-04-01T00:00:00",
          "2012-05-01T00:00:00",
          "2012-06-01T00:00:00",
          "2012-07-01T00:00:00",
          "2012-08-01T00:00:00",
          "2012-09-01T00:00:00",
          "2012-10-01T00:00:00",
          "2012-11-01T00:00:00",
          "2012-12-01T00:00:00",
          "2013-01-01T00:00:00",
          "2013-02-01T00:00:00",
          "2013-03-01T00:00:00",
          "2013-04-01T00:00:00",
          "2013-05-01T00:00:00",
          "2013-06-01T00:00:00",
          "2013-07-01T00:00:00",
          "2013-08-01T00:00:00",
          "2013-09-01T00:00:00",
          "2013-10-01T00:00:00",
          "2013-11-01T00:00:00",
          "2013-12-01T00:00:00",
          "2014-01-01T00:00:00",
          "2014-02-01T00:00:00",
          "2014-03-01T00:00:00",
          "2014-04-01T00:00:00",
          "2014-05-01T00:00:00",
          "2014-06-01T00:00:00",
          "2014-07-01T00:00:00",
          "2014-08-01T00:00:00",
          "2014-09-01T00:00:00",
          "2014-10-01T00:00:00",
          "2014-11-01T00:00:00",
          "2014-12-01T00:00:00",
          "2015-01-01T00:00:00",
          "2015-02-01T00:00:00",
          "2015-03-01T00:00:00",
          "2015-04-01T00:00:00",
          "2015-05-01T00:00:00",
          "2015-06-01T00:00:00",
          "2015-07-01T00:00:00",
          "2015-08-01T00:00:00",
          "2015-09-01T00:00:00",
          "2015-10-01T00:00:00",
          "2015-11-01T00:00:00",
          "2015-12-01T00:00:00",
          "2016-01-01T00:00:00",
          "2016-02-01T00:00:00",
          "2016-03-01T00:00:00",
          "2016-04-01T00:00:00",
          "2016-05-01T00:00:00",
          "2016-06-01T00:00:00",
          "2016-07-01T00:00:00",
          "2016-08-01T00:00:00",
          "2016-09-01T00:00:00",
          "2016-10-01T00:00:00",
          "2016-11-01T00:00:00",
          "2016-12-01T00:00:00",
          "2017-01-01T00:00:00",
          "2017-02-01T00:00:00",
          "2017-03-01T00:00:00",
          "2017-04-01T00:00:00",
          "2017-05-01T00:00:00",
          "2017-06-01T00:00:00",
          "2017-07-01T00:00:00",
          "2017-08-01T00:00:00",
          "2017-09-01T00:00:00",
          "2017-10-01T00:00:00",
          "2017-11-01T00:00:00",
          "2017-12-01T00:00:00",
          "2018-01-01T00:00:00",
          "2018-02-01T00:00:00",
          "2018-03-01T00:00:00",
          "2018-04-01T00:00:00",
          "2018-05-01T00:00:00",
          "2018-06-01T00:00:00",
          "2018-07-01T00:00:00",
          "2018-08-01T00:00:00",
          "2018-09-01T00:00:00",
          "2018-10-01T00:00:00",
          "2018-11-01T00:00:00",
          "2018-12-01T00:00:00",
          "2019-01-01T00:00:00",
          "2019-02-01T00:00:00",
          "2019-03-01T00:00:00",
          "2019-04-01T00:00:00",
          "2019-05-01T00:00:00",
          "2019-06-01T00:00:00",
          "2019-07-01T00:00:00",
          "2019-08-01T00:00:00",
          "2019-09-01T00:00:00",
          "2019-10-01T00:00:00",
          "2019-11-01T00:00:00",
          "2019-12-01T00:00:00",
          "2020-01-01T00:00:00",
          "2020-02-01T00:00:00",
          "2020-03-01T00:00:00",
          "2020-04-01T00:00:00",
          "2020-05-01T00:00:00",
          "2020-06-01T00:00:00",
          "2020-07-01T00:00:00",
          "2020-08-01T00:00:00",
          "2020-09-01T00:00:00",
          "2020-10-01T00:00:00",
          "2020-11-01T00:00:00",
          "2020-12-01T00:00:00",
          "2021-01-01T00:00:00",
          "2021-02-01T00:00:00",
          "2021-03-01T00:00:00",
          "2021-04-01T00:00:00",
          "2021-05-01T00:00:00",
          "2021-06-01T00:00:00",
          "2021-07-01T00:00:00",
          "2021-08-01T00:00:00",
          "2021-09-01T00:00:00",
          "2021-10-01T00:00:00",
          "2021-11-01T00:00:00",
          "2021-12-01T00:00:00",
          "2022-01-01T00:00:00",
          "2022-02-01T00:00:00",
          "2022-03-01T00:00:00",
          "2022-04-01T00:00:00",
          "2022-05-01T00:00:00",
          "2022-06-01T00:00:00",
          "2022-07-01T00:00:00",
          "2022-08-01T00:00:00",
          "2022-09-01T00:00:00",
          "2022-10-01T00:00:00",
          "2022-11-01T00:00:00",
          "2022-12-01T00:00:00",
          "2023-01-01T00:00:00",
          "2023-02-01T00:00:00"
         ],
         "y": [
          -0.46362872967965263,
          -1.15676545505553,
          -0.9477095048634422,
          0.16389521177144498,
          -2.3985764913019945,
          -0.09594023484375266,
          0.6916375586474829,
          2.3324160225302384,
          0.028136360672798875,
          0.6048502772959374,
          -1.7196018699638658,
          0.22273460054253733,
          -0.09724735350367016,
          -0.020284281676624147,
          -0.10906115032850378,
          0.24317067525177102,
          -0.20187320416120091,
          0.5292741891779782,
          0.037214097827471405,
          0.40665890949303174,
          -0.33335413328128893,
          0.5009084439781006,
          0.24760620958807755,
          0.2601717966699288,
          -1.9583457689947108,
          -1.0955482574585778,
          0.17576793415144712,
          -0.27998482299454164,
          -0.2682191048950166,
          1.0235085028396036,
          -0.660906395702664,
          0.8316717697248921,
          -0.7136070910760232,
          0.8454238395449666,
          -0.238535493586111,
          0.9254559945766215,
          -0.04789334082994178,
          -0.5791563980536618,
          -0.40116059880004024,
          -1.0989303678168054,
          -0.04268306927356599,
          -0.882794562020675,
          0.5681644308651451,
          1.8752859879363115,
          2.646754292993907,
          -0.02231842322327317,
          0.11434367791522705,
          0.3257338760050608,
          -0.322636705763837,
          -1.2426437852201708,
          0.4881421299822118,
          -0.8585310554512264,
          -2.7013059908894204,
          0.5667648771515487,
          -0.054948190467975624,
          -2.12691671439668,
          0.7217187577702696,
          0.7332960820620746,
          0.359970987746608,
          0.6082010229368074,
          0.1605442513931635,
          -0.398826845016084,
          0.2016701326123639,
          -0.055454383364535814,
          0.16039668772898785,
          0.028143858027646608,
          0.4845679114942497,
          0.273260469075624,
          0.4409585691061239,
          0.07532029480046294,
          0.41605139714335193,
          0.3119256987534118,
          -0.45746981178069385,
          -2.5399763373482855,
          -1.7199255648338474,
          -0.8683617504615255,
          -1.2026454963330508,
          0.3751272836418356,
          -0.8987343327466888,
          -0.4133953818195475,
          -0.4688618699372098,
          -1.2547722149129696,
          -1.7906366563827756,
          -0.9391632528420631,
          -1.20757157596844,
          -2.8370737321545576,
          -1.0142261568858228,
          0.04295342520627494,
          -0.7180617149351528,
          -0.1228465395027861,
          0.16139063725699013,
          1.5095178486315095,
          0.8641294391400385,
          0.3614958159598441,
          -0.5932665634461262,
          -0.7094464935733323,
          -2.051590573917178,
          -1.7575974784375359,
          -0.6875904427158577,
          -1.043106327936012,
          -1.259494161912948,
          -1.1403928872822129,
          -0.9432712073628343,
          1.2056170843767522,
          0.08104675987647614,
          0.5625588369461205,
          0.18942774127161421,
          1.6205460750451919,
          -0.054549412220894745,
          -0.5413378231040687,
          1.295102490492373,
          1.138429211840914,
          -0.31829996186159215,
          -1.622851287479581,
          -0.8452400730918166,
          0.35644942418920417,
          -0.17207477669647056,
          0.2454096754218671,
          -1.923176561959619,
          0.3002433273392887,
          -0.7286189332797067,
          -1.0139795638992217,
          -0.6221780945144523,
          -0.737008955124261,
          -0.36872309530967173,
          -0.09445164485385814,
          -0.6691660772811425,
          0.19830506149876337,
          -0.2648382247581337,
          -1.6237338742213558,
          -0.7198269407615245,
          -1.9196916277091538,
          -1.38719481553854,
          -1.2431437080665617,
          0.207702351901939,
          1.01809821544661,
          0.43216869041593164,
          -0.2830120714989575,
          0.08477198975896605,
          0.56402445430911,
          1.509255012021667,
          1.28623822549455,
          -1.4190662672573509,
          -2.0068725038615294,
          -1.4388409783119611,
          -0.5818036072485722,
          -0.179791576496447,
          -1.2421125767608054,
          -1.0914552822061094,
          -1.2059630263140304,
          0.6293396153193009,
          -0.31673165372390966,
          0.7443410245788422,
          0.21360076461299857,
          0.021804161904129624,
          0.9356485968081362,
          -0.15003236362062233,
          -0.250187545588821,
          -0.5066342700626705,
          -0.9683545343659792,
          0.7515703480895229,
          -1.0861184612932522,
          0.676473892537167,
          1.2637572811529942,
          0.5070327876564641,
          0.5123112993290512,
          0.24597479931214988,
          1.2807593668762414,
          -0.2835170060142228,
          -1.2835384007028487,
          -1.2593917561566985,
          -0.18568542080087205,
          -0.011758327500022352,
          0.8714156756370288,
          -0.20364576178916421,
          1.4968981005637372,
          1.2814111384959304,
          1.59034230854363,
          0.46157478399111895,
          2.3707357115779786,
          0.20493199249210714,
          -0.3590458697480416,
          -0.9520468016220873,
          -1.9087392045872231,
          -0.9824443425003812,
          -0.6058145060347134,
          0.42827703633177927,
          0.7596191848563741,
          0.6995685297812909,
          0.3873950973819928,
          1.1883487054715134,
          1.7703169323691,
          1.5438987096496803,
          -0.11059242560506824,
          0.715741178518138,
          1.054604457219684,
          1.5478098188040954,
          1.062443321116512,
          2.66697803003277,
          2.2042185380463923,
          1.7486520371522856,
          1.7106322708113275,
          1.6445278750733234,
          1.0412858829164944,
          1.264997299574571,
          0.16884483225253666,
          0.7449610761738862,
          1.1478709773222404,
          1.690694467471288,
          1.8889809044390045,
          2.338293603437126,
          1.6844234980550326,
          1.2162539347033077,
          1.7670399393838638,
          0.9334484418990882,
          1.6360123264339572,
          0.912073058659939,
          0.2822622147941517,
          1.22831568655518,
          1.1888830189835342,
          1.2327656883495397,
          2.0154174133536817,
          1.8238235256711324,
          1.8018005717803554,
          1.551959636859976,
          1.7960147116076264,
          -0.300781571078728,
          -0.8884111052879653,
          -1.8399663031682945,
          -2.9526883587518546,
          -1.876239088749383,
          -1.5092022521589823,
          -1.3519925846161054,
          0.013795303032557044,
          -0.17385378390960304,
          -0.9225635996203154,
          1.5933767089183932,
          0.9109129385856856,
          1.2785813364617948,
          1.674849980802111,
          0.7282918839343605,
          0.2819842899572662,
          0.11375690751940236,
          -0.4319066636809241,
          0.28875549765571323,
          -1.871448280482507,
          0.49221193041922123,
          -1.5150286308077865,
          -1.6947684404012942,
          -1.3288023133880347,
          -1.264980653024526,
          -0.8831331375050812,
          -1.0924509735282415,
          -1.1074425106163206,
          -0.6152631666691446,
          -0.5725210454025865,
          -0.28612513307925275,
          -0.6488239386985276,
          -0.4981293695988647,
          2.0392640735743828,
          0.7534476288448385,
          -1.000433106614207,
          -0.2559501453961213,
          0.6333266399554618,
          -0.6371988527796191,
          -0.07063869580667773,
          -0.1512163460865962,
          0.3172694446857757,
          0.8753071037089665,
          0.1469473384309566,
          0.7572063981501427,
          -0.16001826147335615,
          -0.6627638895322944,
          0.9626789270225938,
          0.6077147996216282,
          2.9452440578055246,
          1.5232487356935078,
          -0.9917508972738298,
          -3.288999609319803,
          -2.0975393270442733,
          -0.4979333255524501,
          -0.9424992428674446,
          -0.4896473636978634,
          -0.5641105462497845,
          -0.43862797967075623,
          -0.29148829655749064,
          -0.05046155251072705,
          0.1995242834946388,
          0.694333510763312,
          0.37429244616769275,
          1.7224719009378855,
          1.523701431126115,
          1.3102447579573775,
          0.8270934281126106,
          1.2360311643409798,
          0.6866376815631776,
          1.984641869225075,
          3.1533772231666997,
          2.3380695013450037,
          2.1393157545403296,
          0.6126625401314056,
          0.08756293895190115,
          -0.20086531923736306,
          -0.3545256330138562,
          -0.8180300576462577,
          -0.8363008948455263,
          -0.8845949399446462,
          -0.48385022734881733,
          0.001620268770071142,
          0.770790849828741,
          -0.3022781472118603,
          -0.0005143611008664324,
          0.2797401569760319,
          -0.10692293947738722,
          0.05405130768555496,
          -0.06399963663798354,
          0.042201329075619964,
          -1.7282272383419386,
          -2.0043853545815353,
          -0.8924535968547594,
          -0.6677812121005252,
          -0.13713443783613863,
          0.5160779862509282,
          1.3892828844653928,
          0.4697473613702919,
          0.14434521073601025,
          0.8217378042269382,
          -0.48169392680429723,
          -0.031975081837222606,
          1.624457899600638,
          0.982862276995669,
          1.881092988189002,
          2.2274921588776264,
          2.499700759985628,
          0.4819757278007344,
          -0.6283308072298398,
          -0.9550406670353455,
          -1.2667108435986878,
          -0.7441431104313633,
          -0.5103398927277415,
          0.18630567907639073,
          0.09679521843108141,
          0.18410535307896622,
          -0.4380107793222468,
          -0.24832736931217045,
          0.5640637316184915,
          0.22993539508360702,
          1.5179978762936055,
          0.04023000783518277,
          -0.6741940490131643,
          -1.775657185219537,
          -2.8318197535576224,
          -2.354955579260721,
          -1.2451685190728237,
          -0.47737373783089226,
          0.22950592341583095,
          1.2046047802393178,
          0.43149429373628767,
          0.2975695702656441,
          1.0877337810221401,
          0.7440388807028614,
          0.763169192011377,
          1.1678396894850045,
          0.43691987196884474,
          0.3187563979184661,
          -0.533699374141376,
          -1.584020319669287,
          -1.3706272500995664,
          -1.7285498392685048,
          -1.2083474503487552,
          -1.4505170498408126,
          -1.4922432593889092,
          -1.6214537939503562,
          -1.2317139745283374,
          0.20486552486681667,
          0.7934485891271974,
          0.9946472729342002,
          1.4693563603253017,
          0.18790121758621373,
          -0.6114612848308921,
          -1.0165956295713534,
          -0.2046504118607715,
          1.6359418479265646,
          -0.3986532316769482,
          -0.95926164478185,
          -1.157934661095259
         ]
        },
        {
         "hoverinfo": "skip",
         "line": {
          "width": 0
         },
         "mode": "lines",
         "type": "scatter",
         "x": [
          "2023-03-01T00:00:00",
          "2023-04-01T00:00:00",
          "2023-05-01T00:00:00",
          "2023-06-01T00:00:00",
          "2023-07-01T00:00:00",
          "2023-08-01T00:00:00",
          "2023-09-01T00:00:00",
          "2023-10-01T00:00:00",
          "2023-11-01T00:00:00",
          "2023-12-01T00:00:00",
          "2024-01-01T00:00:00",
          "2024-02-01T00:00:00"
         ],
         "y": [
          -1.5209007545703237,
          -1.5445599164953503,
          -1.439115399867048,
          -1.3612062010544101,
          -1.103052086284729,
          -0.8321731772748827,
          -0.8955595355227403,
          -0.8598246383610961,
          -1.151669593444722,
          -0.7111057910699574,
          -1.5458345217433964,
          -2.083681105980974
         ]
        },
        {
         "fill": "tonexty",
         "fillcolor": "rgba(0, 114, 178, 0.2)",
         "line": {
          "color": "#0072B2",
          "width": 2
         },
         "mode": "lines",
         "name": "Predicted",
         "type": "scatter",
         "x": [
          "2023-03-01T00:00:00",
          "2023-04-01T00:00:00",
          "2023-05-01T00:00:00",
          "2023-06-01T00:00:00",
          "2023-07-01T00:00:00",
          "2023-08-01T00:00:00",
          "2023-09-01T00:00:00",
          "2023-10-01T00:00:00",
          "2023-11-01T00:00:00",
          "2023-12-01T00:00:00",
          "2024-01-01T00:00:00",
          "2024-02-01T00:00:00"
         ],
         "y": [
          -0.16896706698751424,
          -0.20830256049596818,
          -0.15637557116618006,
          -0.0034881338915657423,
          0.2152378054508753,
          0.4998852660286034,
          0.4934986560444845,
          0.5610090973512928,
          0.11928228033878889,
          0.5525655948062698,
          -0.18629988733192737,
          -0.6526590559437054
         ]
        },
        {
         "fill": "tonexty",
         "fillcolor": "rgba(0, 114, 178, 0.2)",
         "hoverinfo": "skip",
         "line": {
          "width": 0
         },
         "mode": "lines",
         "type": "scatter",
         "x": [
          "2023-03-01T00:00:00",
          "2023-04-01T00:00:00",
          "2023-05-01T00:00:00",
          "2023-06-01T00:00:00",
          "2023-07-01T00:00:00",
          "2023-08-01T00:00:00",
          "2023-09-01T00:00:00",
          "2023-10-01T00:00:00",
          "2023-11-01T00:00:00",
          "2023-12-01T00:00:00",
          "2024-01-01T00:00:00",
          "2024-02-01T00:00:00"
         ],
         "y": [
          1.163626722890191,
          1.1130422385419563,
          1.135788716281041,
          1.416438472675354,
          1.5255351275623297,
          1.7925740380467334,
          1.8505830078601149,
          1.9404370089377243,
          1.5266575779569644,
          1.8226758949889739,
          1.18534385005989,
          0.7408574046735458
         ]
        }
       ],
       "layout": {
        "height": 600,
        "showlegend": false,
        "template": {
         "data": {
          "bar": [
           {
            "error_x": {
             "color": "#2a3f5f"
            },
            "error_y": {
             "color": "#2a3f5f"
            },
            "marker": {
             "line": {
              "color": "#E5ECF6",
              "width": 0.5
             },
             "pattern": {
              "fillmode": "overlay",
              "size": 10,
              "solidity": 0.2
             }
            },
            "type": "bar"
           }
          ],
          "barpolar": [
           {
            "marker": {
             "line": {
              "color": "#E5ECF6",
              "width": 0.5
             },
             "pattern": {
              "fillmode": "overlay",
              "size": 10,
              "solidity": 0.2
             }
            },
            "type": "barpolar"
           }
          ],
          "carpet": [
           {
            "aaxis": {
             "endlinecolor": "#2a3f5f",
             "gridcolor": "white",
             "linecolor": "white",
             "minorgridcolor": "white",
             "startlinecolor": "#2a3f5f"
            },
            "baxis": {
             "endlinecolor": "#2a3f5f",
             "gridcolor": "white",
             "linecolor": "white",
             "minorgridcolor": "white",
             "startlinecolor": "#2a3f5f"
            },
            "type": "carpet"
           }
          ],
          "choropleth": [
           {
            "colorbar": {
             "outlinewidth": 0,
             "ticks": ""
            },
            "type": "choropleth"
           }
          ],
          "contour": [
           {
            "colorbar": {
             "outlinewidth": 0,
             "ticks": ""
            },
            "colorscale": [
             [
              0,
              "#0d0887"
             ],
             [
              0.1111111111111111,
              "#46039f"
             ],
             [
              0.2222222222222222,
              "#7201a8"
             ],
             [
              0.3333333333333333,
              "#9c179e"
             ],
             [
              0.4444444444444444,
              "#bd3786"
             ],
             [
              0.5555555555555556,
              "#d8576b"
             ],
             [
              0.6666666666666666,
              "#ed7953"
             ],
             [
              0.7777777777777778,
              "#fb9f3a"
             ],
             [
              0.8888888888888888,
              "#fdca26"
             ],
             [
              1,
              "#f0f921"
             ]
            ],
            "type": "contour"
           }
          ],
          "contourcarpet": [
           {
            "colorbar": {
             "outlinewidth": 0,
             "ticks": ""
            },
            "type": "contourcarpet"
           }
          ],
          "heatmap": [
           {
            "colorbar": {
             "outlinewidth": 0,
             "ticks": ""
            },
            "colorscale": [
             [
              0,
              "#0d0887"
             ],
             [
              0.1111111111111111,
              "#46039f"
             ],
             [
              0.2222222222222222,
              "#7201a8"
             ],
             [
              0.3333333333333333,
              "#9c179e"
             ],
             [
              0.4444444444444444,
              "#bd3786"
             ],
             [
              0.5555555555555556,
              "#d8576b"
             ],
             [
              0.6666666666666666,
              "#ed7953"
             ],
             [
              0.7777777777777778,
              "#fb9f3a"
             ],
             [
              0.8888888888888888,
              "#fdca26"
             ],
             [
              1,
              "#f0f921"
             ]
            ],
            "type": "heatmap"
           }
          ],
          "heatmapgl": [
           {
            "colorbar": {
             "outlinewidth": 0,
             "ticks": ""
            },
            "colorscale": [
             [
              0,
              "#0d0887"
             ],
             [
              0.1111111111111111,
              "#46039f"
             ],
             [
              0.2222222222222222,
              "#7201a8"
             ],
             [
              0.3333333333333333,
              "#9c179e"
             ],
             [
              0.4444444444444444,
              "#bd3786"
             ],
             [
              0.5555555555555556,
              "#d8576b"
             ],
             [
              0.6666666666666666,
              "#ed7953"
             ],
             [
              0.7777777777777778,
              "#fb9f3a"
             ],
             [
              0.8888888888888888,
              "#fdca26"
             ],
             [
              1,
              "#f0f921"
             ]
            ],
            "type": "heatmapgl"
           }
          ],
          "histogram": [
           {
            "marker": {
             "pattern": {
              "fillmode": "overlay",
              "size": 10,
              "solidity": 0.2
             }
            },
            "type": "histogram"
           }
          ],
          "histogram2d": [
           {
            "colorbar": {
             "outlinewidth": 0,
             "ticks": ""
            },
            "colorscale": [
             [
              0,
              "#0d0887"
             ],
             [
              0.1111111111111111,
              "#46039f"
             ],
             [
              0.2222222222222222,
              "#7201a8"
             ],
             [
              0.3333333333333333,
              "#9c179e"
             ],
             [
              0.4444444444444444,
              "#bd3786"
             ],
             [
              0.5555555555555556,
              "#d8576b"
             ],
             [
              0.6666666666666666,
              "#ed7953"
             ],
             [
              0.7777777777777778,
              "#fb9f3a"
             ],
             [
              0.8888888888888888,
              "#fdca26"
             ],
             [
              1,
              "#f0f921"
             ]
            ],
            "type": "histogram2d"
           }
          ],
          "histogram2dcontour": [
           {
            "colorbar": {
             "outlinewidth": 0,
             "ticks": ""
            },
            "colorscale": [
             [
              0,
              "#0d0887"
             ],
             [
              0.1111111111111111,
              "#46039f"
             ],
             [
              0.2222222222222222,
              "#7201a8"
             ],
             [
              0.3333333333333333,
              "#9c179e"
             ],
             [
              0.4444444444444444,
              "#bd3786"
             ],
             [
              0.5555555555555556,
              "#d8576b"
             ],
             [
              0.6666666666666666,
              "#ed7953"
             ],
             [
              0.7777777777777778,
              "#fb9f3a"
             ],
             [
              0.8888888888888888,
              "#fdca26"
             ],
             [
              1,
              "#f0f921"
             ]
            ],
            "type": "histogram2dcontour"
           }
          ],
          "mesh3d": [
           {
            "colorbar": {
             "outlinewidth": 0,
             "ticks": ""
            },
            "type": "mesh3d"
           }
          ],
          "parcoords": [
           {
            "line": {
             "colorbar": {
              "outlinewidth": 0,
              "ticks": ""
             }
            },
            "type": "parcoords"
           }
          ],
          "pie": [
           {
            "automargin": true,
            "type": "pie"
           }
          ],
          "scatter": [
           {
            "fillpattern": {
             "fillmode": "overlay",
             "size": 10,
             "solidity": 0.2
            },
            "type": "scatter"
           }
          ],
          "scatter3d": [
           {
            "line": {
             "colorbar": {
              "outlinewidth": 0,
              "ticks": ""
             }
            },
            "marker": {
             "colorbar": {
              "outlinewidth": 0,
              "ticks": ""
             }
            },
            "type": "scatter3d"
           }
          ],
          "scattercarpet": [
           {
            "marker": {
             "colorbar": {
              "outlinewidth": 0,
              "ticks": ""
             }
            },
            "type": "scattercarpet"
           }
          ],
          "scattergeo": [
           {
            "marker": {
             "colorbar": {
              "outlinewidth": 0,
              "ticks": ""
             }
            },
            "type": "scattergeo"
           }
          ],
          "scattergl": [
           {
            "marker": {
             "colorbar": {
              "outlinewidth": 0,
              "ticks": ""
             }
            },
            "type": "scattergl"
           }
          ],
          "scattermapbox": [
           {
            "marker": {
             "colorbar": {
              "outlinewidth": 0,
              "ticks": ""
             }
            },
            "type": "scattermapbox"
           }
          ],
          "scatterpolar": [
           {
            "marker": {
             "colorbar": {
              "outlinewidth": 0,
              "ticks": ""
             }
            },
            "type": "scatterpolar"
           }
          ],
          "scatterpolargl": [
           {
            "marker": {
             "colorbar": {
              "outlinewidth": 0,
              "ticks": ""
             }
            },
            "type": "scatterpolargl"
           }
          ],
          "scatterternary": [
           {
            "marker": {
             "colorbar": {
              "outlinewidth": 0,
              "ticks": ""
             }
            },
            "type": "scatterternary"
           }
          ],
          "surface": [
           {
            "colorbar": {
             "outlinewidth": 0,
             "ticks": ""
            },
            "colorscale": [
             [
              0,
              "#0d0887"
             ],
             [
              0.1111111111111111,
              "#46039f"
             ],
             [
              0.2222222222222222,
              "#7201a8"
             ],
             [
              0.3333333333333333,
              "#9c179e"
             ],
             [
              0.4444444444444444,
              "#bd3786"
             ],
             [
              0.5555555555555556,
              "#d8576b"
             ],
             [
              0.6666666666666666,
              "#ed7953"
             ],
             [
              0.7777777777777778,
              "#fb9f3a"
             ],
             [
              0.8888888888888888,
              "#fdca26"
             ],
             [
              1,
              "#f0f921"
             ]
            ],
            "type": "surface"
           }
          ],
          "table": [
           {
            "cells": {
             "fill": {
              "color": "#EBF0F8"
             },
             "line": {
              "color": "white"
             }
            },
            "header": {
             "fill": {
              "color": "#C8D4E3"
             },
             "line": {
              "color": "white"
             }
            },
            "type": "table"
           }
          ]
         },
         "layout": {
          "annotationdefaults": {
           "arrowcolor": "#2a3f5f",
           "arrowhead": 0,
           "arrowwidth": 1
          },
          "autotypenumbers": "strict",
          "coloraxis": {
           "colorbar": {
            "outlinewidth": 0,
            "ticks": ""
           }
          },
          "colorscale": {
           "diverging": [
            [
             0,
             "#8e0152"
            ],
            [
             0.1,
             "#c51b7d"
            ],
            [
             0.2,
             "#de77ae"
            ],
            [
             0.3,
             "#f1b6da"
            ],
            [
             0.4,
             "#fde0ef"
            ],
            [
             0.5,
             "#f7f7f7"
            ],
            [
             0.6,
             "#e6f5d0"
            ],
            [
             0.7,
             "#b8e186"
            ],
            [
             0.8,
             "#7fbc41"
            ],
            [
             0.9,
             "#4d9221"
            ],
            [
             1,
             "#276419"
            ]
           ],
           "sequential": [
            [
             0,
             "#0d0887"
            ],
            [
             0.1111111111111111,
             "#46039f"
            ],
            [
             0.2222222222222222,
             "#7201a8"
            ],
            [
             0.3333333333333333,
             "#9c179e"
            ],
            [
             0.4444444444444444,
             "#bd3786"
            ],
            [
             0.5555555555555556,
             "#d8576b"
            ],
            [
             0.6666666666666666,
             "#ed7953"
            ],
            [
             0.7777777777777778,
             "#fb9f3a"
            ],
            [
             0.8888888888888888,
             "#fdca26"
            ],
            [
             1,
             "#f0f921"
            ]
           ],
           "sequentialminus": [
            [
             0,
             "#0d0887"
            ],
            [
             0.1111111111111111,
             "#46039f"
            ],
            [
             0.2222222222222222,
             "#7201a8"
            ],
            [
             0.3333333333333333,
             "#9c179e"
            ],
            [
             0.4444444444444444,
             "#bd3786"
            ],
            [
             0.5555555555555556,
             "#d8576b"
            ],
            [
             0.6666666666666666,
             "#ed7953"
            ],
            [
             0.7777777777777778,
             "#fb9f3a"
            ],
            [
             0.8888888888888888,
             "#fdca26"
            ],
            [
             1,
             "#f0f921"
            ]
           ]
          },
          "colorway": [
           "#636efa",
           "#EF553B",
           "#00cc96",
           "#ab63fa",
           "#FFA15A",
           "#19d3f3",
           "#FF6692",
           "#B6E880",
           "#FF97FF",
           "#FECB52"
          ],
          "font": {
           "color": "#2a3f5f"
          },
          "geo": {
           "bgcolor": "white",
           "lakecolor": "white",
           "landcolor": "#E5ECF6",
           "showlakes": true,
           "showland": true,
           "subunitcolor": "white"
          },
          "hoverlabel": {
           "align": "left"
          },
          "hovermode": "closest",
          "mapbox": {
           "style": "light"
          },
          "paper_bgcolor": "white",
          "plot_bgcolor": "#E5ECF6",
          "polar": {
           "angularaxis": {
            "gridcolor": "white",
            "linecolor": "white",
            "ticks": ""
           },
           "bgcolor": "#E5ECF6",
           "radialaxis": {
            "gridcolor": "white",
            "linecolor": "white",
            "ticks": ""
           }
          },
          "scene": {
           "xaxis": {
            "backgroundcolor": "#E5ECF6",
            "gridcolor": "white",
            "gridwidth": 2,
            "linecolor": "white",
            "showbackground": true,
            "ticks": "",
            "zerolinecolor": "white"
           },
           "yaxis": {
            "backgroundcolor": "#E5ECF6",
            "gridcolor": "white",
            "gridwidth": 2,
            "linecolor": "white",
            "showbackground": true,
            "ticks": "",
            "zerolinecolor": "white"
           },
           "zaxis": {
            "backgroundcolor": "#E5ECF6",
            "gridcolor": "white",
            "gridwidth": 2,
            "linecolor": "white",
            "showbackground": true,
            "ticks": "",
            "zerolinecolor": "white"
           }
          },
          "shapedefaults": {
           "line": {
            "color": "#2a3f5f"
           }
          },
          "ternary": {
           "aaxis": {
            "gridcolor": "white",
            "linecolor": "white",
            "ticks": ""
           },
           "baxis": {
            "gridcolor": "white",
            "linecolor": "white",
            "ticks": ""
           },
           "bgcolor": "#E5ECF6",
           "caxis": {
            "gridcolor": "white",
            "linecolor": "white",
            "ticks": ""
           }
          },
          "title": {
           "x": 0.05
          },
          "xaxis": {
           "automargin": true,
           "gridcolor": "white",
           "linecolor": "white",
           "ticks": "",
           "title": {
            "standoff": 15
           },
           "zerolinecolor": "white",
           "zerolinewidth": 2
          },
          "yaxis": {
           "automargin": true,
           "gridcolor": "white",
           "linecolor": "white",
           "ticks": "",
           "title": {
            "standoff": 15
           },
           "zerolinecolor": "white",
           "zerolinewidth": 2
          }
         }
        },
        "width": 900,
        "xaxis": {
         "rangeselector": {
          "buttons": [
           {
            "count": 7,
            "label": "1w",
            "step": "day",
            "stepmode": "backward"
           },
           {
            "count": 1,
            "label": "1m",
            "step": "month",
            "stepmode": "backward"
           },
           {
            "count": 6,
            "label": "6m",
            "step": "month",
            "stepmode": "backward"
           },
           {
            "count": 1,
            "label": "1y",
            "step": "year",
            "stepmode": "backward"
           },
           {
            "step": "all"
           }
          ]
         },
         "rangeslider": {
          "visible": true
         },
         "title": {
          "text": "ds"
         },
         "type": "date"
        },
        "yaxis": {
         "title": {
          "text": "y"
         }
        }
       }
      }
     },
     "metadata": {},
     "output_type": "display_data"
    },
    {
     "data": {
      "application/vnd.plotly.v1+json": {
       "config": {
        "plotlyServerURL": "https://plot.ly"
       },
       "data": [
        {
         "line": {
          "color": "#0072B2",
          "width": 2
         },
         "mode": "lines",
         "name": "trend",
         "type": "scatter",
         "x": [
          "2023-03-01T00:00:00",
          "2023-04-01T00:00:00",
          "2023-05-01T00:00:00",
          "2023-06-01T00:00:00",
          "2023-07-01T00:00:00",
          "2023-08-01T00:00:00",
          "2023-09-01T00:00:00",
          "2023-10-01T00:00:00",
          "2023-11-01T00:00:00",
          "2023-12-01T00:00:00",
          "2024-01-01T00:00:00",
          "2024-02-01T00:00:00"
         ],
         "xaxis": "x",
         "y": [
          0.09097621261695577,
          0.09133490946840771,
          0.09168203545368382,
          0.09204073230513576,
          0.09238785829041186,
          0.09274655514186382,
          0.09310525199331579,
          0.09345237797859188,
          0.09381107483004385,
          0.09415820081531993,
          0.09451689766677189,
          0.09487559451822385
         ],
         "yaxis": "y"
        },
        {
         "line": {
          "color": "rgba(0, 114, 178, 0.2)",
          "width": 0
         },
         "mode": "lines",
         "name": "trend_upper",
         "type": "scatter",
         "x": [
          "2023-03-01T00:00:00",
          "2023-04-01T00:00:00",
          "2023-05-01T00:00:00",
          "2023-06-01T00:00:00",
          "2023-07-01T00:00:00",
          "2023-08-01T00:00:00",
          "2023-09-01T00:00:00",
          "2023-10-01T00:00:00",
          "2023-11-01T00:00:00",
          "2023-12-01T00:00:00",
          "2024-01-01T00:00:00",
          "2024-02-01T00:00:00"
         ],
         "xaxis": "x",
         "y": [
          0.09097621261695577,
          0.09133490946840771,
          0.09168203545368382,
          0.09204073265389552,
          0.09238785925895165,
          0.09274655744141357,
          0.09310525549058088,
          0.09345238297488741,
          0.09381108142627849,
          0.09415820892981512,
          0.09451690794442892,
          0.0948756066441334
         ],
         "yaxis": "y"
        },
        {
         "fill": "tonexty",
         "fillcolor": "rgba(0, 114, 178, 0.2)",
         "line": {
          "color": "rgba(0, 114, 178, 0.2)",
          "width": 0
         },
         "mode": "lines",
         "name": "trend_lower",
         "type": "scatter",
         "x": [
          "2023-03-01T00:00:00",
          "2023-04-01T00:00:00",
          "2023-05-01T00:00:00",
          "2023-06-01T00:00:00",
          "2023-07-01T00:00:00",
          "2023-08-01T00:00:00",
          "2023-09-01T00:00:00",
          "2023-10-01T00:00:00",
          "2023-11-01T00:00:00",
          "2023-12-01T00:00:00",
          "2024-01-01T00:00:00",
          "2024-02-01T00:00:00"
         ],
         "xaxis": "x",
         "y": [
          0.09097621261695577,
          0.09133490946840771,
          0.09168203526498761,
          0.09204073160421034,
          0.09238785677006318,
          0.09274655259667634,
          0.09310524817354318,
          0.09345237262728809,
          0.0938110675026691,
          0.09415819139484255,
          0.09451688592243561,
          0.09487558074766593
         ],
         "yaxis": "y"
        },
        {
         "line": {
          "color": "#0072B2",
          "width": 2
         },
         "mode": "lines",
         "name": "yearly",
         "type": "scatter",
         "x": [
          "2017-01-01T00:00:00",
          "2017-01-02T00:00:59.178082",
          "2017-01-03T00:01:58.356164",
          "2017-01-04T00:02:57.534246",
          "2017-01-05T00:03:56.712328",
          "2017-01-06T00:04:55.890411",
          "2017-01-07T00:05:55.068493",
          "2017-01-08T00:06:54.246575",
          "2017-01-09T00:07:53.424657",
          "2017-01-10T00:08:52.602739",
          "2017-01-11T00:09:51.780822",
          "2017-01-12T00:10:50.958904",
          "2017-01-13T00:11:50.136986",
          "2017-01-14T00:12:49.315068",
          "2017-01-15T00:13:48.493150",
          "2017-01-16T00:14:47.671232",
          "2017-01-17T00:15:46.849315",
          "2017-01-18T00:16:46.027397",
          "2017-01-19T00:17:45.205479",
          "2017-01-20T00:18:44.383561",
          "2017-01-21T00:19:43.561643",
          "2017-01-22T00:20:42.739726",
          "2017-01-23T00:21:41.917808",
          "2017-01-24T00:22:41.095890",
          "2017-01-25T00:23:40.273972",
          "2017-01-26T00:24:39.452054",
          "2017-01-27T00:25:38.630137",
          "2017-01-28T00:26:37.808219",
          "2017-01-29T00:27:36.986301",
          "2017-01-30T00:28:36.164383",
          "2017-01-31T00:29:35.342465",
          "2017-02-01T00:30:34.520547",
          "2017-02-02T00:31:33.698630",
          "2017-02-03T00:32:32.876712",
          "2017-02-04T00:33:32.054794",
          "2017-02-05T00:34:31.232876",
          "2017-02-06T00:35:30.410958",
          "2017-02-07T00:36:29.589041",
          "2017-02-08T00:37:28.767123",
          "2017-02-09T00:38:27.945205",
          "2017-02-10T00:39:27.123287",
          "2017-02-11T00:40:26.301369",
          "2017-02-12T00:41:25.479452",
          "2017-02-13T00:42:24.657534",
          "2017-02-14T00:43:23.835616",
          "2017-02-15T00:44:23.013698",
          "2017-02-16T00:45:22.191780",
          "2017-02-17T00:46:21.369862",
          "2017-02-18T00:47:20.547945",
          "2017-02-19T00:48:19.726027",
          "2017-02-20T00:49:18.904109",
          "2017-02-21T00:50:18.082191",
          "2017-02-22T00:51:17.260273",
          "2017-02-23T00:52:16.438356",
          "2017-02-24T00:53:15.616438",
          "2017-02-25T00:54:14.794520",
          "2017-02-26T00:55:13.972602",
          "2017-02-27T00:56:13.150684",
          "2017-02-28T00:57:12.328767",
          "2017-03-01T00:58:11.506849",
          "2017-03-02T00:59:10.684931",
          "2017-03-03T01:00:09.863013",
          "2017-03-04T01:01:09.041095",
          "2017-03-05T01:02:08.219177",
          "2017-03-06T01:03:07.397260",
          "2017-03-07T01:04:06.575342",
          "2017-03-08T01:05:05.753424",
          "2017-03-09T01:06:04.931506",
          "2017-03-10T01:07:04.109588",
          "2017-03-11T01:08:03.287671",
          "2017-03-12T01:09:02.465753",
          "2017-03-13T01:10:01.643835",
          "2017-03-14T01:11:00.821917",
          "2017-03-15T01:12:00",
          "2017-03-16T01:12:59.178082",
          "2017-03-17T01:13:58.356164",
          "2017-03-18T01:14:57.534246",
          "2017-03-19T01:15:56.712328",
          "2017-03-20T01:16:55.890411",
          "2017-03-21T01:17:55.068493",
          "2017-03-22T01:18:54.246575",
          "2017-03-23T01:19:53.424657",
          "2017-03-24T01:20:52.602739",
          "2017-03-25T01:21:51.780822",
          "2017-03-26T01:22:50.958904",
          "2017-03-27T01:23:50.136986",
          "2017-03-28T01:24:49.315068",
          "2017-03-29T01:25:48.493150",
          "2017-03-30T01:26:47.671232",
          "2017-03-31T01:27:46.849315",
          "2017-04-01T01:28:46.027397",
          "2017-04-02T01:29:45.205479",
          "2017-04-03T01:30:44.383561",
          "2017-04-04T01:31:43.561643",
          "2017-04-05T01:32:42.739726",
          "2017-04-06T01:33:41.917808",
          "2017-04-07T01:34:41.095890",
          "2017-04-08T01:35:40.273972",
          "2017-04-09T01:36:39.452054",
          "2017-04-10T01:37:38.630137",
          "2017-04-11T01:38:37.808219",
          "2017-04-12T01:39:36.986301",
          "2017-04-13T01:40:36.164383",
          "2017-04-14T01:41:35.342465",
          "2017-04-15T01:42:34.520547",
          "2017-04-16T01:43:33.698630",
          "2017-04-17T01:44:32.876712",
          "2017-04-18T01:45:32.054794",
          "2017-04-19T01:46:31.232876",
          "2017-04-20T01:47:30.410958",
          "2017-04-21T01:48:29.589041",
          "2017-04-22T01:49:28.767123",
          "2017-04-23T01:50:27.945205",
          "2017-04-24T01:51:27.123287",
          "2017-04-25T01:52:26.301369",
          "2017-04-26T01:53:25.479452",
          "2017-04-27T01:54:24.657534",
          "2017-04-28T01:55:23.835616",
          "2017-04-29T01:56:23.013698",
          "2017-04-30T01:57:22.191780",
          "2017-05-01T01:58:21.369862",
          "2017-05-02T01:59:20.547945",
          "2017-05-03T02:00:19.726027",
          "2017-05-04T02:01:18.904109",
          "2017-05-05T02:02:18.082191",
          "2017-05-06T02:03:17.260273",
          "2017-05-07T02:04:16.438356",
          "2017-05-08T02:05:15.616438",
          "2017-05-09T02:06:14.794520",
          "2017-05-10T02:07:13.972602",
          "2017-05-11T02:08:13.150684",
          "2017-05-12T02:09:12.328767",
          "2017-05-13T02:10:11.506849",
          "2017-05-14T02:11:10.684931",
          "2017-05-15T02:12:09.863013",
          "2017-05-16T02:13:09.041095",
          "2017-05-17T02:14:08.219177",
          "2017-05-18T02:15:07.397260",
          "2017-05-19T02:16:06.575342",
          "2017-05-20T02:17:05.753424",
          "2017-05-21T02:18:04.931506",
          "2017-05-22T02:19:04.109588",
          "2017-05-23T02:20:03.287671",
          "2017-05-24T02:21:02.465753",
          "2017-05-25T02:22:01.643835",
          "2017-05-26T02:23:00.821917",
          "2017-05-27T02:24:00",
          "2017-05-28T02:24:59.178082",
          "2017-05-29T02:25:58.356164",
          "2017-05-30T02:26:57.534246",
          "2017-05-31T02:27:56.712328",
          "2017-06-01T02:28:55.890411",
          "2017-06-02T02:29:55.068493",
          "2017-06-03T02:30:54.246575",
          "2017-06-04T02:31:53.424657",
          "2017-06-05T02:32:52.602739",
          "2017-06-06T02:33:51.780822",
          "2017-06-07T02:34:50.958904",
          "2017-06-08T02:35:50.136986",
          "2017-06-09T02:36:49.315068",
          "2017-06-10T02:37:48.493150",
          "2017-06-11T02:38:47.671232",
          "2017-06-12T02:39:46.849315",
          "2017-06-13T02:40:46.027397",
          "2017-06-14T02:41:45.205479",
          "2017-06-15T02:42:44.383561",
          "2017-06-16T02:43:43.561643",
          "2017-06-17T02:44:42.739726",
          "2017-06-18T02:45:41.917808",
          "2017-06-19T02:46:41.095890",
          "2017-06-20T02:47:40.273972",
          "2017-06-21T02:48:39.452054",
          "2017-06-22T02:49:38.630137",
          "2017-06-23T02:50:37.808219",
          "2017-06-24T02:51:36.986301",
          "2017-06-25T02:52:36.164383",
          "2017-06-26T02:53:35.342465",
          "2017-06-27T02:54:34.520547",
          "2017-06-28T02:55:33.698630",
          "2017-06-29T02:56:32.876712",
          "2017-06-30T02:57:32.054794",
          "2017-07-01T02:58:31.232876",
          "2017-07-02T02:59:30.410958",
          "2017-07-03T03:00:29.589041",
          "2017-07-04T03:01:28.767123",
          "2017-07-05T03:02:27.945205",
          "2017-07-06T03:03:27.123287",
          "2017-07-07T03:04:26.301369",
          "2017-07-08T03:05:25.479452",
          "2017-07-09T03:06:24.657534",
          "2017-07-10T03:07:23.835616",
          "2017-07-11T03:08:23.013698",
          "2017-07-12T03:09:22.191780",
          "2017-07-13T03:10:21.369862",
          "2017-07-14T03:11:20.547945",
          "2017-07-15T03:12:19.726027",
          "2017-07-16T03:13:18.904109",
          "2017-07-17T03:14:18.082191",
          "2017-07-18T03:15:17.260273",
          "2017-07-19T03:16:16.438356",
          "2017-07-20T03:17:15.616438",
          "2017-07-21T03:18:14.794520",
          "2017-07-22T03:19:13.972602",
          "2017-07-23T03:20:13.150684",
          "2017-07-24T03:21:12.328767",
          "2017-07-25T03:22:11.506849",
          "2017-07-26T03:23:10.684931",
          "2017-07-27T03:24:09.863013",
          "2017-07-28T03:25:09.041095",
          "2017-07-29T03:26:08.219177",
          "2017-07-30T03:27:07.397260",
          "2017-07-31T03:28:06.575342",
          "2017-08-01T03:29:05.753424",
          "2017-08-02T03:30:04.931506",
          "2017-08-03T03:31:04.109588",
          "2017-08-04T03:32:03.287671",
          "2017-08-05T03:33:02.465753",
          "2017-08-06T03:34:01.643835",
          "2017-08-07T03:35:00.821917",
          "2017-08-08T03:36:00",
          "2017-08-09T03:36:59.178082",
          "2017-08-10T03:37:58.356164",
          "2017-08-11T03:38:57.534246",
          "2017-08-12T03:39:56.712328",
          "2017-08-13T03:40:55.890411",
          "2017-08-14T03:41:55.068493",
          "2017-08-15T03:42:54.246575",
          "2017-08-16T03:43:53.424657",
          "2017-08-17T03:44:52.602739",
          "2017-08-18T03:45:51.780822",
          "2017-08-19T03:46:50.958904",
          "2017-08-20T03:47:50.136986",
          "2017-08-21T03:48:49.315068",
          "2017-08-22T03:49:48.493150",
          "2017-08-23T03:50:47.671232",
          "2017-08-24T03:51:46.849315",
          "2017-08-25T03:52:46.027397",
          "2017-08-26T03:53:45.205479",
          "2017-08-27T03:54:44.383561",
          "2017-08-28T03:55:43.561643",
          "2017-08-29T03:56:42.739726",
          "2017-08-30T03:57:41.917808",
          "2017-08-31T03:58:41.095890",
          "2017-09-01T03:59:40.273972",
          "2017-09-02T04:00:39.452054",
          "2017-09-03T04:01:38.630137",
          "2017-09-04T04:02:37.808219",
          "2017-09-05T04:03:36.986301",
          "2017-09-06T04:04:36.164383",
          "2017-09-07T04:05:35.342465",
          "2017-09-08T04:06:34.520547",
          "2017-09-09T04:07:33.698630",
          "2017-09-10T04:08:32.876712",
          "2017-09-11T04:09:32.054794",
          "2017-09-12T04:10:31.232876",
          "2017-09-13T04:11:30.410958",
          "2017-09-14T04:12:29.589041",
          "2017-09-15T04:13:28.767123",
          "2017-09-16T04:14:27.945205",
          "2017-09-17T04:15:27.123287",
          "2017-09-18T04:16:26.301369",
          "2017-09-19T04:17:25.479452",
          "2017-09-20T04:18:24.657534",
          "2017-09-21T04:19:23.835616",
          "2017-09-22T04:20:23.013698",
          "2017-09-23T04:21:22.191780",
          "2017-09-24T04:22:21.369862",
          "2017-09-25T04:23:20.547945",
          "2017-09-26T04:24:19.726027",
          "2017-09-27T04:25:18.904109",
          "2017-09-28T04:26:18.082191",
          "2017-09-29T04:27:17.260273",
          "2017-09-30T04:28:16.438356",
          "2017-10-01T04:29:15.616438",
          "2017-10-02T04:30:14.794520",
          "2017-10-03T04:31:13.972602",
          "2017-10-04T04:32:13.150684",
          "2017-10-05T04:33:12.328767",
          "2017-10-06T04:34:11.506849",
          "2017-10-07T04:35:10.684931",
          "2017-10-08T04:36:09.863013",
          "2017-10-09T04:37:09.041095",
          "2017-10-10T04:38:08.219177",
          "2017-10-11T04:39:07.397260",
          "2017-10-12T04:40:06.575342",
          "2017-10-13T04:41:05.753424",
          "2017-10-14T04:42:04.931506",
          "2017-10-15T04:43:04.109588",
          "2017-10-16T04:44:03.287671",
          "2017-10-17T04:45:02.465753",
          "2017-10-18T04:46:01.643835",
          "2017-10-19T04:47:00.821917",
          "2017-10-20T04:48:00",
          "2017-10-21T04:48:59.178082",
          "2017-10-22T04:49:58.356164",
          "2017-10-23T04:50:57.534246",
          "2017-10-24T04:51:56.712328",
          "2017-10-25T04:52:55.890411",
          "2017-10-26T04:53:55.068493",
          "2017-10-27T04:54:54.246575",
          "2017-10-28T04:55:53.424657",
          "2017-10-29T04:56:52.602739",
          "2017-10-30T04:57:51.780822",
          "2017-10-31T04:58:50.958904",
          "2017-11-01T04:59:50.136986",
          "2017-11-02T05:00:49.315068",
          "2017-11-03T05:01:48.493150",
          "2017-11-04T05:02:47.671232",
          "2017-11-05T05:03:46.849315",
          "2017-11-06T05:04:46.027397",
          "2017-11-07T05:05:45.205479",
          "2017-11-08T05:06:44.383561",
          "2017-11-09T05:07:43.561643",
          "2017-11-10T05:08:42.739726",
          "2017-11-11T05:09:41.917808",
          "2017-11-12T05:10:41.095890",
          "2017-11-13T05:11:40.273972",
          "2017-11-14T05:12:39.452054",
          "2017-11-15T05:13:38.630137",
          "2017-11-16T05:14:37.808219",
          "2017-11-17T05:15:36.986301",
          "2017-11-18T05:16:36.164383",
          "2017-11-19T05:17:35.342465",
          "2017-11-20T05:18:34.520547",
          "2017-11-21T05:19:33.698630",
          "2017-11-22T05:20:32.876712",
          "2017-11-23T05:21:32.054794",
          "2017-11-24T05:22:31.232876",
          "2017-11-25T05:23:30.410958",
          "2017-11-26T05:24:29.589041",
          "2017-11-27T05:25:28.767123",
          "2017-11-28T05:26:27.945205",
          "2017-11-29T05:27:27.123287",
          "2017-11-30T05:28:26.301369",
          "2017-12-01T05:29:25.479452",
          "2017-12-02T05:30:24.657534",
          "2017-12-03T05:31:23.835616",
          "2017-12-04T05:32:23.013698",
          "2017-12-05T05:33:22.191780",
          "2017-12-06T05:34:21.369862",
          "2017-12-07T05:35:20.547945",
          "2017-12-08T05:36:19.726027",
          "2017-12-09T05:37:18.904109",
          "2017-12-10T05:38:18.082191",
          "2017-12-11T05:39:17.260273",
          "2017-12-12T05:40:16.438356",
          "2017-12-13T05:41:15.616438",
          "2017-12-14T05:42:14.794520",
          "2017-12-15T05:43:13.972602",
          "2017-12-16T05:44:13.150684",
          "2017-12-17T05:45:12.328767",
          "2017-12-18T05:46:11.506849",
          "2017-12-19T05:47:10.684931",
          "2017-12-20T05:48:09.863013",
          "2017-12-21T05:49:09.041095",
          "2017-12-22T05:50:08.219177",
          "2017-12-23T05:51:07.397260",
          "2017-12-24T05:52:06.575342",
          "2017-12-25T05:53:05.753424",
          "2017-12-26T05:54:04.931506",
          "2017-12-27T05:55:04.109588",
          "2017-12-28T05:56:03.287671",
          "2017-12-29T05:57:02.465753",
          "2017-12-30T05:58:01.643835",
          "2017-12-31T05:59:00.821917"
         ],
         "xaxis": "x2",
         "y": [
          -0.2747468028951964,
          -0.2644274360020548,
          -0.25211396914683915,
          -0.23844581770877357,
          -0.22409679055846204,
          -0.20975936019648864,
          -0.19612816658337692,
          -0.1838840612310501,
          -0.17367672781709204,
          -0.16610946069752927,
          -0.16172406972752323,
          -0.1609872535325163,
          -0.16427868136392323,
          -0.171880763988908,
          -0.18397105850177564,
          -0.2006167695993808,
          -0.2217719398906673,
          -0.24727761064064172,
          -0.2768631243063438,
          -0.31015308793313573,
          -0.34667398030253704,
          -0.38586454595114933,
          -0.42708807650042246,
          -0.4696470654914458,
          -0.5127969271214299,
          -0.5557658452052957,
          -0.5977704692460646,
          -0.6380344141747941,
          -0.6758061952705229,
          -0.7103770291861291,
          -0.7410957572621635,
          -0.7673864045348757,
          -0.7887599740278627,
          -0.8048262681226929,
          -0.8153030595960212,
          -0.8200222124739927,
          -0.8189342482454027,
          -0.8121088306961713,
          -0.7997331328676108,
          -0.7821072704079909,
          -0.7596367830009404,
          -0.7328240134809397,
          -0.7022545780600574,
          -0.6685844490010987,
          -0.6325242161017712,
          -0.5948219256412588,
          -0.5562473299930768,
          -0.5175713809830823,
          -0.47955017043708,
          -0.4429072289903955,
          -0.40831720042308695,
          -0.3763905120425852,
          -0.3476615558958414,
          -0.3225752307096929,
          -0.3014795235732469,
          -0.2846186961997083,
          -0.2721295049978167,
          -0.2640400743261509,
          -0.26027188522821876,
          -0.26064353972544824,
          -0.2648780329379301,
          -0.2726118049375371,
          -0.28340611748130745,
          -0.29675950884515984,
          -0.312122943648527,
          -0.3289147471242442,
          -0.34653671826878274,
          -0.36439031032708513,
          -0.3818927580877271,
          -0.39849153183489705,
          -0.4136797566311818,
          -0.4270081546081437,
          -0.4380962579664605,
          -0.4466414669738763,
          -0.45242540629256406,
          -0.4553188325294285,
          -0.4552830125092334,
          -0.45236911488687903,
          -0.44671500183507834,
          -0.4385395366667751,
          -0.42813520535763877,
          -0.4158577862761855,
          -0.40211525792296515,
          -0.3873549147411699,
          -0.37204956746542095,
          -0.35668295949737305,
          -0.3417358669068213,
          -0.32767061235975947,
          -0.31491797071784894,
          -0.30386416020507645,
          -0.2948392530623652,
          -0.28810771866388096,
          -0.28385985634831257,
          -0.2822064333039933,
          -0.2831750448596999,
          -0.2867089676962451,
          -0.2926684980322189,
          -0.3008342662013482,
          -0.31091353260255955,
          -0.3225479094537312,
          -0.33532325805596064,
          -0.3487811272115821,
          -0.3624316279719951,
          -0.37576644414473337,
          -0.3882739848498709,
          -0.3994531045791318,
          -0.4088273816557607,
          -0.41595868312400813,
          -0.42045936252304134,
          -0.4220039250187381,
          -0.4203381835716087,
          -0.41528696492587375,
          -0.40675960109807924,
          -0.39475299110374745,
          -0.37935305577065664,
          -0.3607323717935905,
          -0.3391468040546426,
          -0.3149292520723096,
          -0.2884811083524958,
          -0.26026341235582584,
          -0.2307833061571002,
          -0.20058224409831912,
          -0.1702217575671165,
          -0.14026893709651353,
          -0.11128139660441046,
          -0.08379409685631642,
          -0.058303403868274616,
          -0.035255484591402056,
          -0.015034301887853827,
          0.002048438112138596,
          0.01576159997176373,
          0.025960105427811773,
          0.03258971384260094,
          0.0356878155590705,
          0.0353826834929443,
          0.031890115952246764,
          0.025508050270134804,
          0.016608588513082417,
          0.005628459933721152,
          -0.006942354028865624,
          -0.02057336347134036,
          -0.03470753773294326,
          -0.04877514957149385,
          -0.06220959683174053,
          -0.07446152003017636,
          -0.0850132990074282,
          -0.09339266387366059,
          -0.09918470714729478,
          -0.10204337847751384,
          -0.10170022574532421,
          -0.09797168827863516,
          -0.09076412303922807,
          -0.08007640692802488,
          -0.06600087277401333,
          -0.04872061611268603,
          -0.02850570459085066,
          -0.005706646579227742,
          0.019254051476189266,
          0.04589244062537656,
          0.07367365137450187,
          0.1020267631851165,
          0.1303575043854315,
          0.15806303081932638,
          0.1845469012461874,
          0.20923238017225468,
          0.2315782812282877,
          0.2510908556085135,
          0.26733606686212774,
          0.279950091582976,
          0.2886481922199413,
          0.2932312499967688,
          0.2935912036805697,
          0.2897132721520838,
          0.2816765477727324,
          0.2696522704916104,
          0.2538997658232709,
          0.23476133798560314,
          0.21265343096684095,
          0.1880579223726628,
          0.1615111513195371,
          0.13359163555974735,
          0.10490857765605507,
          0.07608657659995946,
          0.04775335266477687,
          0.020525972113033805,
          -0.005002201581591561,
          -0.0282741051030953,
          -0.0487792892139639,
          -0.06606568537738562,
          -0.07974720599222085,
          -0.08951113378091084,
          -0.0951235341049513,
          -0.09643259570845865,
          -0.09337071384529423,
          -0.08595401385030114,
          -0.07428046496489797,
          -0.058526184541917735,
          -0.03893990161003591,
          -0.015837187657886193,
          0.010408870347782354,
          0.03937579400650355,
          0.07060170357709537,
          0.1035956552228097,
          0.13784868298999378,
          0.17284289443289447,
          0.2080643668755312,
          0.2430116662329953,
          0.277205707580431,
          0.3101987848350442,
          0.34158073750264034,
          0.370987816196646,
          0.3981064914051269,
          0.4226779133810867,
          0.4445006605513797,
          0.46343236236921564,
          0.4793889766194377,
          0.4923449776271864,
          0.5023301536249156,
          0.509426491348295,
          0.5137639249938609,
          0.5155150884540015,
          0.5148898923250642,
          0.5121290908975908,
          0.5074978269109085,
          0.5012789536331922,
          0.49376626365690596,
          0.48525832216620773,
          0.47605169508589246,
          0.46643544697095585,
          0.4566857341459472,
          0.4470610766923055,
          0.43779819275867854,
          0.4291090759517936,
          0.4211777439825654,
          0.4141588206574584,
          0.40817631398160575,
          0.4033231698732385,
          0.3996617605647104,
          0.39722444358599207,
          0.396015252186573,
          0.3960117660125958,
          0.3971674473080085,
          0.39941432934142873,
          0.40266579265084773,
          0.40681976973878026,
          0.4117617745713624,
          0.4173680441235567,
          0.42350859140207725,
          0.4300502060460768,
          0.43685888709567877,
          0.4438028125906967,
          0.45075429093476216,
          0.4575917975201741,
          0.46420170710028835,
          0.4704793339186419,
          0.47633042031114686,
          0.4816715453762555,
          0.4864306240363165,
          0.4905470477981536,
          0.4939716021019433,
          0.4966659637606323,
          0.49860238041591637,
          0.4997627669507849,
          0.5001378649486706,
          0.49972623186442233,
          0.4985331806531252,
          0.49656960521939514,
          0.49385081607465003,
          0.4903953652019723,
          0.4862238971216428,
          0.48135799099291643,
          0.4758193712153582,
          0.4696286442673068,
          0.462804709285375,
          0.4553640364132174,
          0.44732015224566024,
          0.4386831920794123,
          0.4294601450095458,
          0.41965428664386756,
          0.40926580510303506,
          0.39829214265507296,
          0.38672850176157053,
          0.3745692310319387,
          0.3618080590609295,
          0.34843983670251893,
          0.3344617794347761,
          0.31987497342131965,
          0.30468580499182335,
          0.288908345089912,
          0.2725649939558604,
          0.2556888536449707,
          0.23832515933866483,
          0.2205325477324908,
          0.20238517853351667,
          0.1839725513624757,
          0.16540108132035974,
          0.14679430173113028,
          0.12829287022067398,
          0.11005392200052382,
          0.09225099290957585,
          0.07507132546022904,
          0.05871476990051576,
          0.043391097414361354,
          0.029317010603803033,
          0.016712527157881612,
          0.005797616443337276,
          -0.003213003344251324,
          -0.010113909908564698,
          -0.014714017756555611,
          -0.01684161406838823,
          -0.0163493449632148,
          -0.013119332527224433,
          -0.007067796644859029,
          0.0018505008643443083,
          0.013638328713143319,
          0.02825284976054406,
          0.045602318779138604,
          0.06554534671255922,
          0.08788944556393853,
          0.11239139355968059,
          0.13875853311268943,
          0.16665152394979013,
          0.19568659656524157,
          0.2254421838376241,
          0.2554634181989551,
          0.285269236579968,
          0.31436041840070866,
          0.3422267456800791,
          0.3683581688136154,
          0.3922530479249877,
          0.41342836611585937,
          0.4314296596213035,
          0.445840928676216,
          0.45629338620096327,
          0.46247521698921557,
          0.4641387707588764,
          0.4611075973870534,
          0.4532819187746481,
          0.4406432054079948,
          0.42325621261363594,
          0.401270170199222,
          0.3749178292661134,
          0.3445127573154873,
          0.31044440740080753,
          0.27317345346154537,
          0.23322145510252357,
          0.19116288743300724,
          0.147613883817295,
          0.10322018907396321,
          0.05864368007758113,
          0.014550821132248842,
          -0.028404399695225315,
          -0.06959239526552434,
          -0.10842220231433601,
          -0.14435497541292175,
          -0.17691452779353878,
          -0.20570077418026805,
          -0.23039745976624593,
          -0.2507802662955273,
          -0.26672251238890327,
          -0.2781988180166431,
          -0.2852859179720753,
          -0.28816241262888675,
          -0.2871047894187897,
          -0.2824818739382988
         ],
         "yaxis": "y2"
        }
       ],
       "layout": {
        "height": 400,
        "showlegend": false,
        "template": {
         "data": {
          "bar": [
           {
            "error_x": {
             "color": "#2a3f5f"
            },
            "error_y": {
             "color": "#2a3f5f"
            },
            "marker": {
             "line": {
              "color": "#E5ECF6",
              "width": 0.5
             },
             "pattern": {
              "fillmode": "overlay",
              "size": 10,
              "solidity": 0.2
             }
            },
            "type": "bar"
           }
          ],
          "barpolar": [
           {
            "marker": {
             "line": {
              "color": "#E5ECF6",
              "width": 0.5
             },
             "pattern": {
              "fillmode": "overlay",
              "size": 10,
              "solidity": 0.2
             }
            },
            "type": "barpolar"
           }
          ],
          "carpet": [
           {
            "aaxis": {
             "endlinecolor": "#2a3f5f",
             "gridcolor": "white",
             "linecolor": "white",
             "minorgridcolor": "white",
             "startlinecolor": "#2a3f5f"
            },
            "baxis": {
             "endlinecolor": "#2a3f5f",
             "gridcolor": "white",
             "linecolor": "white",
             "minorgridcolor": "white",
             "startlinecolor": "#2a3f5f"
            },
            "type": "carpet"
           }
          ],
          "choropleth": [
           {
            "colorbar": {
             "outlinewidth": 0,
             "ticks": ""
            },
            "type": "choropleth"
           }
          ],
          "contour": [
           {
            "colorbar": {
             "outlinewidth": 0,
             "ticks": ""
            },
            "colorscale": [
             [
              0,
              "#0d0887"
             ],
             [
              0.1111111111111111,
              "#46039f"
             ],
             [
              0.2222222222222222,
              "#7201a8"
             ],
             [
              0.3333333333333333,
              "#9c179e"
             ],
             [
              0.4444444444444444,
              "#bd3786"
             ],
             [
              0.5555555555555556,
              "#d8576b"
             ],
             [
              0.6666666666666666,
              "#ed7953"
             ],
             [
              0.7777777777777778,
              "#fb9f3a"
             ],
             [
              0.8888888888888888,
              "#fdca26"
             ],
             [
              1,
              "#f0f921"
             ]
            ],
            "type": "contour"
           }
          ],
          "contourcarpet": [
           {
            "colorbar": {
             "outlinewidth": 0,
             "ticks": ""
            },
            "type": "contourcarpet"
           }
          ],
          "heatmap": [
           {
            "colorbar": {
             "outlinewidth": 0,
             "ticks": ""
            },
            "colorscale": [
             [
              0,
              "#0d0887"
             ],
             [
              0.1111111111111111,
              "#46039f"
             ],
             [
              0.2222222222222222,
              "#7201a8"
             ],
             [
              0.3333333333333333,
              "#9c179e"
             ],
             [
              0.4444444444444444,
              "#bd3786"
             ],
             [
              0.5555555555555556,
              "#d8576b"
             ],
             [
              0.6666666666666666,
              "#ed7953"
             ],
             [
              0.7777777777777778,
              "#fb9f3a"
             ],
             [
              0.8888888888888888,
              "#fdca26"
             ],
             [
              1,
              "#f0f921"
             ]
            ],
            "type": "heatmap"
           }
          ],
          "heatmapgl": [
           {
            "colorbar": {
             "outlinewidth": 0,
             "ticks": ""
            },
            "colorscale": [
             [
              0,
              "#0d0887"
             ],
             [
              0.1111111111111111,
              "#46039f"
             ],
             [
              0.2222222222222222,
              "#7201a8"
             ],
             [
              0.3333333333333333,
              "#9c179e"
             ],
             [
              0.4444444444444444,
              "#bd3786"
             ],
             [
              0.5555555555555556,
              "#d8576b"
             ],
             [
              0.6666666666666666,
              "#ed7953"
             ],
             [
              0.7777777777777778,
              "#fb9f3a"
             ],
             [
              0.8888888888888888,
              "#fdca26"
             ],
             [
              1,
              "#f0f921"
             ]
            ],
            "type": "heatmapgl"
           }
          ],
          "histogram": [
           {
            "marker": {
             "pattern": {
              "fillmode": "overlay",
              "size": 10,
              "solidity": 0.2
             }
            },
            "type": "histogram"
           }
          ],
          "histogram2d": [
           {
            "colorbar": {
             "outlinewidth": 0,
             "ticks": ""
            },
            "colorscale": [
             [
              0,
              "#0d0887"
             ],
             [
              0.1111111111111111,
              "#46039f"
             ],
             [
              0.2222222222222222,
              "#7201a8"
             ],
             [
              0.3333333333333333,
              "#9c179e"
             ],
             [
              0.4444444444444444,
              "#bd3786"
             ],
             [
              0.5555555555555556,
              "#d8576b"
             ],
             [
              0.6666666666666666,
              "#ed7953"
             ],
             [
              0.7777777777777778,
              "#fb9f3a"
             ],
             [
              0.8888888888888888,
              "#fdca26"
             ],
             [
              1,
              "#f0f921"
             ]
            ],
            "type": "histogram2d"
           }
          ],
          "histogram2dcontour": [
           {
            "colorbar": {
             "outlinewidth": 0,
             "ticks": ""
            },
            "colorscale": [
             [
              0,
              "#0d0887"
             ],
             [
              0.1111111111111111,
              "#46039f"
             ],
             [
              0.2222222222222222,
              "#7201a8"
             ],
             [
              0.3333333333333333,
              "#9c179e"
             ],
             [
              0.4444444444444444,
              "#bd3786"
             ],
             [
              0.5555555555555556,
              "#d8576b"
             ],
             [
              0.6666666666666666,
              "#ed7953"
             ],
             [
              0.7777777777777778,
              "#fb9f3a"
             ],
             [
              0.8888888888888888,
              "#fdca26"
             ],
             [
              1,
              "#f0f921"
             ]
            ],
            "type": "histogram2dcontour"
           }
          ],
          "mesh3d": [
           {
            "colorbar": {
             "outlinewidth": 0,
             "ticks": ""
            },
            "type": "mesh3d"
           }
          ],
          "parcoords": [
           {
            "line": {
             "colorbar": {
              "outlinewidth": 0,
              "ticks": ""
             }
            },
            "type": "parcoords"
           }
          ],
          "pie": [
           {
            "automargin": true,
            "type": "pie"
           }
          ],
          "scatter": [
           {
            "fillpattern": {
             "fillmode": "overlay",
             "size": 10,
             "solidity": 0.2
            },
            "type": "scatter"
           }
          ],
          "scatter3d": [
           {
            "line": {
             "colorbar": {
              "outlinewidth": 0,
              "ticks": ""
             }
            },
            "marker": {
             "colorbar": {
              "outlinewidth": 0,
              "ticks": ""
             }
            },
            "type": "scatter3d"
           }
          ],
          "scattercarpet": [
           {
            "marker": {
             "colorbar": {
              "outlinewidth": 0,
              "ticks": ""
             }
            },
            "type": "scattercarpet"
           }
          ],
          "scattergeo": [
           {
            "marker": {
             "colorbar": {
              "outlinewidth": 0,
              "ticks": ""
             }
            },
            "type": "scattergeo"
           }
          ],
          "scattergl": [
           {
            "marker": {
             "colorbar": {
              "outlinewidth": 0,
              "ticks": ""
             }
            },
            "type": "scattergl"
           }
          ],
          "scattermapbox": [
           {
            "marker": {
             "colorbar": {
              "outlinewidth": 0,
              "ticks": ""
             }
            },
            "type": "scattermapbox"
           }
          ],
          "scatterpolar": [
           {
            "marker": {
             "colorbar": {
              "outlinewidth": 0,
              "ticks": ""
             }
            },
            "type": "scatterpolar"
           }
          ],
          "scatterpolargl": [
           {
            "marker": {
             "colorbar": {
              "outlinewidth": 0,
              "ticks": ""
             }
            },
            "type": "scatterpolargl"
           }
          ],
          "scatterternary": [
           {
            "marker": {
             "colorbar": {
              "outlinewidth": 0,
              "ticks": ""
             }
            },
            "type": "scatterternary"
           }
          ],
          "surface": [
           {
            "colorbar": {
             "outlinewidth": 0,
             "ticks": ""
            },
            "colorscale": [
             [
              0,
              "#0d0887"
             ],
             [
              0.1111111111111111,
              "#46039f"
             ],
             [
              0.2222222222222222,
              "#7201a8"
             ],
             [
              0.3333333333333333,
              "#9c179e"
             ],
             [
              0.4444444444444444,
              "#bd3786"
             ],
             [
              0.5555555555555556,
              "#d8576b"
             ],
             [
              0.6666666666666666,
              "#ed7953"
             ],
             [
              0.7777777777777778,
              "#fb9f3a"
             ],
             [
              0.8888888888888888,
              "#fdca26"
             ],
             [
              1,
              "#f0f921"
             ]
            ],
            "type": "surface"
           }
          ],
          "table": [
           {
            "cells": {
             "fill": {
              "color": "#EBF0F8"
             },
             "line": {
              "color": "white"
             }
            },
            "header": {
             "fill": {
              "color": "#C8D4E3"
             },
             "line": {
              "color": "white"
             }
            },
            "type": "table"
           }
          ]
         },
         "layout": {
          "annotationdefaults": {
           "arrowcolor": "#2a3f5f",
           "arrowhead": 0,
           "arrowwidth": 1
          },
          "autotypenumbers": "strict",
          "coloraxis": {
           "colorbar": {
            "outlinewidth": 0,
            "ticks": ""
           }
          },
          "colorscale": {
           "diverging": [
            [
             0,
             "#8e0152"
            ],
            [
             0.1,
             "#c51b7d"
            ],
            [
             0.2,
             "#de77ae"
            ],
            [
             0.3,
             "#f1b6da"
            ],
            [
             0.4,
             "#fde0ef"
            ],
            [
             0.5,
             "#f7f7f7"
            ],
            [
             0.6,
             "#e6f5d0"
            ],
            [
             0.7,
             "#b8e186"
            ],
            [
             0.8,
             "#7fbc41"
            ],
            [
             0.9,
             "#4d9221"
            ],
            [
             1,
             "#276419"
            ]
           ],
           "sequential": [
            [
             0,
             "#0d0887"
            ],
            [
             0.1111111111111111,
             "#46039f"
            ],
            [
             0.2222222222222222,
             "#7201a8"
            ],
            [
             0.3333333333333333,
             "#9c179e"
            ],
            [
             0.4444444444444444,
             "#bd3786"
            ],
            [
             0.5555555555555556,
             "#d8576b"
            ],
            [
             0.6666666666666666,
             "#ed7953"
            ],
            [
             0.7777777777777778,
             "#fb9f3a"
            ],
            [
             0.8888888888888888,
             "#fdca26"
            ],
            [
             1,
             "#f0f921"
            ]
           ],
           "sequentialminus": [
            [
             0,
             "#0d0887"
            ],
            [
             0.1111111111111111,
             "#46039f"
            ],
            [
             0.2222222222222222,
             "#7201a8"
            ],
            [
             0.3333333333333333,
             "#9c179e"
            ],
            [
             0.4444444444444444,
             "#bd3786"
            ],
            [
             0.5555555555555556,
             "#d8576b"
            ],
            [
             0.6666666666666666,
             "#ed7953"
            ],
            [
             0.7777777777777778,
             "#fb9f3a"
            ],
            [
             0.8888888888888888,
             "#fdca26"
            ],
            [
             1,
             "#f0f921"
            ]
           ]
          },
          "colorway": [
           "#636efa",
           "#EF553B",
           "#00cc96",
           "#ab63fa",
           "#FFA15A",
           "#19d3f3",
           "#FF6692",
           "#B6E880",
           "#FF97FF",
           "#FECB52"
          ],
          "font": {
           "color": "#2a3f5f"
          },
          "geo": {
           "bgcolor": "white",
           "lakecolor": "white",
           "landcolor": "#E5ECF6",
           "showlakes": true,
           "showland": true,
           "subunitcolor": "white"
          },
          "hoverlabel": {
           "align": "left"
          },
          "hovermode": "closest",
          "mapbox": {
           "style": "light"
          },
          "paper_bgcolor": "white",
          "plot_bgcolor": "#E5ECF6",
          "polar": {
           "angularaxis": {
            "gridcolor": "white",
            "linecolor": "white",
            "ticks": ""
           },
           "bgcolor": "#E5ECF6",
           "radialaxis": {
            "gridcolor": "white",
            "linecolor": "white",
            "ticks": ""
           }
          },
          "scene": {
           "xaxis": {
            "backgroundcolor": "#E5ECF6",
            "gridcolor": "white",
            "gridwidth": 2,
            "linecolor": "white",
            "showbackground": true,
            "ticks": "",
            "zerolinecolor": "white"
           },
           "yaxis": {
            "backgroundcolor": "#E5ECF6",
            "gridcolor": "white",
            "gridwidth": 2,
            "linecolor": "white",
            "showbackground": true,
            "ticks": "",
            "zerolinecolor": "white"
           },
           "zaxis": {
            "backgroundcolor": "#E5ECF6",
            "gridcolor": "white",
            "gridwidth": 2,
            "linecolor": "white",
            "showbackground": true,
            "ticks": "",
            "zerolinecolor": "white"
           }
          },
          "shapedefaults": {
           "line": {
            "color": "#2a3f5f"
           }
          },
          "ternary": {
           "aaxis": {
            "gridcolor": "white",
            "linecolor": "white",
            "ticks": ""
           },
           "baxis": {
            "gridcolor": "white",
            "linecolor": "white",
            "ticks": ""
           },
           "bgcolor": "#E5ECF6",
           "caxis": {
            "gridcolor": "white",
            "linecolor": "white",
            "ticks": ""
           }
          },
          "title": {
           "x": 0.05
          },
          "xaxis": {
           "automargin": true,
           "gridcolor": "white",
           "linecolor": "white",
           "ticks": "",
           "title": {
            "standoff": 15
           },
           "zerolinecolor": "white",
           "zerolinewidth": 2
          },
          "yaxis": {
           "automargin": true,
           "gridcolor": "white",
           "linecolor": "white",
           "ticks": "",
           "title": {
            "standoff": 15
           },
           "zerolinecolor": "white",
           "zerolinewidth": 2
          }
         }
        },
        "width": 900,
        "xaxis": {
         "anchor": "y",
         "domain": [
          0,
          1
         ],
         "range": [
          "2023-02-12T03:36:00",
          "2024-02-17T20:24:00"
         ],
         "type": "date"
        },
        "xaxis2": {
         "anchor": "y2",
         "domain": [
          0,
          1
         ],
         "range": [
          "2016-12-13T18:54:02.958904115",
          "2018-01-18T11:04:57.863013581"
         ],
         "tickformat": "%B %e",
         "type": "date"
        },
        "yaxis": {
         "anchor": "x",
         "domain": [
          0.575,
          1
         ],
         "rangemode": "normal",
         "title": {
          "text": "trend"
         },
         "zerolinecolor": "#AAA"
        },
        "yaxis2": {
         "anchor": "x2",
         "domain": [
          0,
          0.425
         ],
         "title": {
          "text": "yearly"
         },
         "zerolinecolor": "#AAA"
        }
       }
      }
     },
     "metadata": {},
     "output_type": "display_data"
    }
   ],
   "source": [
    "############### Plot Prophet\n",
    "\n",
    "from prophet.plot import plot_plotly, plot_components_plotly\n",
    "\n",
    "# Plot the forecast\n",
    "fig1 = plot_plotly(model, data_forecast)\n",
    "fig1.show()\n",
    "\n",
    "# Plot forecast components\n",
    "fig2 = plot_components_plotly(model, data_forecast)\n",
    "fig2.show()"
   ]
  }
 ],
 "metadata": {
  "kernelspec": {
   "display_name": "Python 3",
   "language": "python",
   "name": "python3"
  },
  "language_info": {
   "codemirror_mode": {
    "name": "ipython",
    "version": 3
   },
   "file_extension": ".py",
   "mimetype": "text/x-python",
   "name": "python",
   "nbconvert_exporter": "python",
   "pygments_lexer": "ipython3",
   "version": "3.12.5"
  }
 },
 "nbformat": 4,
 "nbformat_minor": 2
}
