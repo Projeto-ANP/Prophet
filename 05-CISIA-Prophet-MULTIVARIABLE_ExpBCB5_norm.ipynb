{
 "cells": [
  {
   "cell_type": "code",
   "execution_count": 6,
   "metadata": {},
   "outputs": [],
   "source": [
    "############# Libraries ##############\n",
    "\n",
    "import pandas as pd\n",
    "from bcb import sgs\n",
    "\n",
    "from matplotlib import pyplot as plt\n",
    "import numpy as np\n",
    "\n",
    "# Evaluation metrics\n",
    "from sklearn.metrics import mean_squared_error as mse\n",
    "from sklearn.metrics import mean_absolute_percentage_error as mape\n",
    "\n",
    "epislon = 1e-20  # Define a small epsilon value for division by zero cases\n",
    "\n",
    "def rmse(y_true, y_pred):\n",
    "  return np.sqrt(mse(y_true, y_pred))\n",
    "\n",
    "def mase(y_true, y_pred, y_baseline):\n",
    "    # Calcula o MAE do modelo\n",
    "    mae_pred = np.mean(np.abs(y_true - y_pred))\n",
    "    # Calcula o MAE do modelo baseline Persistent Window (i.e., últimas h observações antes do teste)\n",
    "    mae_naive = np.mean(np.abs(y_true - y_baseline))\n",
    "    result = mae_pred/mae_naive\n",
    "    return result\n",
    "\n",
    "def pbe(y_true, y_pred):\n",
    "  if np.sum(y_true)!=0:\n",
    "    return 100*(np.sum(y_true - y_pred)/np.sum(y_true))\n",
    "  else:\n",
    "    return 100*(np.sum(y_true - y_pred)/(np.sum(y_true) + epislon))\n",
    "\n",
    "def pocid(y_true, y_pred):\n",
    "  n = len(y_true)\n",
    "  D = [1 if (y_pred[i] - y_pred[i-1]) * (y_true[i] - y_true[i-1]) > 0 else 0 for i in range(1, n)]\n",
    "  POCID = 100 * np.sum(D) / (n-1)\n",
    "  return POCID\n",
    "\n",
    "def mcpm(rmse_result, mape_result, pocid_result):\n",
    "  er_result = 100 - pocid_result\n",
    "\n",
    "  A1 = (rmse_result * mape_result * np.sin((2*np.pi)/3))/2\n",
    "  A2 = (mape_result * er_result * np.sin((2*np.pi)/3))/2\n",
    "  A3 = (er_result * rmse_result * np.sin((2*np.pi)/3))/2\n",
    "  total = A1 + A2 + A3\n",
    "  return total\n",
    "\n",
    "def znorm(x):\n",
    "  if np.std(x) != 0: \n",
    "      x_znorm = (x - np.mean(x)) / np.std(x)\n",
    "  else:\n",
    "      x_znorm = (x - np.mean(x)) / (np.std(x) + epislon)\n",
    "  return x_znorm\n",
    "\n",
    "def znorm_reverse(x, mean_x, std_x):\n",
    "  x_denormalized = (np.array(x) * std_x) + mean_x\n",
    "  return x_denormalized\n",
    "\n",
    "def get_stats_norm(series, horizon, window):\n",
    "  last_subsequence = series[-(horizon+window):-horizon].values\n",
    "  last_mean = np.mean(last_subsequence)\n",
    "  last_std = np.std(last_subsequence)\n",
    "  return last_mean, last_std\n",
    "\n",
    "\n",
    "\n",
    "# Para predição de vendas por UF (mensal), será considerado horizon = 12\n",
    "# Para predição de vendas por município (anual), será considerado horizon = 1\n",
    "def train_test_split(data, horizon):\n",
    "  X = data.iloc[:,:-1] # features\n",
    "  y = data.iloc[:,-1] # target\n",
    "\n",
    "  X_train = X[:-horizon] # features train\n",
    "  X_test =  X[-horizon:] # features test\n",
    "\n",
    "  y_train = y[:-horizon] # target train\n",
    "  y_test = y[-horizon:] # target test\n",
    "  return X_train, X_test, y_train, y_test\n",
    "\n",
    "def recursive_multistep_forecasting(X_test, model, horizon):\n",
    "  # example é composto pelas últimas observações vistas\n",
    "  # na prática, é o pbeprimeiro exemplo do conjunto de teste\n",
    "  example = X_test.iloc[0].values.reshape(1,-1)\n",
    "\n",
    "  preds = []\n",
    "  for i in range(horizon):\n",
    "    pred = model.predict(example)[0]\n",
    "    preds.append(pred)\n",
    "\n",
    "    # Descartar o valor da primeira posição do vetor de características\n",
    "    example = example[:,1:]\n",
    "\n",
    "    # Adicionar o valor predito na última posição do vetor de características\n",
    "    example = np.append(example, pred)\n",
    "    example = example.reshape(1,-1)\n",
    "  return preds\n",
    "\n",
    "def baseline_mean(series, horizon):\n",
    "  # como as séries são normalizadas, esse baseline irá retornar uma reta próxima de zero\n",
    "  pred = np.repeat(np.mean(znorm(series[:-horizon])), horizon)\n",
    "  return pred\n",
    "\n",
    "def baseline_persistent(series, horizon):\n",
    "  return np.repeat(znorm(series[-2*horizon:-horizon]).values[-1], horizon)\n",
    "\n",
    "def baseline_persistent_window(series, horizon):\n",
    "  subsequence = znorm(series[-horizon*2:-horizon]).values\n",
    "  return subsequence\n",
    "\n",
    "def baseline_persistent_window2(series, horizon):\n",
    "  subsequence2 = series[-horizon*2:-horizon].values\n",
    "  return subsequence2\n",
    "\n",
    "# Em geral, considera-se um tamanho de janela capaz de capturar um ciclo dos dados\n",
    "# Por exemplo, 12 observações no caso dos dados com frequência mensal\n",
    "def rolling_window(series, window):\n",
    "  data = []\n",
    "  for i in range(len(series)-window):\n",
    "    example = znorm(np.array(series[i:i+window+1]))\n",
    "    data.append(example)\n",
    "  df = pd.DataFrame(data)\n",
    "  return df\n"
   ]
  },
  {
   "cell_type": "code",
   "execution_count": 7,
   "metadata": {},
   "outputs": [],
   "source": [
    "############# DEFs ##############\n",
    "\n",
    "import os\n",
    "import csv\n",
    "\n",
    "def extract_estado(file_name):\n",
    "    parts = file_name.split('_')\n",
    "    estado = parts[1]\n",
    "    return estado\n",
    "\n",
    "def read_csv_files(folder_path):\n",
    "    estados = []\n",
    "    files = os.listdir(folder_path)\n",
    "    for file_name in files:\n",
    "        if file_name.endswith('.csv'):\n",
    "            file_path = os.path.join(folder_path, file_name)\n",
    "            with open(file_path, 'r', newline='') as csvfile:\n",
    "                reader = csv.reader(csvfile)\n",
    "                headers = next(reader)\n",
    "                estado = extract_estado(file_name)\n",
    "                estados.append(estado)\n",
    "                estados.sort()\n",
    "    return estados\n",
    "\n",
    "\n",
    "########### BCB codes #############\n",
    "\n",
    "state_codes = {\n",
    "    'ac': [21924, 21930, 21931, 21935, 21939, 21943, 21942, 21934, 1376, 1373, 1374, 1382, 1383, 1384, 1385, 1386, 1379, 1387, 1388, 28527, 28528, 28529, 28530, 1380, 1378, 1394, 1391, 1393, 1397, 1398, 1399, 1400, 1395, 1389, 1392, 1396, 1390, 1401, 20716, 25359, 20715, 20714, 20740, 20718, 20717, 20757, 20756, 22701, 12569, 12597, 13144, 13151, 14002, 14029, 14056, 15861, 15893, 15925],\n",
    "    'al': [21924, 21930, 21931, 21935, 21939, 21943, 21942, 21934, 1376, 1373, 1374, 1382, 1383, 1384, 1385, 1386, 1379, 1387, 1388, 28527, 28528, 28529, 28530, 1380, 1378, 1394, 1391, 1393, 1397, 1398, 1399, 1400, 1395, 1389, 1392, 1396, 1390, 1401, 20716, 25359, 20715, 20714, 20740, 20718, 20717, 20757, 20756, 22701, 12745, 13343, 13348, 13353, 14003, 14030, 14057, 15862, 15894, 15926],\n",
    "    'am': [21924, 21930, 21931, 21935, 21939, 21943, 21942, 21934, 1376, 1373, 1374, 1382, 1383, 1384, 1385, 1386, 1379, 1387, 1388, 28527, 28528, 28529, 28530, 1380, 1378, 1394, 1391, 1393, 1397, 1398, 1399, 1400, 1395, 1389, 1392, 1396, 1390, 1401, 20716, 25359, 20715, 20714, 20740, 20718, 20717, 20757, 20756, 22701, 25411, 25412, 12572, 12598, 13146, 13153, 14005, 14032, 14059, 15864, 15896, 15928],\n",
    "    'ap': [21924, 21930, 21931, 21935, 21939, 21943, 21942, 21934, 1376, 1373, 1374, 1382, 1383, 1384, 1385, 1386, 1379, 1387, 1388, 28527, 28528, 28529, 28530, 1380, 1378, 1394, 1391, 1393, 1397, 1398, 1399, 1400, 1395, 1389, 1392, 1396, 1390, 1401, 20716, 25359, 20715, 20714, 20740, 20718, 20717, 20757, 20756, 22701, 12570, 12596, 13145, 13152, 14004, 14031, 14058, 15863, 15895, 15927],\n",
    "    'ba': [21924, 21930, 21931, 21935, 21939, 21943, 21942, 21934, 1376, 1373, 1374, 1382, 1383, 1384, 1385, 1386, 1379, 1387, 1388, 28527, 28528, 28529, 28530, 1380, 1378, 1394, 1391, 1393, 1397, 1398, 1399, 1400, 1395, 1389, 1392, 1396, 1390, 1401, 20716, 25359, 20715, 20714, 20740, 20718, 20717, 20757, 20756, 22701, 21944, 21945, 25415, 25416, 12991, 13137, 13138, 13139, 14006, 14033, 14060, 15865, 15897, 15929],\n",
    "    'ce': [21924, 21930, 21931, 21935, 21939, 21943, 21942, 21934, 1376, 1373, 1374, 1382, 1383, 1384, 1385, 1386, 1379, 1387, 1388, 28527, 28528, 28529, 28530, 1380, 1378, 1394, 1391, 1393, 1397, 1398, 1399, 1400, 1395, 1389, 1392, 1396, 1390, 1401, 20716, 25359, 20715, 20714, 20740, 20718, 20717, 20757, 20756, 22701, 21959, 21960, 25390, 25391, 13010, 13093, 13094, 13166, 14007, 14034, 14061, 15866, 15898, 15930],\n",
    "    'df': [21924, 21930, 21931, 21935, 21939, 21943, 21942, 21934, 1376, 1373, 1374, 1382, 1383, 1384, 1385, 1386, 1379, 1387, 1388, 28527, 28528, 28529, 28530, 1380, 1378, 1394, 1391, 1393, 1397, 1398, 1399, 1400, 1395, 1389, 1392, 1396, 1390, 1401, 20716, 25359, 20715, 20714, 20740, 20718, 20717, 20757, 20756, 22701, 13069, 13071, 13072, 14008, 14035, 14062, 15867, 15899, 15931, 21988],\n",
    "    'es': [21924, 21930, 21931, 21935, 21939, 21943, 21942, 21934, 1376, 1373, 1374, 1382, 1383, 1384, 1385, 1386, 1379, 1387, 1388, 28527, 28528, 28529, 28530, 1380, 1378, 1394, 1391, 1393, 1397, 1398, 1399, 1400, 1395, 1389, 1392, 1396, 1390, 1401, 20716, 25359, 20715, 20714, 20740, 20718, 20717, 20757, 20756, 22701, 21926, 21928, 25398, 25399, 12985, 13386, 13387, 13388, 14009, 14036, 14063, 15868, 15900, 15932],\n",
    "    'go': [21924, 21930, 21931, 21935, 21939, 21943, 21942, 21934, 1376, 1373, 1374, 1382, 1383, 1384, 1385, 1386, 1379, 1387, 1388, 28527, 28528, 28529, 28530, 1380, 1378, 1394, 1391, 1393, 1397, 1398, 1399, 1400, 1395, 1389, 1392, 1396, 1390, 1401, 20716, 25359, 20715, 20714, 20740, 20718, 20717, 20757, 20756, 22701, 21937, 21941, 25383, 25384, 13030, 13031, 13061, 14010, 14037, 14064, 15869, 15901, 15933, 21987],\n",
    "    'ma': [21924, 21930, 21931, 21935, 21939, 21943, 21942, 21934, 1376, 1373, 1374, 1382, 1383, 1384, 1385, 1386, 1379, 1387, 1388, 28527, 28528, 28529, 28530, 1380, 1378, 1394, 1391, 1393, 1397, 1398, 1399, 1400, 1395, 1389, 1392, 1396, 1390, 1401, 20716, 25359, 20715, 20714, 20740, 20718, 20717, 20757, 20756, 22701, 13011, 13244, 13245, 13247, 14011, 14038, 14065, 15870, 15902, 15934],\n",
    "    'mg': [21924, 21930, 21931, 21935, 21939, 21943, 21942, 21934, 1376, 1373, 1374, 1382, 1383, 1384, 1385, 1386, 1379, 1387, 1388, 28527, 28528, 28529, 28530, 1380, 1378, 1394, 1391, 1393, 1397, 1398, 1399, 1400, 1395, 1389, 1392, 1396, 1390, 1401, 20716, 25359, 20715, 20714, 20740, 20718, 20717, 20757, 20756, 22701, 21936, 21940, 25379, 25380, 10746, 13026, 13028, 13029, 14014, 14041, 14068, 15873, 15905, 15937, 21986],\n",
    "    'ms': [21924, 21930, 21931, 21935, 21939, 21943, 21942, 21934, 1376, 1373, 1374, 1382, 1383, 1384, 1385, 1386, 1379, 1387, 1388, 28527, 28528, 28529, 28530, 1380, 1378, 1394, 1391, 1393, 1397, 1398, 1399, 1400, 1395, 1389, 1392, 1396, 1390, 1401, 20716, 25359, 20715, 20714, 20740, 20718, 20717, 20757, 20756, 22701, 13065, 13067, 13068, 14013, 14040, 14067, 15872, 15904, 15936, 21990],\n",
    "    'mt': [21924, 21930, 21931, 21935, 21939, 21943, 21942, 21934, 1376, 1373, 1374, 1382, 1383, 1384, 1385, 1386, 1379, 1387, 1388, 28527, 28528, 28529, 28530, 1380, 1378, 1394, 1391, 1393, 1397, 1398, 1399, 1400, 1395, 1389, 1392, 1396, 1390, 1401, 20716, 25359, 20715, 20714, 20740, 20718, 20717, 20757, 20756, 22701, 21938, 13062, 13063, 13064, 14012, 14039, 14066, 15871, 15903, 15935, 21989],\n",
    "    'pa': [21924, 21930, 21931, 21935, 21939, 21943, 21942, 21934, 1376, 1373, 1374, 1382, 1383, 1384, 1385, 1386, 1379, 1387, 1388, 28527, 28528, 28529, 28530, 1380, 1378, 1394, 1391, 1393, 1397, 1398, 1399, 1400, 1395, 1389, 1392, 1396, 1390, 1401, 20716, 25359, 20715, 20714, 20740, 20718, 20717, 20757, 20756, 22701, 25409, 25410, 12573, 12599, 13147, 13154, 14015, 14042, 14069],\n",
    "    'pb': [21924, 21930, 21931, 21935, 21939, 21943, 21942, 21934, 1376, 1373, 1374, 1382, 1383, 1384, 1385, 1386, 1379, 1387, 1388, 28527, 28528, 28529, 28530, 1380, 1378, 1394, 1391, 1393, 1397, 1398, 1399, 1400, 1395, 1389, 1392, 1396, 1390, 1401, 20716, 25359, 20715, 20714, 20740, 20718, 20717, 20757, 20756, 22701, 12743, 13342, 13347, 13352, 14016, 14043, 14070, 15875, 15907, 15939],\n",
    "    'pe': [21924, 21930, 21931, 21935, 21939, 21943, 21942, 21934, 1376, 1373, 1374, 1382, 1383, 1384, 1385, 1386, 1379, 1387, 1388, 28527, 28528, 28529, 28530, 1380, 1378, 1394, 1391, 1393, 1397, 1398, 1399, 1400, 1395, 1389, 1392, 1396, 1390, 1401, 20716, 25359, 20715, 20714, 20740, 20718, 20717, 20757, 20756, 22701, 25417, 25418, 12742, 13341, 13346, 13351, 14018, 14045, 14072, 15877, 15909, 15941],\n",
    "    'pi': [21924, 21930, 21931, 21935, 21939, 21943, 21942, 21934, 1376, 1373, 1374, 1382, 1383, 1384, 1385, 1386, 1379, 1387, 1388, 28527, 28528, 28529, 28530, 1380, 1378, 1394, 1391, 1393, 1397, 1398, 1399, 1400, 1395, 1389, 1392, 1396, 1390, 1401, 20716, 25359, 20715, 20714, 20740, 20718, 20717, 20757, 20756, 22701, 13012, 13167, 13168, 13169, 14019, 14046, 14073, 15878, 15910, 15942],\n",
    "    'pr': [21924, 21930, 21931, 21935, 21939, 21943, 21942, 21934, 1376, 1373, 1374, 1382, 1383, 1384, 1385, 1386, 1379, 1387, 1388, 28527, 28528, 28529, 28530, 1380, 1378, 1394, 1391, 1393, 1397, 1398, 1399, 1400, 1395, 1389, 1392, 1396, 1390, 1401, 20716, 25359, 20715, 20714, 20740, 20718, 20717, 20757, 20756, 22701, 21979, 21980, 25408, 25413, 12619, 13073, 13074, 13075, 14017, 14044, 14071, 15876, 15908, 15940],\n",
    "    'rj': [21924, 21930, 21931, 21935, 21939, 21943, 21942, 21934, 1376, 1373, 1374, 1382, 1383, 1384, 1385, 1386, 1379, 1387, 1388, 28527, 28528, 28529, 28530, 1380, 1378, 1394, 1391, 1393, 1397, 1398, 1399, 1400, 1395, 1389, 1392, 1396, 1390, 1401, 20716, 25359, 20715, 20714, 20740, 20718, 20717, 20757, 20756, 22701, 25396, 25397, 21927, 21929, 14020, 14047, 14074, 15879, 15911, 15943],\n",
    "    'rn': [21924, 21930, 21931, 21935, 21939, 21943, 21942, 21934, 1376, 1373, 1374, 1382, 1383, 1384, 1385, 1386, 1379, 1387, 1388, 28527, 28528, 28529, 28530, 1380, 1378, 1394, 1391, 1393, 1397, 1398, 1399, 1400, 1395, 1389, 1392, 1396, 1390, 1401, 20716, 25359, 20715, 20714, 20740, 20718, 20717, 20757, 20756, 22701, 12744, 13344, 13349, 13354, 14021, 14048, 14075, 15880, 15912, 15944],\n",
    "    'ro': [21924, 21930, 21931, 21935, 21939, 21943, 21942, 21934, 1376, 1373, 1374, 1382, 1383, 1384, 1385, 1386, 1379, 1387, 1388, 28527, 28528, 28529, 28530, 1380, 1378, 1394, 1391, 1393, 1397, 1398, 1399, 1400, 1395, 1389, 1392, 1396, 1390, 1401, 20716, 25359, 20715, 20714, 20740, 20718, 20717, 20757, 20756, 22701, 12574, 12600, 13148, 13155, 14023, 14050, 14077, 15882, 15914, 15946],\n",
    "    'rr': [21924, 21930, 21931, 21935, 21939, 21943, 21942, 21934, 1376, 1373, 1374, 1382, 1383, 1384, 1385, 1386, 1379, 1387, 1388, 28527, 28528, 28529, 28530, 1380, 1378, 1394, 1391, 1393, 1397, 1398, 1399, 1400, 1395, 1389, 1392, 1396, 1390, 1401, 20716, 25359, 20715, 20714, 20740, 20718, 20717, 20757, 20756, 22701, 12576, 12601, 13149, 13156, 14024, 14051, 14078, 15883, 15915, 15947],\n",
    "    'rs': [21924, 21930, 21931, 21935, 21939, 21943, 21942, 21934, 1376, 1373, 1374, 1382, 1383, 1384, 1385, 1386, 1379, 1387, 1388, 28527, 28528, 28529, 28530, 1380, 1378, 1394, 1391, 1393, 1397, 1398, 1399, 1400, 1395, 1389, 1392, 1396, 1390, 1401, 20716, 25359, 20715, 20714, 20740, 20718, 20717, 20757, 20756, 22701, 21932, 21933, 25401, 25404, 10753, 12553, 13078, 13079, 13080, 14022, 14049, 14076, 15881, 15913, 15945],\n",
    "    'sc': [21924, 21930, 21931, 21935, 21939, 21943, 21942, 21934, 1376, 1373, 1374, 1382, 1383, 1384, 1385, 1386, 1379, 1387, 1388, 28527, 28528, 28529, 28530, 1380, 1378, 1394, 1391, 1393, 1397, 1398, 1399, 1400, 1395, 1389, 1392, 1396, 1390, 1401, 20716, 25359, 20715, 20714, 20740, 20718, 20717, 20757, 20756, 22701, 21981, 21982, 25402, 25405, 12625, 13081, 13082, 13083, 14025, 14052, 14079, 15884, 15916, 15948],\n",
    "    'se': [21924, 21930, 21931, 21935, 21939, 21943, 21942, 21934, 1376, 1373, 1374, 1382, 1383, 1384, 1385, 1386, 1379, 1387, 1388, 28527, 28528, 28529, 28530, 1380, 1378, 1394, 1391, 1393, 1397, 1398, 1399, 1400, 1395, 1389, 1392, 1396, 1390, 1401, 20716, 25359, 20715, 20714, 20740, 20718, 20717, 20757, 20756, 22701, 12746, 13345, 13350, 13356, 14027, 14054, 14081, 15886, 15918, 15950],\n",
    "    'sp': [21924, 21930, 21931, 21935, 21939, 21943, 21942, 21934, 1376, 1373, 1374, 1382, 1383, 1384, 1385, 1386, 1379, 1387, 1388, 28527, 28528, 28529, 28530, 1380, 1378, 1394, 1391, 1393, 1397, 1398, 1399, 1400, 1395, 1389, 1392, 1396, 1390, 1401, 20716, 25359, 20715, 20714, 20740, 20718, 20717, 20757, 20756, 22701, 21925, 25392, 25394, 12867, 13021, 13022, 13023, 13024, 13025, 14026, 14053, 14080, 15885, 15917, 15949, 7493, 10755, 193],\n",
    "    'to': [21924, 21930, 21931, 21935, 21939, 21943, 21942, 21934, 1376, 1373, 1374, 1382, 1383, 1384, 1385, 1386, 1379, 1387, 1388, 28527, 28528, 28529, 28530, 1380, 1378, 1394, 1391, 1393, 1397, 1398, 1399, 1400, 1395, 1389, 1392, 1396, 1390, 1401, 20716, 25359, 20715, 20714, 20740, 20718, 20717, 20757, 20756, 22701, 12577, 12602, 13150, 13157, 14028, 14055, 14082, 15887, 15919, 15951]\n",
    "\n",
    "}"
   ]
  },
  {
   "cell_type": "code",
   "execution_count": 8,
   "metadata": {},
   "outputs": [
    {
     "name": "stderr",
     "output_type": "stream",
     "text": [
      "C:\\Users\\jonas\\AppData\\Local\\Packages\\PythonSoftwareFoundation.Python.3.12_qbz5n2kfra8p0\\LocalCache\\local-packages\\Python312\\site-packages\\tqdm\\auto.py:21: TqdmWarning: IProgress not found. Please update jupyter and ipywidgets. See https://ipywidgets.readthedocs.io/en/stable/user_install.html\n",
      "  from .autonotebook import tqdm as notebook_tqdm\n",
      "C:\\Users\\jonas\\AppData\\Local\\Temp\\ipykernel_16056\\1548965453.py:127: SettingWithCopyWarning: \n",
      "A value is trying to be set on a copy of a slice from a DataFrame\n",
      "\n",
      "See the caveats in the documentation: https://pandas.pydata.org/pandas-docs/stable/user_guide/indexing.html#returning-a-view-versus-a-copy\n",
      "  dataE.drop('ds', axis=1, inplace=True)\n",
      "C:\\Users\\jonas\\AppData\\Local\\Temp\\ipykernel_16056\\1548965453.py:164: SettingWithCopyWarning: \n",
      "A value is trying to be set on a copy of a slice from a DataFrame\n",
      "\n",
      "See the caveats in the documentation: https://pandas.pydata.org/pandas-docs/stable/user_guide/indexing.html#returning-a-view-versus-a-copy\n",
      "  X2_train.rename(columns={col: 'y'}, inplace=True)\n",
      "15:28:48 - cmdstanpy - INFO - Chain [1] start processing\n",
      "15:28:49 - cmdstanpy - INFO - Chain [1] done processing\n",
      "C:\\Users\\jonas\\AppData\\Local\\Temp\\ipykernel_16056\\1548965453.py:164: SettingWithCopyWarning: \n",
      "A value is trying to be set on a copy of a slice from a DataFrame\n",
      "\n",
      "See the caveats in the documentation: https://pandas.pydata.org/pandas-docs/stable/user_guide/indexing.html#returning-a-view-versus-a-copy\n",
      "  X2_train.rename(columns={col: 'y'}, inplace=True)\n",
      "15:28:49 - cmdstanpy - INFO - Chain [1] start processing\n",
      "15:28:49 - cmdstanpy - INFO - Chain [1] done processing\n",
      "C:\\Users\\jonas\\AppData\\Local\\Temp\\ipykernel_16056\\1548965453.py:164: SettingWithCopyWarning: \n",
      "A value is trying to be set on a copy of a slice from a DataFrame\n",
      "\n",
      "See the caveats in the documentation: https://pandas.pydata.org/pandas-docs/stable/user_guide/indexing.html#returning-a-view-versus-a-copy\n",
      "  X2_train.rename(columns={col: 'y'}, inplace=True)\n",
      "15:28:49 - cmdstanpy - INFO - Chain [1] start processing\n",
      "15:28:49 - cmdstanpy - INFO - Chain [1] done processing\n",
      "C:\\Users\\jonas\\AppData\\Local\\Temp\\ipykernel_16056\\1548965453.py:164: SettingWithCopyWarning: \n",
      "A value is trying to be set on a copy of a slice from a DataFrame\n",
      "\n",
      "See the caveats in the documentation: https://pandas.pydata.org/pandas-docs/stable/user_guide/indexing.html#returning-a-view-versus-a-copy\n",
      "  X2_train.rename(columns={col: 'y'}, inplace=True)\n",
      "15:28:49 - cmdstanpy - INFO - Chain [1] start processing\n",
      "15:28:50 - cmdstanpy - INFO - Chain [1] done processing\n",
      "C:\\Users\\jonas\\AppData\\Local\\Temp\\ipykernel_16056\\1548965453.py:164: SettingWithCopyWarning: \n",
      "A value is trying to be set on a copy of a slice from a DataFrame\n",
      "\n",
      "See the caveats in the documentation: https://pandas.pydata.org/pandas-docs/stable/user_guide/indexing.html#returning-a-view-versus-a-copy\n",
      "  X2_train.rename(columns={col: 'y'}, inplace=True)\n",
      "15:28:50 - cmdstanpy - INFO - Chain [1] start processing\n",
      "15:28:50 - cmdstanpy - INFO - Chain [1] done processing\n",
      "C:\\Users\\jonas\\AppData\\Local\\Temp\\ipykernel_16056\\1548965453.py:164: SettingWithCopyWarning: \n",
      "A value is trying to be set on a copy of a slice from a DataFrame\n",
      "\n",
      "See the caveats in the documentation: https://pandas.pydata.org/pandas-docs/stable/user_guide/indexing.html#returning-a-view-versus-a-copy\n",
      "  X2_train.rename(columns={col: 'y'}, inplace=True)\n",
      "15:28:50 - cmdstanpy - INFO - Chain [1] start processing\n",
      "15:28:50 - cmdstanpy - INFO - Chain [1] done processing\n",
      "C:\\Users\\jonas\\AppData\\Local\\Temp\\ipykernel_16056\\1548965453.py:164: SettingWithCopyWarning: \n",
      "A value is trying to be set on a copy of a slice from a DataFrame\n",
      "\n",
      "See the caveats in the documentation: https://pandas.pydata.org/pandas-docs/stable/user_guide/indexing.html#returning-a-view-versus-a-copy\n",
      "  X2_train.rename(columns={col: 'y'}, inplace=True)\n",
      "15:28:50 - cmdstanpy - INFO - Chain [1] start processing\n",
      "15:28:50 - cmdstanpy - INFO - Chain [1] done processing\n",
      "C:\\Users\\jonas\\AppData\\Local\\Temp\\ipykernel_16056\\1548965453.py:164: SettingWithCopyWarning: \n",
      "A value is trying to be set on a copy of a slice from a DataFrame\n",
      "\n",
      "See the caveats in the documentation: https://pandas.pydata.org/pandas-docs/stable/user_guide/indexing.html#returning-a-view-versus-a-copy\n",
      "  X2_train.rename(columns={col: 'y'}, inplace=True)\n",
      "15:28:51 - cmdstanpy - INFO - Chain [1] start processing\n",
      "15:28:51 - cmdstanpy - INFO - Chain [1] done processing\n",
      "C:\\Users\\jonas\\AppData\\Local\\Temp\\ipykernel_16056\\1548965453.py:164: SettingWithCopyWarning: \n",
      "A value is trying to be set on a copy of a slice from a DataFrame\n",
      "\n",
      "See the caveats in the documentation: https://pandas.pydata.org/pandas-docs/stable/user_guide/indexing.html#returning-a-view-versus-a-copy\n",
      "  X2_train.rename(columns={col: 'y'}, inplace=True)\n",
      "15:28:51 - cmdstanpy - INFO - Chain [1] start processing\n",
      "15:28:51 - cmdstanpy - INFO - Chain [1] done processing\n",
      "C:\\Users\\jonas\\AppData\\Local\\Temp\\ipykernel_16056\\1548965453.py:164: SettingWithCopyWarning: \n",
      "A value is trying to be set on a copy of a slice from a DataFrame\n",
      "\n",
      "See the caveats in the documentation: https://pandas.pydata.org/pandas-docs/stable/user_guide/indexing.html#returning-a-view-versus-a-copy\n",
      "  X2_train.rename(columns={col: 'y'}, inplace=True)\n",
      "15:28:51 - cmdstanpy - INFO - Chain [1] start processing\n",
      "15:28:51 - cmdstanpy - INFO - Chain [1] done processing\n",
      "C:\\Users\\jonas\\AppData\\Local\\Temp\\ipykernel_16056\\1548965453.py:164: SettingWithCopyWarning: \n",
      "A value is trying to be set on a copy of a slice from a DataFrame\n",
      "\n",
      "See the caveats in the documentation: https://pandas.pydata.org/pandas-docs/stable/user_guide/indexing.html#returning-a-view-versus-a-copy\n",
      "  X2_train.rename(columns={col: 'y'}, inplace=True)\n",
      "15:28:51 - cmdstanpy - INFO - Chain [1] start processing\n",
      "15:28:52 - cmdstanpy - INFO - Chain [1] done processing\n",
      "C:\\Users\\jonas\\AppData\\Local\\Temp\\ipykernel_16056\\1548965453.py:164: SettingWithCopyWarning: \n",
      "A value is trying to be set on a copy of a slice from a DataFrame\n",
      "\n",
      "See the caveats in the documentation: https://pandas.pydata.org/pandas-docs/stable/user_guide/indexing.html#returning-a-view-versus-a-copy\n",
      "  X2_train.rename(columns={col: 'y'}, inplace=True)\n",
      "15:28:52 - cmdstanpy - INFO - Chain [1] start processing\n",
      "15:28:52 - cmdstanpy - INFO - Chain [1] done processing\n",
      "C:\\Users\\jonas\\AppData\\Local\\Temp\\ipykernel_16056\\1548965453.py:164: SettingWithCopyWarning: \n",
      "A value is trying to be set on a copy of a slice from a DataFrame\n",
      "\n",
      "See the caveats in the documentation: https://pandas.pydata.org/pandas-docs/stable/user_guide/indexing.html#returning-a-view-versus-a-copy\n",
      "  X2_train.rename(columns={col: 'y'}, inplace=True)\n",
      "15:28:52 - cmdstanpy - INFO - Chain [1] start processing\n",
      "15:28:52 - cmdstanpy - INFO - Chain [1] done processing\n",
      "C:\\Users\\jonas\\AppData\\Local\\Temp\\ipykernel_16056\\1548965453.py:164: SettingWithCopyWarning: \n",
      "A value is trying to be set on a copy of a slice from a DataFrame\n",
      "\n",
      "See the caveats in the documentation: https://pandas.pydata.org/pandas-docs/stable/user_guide/indexing.html#returning-a-view-versus-a-copy\n",
      "  X2_train.rename(columns={col: 'y'}, inplace=True)\n",
      "15:28:52 - cmdstanpy - INFO - Chain [1] start processing\n",
      "15:28:53 - cmdstanpy - INFO - Chain [1] done processing\n",
      "C:\\Users\\jonas\\AppData\\Local\\Temp\\ipykernel_16056\\1548965453.py:164: SettingWithCopyWarning: \n",
      "A value is trying to be set on a copy of a slice from a DataFrame\n",
      "\n",
      "See the caveats in the documentation: https://pandas.pydata.org/pandas-docs/stable/user_guide/indexing.html#returning-a-view-versus-a-copy\n",
      "  X2_train.rename(columns={col: 'y'}, inplace=True)\n",
      "15:28:53 - cmdstanpy - INFO - Chain [1] start processing\n",
      "15:28:53 - cmdstanpy - INFO - Chain [1] done processing\n",
      "C:\\Users\\jonas\\AppData\\Local\\Temp\\ipykernel_16056\\1548965453.py:164: SettingWithCopyWarning: \n",
      "A value is trying to be set on a copy of a slice from a DataFrame\n",
      "\n",
      "See the caveats in the documentation: https://pandas.pydata.org/pandas-docs/stable/user_guide/indexing.html#returning-a-view-versus-a-copy\n",
      "  X2_train.rename(columns={col: 'y'}, inplace=True)\n",
      "15:28:53 - cmdstanpy - INFO - Chain [1] start processing\n",
      "15:28:53 - cmdstanpy - INFO - Chain [1] done processing\n",
      "C:\\Users\\jonas\\AppData\\Local\\Temp\\ipykernel_16056\\1548965453.py:164: SettingWithCopyWarning: \n",
      "A value is trying to be set on a copy of a slice from a DataFrame\n",
      "\n",
      "See the caveats in the documentation: https://pandas.pydata.org/pandas-docs/stable/user_guide/indexing.html#returning-a-view-versus-a-copy\n",
      "  X2_train.rename(columns={col: 'y'}, inplace=True)\n",
      "15:28:53 - cmdstanpy - INFO - Chain [1] start processing\n",
      "15:28:53 - cmdstanpy - INFO - Chain [1] done processing\n",
      "C:\\Users\\jonas\\AppData\\Local\\Temp\\ipykernel_16056\\1548965453.py:164: SettingWithCopyWarning: \n",
      "A value is trying to be set on a copy of a slice from a DataFrame\n",
      "\n",
      "See the caveats in the documentation: https://pandas.pydata.org/pandas-docs/stable/user_guide/indexing.html#returning-a-view-versus-a-copy\n",
      "  X2_train.rename(columns={col: 'y'}, inplace=True)\n",
      "15:28:54 - cmdstanpy - INFO - Chain [1] start processing\n",
      "15:28:54 - cmdstanpy - INFO - Chain [1] done processing\n",
      "C:\\Users\\jonas\\AppData\\Local\\Temp\\ipykernel_16056\\1548965453.py:164: SettingWithCopyWarning: \n",
      "A value is trying to be set on a copy of a slice from a DataFrame\n",
      "\n",
      "See the caveats in the documentation: https://pandas.pydata.org/pandas-docs/stable/user_guide/indexing.html#returning-a-view-versus-a-copy\n",
      "  X2_train.rename(columns={col: 'y'}, inplace=True)\n",
      "15:28:54 - cmdstanpy - INFO - Chain [1] start processing\n",
      "15:28:54 - cmdstanpy - INFO - Chain [1] done processing\n",
      "C:\\Users\\jonas\\AppData\\Local\\Temp\\ipykernel_16056\\1548965453.py:164: SettingWithCopyWarning: \n",
      "A value is trying to be set on a copy of a slice from a DataFrame\n",
      "\n",
      "See the caveats in the documentation: https://pandas.pydata.org/pandas-docs/stable/user_guide/indexing.html#returning-a-view-versus-a-copy\n",
      "  X2_train.rename(columns={col: 'y'}, inplace=True)\n",
      "15:28:54 - cmdstanpy - INFO - Chain [1] start processing\n",
      "15:28:54 - cmdstanpy - INFO - Chain [1] done processing\n",
      "C:\\Users\\jonas\\AppData\\Local\\Temp\\ipykernel_16056\\1548965453.py:164: SettingWithCopyWarning: \n",
      "A value is trying to be set on a copy of a slice from a DataFrame\n",
      "\n",
      "See the caveats in the documentation: https://pandas.pydata.org/pandas-docs/stable/user_guide/indexing.html#returning-a-view-versus-a-copy\n",
      "  X2_train.rename(columns={col: 'y'}, inplace=True)\n",
      "15:28:55 - cmdstanpy - INFO - Chain [1] start processing\n",
      "15:28:55 - cmdstanpy - INFO - Chain [1] done processing\n",
      "C:\\Users\\jonas\\AppData\\Local\\Temp\\ipykernel_16056\\1548965453.py:164: SettingWithCopyWarning: \n",
      "A value is trying to be set on a copy of a slice from a DataFrame\n",
      "\n",
      "See the caveats in the documentation: https://pandas.pydata.org/pandas-docs/stable/user_guide/indexing.html#returning-a-view-versus-a-copy\n",
      "  X2_train.rename(columns={col: 'y'}, inplace=True)\n",
      "15:28:55 - cmdstanpy - INFO - Chain [1] start processing\n",
      "15:28:55 - cmdstanpy - INFO - Chain [1] done processing\n",
      "C:\\Users\\jonas\\AppData\\Local\\Temp\\ipykernel_16056\\1548965453.py:164: SettingWithCopyWarning: \n",
      "A value is trying to be set on a copy of a slice from a DataFrame\n",
      "\n",
      "See the caveats in the documentation: https://pandas.pydata.org/pandas-docs/stable/user_guide/indexing.html#returning-a-view-versus-a-copy\n",
      "  X2_train.rename(columns={col: 'y'}, inplace=True)\n",
      "15:28:55 - cmdstanpy - INFO - Chain [1] start processing\n",
      "15:28:55 - cmdstanpy - INFO - Chain [1] done processing\n",
      "C:\\Users\\jonas\\AppData\\Local\\Temp\\ipykernel_16056\\1548965453.py:164: SettingWithCopyWarning: \n",
      "A value is trying to be set on a copy of a slice from a DataFrame\n",
      "\n",
      "See the caveats in the documentation: https://pandas.pydata.org/pandas-docs/stable/user_guide/indexing.html#returning-a-view-versus-a-copy\n",
      "  X2_train.rename(columns={col: 'y'}, inplace=True)\n",
      "15:28:55 - cmdstanpy - INFO - Chain [1] start processing\n",
      "15:28:56 - cmdstanpy - INFO - Chain [1] done processing\n",
      "C:\\Users\\jonas\\AppData\\Local\\Temp\\ipykernel_16056\\1548965453.py:164: SettingWithCopyWarning: \n",
      "A value is trying to be set on a copy of a slice from a DataFrame\n",
      "\n",
      "See the caveats in the documentation: https://pandas.pydata.org/pandas-docs/stable/user_guide/indexing.html#returning-a-view-versus-a-copy\n",
      "  X2_train.rename(columns={col: 'y'}, inplace=True)\n",
      "15:28:56 - cmdstanpy - INFO - Chain [1] start processing\n",
      "15:28:56 - cmdstanpy - INFO - Chain [1] done processing\n",
      "C:\\Users\\jonas\\AppData\\Local\\Temp\\ipykernel_16056\\1548965453.py:164: SettingWithCopyWarning: \n",
      "A value is trying to be set on a copy of a slice from a DataFrame\n",
      "\n",
      "See the caveats in the documentation: https://pandas.pydata.org/pandas-docs/stable/user_guide/indexing.html#returning-a-view-versus-a-copy\n",
      "  X2_train.rename(columns={col: 'y'}, inplace=True)\n",
      "15:28:56 - cmdstanpy - INFO - Chain [1] start processing\n",
      "15:28:56 - cmdstanpy - INFO - Chain [1] done processing\n",
      "C:\\Users\\jonas\\AppData\\Local\\Temp\\ipykernel_16056\\1548965453.py:164: SettingWithCopyWarning: \n",
      "A value is trying to be set on a copy of a slice from a DataFrame\n",
      "\n",
      "See the caveats in the documentation: https://pandas.pydata.org/pandas-docs/stable/user_guide/indexing.html#returning-a-view-versus-a-copy\n",
      "  X2_train.rename(columns={col: 'y'}, inplace=True)\n",
      "15:28:56 - cmdstanpy - INFO - Chain [1] start processing\n",
      "15:28:57 - cmdstanpy - INFO - Chain [1] done processing\n",
      "C:\\Users\\jonas\\AppData\\Local\\Temp\\ipykernel_16056\\1548965453.py:164: SettingWithCopyWarning: \n",
      "A value is trying to be set on a copy of a slice from a DataFrame\n",
      "\n",
      "See the caveats in the documentation: https://pandas.pydata.org/pandas-docs/stable/user_guide/indexing.html#returning-a-view-versus-a-copy\n",
      "  X2_train.rename(columns={col: 'y'}, inplace=True)\n",
      "15:28:57 - cmdstanpy - INFO - Chain [1] start processing\n",
      "15:28:57 - cmdstanpy - INFO - Chain [1] done processing\n",
      "C:\\Users\\jonas\\AppData\\Local\\Temp\\ipykernel_16056\\1548965453.py:164: SettingWithCopyWarning: \n",
      "A value is trying to be set on a copy of a slice from a DataFrame\n",
      "\n",
      "See the caveats in the documentation: https://pandas.pydata.org/pandas-docs/stable/user_guide/indexing.html#returning-a-view-versus-a-copy\n",
      "  X2_train.rename(columns={col: 'y'}, inplace=True)\n",
      "15:28:57 - cmdstanpy - INFO - Chain [1] start processing\n",
      "15:28:57 - cmdstanpy - INFO - Chain [1] done processing\n",
      "C:\\Users\\jonas\\AppData\\Local\\Temp\\ipykernel_16056\\1548965453.py:164: SettingWithCopyWarning: \n",
      "A value is trying to be set on a copy of a slice from a DataFrame\n",
      "\n",
      "See the caveats in the documentation: https://pandas.pydata.org/pandas-docs/stable/user_guide/indexing.html#returning-a-view-versus-a-copy\n",
      "  X2_train.rename(columns={col: 'y'}, inplace=True)\n",
      "15:28:57 - cmdstanpy - INFO - Chain [1] start processing\n",
      "15:28:58 - cmdstanpy - INFO - Chain [1] done processing\n",
      "C:\\Users\\jonas\\AppData\\Local\\Temp\\ipykernel_16056\\1548965453.py:164: SettingWithCopyWarning: \n",
      "A value is trying to be set on a copy of a slice from a DataFrame\n",
      "\n",
      "See the caveats in the documentation: https://pandas.pydata.org/pandas-docs/stable/user_guide/indexing.html#returning-a-view-versus-a-copy\n",
      "  X2_train.rename(columns={col: 'y'}, inplace=True)\n",
      "15:28:58 - cmdstanpy - INFO - Chain [1] start processing\n",
      "15:28:58 - cmdstanpy - INFO - Chain [1] done processing\n",
      "C:\\Users\\jonas\\AppData\\Local\\Temp\\ipykernel_16056\\1548965453.py:164: SettingWithCopyWarning: \n",
      "A value is trying to be set on a copy of a slice from a DataFrame\n",
      "\n",
      "See the caveats in the documentation: https://pandas.pydata.org/pandas-docs/stable/user_guide/indexing.html#returning-a-view-versus-a-copy\n",
      "  X2_train.rename(columns={col: 'y'}, inplace=True)\n",
      "15:28:58 - cmdstanpy - INFO - Chain [1] start processing\n",
      "15:28:58 - cmdstanpy - INFO - Chain [1] done processing\n",
      "C:\\Users\\jonas\\AppData\\Local\\Temp\\ipykernel_16056\\1548965453.py:164: SettingWithCopyWarning: \n",
      "A value is trying to be set on a copy of a slice from a DataFrame\n",
      "\n",
      "See the caveats in the documentation: https://pandas.pydata.org/pandas-docs/stable/user_guide/indexing.html#returning-a-view-versus-a-copy\n",
      "  X2_train.rename(columns={col: 'y'}, inplace=True)\n",
      "15:28:58 - cmdstanpy - INFO - Chain [1] start processing\n",
      "15:28:58 - cmdstanpy - INFO - Chain [1] done processing\n",
      "C:\\Users\\jonas\\AppData\\Local\\Temp\\ipykernel_16056\\1548965453.py:164: SettingWithCopyWarning: \n",
      "A value is trying to be set on a copy of a slice from a DataFrame\n",
      "\n",
      "See the caveats in the documentation: https://pandas.pydata.org/pandas-docs/stable/user_guide/indexing.html#returning-a-view-versus-a-copy\n",
      "  X2_train.rename(columns={col: 'y'}, inplace=True)\n",
      "15:28:59 - cmdstanpy - INFO - Chain [1] start processing\n",
      "15:28:59 - cmdstanpy - INFO - Chain [1] done processing\n",
      "C:\\Users\\jonas\\AppData\\Local\\Temp\\ipykernel_16056\\1548965453.py:164: SettingWithCopyWarning: \n",
      "A value is trying to be set on a copy of a slice from a DataFrame\n",
      "\n",
      "See the caveats in the documentation: https://pandas.pydata.org/pandas-docs/stable/user_guide/indexing.html#returning-a-view-versus-a-copy\n",
      "  X2_train.rename(columns={col: 'y'}, inplace=True)\n",
      "15:28:59 - cmdstanpy - INFO - Chain [1] start processing\n",
      "15:29:00 - cmdstanpy - INFO - Chain [1] done processing\n",
      "C:\\Users\\jonas\\AppData\\Local\\Temp\\ipykernel_16056\\1548965453.py:164: SettingWithCopyWarning: \n",
      "A value is trying to be set on a copy of a slice from a DataFrame\n",
      "\n",
      "See the caveats in the documentation: https://pandas.pydata.org/pandas-docs/stable/user_guide/indexing.html#returning-a-view-versus-a-copy\n",
      "  X2_train.rename(columns={col: 'y'}, inplace=True)\n",
      "15:29:00 - cmdstanpy - INFO - Chain [1] start processing\n",
      "15:29:00 - cmdstanpy - INFO - Chain [1] done processing\n",
      "C:\\Users\\jonas\\AppData\\Local\\Temp\\ipykernel_16056\\1548965453.py:164: SettingWithCopyWarning: \n",
      "A value is trying to be set on a copy of a slice from a DataFrame\n",
      "\n",
      "See the caveats in the documentation: https://pandas.pydata.org/pandas-docs/stable/user_guide/indexing.html#returning-a-view-versus-a-copy\n",
      "  X2_train.rename(columns={col: 'y'}, inplace=True)\n",
      "15:29:00 - cmdstanpy - INFO - Chain [1] start processing\n",
      "15:29:00 - cmdstanpy - INFO - Chain [1] done processing\n",
      "C:\\Users\\jonas\\AppData\\Local\\Temp\\ipykernel_16056\\1548965453.py:164: SettingWithCopyWarning: \n",
      "A value is trying to be set on a copy of a slice from a DataFrame\n",
      "\n",
      "See the caveats in the documentation: https://pandas.pydata.org/pandas-docs/stable/user_guide/indexing.html#returning-a-view-versus-a-copy\n",
      "  X2_train.rename(columns={col: 'y'}, inplace=True)\n",
      "15:29:00 - cmdstanpy - INFO - Chain [1] start processing\n",
      "15:29:01 - cmdstanpy - INFO - Chain [1] done processing\n",
      "C:\\Users\\jonas\\AppData\\Local\\Temp\\ipykernel_16056\\1548965453.py:164: SettingWithCopyWarning: \n",
      "A value is trying to be set on a copy of a slice from a DataFrame\n",
      "\n",
      "See the caveats in the documentation: https://pandas.pydata.org/pandas-docs/stable/user_guide/indexing.html#returning-a-view-versus-a-copy\n",
      "  X2_train.rename(columns={col: 'y'}, inplace=True)\n",
      "15:29:01 - cmdstanpy - INFO - Chain [1] start processing\n",
      "15:29:01 - cmdstanpy - INFO - Chain [1] done processing\n",
      "C:\\Users\\jonas\\AppData\\Local\\Temp\\ipykernel_16056\\1548965453.py:164: SettingWithCopyWarning: \n",
      "A value is trying to be set on a copy of a slice from a DataFrame\n",
      "\n",
      "See the caveats in the documentation: https://pandas.pydata.org/pandas-docs/stable/user_guide/indexing.html#returning-a-view-versus-a-copy\n",
      "  X2_train.rename(columns={col: 'y'}, inplace=True)\n",
      "15:29:01 - cmdstanpy - INFO - Chain [1] start processing\n",
      "15:29:01 - cmdstanpy - INFO - Chain [1] done processing\n",
      "C:\\Users\\jonas\\AppData\\Local\\Temp\\ipykernel_16056\\1548965453.py:164: SettingWithCopyWarning: \n",
      "A value is trying to be set on a copy of a slice from a DataFrame\n",
      "\n",
      "See the caveats in the documentation: https://pandas.pydata.org/pandas-docs/stable/user_guide/indexing.html#returning-a-view-versus-a-copy\n",
      "  X2_train.rename(columns={col: 'y'}, inplace=True)\n",
      "15:29:01 - cmdstanpy - INFO - Chain [1] start processing\n",
      "15:29:02 - cmdstanpy - INFO - Chain [1] done processing\n",
      "C:\\Users\\jonas\\AppData\\Local\\Temp\\ipykernel_16056\\1548965453.py:164: SettingWithCopyWarning: \n",
      "A value is trying to be set on a copy of a slice from a DataFrame\n",
      "\n",
      "See the caveats in the documentation: https://pandas.pydata.org/pandas-docs/stable/user_guide/indexing.html#returning-a-view-versus-a-copy\n",
      "  X2_train.rename(columns={col: 'y'}, inplace=True)\n",
      "15:29:02 - cmdstanpy - INFO - Chain [1] start processing\n",
      "15:29:02 - cmdstanpy - INFO - Chain [1] done processing\n",
      "C:\\Users\\jonas\\AppData\\Local\\Temp\\ipykernel_16056\\1548965453.py:164: SettingWithCopyWarning: \n",
      "A value is trying to be set on a copy of a slice from a DataFrame\n",
      "\n",
      "See the caveats in the documentation: https://pandas.pydata.org/pandas-docs/stable/user_guide/indexing.html#returning-a-view-versus-a-copy\n",
      "  X2_train.rename(columns={col: 'y'}, inplace=True)\n",
      "15:29:02 - cmdstanpy - INFO - Chain [1] start processing\n",
      "15:29:02 - cmdstanpy - INFO - Chain [1] done processing\n",
      "C:\\Users\\jonas\\AppData\\Local\\Temp\\ipykernel_16056\\1548965453.py:164: SettingWithCopyWarning: \n",
      "A value is trying to be set on a copy of a slice from a DataFrame\n",
      "\n",
      "See the caveats in the documentation: https://pandas.pydata.org/pandas-docs/stable/user_guide/indexing.html#returning-a-view-versus-a-copy\n",
      "  X2_train.rename(columns={col: 'y'}, inplace=True)\n",
      "15:29:02 - cmdstanpy - INFO - Chain [1] start processing\n",
      "15:29:02 - cmdstanpy - INFO - Chain [1] done processing\n",
      "C:\\Users\\jonas\\AppData\\Local\\Temp\\ipykernel_16056\\1548965453.py:164: SettingWithCopyWarning: \n",
      "A value is trying to be set on a copy of a slice from a DataFrame\n",
      "\n",
      "See the caveats in the documentation: https://pandas.pydata.org/pandas-docs/stable/user_guide/indexing.html#returning-a-view-versus-a-copy\n",
      "  X2_train.rename(columns={col: 'y'}, inplace=True)\n",
      "15:29:03 - cmdstanpy - INFO - Chain [1] start processing\n",
      "15:29:03 - cmdstanpy - INFO - Chain [1] done processing\n",
      "C:\\Users\\jonas\\AppData\\Local\\Temp\\ipykernel_16056\\1548965453.py:164: SettingWithCopyWarning: \n",
      "A value is trying to be set on a copy of a slice from a DataFrame\n",
      "\n",
      "See the caveats in the documentation: https://pandas.pydata.org/pandas-docs/stable/user_guide/indexing.html#returning-a-view-versus-a-copy\n",
      "  X2_train.rename(columns={col: 'y'}, inplace=True)\n",
      "15:29:03 - cmdstanpy - INFO - Chain [1] start processing\n",
      "15:29:03 - cmdstanpy - INFO - Chain [1] done processing\n",
      "C:\\Users\\jonas\\AppData\\Local\\Temp\\ipykernel_16056\\1548965453.py:164: SettingWithCopyWarning: \n",
      "A value is trying to be set on a copy of a slice from a DataFrame\n",
      "\n",
      "See the caveats in the documentation: https://pandas.pydata.org/pandas-docs/stable/user_guide/indexing.html#returning-a-view-versus-a-copy\n",
      "  X2_train.rename(columns={col: 'y'}, inplace=True)\n",
      "15:29:03 - cmdstanpy - INFO - Chain [1] start processing\n",
      "15:29:03 - cmdstanpy - INFO - Chain [1] done processing\n",
      "C:\\Users\\jonas\\AppData\\Local\\Temp\\ipykernel_16056\\1548965453.py:164: SettingWithCopyWarning: \n",
      "A value is trying to be set on a copy of a slice from a DataFrame\n",
      "\n",
      "See the caveats in the documentation: https://pandas.pydata.org/pandas-docs/stable/user_guide/indexing.html#returning-a-view-versus-a-copy\n",
      "  X2_train.rename(columns={col: 'y'}, inplace=True)\n",
      "15:29:03 - cmdstanpy - INFO - Chain [1] start processing\n",
      "15:29:03 - cmdstanpy - INFO - Chain [1] done processing\n",
      "C:\\Users\\jonas\\AppData\\Local\\Temp\\ipykernel_16056\\1548965453.py:164: SettingWithCopyWarning: \n",
      "A value is trying to be set on a copy of a slice from a DataFrame\n",
      "\n",
      "See the caveats in the documentation: https://pandas.pydata.org/pandas-docs/stable/user_guide/indexing.html#returning-a-view-versus-a-copy\n",
      "  X2_train.rename(columns={col: 'y'}, inplace=True)\n",
      "15:29:04 - cmdstanpy - INFO - Chain [1] start processing\n",
      "15:29:04 - cmdstanpy - INFO - Chain [1] done processing\n",
      "C:\\Users\\jonas\\AppData\\Local\\Temp\\ipykernel_16056\\1548965453.py:164: SettingWithCopyWarning: \n",
      "A value is trying to be set on a copy of a slice from a DataFrame\n",
      "\n",
      "See the caveats in the documentation: https://pandas.pydata.org/pandas-docs/stable/user_guide/indexing.html#returning-a-view-versus-a-copy\n",
      "  X2_train.rename(columns={col: 'y'}, inplace=True)\n",
      "15:29:04 - cmdstanpy - INFO - Chain [1] start processing\n",
      "15:29:04 - cmdstanpy - INFO - Chain [1] done processing\n",
      "C:\\Users\\jonas\\AppData\\Local\\Temp\\ipykernel_16056\\1548965453.py:164: SettingWithCopyWarning: \n",
      "A value is trying to be set on a copy of a slice from a DataFrame\n",
      "\n",
      "See the caveats in the documentation: https://pandas.pydata.org/pandas-docs/stable/user_guide/indexing.html#returning-a-view-versus-a-copy\n",
      "  X2_train.rename(columns={col: 'y'}, inplace=True)\n",
      "15:29:04 - cmdstanpy - INFO - Chain [1] start processing\n",
      "15:29:04 - cmdstanpy - INFO - Chain [1] done processing\n",
      "C:\\Users\\jonas\\AppData\\Local\\Temp\\ipykernel_16056\\1548965453.py:164: SettingWithCopyWarning: \n",
      "A value is trying to be set on a copy of a slice from a DataFrame\n",
      "\n",
      "See the caveats in the documentation: https://pandas.pydata.org/pandas-docs/stable/user_guide/indexing.html#returning-a-view-versus-a-copy\n",
      "  X2_train.rename(columns={col: 'y'}, inplace=True)\n",
      "15:29:04 - cmdstanpy - INFO - Chain [1] start processing\n",
      "15:29:05 - cmdstanpy - INFO - Chain [1] done processing\n",
      "C:\\Users\\jonas\\AppData\\Local\\Temp\\ipykernel_16056\\1548965453.py:164: SettingWithCopyWarning: \n",
      "A value is trying to be set on a copy of a slice from a DataFrame\n",
      "\n",
      "See the caveats in the documentation: https://pandas.pydata.org/pandas-docs/stable/user_guide/indexing.html#returning-a-view-versus-a-copy\n",
      "  X2_train.rename(columns={col: 'y'}, inplace=True)\n",
      "15:29:05 - cmdstanpy - INFO - Chain [1] start processing\n",
      "15:29:05 - cmdstanpy - INFO - Chain [1] done processing\n",
      "C:\\Users\\jonas\\AppData\\Local\\Temp\\ipykernel_16056\\1548965453.py:164: SettingWithCopyWarning: \n",
      "A value is trying to be set on a copy of a slice from a DataFrame\n",
      "\n",
      "See the caveats in the documentation: https://pandas.pydata.org/pandas-docs/stable/user_guide/indexing.html#returning-a-view-versus-a-copy\n",
      "  X2_train.rename(columns={col: 'y'}, inplace=True)\n",
      "15:29:05 - cmdstanpy - INFO - Chain [1] start processing\n",
      "15:29:05 - cmdstanpy - INFO - Chain [1] done processing\n",
      "C:\\Users\\jonas\\AppData\\Local\\Temp\\ipykernel_16056\\1548965453.py:164: SettingWithCopyWarning: \n",
      "A value is trying to be set on a copy of a slice from a DataFrame\n",
      "\n",
      "See the caveats in the documentation: https://pandas.pydata.org/pandas-docs/stable/user_guide/indexing.html#returning-a-view-versus-a-copy\n",
      "  X2_train.rename(columns={col: 'y'}, inplace=True)\n",
      "15:29:06 - cmdstanpy - INFO - Chain [1] start processing\n",
      "15:29:06 - cmdstanpy - INFO - Chain [1] done processing\n",
      "C:\\Users\\jonas\\AppData\\Local\\Temp\\ipykernel_16056\\1548965453.py:164: SettingWithCopyWarning: \n",
      "A value is trying to be set on a copy of a slice from a DataFrame\n",
      "\n",
      "See the caveats in the documentation: https://pandas.pydata.org/pandas-docs/stable/user_guide/indexing.html#returning-a-view-versus-a-copy\n",
      "  X2_train.rename(columns={col: 'y'}, inplace=True)\n",
      "15:29:06 - cmdstanpy - INFO - Chain [1] start processing\n",
      "15:29:06 - cmdstanpy - INFO - Chain [1] done processing\n",
      "C:\\Users\\jonas\\AppData\\Local\\Temp\\ipykernel_16056\\1548965453.py:164: SettingWithCopyWarning: \n",
      "A value is trying to be set on a copy of a slice from a DataFrame\n",
      "\n",
      "See the caveats in the documentation: https://pandas.pydata.org/pandas-docs/stable/user_guide/indexing.html#returning-a-view-versus-a-copy\n",
      "  X2_train.rename(columns={col: 'y'}, inplace=True)\n",
      "15:29:06 - cmdstanpy - INFO - Chain [1] start processing\n",
      "15:29:06 - cmdstanpy - INFO - Chain [1] done processing\n",
      "C:\\Users\\jonas\\AppData\\Local\\Temp\\ipykernel_16056\\1548965453.py:164: SettingWithCopyWarning: \n",
      "A value is trying to be set on a copy of a slice from a DataFrame\n",
      "\n",
      "See the caveats in the documentation: https://pandas.pydata.org/pandas-docs/stable/user_guide/indexing.html#returning-a-view-versus-a-copy\n",
      "  X2_train.rename(columns={col: 'y'}, inplace=True)\n",
      "15:29:06 - cmdstanpy - INFO - Chain [1] start processing\n",
      "15:29:07 - cmdstanpy - INFO - Chain [1] done processing\n",
      "C:\\Users\\jonas\\AppData\\Local\\Temp\\ipykernel_16056\\1548965453.py:171: SettingWithCopyWarning: \n",
      "A value is trying to be set on a copy of a slice from a DataFrame.\n",
      "Try using .loc[row_indexer,col_indexer] = value instead\n",
      "\n",
      "See the caveats in the documentation: https://pandas.pydata.org/pandas-docs/stable/user_guide/indexing.html#returning-a-view-versus-a-copy\n",
      "  new_df['y'] = y_train.tail(len(new_df))\n",
      "15:29:07 - cmdstanpy - INFO - Chain [1] start processing\n",
      "15:29:19 - cmdstanpy - INFO - Chain [1] done processing\n",
      "C:\\Users\\jonas\\AppData\\Local\\Temp\\ipykernel_16056\\1548965453.py:127: SettingWithCopyWarning: \n",
      "A value is trying to be set on a copy of a slice from a DataFrame\n",
      "\n",
      "See the caveats in the documentation: https://pandas.pydata.org/pandas-docs/stable/user_guide/indexing.html#returning-a-view-versus-a-copy\n",
      "  dataE.drop('ds', axis=1, inplace=True)\n",
      "C:\\Users\\jonas\\AppData\\Local\\Temp\\ipykernel_16056\\1548965453.py:164: SettingWithCopyWarning: \n",
      "A value is trying to be set on a copy of a slice from a DataFrame\n",
      "\n",
      "See the caveats in the documentation: https://pandas.pydata.org/pandas-docs/stable/user_guide/indexing.html#returning-a-view-versus-a-copy\n",
      "  X2_train.rename(columns={col: 'y'}, inplace=True)\n",
      "15:29:38 - cmdstanpy - INFO - Chain [1] start processing\n",
      "15:29:38 - cmdstanpy - INFO - Chain [1] done processing\n",
      "C:\\Users\\jonas\\AppData\\Local\\Temp\\ipykernel_16056\\1548965453.py:164: SettingWithCopyWarning: \n",
      "A value is trying to be set on a copy of a slice from a DataFrame\n",
      "\n",
      "See the caveats in the documentation: https://pandas.pydata.org/pandas-docs/stable/user_guide/indexing.html#returning-a-view-versus-a-copy\n",
      "  X2_train.rename(columns={col: 'y'}, inplace=True)\n",
      "15:29:38 - cmdstanpy - INFO - Chain [1] start processing\n",
      "15:29:38 - cmdstanpy - INFO - Chain [1] done processing\n",
      "C:\\Users\\jonas\\AppData\\Local\\Temp\\ipykernel_16056\\1548965453.py:164: SettingWithCopyWarning: \n",
      "A value is trying to be set on a copy of a slice from a DataFrame\n",
      "\n",
      "See the caveats in the documentation: https://pandas.pydata.org/pandas-docs/stable/user_guide/indexing.html#returning-a-view-versus-a-copy\n",
      "  X2_train.rename(columns={col: 'y'}, inplace=True)\n",
      "15:29:38 - cmdstanpy - INFO - Chain [1] start processing\n",
      "15:29:38 - cmdstanpy - INFO - Chain [1] done processing\n",
      "C:\\Users\\jonas\\AppData\\Local\\Temp\\ipykernel_16056\\1548965453.py:164: SettingWithCopyWarning: \n",
      "A value is trying to be set on a copy of a slice from a DataFrame\n",
      "\n",
      "See the caveats in the documentation: https://pandas.pydata.org/pandas-docs/stable/user_guide/indexing.html#returning-a-view-versus-a-copy\n",
      "  X2_train.rename(columns={col: 'y'}, inplace=True)\n",
      "15:29:39 - cmdstanpy - INFO - Chain [1] start processing\n",
      "15:29:39 - cmdstanpy - INFO - Chain [1] done processing\n",
      "C:\\Users\\jonas\\AppData\\Local\\Temp\\ipykernel_16056\\1548965453.py:164: SettingWithCopyWarning: \n",
      "A value is trying to be set on a copy of a slice from a DataFrame\n",
      "\n",
      "See the caveats in the documentation: https://pandas.pydata.org/pandas-docs/stable/user_guide/indexing.html#returning-a-view-versus-a-copy\n",
      "  X2_train.rename(columns={col: 'y'}, inplace=True)\n",
      "15:29:39 - cmdstanpy - INFO - Chain [1] start processing\n",
      "15:29:39 - cmdstanpy - INFO - Chain [1] done processing\n",
      "C:\\Users\\jonas\\AppData\\Local\\Temp\\ipykernel_16056\\1548965453.py:164: SettingWithCopyWarning: \n",
      "A value is trying to be set on a copy of a slice from a DataFrame\n",
      "\n",
      "See the caveats in the documentation: https://pandas.pydata.org/pandas-docs/stable/user_guide/indexing.html#returning-a-view-versus-a-copy\n",
      "  X2_train.rename(columns={col: 'y'}, inplace=True)\n",
      "15:29:39 - cmdstanpy - INFO - Chain [1] start processing\n",
      "15:29:40 - cmdstanpy - INFO - Chain [1] done processing\n",
      "C:\\Users\\jonas\\AppData\\Local\\Temp\\ipykernel_16056\\1548965453.py:164: SettingWithCopyWarning: \n",
      "A value is trying to be set on a copy of a slice from a DataFrame\n",
      "\n",
      "See the caveats in the documentation: https://pandas.pydata.org/pandas-docs/stable/user_guide/indexing.html#returning-a-view-versus-a-copy\n",
      "  X2_train.rename(columns={col: 'y'}, inplace=True)\n",
      "15:29:40 - cmdstanpy - INFO - Chain [1] start processing\n",
      "15:29:40 - cmdstanpy - INFO - Chain [1] done processing\n",
      "C:\\Users\\jonas\\AppData\\Local\\Temp\\ipykernel_16056\\1548965453.py:164: SettingWithCopyWarning: \n",
      "A value is trying to be set on a copy of a slice from a DataFrame\n",
      "\n",
      "See the caveats in the documentation: https://pandas.pydata.org/pandas-docs/stable/user_guide/indexing.html#returning-a-view-versus-a-copy\n",
      "  X2_train.rename(columns={col: 'y'}, inplace=True)\n",
      "15:29:40 - cmdstanpy - INFO - Chain [1] start processing\n",
      "15:29:40 - cmdstanpy - INFO - Chain [1] done processing\n",
      "C:\\Users\\jonas\\AppData\\Local\\Temp\\ipykernel_16056\\1548965453.py:164: SettingWithCopyWarning: \n",
      "A value is trying to be set on a copy of a slice from a DataFrame\n",
      "\n",
      "See the caveats in the documentation: https://pandas.pydata.org/pandas-docs/stable/user_guide/indexing.html#returning-a-view-versus-a-copy\n",
      "  X2_train.rename(columns={col: 'y'}, inplace=True)\n",
      "15:29:40 - cmdstanpy - INFO - Chain [1] start processing\n",
      "15:29:40 - cmdstanpy - INFO - Chain [1] done processing\n",
      "C:\\Users\\jonas\\AppData\\Local\\Temp\\ipykernel_16056\\1548965453.py:164: SettingWithCopyWarning: \n",
      "A value is trying to be set on a copy of a slice from a DataFrame\n",
      "\n",
      "See the caveats in the documentation: https://pandas.pydata.org/pandas-docs/stable/user_guide/indexing.html#returning-a-view-versus-a-copy\n",
      "  X2_train.rename(columns={col: 'y'}, inplace=True)\n",
      "15:29:40 - cmdstanpy - INFO - Chain [1] start processing\n",
      "15:29:41 - cmdstanpy - INFO - Chain [1] done processing\n",
      "C:\\Users\\jonas\\AppData\\Local\\Temp\\ipykernel_16056\\1548965453.py:164: SettingWithCopyWarning: \n",
      "A value is trying to be set on a copy of a slice from a DataFrame\n",
      "\n",
      "See the caveats in the documentation: https://pandas.pydata.org/pandas-docs/stable/user_guide/indexing.html#returning-a-view-versus-a-copy\n",
      "  X2_train.rename(columns={col: 'y'}, inplace=True)\n",
      "15:29:41 - cmdstanpy - INFO - Chain [1] start processing\n",
      "15:29:41 - cmdstanpy - INFO - Chain [1] done processing\n",
      "C:\\Users\\jonas\\AppData\\Local\\Temp\\ipykernel_16056\\1548965453.py:164: SettingWithCopyWarning: \n",
      "A value is trying to be set on a copy of a slice from a DataFrame\n",
      "\n",
      "See the caveats in the documentation: https://pandas.pydata.org/pandas-docs/stable/user_guide/indexing.html#returning-a-view-versus-a-copy\n",
      "  X2_train.rename(columns={col: 'y'}, inplace=True)\n",
      "15:29:41 - cmdstanpy - INFO - Chain [1] start processing\n",
      "15:29:41 - cmdstanpy - INFO - Chain [1] done processing\n",
      "C:\\Users\\jonas\\AppData\\Local\\Temp\\ipykernel_16056\\1548965453.py:164: SettingWithCopyWarning: \n",
      "A value is trying to be set on a copy of a slice from a DataFrame\n",
      "\n",
      "See the caveats in the documentation: https://pandas.pydata.org/pandas-docs/stable/user_guide/indexing.html#returning-a-view-versus-a-copy\n",
      "  X2_train.rename(columns={col: 'y'}, inplace=True)\n",
      "15:29:41 - cmdstanpy - INFO - Chain [1] start processing\n",
      "15:29:41 - cmdstanpy - INFO - Chain [1] done processing\n",
      "C:\\Users\\jonas\\AppData\\Local\\Temp\\ipykernel_16056\\1548965453.py:164: SettingWithCopyWarning: \n",
      "A value is trying to be set on a copy of a slice from a DataFrame\n",
      "\n",
      "See the caveats in the documentation: https://pandas.pydata.org/pandas-docs/stable/user_guide/indexing.html#returning-a-view-versus-a-copy\n",
      "  X2_train.rename(columns={col: 'y'}, inplace=True)\n",
      "15:29:41 - cmdstanpy - INFO - Chain [1] start processing\n",
      "15:29:42 - cmdstanpy - INFO - Chain [1] done processing\n",
      "C:\\Users\\jonas\\AppData\\Local\\Temp\\ipykernel_16056\\1548965453.py:164: SettingWithCopyWarning: \n",
      "A value is trying to be set on a copy of a slice from a DataFrame\n",
      "\n",
      "See the caveats in the documentation: https://pandas.pydata.org/pandas-docs/stable/user_guide/indexing.html#returning-a-view-versus-a-copy\n",
      "  X2_train.rename(columns={col: 'y'}, inplace=True)\n",
      "15:29:42 - cmdstanpy - INFO - Chain [1] start processing\n",
      "15:29:42 - cmdstanpy - INFO - Chain [1] done processing\n",
      "C:\\Users\\jonas\\AppData\\Local\\Temp\\ipykernel_16056\\1548965453.py:164: SettingWithCopyWarning: \n",
      "A value is trying to be set on a copy of a slice from a DataFrame\n",
      "\n",
      "See the caveats in the documentation: https://pandas.pydata.org/pandas-docs/stable/user_guide/indexing.html#returning-a-view-versus-a-copy\n",
      "  X2_train.rename(columns={col: 'y'}, inplace=True)\n",
      "15:29:42 - cmdstanpy - INFO - Chain [1] start processing\n",
      "15:29:42 - cmdstanpy - INFO - Chain [1] done processing\n",
      "C:\\Users\\jonas\\AppData\\Local\\Temp\\ipykernel_16056\\1548965453.py:164: SettingWithCopyWarning: \n",
      "A value is trying to be set on a copy of a slice from a DataFrame\n",
      "\n",
      "See the caveats in the documentation: https://pandas.pydata.org/pandas-docs/stable/user_guide/indexing.html#returning-a-view-versus-a-copy\n",
      "  X2_train.rename(columns={col: 'y'}, inplace=True)\n",
      "15:29:43 - cmdstanpy - INFO - Chain [1] start processing\n",
      "15:29:43 - cmdstanpy - INFO - Chain [1] done processing\n",
      "C:\\Users\\jonas\\AppData\\Local\\Temp\\ipykernel_16056\\1548965453.py:164: SettingWithCopyWarning: \n",
      "A value is trying to be set on a copy of a slice from a DataFrame\n",
      "\n",
      "See the caveats in the documentation: https://pandas.pydata.org/pandas-docs/stable/user_guide/indexing.html#returning-a-view-versus-a-copy\n",
      "  X2_train.rename(columns={col: 'y'}, inplace=True)\n",
      "15:29:43 - cmdstanpy - INFO - Chain [1] start processing\n",
      "15:29:43 - cmdstanpy - INFO - Chain [1] done processing\n",
      "C:\\Users\\jonas\\AppData\\Local\\Temp\\ipykernel_16056\\1548965453.py:164: SettingWithCopyWarning: \n",
      "A value is trying to be set on a copy of a slice from a DataFrame\n",
      "\n",
      "See the caveats in the documentation: https://pandas.pydata.org/pandas-docs/stable/user_guide/indexing.html#returning-a-view-versus-a-copy\n",
      "  X2_train.rename(columns={col: 'y'}, inplace=True)\n",
      "15:29:43 - cmdstanpy - INFO - Chain [1] start processing\n",
      "15:29:43 - cmdstanpy - INFO - Chain [1] done processing\n",
      "C:\\Users\\jonas\\AppData\\Local\\Temp\\ipykernel_16056\\1548965453.py:164: SettingWithCopyWarning: \n",
      "A value is trying to be set on a copy of a slice from a DataFrame\n",
      "\n",
      "See the caveats in the documentation: https://pandas.pydata.org/pandas-docs/stable/user_guide/indexing.html#returning-a-view-versus-a-copy\n",
      "  X2_train.rename(columns={col: 'y'}, inplace=True)\n",
      "15:29:43 - cmdstanpy - INFO - Chain [1] start processing\n",
      "15:29:44 - cmdstanpy - INFO - Chain [1] done processing\n",
      "C:\\Users\\jonas\\AppData\\Local\\Temp\\ipykernel_16056\\1548965453.py:164: SettingWithCopyWarning: \n",
      "A value is trying to be set on a copy of a slice from a DataFrame\n",
      "\n",
      "See the caveats in the documentation: https://pandas.pydata.org/pandas-docs/stable/user_guide/indexing.html#returning-a-view-versus-a-copy\n",
      "  X2_train.rename(columns={col: 'y'}, inplace=True)\n",
      "15:29:44 - cmdstanpy - INFO - Chain [1] start processing\n",
      "15:29:44 - cmdstanpy - INFO - Chain [1] done processing\n",
      "C:\\Users\\jonas\\AppData\\Local\\Temp\\ipykernel_16056\\1548965453.py:164: SettingWithCopyWarning: \n",
      "A value is trying to be set on a copy of a slice from a DataFrame\n",
      "\n",
      "See the caveats in the documentation: https://pandas.pydata.org/pandas-docs/stable/user_guide/indexing.html#returning-a-view-versus-a-copy\n",
      "  X2_train.rename(columns={col: 'y'}, inplace=True)\n",
      "15:29:44 - cmdstanpy - INFO - Chain [1] start processing\n",
      "15:29:44 - cmdstanpy - INFO - Chain [1] done processing\n",
      "C:\\Users\\jonas\\AppData\\Local\\Temp\\ipykernel_16056\\1548965453.py:164: SettingWithCopyWarning: \n",
      "A value is trying to be set on a copy of a slice from a DataFrame\n",
      "\n",
      "See the caveats in the documentation: https://pandas.pydata.org/pandas-docs/stable/user_guide/indexing.html#returning-a-view-versus-a-copy\n",
      "  X2_train.rename(columns={col: 'y'}, inplace=True)\n",
      "15:29:44 - cmdstanpy - INFO - Chain [1] start processing\n",
      "15:29:44 - cmdstanpy - INFO - Chain [1] done processing\n",
      "C:\\Users\\jonas\\AppData\\Local\\Temp\\ipykernel_16056\\1548965453.py:164: SettingWithCopyWarning: \n",
      "A value is trying to be set on a copy of a slice from a DataFrame\n",
      "\n",
      "See the caveats in the documentation: https://pandas.pydata.org/pandas-docs/stable/user_guide/indexing.html#returning-a-view-versus-a-copy\n",
      "  X2_train.rename(columns={col: 'y'}, inplace=True)\n",
      "15:29:45 - cmdstanpy - INFO - Chain [1] start processing\n",
      "15:29:45 - cmdstanpy - INFO - Chain [1] done processing\n",
      "C:\\Users\\jonas\\AppData\\Local\\Temp\\ipykernel_16056\\1548965453.py:164: SettingWithCopyWarning: \n",
      "A value is trying to be set on a copy of a slice from a DataFrame\n",
      "\n",
      "See the caveats in the documentation: https://pandas.pydata.org/pandas-docs/stable/user_guide/indexing.html#returning-a-view-versus-a-copy\n",
      "  X2_train.rename(columns={col: 'y'}, inplace=True)\n",
      "15:29:45 - cmdstanpy - INFO - Chain [1] start processing\n",
      "15:29:45 - cmdstanpy - INFO - Chain [1] done processing\n",
      "C:\\Users\\jonas\\AppData\\Local\\Temp\\ipykernel_16056\\1548965453.py:164: SettingWithCopyWarning: \n",
      "A value is trying to be set on a copy of a slice from a DataFrame\n",
      "\n",
      "See the caveats in the documentation: https://pandas.pydata.org/pandas-docs/stable/user_guide/indexing.html#returning-a-view-versus-a-copy\n",
      "  X2_train.rename(columns={col: 'y'}, inplace=True)\n",
      "15:29:45 - cmdstanpy - INFO - Chain [1] start processing\n",
      "15:29:45 - cmdstanpy - INFO - Chain [1] done processing\n",
      "C:\\Users\\jonas\\AppData\\Local\\Temp\\ipykernel_16056\\1548965453.py:164: SettingWithCopyWarning: \n",
      "A value is trying to be set on a copy of a slice from a DataFrame\n",
      "\n",
      "See the caveats in the documentation: https://pandas.pydata.org/pandas-docs/stable/user_guide/indexing.html#returning-a-view-versus-a-copy\n",
      "  X2_train.rename(columns={col: 'y'}, inplace=True)\n",
      "15:29:45 - cmdstanpy - INFO - Chain [1] start processing\n",
      "15:29:46 - cmdstanpy - INFO - Chain [1] done processing\n",
      "C:\\Users\\jonas\\AppData\\Local\\Temp\\ipykernel_16056\\1548965453.py:164: SettingWithCopyWarning: \n",
      "A value is trying to be set on a copy of a slice from a DataFrame\n",
      "\n",
      "See the caveats in the documentation: https://pandas.pydata.org/pandas-docs/stable/user_guide/indexing.html#returning-a-view-versus-a-copy\n",
      "  X2_train.rename(columns={col: 'y'}, inplace=True)\n",
      "15:29:46 - cmdstanpy - INFO - Chain [1] start processing\n",
      "15:29:46 - cmdstanpy - INFO - Chain [1] done processing\n",
      "C:\\Users\\jonas\\AppData\\Local\\Temp\\ipykernel_16056\\1548965453.py:164: SettingWithCopyWarning: \n",
      "A value is trying to be set on a copy of a slice from a DataFrame\n",
      "\n",
      "See the caveats in the documentation: https://pandas.pydata.org/pandas-docs/stable/user_guide/indexing.html#returning-a-view-versus-a-copy\n",
      "  X2_train.rename(columns={col: 'y'}, inplace=True)\n",
      "15:29:46 - cmdstanpy - INFO - Chain [1] start processing\n",
      "15:29:47 - cmdstanpy - INFO - Chain [1] done processing\n",
      "C:\\Users\\jonas\\AppData\\Local\\Temp\\ipykernel_16056\\1548965453.py:164: SettingWithCopyWarning: \n",
      "A value is trying to be set on a copy of a slice from a DataFrame\n",
      "\n",
      "See the caveats in the documentation: https://pandas.pydata.org/pandas-docs/stable/user_guide/indexing.html#returning-a-view-versus-a-copy\n",
      "  X2_train.rename(columns={col: 'y'}, inplace=True)\n",
      "15:29:47 - cmdstanpy - INFO - Chain [1] start processing\n",
      "15:29:47 - cmdstanpy - INFO - Chain [1] done processing\n",
      "C:\\Users\\jonas\\AppData\\Local\\Temp\\ipykernel_16056\\1548965453.py:164: SettingWithCopyWarning: \n",
      "A value is trying to be set on a copy of a slice from a DataFrame\n",
      "\n",
      "See the caveats in the documentation: https://pandas.pydata.org/pandas-docs/stable/user_guide/indexing.html#returning-a-view-versus-a-copy\n",
      "  X2_train.rename(columns={col: 'y'}, inplace=True)\n",
      "15:29:47 - cmdstanpy - INFO - Chain [1] start processing\n",
      "15:29:47 - cmdstanpy - INFO - Chain [1] done processing\n",
      "C:\\Users\\jonas\\AppData\\Local\\Temp\\ipykernel_16056\\1548965453.py:164: SettingWithCopyWarning: \n",
      "A value is trying to be set on a copy of a slice from a DataFrame\n",
      "\n",
      "See the caveats in the documentation: https://pandas.pydata.org/pandas-docs/stable/user_guide/indexing.html#returning-a-view-versus-a-copy\n",
      "  X2_train.rename(columns={col: 'y'}, inplace=True)\n",
      "15:29:47 - cmdstanpy - INFO - Chain [1] start processing\n",
      "15:29:47 - cmdstanpy - INFO - Chain [1] done processing\n",
      "C:\\Users\\jonas\\AppData\\Local\\Temp\\ipykernel_16056\\1548965453.py:164: SettingWithCopyWarning: \n",
      "A value is trying to be set on a copy of a slice from a DataFrame\n",
      "\n",
      "See the caveats in the documentation: https://pandas.pydata.org/pandas-docs/stable/user_guide/indexing.html#returning-a-view-versus-a-copy\n",
      "  X2_train.rename(columns={col: 'y'}, inplace=True)\n",
      "15:29:48 - cmdstanpy - INFO - Chain [1] start processing\n",
      "15:29:48 - cmdstanpy - INFO - Chain [1] done processing\n",
      "C:\\Users\\jonas\\AppData\\Local\\Temp\\ipykernel_16056\\1548965453.py:164: SettingWithCopyWarning: \n",
      "A value is trying to be set on a copy of a slice from a DataFrame\n",
      "\n",
      "See the caveats in the documentation: https://pandas.pydata.org/pandas-docs/stable/user_guide/indexing.html#returning-a-view-versus-a-copy\n",
      "  X2_train.rename(columns={col: 'y'}, inplace=True)\n",
      "15:29:48 - cmdstanpy - INFO - Chain [1] start processing\n",
      "15:29:48 - cmdstanpy - INFO - Chain [1] done processing\n",
      "C:\\Users\\jonas\\AppData\\Local\\Temp\\ipykernel_16056\\1548965453.py:164: SettingWithCopyWarning: \n",
      "A value is trying to be set on a copy of a slice from a DataFrame\n",
      "\n",
      "See the caveats in the documentation: https://pandas.pydata.org/pandas-docs/stable/user_guide/indexing.html#returning-a-view-versus-a-copy\n",
      "  X2_train.rename(columns={col: 'y'}, inplace=True)\n",
      "15:29:48 - cmdstanpy - INFO - Chain [1] start processing\n",
      "15:29:48 - cmdstanpy - INFO - Chain [1] done processing\n",
      "C:\\Users\\jonas\\AppData\\Local\\Temp\\ipykernel_16056\\1548965453.py:164: SettingWithCopyWarning: \n",
      "A value is trying to be set on a copy of a slice from a DataFrame\n",
      "\n",
      "See the caveats in the documentation: https://pandas.pydata.org/pandas-docs/stable/user_guide/indexing.html#returning-a-view-versus-a-copy\n",
      "  X2_train.rename(columns={col: 'y'}, inplace=True)\n",
      "15:29:48 - cmdstanpy - INFO - Chain [1] start processing\n",
      "15:29:49 - cmdstanpy - INFO - Chain [1] done processing\n",
      "C:\\Users\\jonas\\AppData\\Local\\Temp\\ipykernel_16056\\1548965453.py:164: SettingWithCopyWarning: \n",
      "A value is trying to be set on a copy of a slice from a DataFrame\n",
      "\n",
      "See the caveats in the documentation: https://pandas.pydata.org/pandas-docs/stable/user_guide/indexing.html#returning-a-view-versus-a-copy\n",
      "  X2_train.rename(columns={col: 'y'}, inplace=True)\n",
      "15:29:49 - cmdstanpy - INFO - Chain [1] start processing\n",
      "15:29:49 - cmdstanpy - INFO - Chain [1] done processing\n",
      "C:\\Users\\jonas\\AppData\\Local\\Temp\\ipykernel_16056\\1548965453.py:164: SettingWithCopyWarning: \n",
      "A value is trying to be set on a copy of a slice from a DataFrame\n",
      "\n",
      "See the caveats in the documentation: https://pandas.pydata.org/pandas-docs/stable/user_guide/indexing.html#returning-a-view-versus-a-copy\n",
      "  X2_train.rename(columns={col: 'y'}, inplace=True)\n",
      "15:29:49 - cmdstanpy - INFO - Chain [1] start processing\n",
      "15:29:49 - cmdstanpy - INFO - Chain [1] done processing\n",
      "C:\\Users\\jonas\\AppData\\Local\\Temp\\ipykernel_16056\\1548965453.py:164: SettingWithCopyWarning: \n",
      "A value is trying to be set on a copy of a slice from a DataFrame\n",
      "\n",
      "See the caveats in the documentation: https://pandas.pydata.org/pandas-docs/stable/user_guide/indexing.html#returning-a-view-versus-a-copy\n",
      "  X2_train.rename(columns={col: 'y'}, inplace=True)\n",
      "15:29:49 - cmdstanpy - INFO - Chain [1] start processing\n",
      "15:29:50 - cmdstanpy - INFO - Chain [1] done processing\n",
      "C:\\Users\\jonas\\AppData\\Local\\Temp\\ipykernel_16056\\1548965453.py:164: SettingWithCopyWarning: \n",
      "A value is trying to be set on a copy of a slice from a DataFrame\n",
      "\n",
      "See the caveats in the documentation: https://pandas.pydata.org/pandas-docs/stable/user_guide/indexing.html#returning-a-view-versus-a-copy\n",
      "  X2_train.rename(columns={col: 'y'}, inplace=True)\n",
      "15:29:50 - cmdstanpy - INFO - Chain [1] start processing\n",
      "15:29:50 - cmdstanpy - INFO - Chain [1] done processing\n",
      "C:\\Users\\jonas\\AppData\\Local\\Temp\\ipykernel_16056\\1548965453.py:164: SettingWithCopyWarning: \n",
      "A value is trying to be set on a copy of a slice from a DataFrame\n",
      "\n",
      "See the caveats in the documentation: https://pandas.pydata.org/pandas-docs/stable/user_guide/indexing.html#returning-a-view-versus-a-copy\n",
      "  X2_train.rename(columns={col: 'y'}, inplace=True)\n",
      "15:29:50 - cmdstanpy - INFO - Chain [1] start processing\n",
      "15:29:50 - cmdstanpy - INFO - Chain [1] done processing\n",
      "C:\\Users\\jonas\\AppData\\Local\\Temp\\ipykernel_16056\\1548965453.py:164: SettingWithCopyWarning: \n",
      "A value is trying to be set on a copy of a slice from a DataFrame\n",
      "\n",
      "See the caveats in the documentation: https://pandas.pydata.org/pandas-docs/stable/user_guide/indexing.html#returning-a-view-versus-a-copy\n",
      "  X2_train.rename(columns={col: 'y'}, inplace=True)\n",
      "15:29:50 - cmdstanpy - INFO - Chain [1] start processing\n",
      "15:29:51 - cmdstanpy - INFO - Chain [1] done processing\n",
      "C:\\Users\\jonas\\AppData\\Local\\Temp\\ipykernel_16056\\1548965453.py:164: SettingWithCopyWarning: \n",
      "A value is trying to be set on a copy of a slice from a DataFrame\n",
      "\n",
      "See the caveats in the documentation: https://pandas.pydata.org/pandas-docs/stable/user_guide/indexing.html#returning-a-view-versus-a-copy\n",
      "  X2_train.rename(columns={col: 'y'}, inplace=True)\n",
      "15:29:51 - cmdstanpy - INFO - Chain [1] start processing\n",
      "15:29:51 - cmdstanpy - INFO - Chain [1] done processing\n",
      "C:\\Users\\jonas\\AppData\\Local\\Temp\\ipykernel_16056\\1548965453.py:164: SettingWithCopyWarning: \n",
      "A value is trying to be set on a copy of a slice from a DataFrame\n",
      "\n",
      "See the caveats in the documentation: https://pandas.pydata.org/pandas-docs/stable/user_guide/indexing.html#returning-a-view-versus-a-copy\n",
      "  X2_train.rename(columns={col: 'y'}, inplace=True)\n",
      "15:29:51 - cmdstanpy - INFO - Chain [1] start processing\n",
      "15:29:51 - cmdstanpy - INFO - Chain [1] done processing\n",
      "C:\\Users\\jonas\\AppData\\Local\\Temp\\ipykernel_16056\\1548965453.py:164: SettingWithCopyWarning: \n",
      "A value is trying to be set on a copy of a slice from a DataFrame\n",
      "\n",
      "See the caveats in the documentation: https://pandas.pydata.org/pandas-docs/stable/user_guide/indexing.html#returning-a-view-versus-a-copy\n",
      "  X2_train.rename(columns={col: 'y'}, inplace=True)\n",
      "15:29:51 - cmdstanpy - INFO - Chain [1] start processing\n",
      "15:29:52 - cmdstanpy - INFO - Chain [1] done processing\n"
     ]
    },
    {
     "ename": "KeyboardInterrupt",
     "evalue": "",
     "output_type": "error",
     "traceback": [
      "\u001b[1;31m---------------------------------------------------------------------------\u001b[0m",
      "\u001b[1;31mKeyboardInterrupt\u001b[0m                         Traceback (most recent call last)",
      "Cell \u001b[1;32mIn[8], line 162\u001b[0m\n\u001b[0;32m    160\u001b[0m df_forecasts[\u001b[38;5;124m'\u001b[39m\u001b[38;5;124mds\u001b[39m\u001b[38;5;124m'\u001b[39m] \u001b[38;5;241m=\u001b[39m X_test[\u001b[38;5;124m'\u001b[39m\u001b[38;5;124mds\u001b[39m\u001b[38;5;124m'\u001b[39m]\n\u001b[0;32m    161\u001b[0m \u001b[38;5;28;01mfor\u001b[39;00m col \u001b[38;5;129;01min\u001b[39;00m selected_columns:\n\u001b[1;32m--> 162\u001b[0m     model_ve \u001b[38;5;241m=\u001b[39m \u001b[43mProphet\u001b[49m\u001b[43m(\u001b[49m\u001b[43m)\u001b[49m\n\u001b[0;32m    163\u001b[0m     X2_train \u001b[38;5;241m=\u001b[39m new_df[[\u001b[38;5;124m'\u001b[39m\u001b[38;5;124mds\u001b[39m\u001b[38;5;124m'\u001b[39m, col]]\n\u001b[0;32m    164\u001b[0m     X2_train\u001b[38;5;241m.\u001b[39mrename(columns\u001b[38;5;241m=\u001b[39m{col: \u001b[38;5;124m'\u001b[39m\u001b[38;5;124my\u001b[39m\u001b[38;5;124m'\u001b[39m}, inplace\u001b[38;5;241m=\u001b[39m\u001b[38;5;28;01mTrue\u001b[39;00m)\n",
      "File \u001b[1;32m~\\AppData\\Local\\Packages\\PythonSoftwareFoundation.Python.3.12_qbz5n2kfra8p0\\LocalCache\\local-packages\\Python312\\site-packages\\prophet\\forecaster.py:155\u001b[0m, in \u001b[0;36mProphet.__init__\u001b[1;34m(self, growth, changepoints, n_changepoints, changepoint_range, yearly_seasonality, weekly_seasonality, daily_seasonality, holidays, seasonality_mode, seasonality_prior_scale, holidays_prior_scale, changepoint_prior_scale, mcmc_samples, interval_width, uncertainty_samples, stan_backend, scaling, holidays_mode)\u001b[0m\n\u001b[0;32m    153\u001b[0m \u001b[38;5;28mself\u001b[39m\u001b[38;5;241m.\u001b[39mfit_kwargs \u001b[38;5;241m=\u001b[39m {}\n\u001b[0;32m    154\u001b[0m \u001b[38;5;28mself\u001b[39m\u001b[38;5;241m.\u001b[39mvalidate_inputs()\n\u001b[1;32m--> 155\u001b[0m \u001b[38;5;28;43mself\u001b[39;49m\u001b[38;5;241;43m.\u001b[39;49m\u001b[43m_load_stan_backend\u001b[49m\u001b[43m(\u001b[49m\u001b[43mstan_backend\u001b[49m\u001b[43m)\u001b[49m\n",
      "File \u001b[1;32m~\\AppData\\Local\\Packages\\PythonSoftwareFoundation.Python.3.12_qbz5n2kfra8p0\\LocalCache\\local-packages\\Python312\\site-packages\\prophet\\forecaster.py:162\u001b[0m, in \u001b[0;36mProphet._load_stan_backend\u001b[1;34m(self, stan_backend)\u001b[0m\n\u001b[0;32m    160\u001b[0m \u001b[38;5;28;01mtry\u001b[39;00m:\n\u001b[0;32m    161\u001b[0m     logger\u001b[38;5;241m.\u001b[39mdebug(\u001b[38;5;124m\"\u001b[39m\u001b[38;5;124mTrying to load backend: \u001b[39m\u001b[38;5;132;01m%s\u001b[39;00m\u001b[38;5;124m\"\u001b[39m, i\u001b[38;5;241m.\u001b[39mname)\n\u001b[1;32m--> 162\u001b[0m     \u001b[38;5;28;01mreturn\u001b[39;00m \u001b[38;5;28;43mself\u001b[39;49m\u001b[38;5;241;43m.\u001b[39;49m\u001b[43m_load_stan_backend\u001b[49m\u001b[43m(\u001b[49m\u001b[43mi\u001b[49m\u001b[38;5;241;43m.\u001b[39;49m\u001b[43mname\u001b[49m\u001b[43m)\u001b[49m\n\u001b[0;32m    163\u001b[0m \u001b[38;5;28;01mexcept\u001b[39;00m \u001b[38;5;167;01mException\u001b[39;00m \u001b[38;5;28;01mas\u001b[39;00m e:\n\u001b[0;32m    164\u001b[0m     logger\u001b[38;5;241m.\u001b[39mdebug(\u001b[38;5;124m\"\u001b[39m\u001b[38;5;124mUnable to load backend \u001b[39m\u001b[38;5;132;01m%s\u001b[39;00m\u001b[38;5;124m (\u001b[39m\u001b[38;5;132;01m%s\u001b[39;00m\u001b[38;5;124m), trying the next one\u001b[39m\u001b[38;5;124m\"\u001b[39m, i\u001b[38;5;241m.\u001b[39mname, e)\n",
      "File \u001b[1;32m~\\AppData\\Local\\Packages\\PythonSoftwareFoundation.Python.3.12_qbz5n2kfra8p0\\LocalCache\\local-packages\\Python312\\site-packages\\prophet\\forecaster.py:166\u001b[0m, in \u001b[0;36mProphet._load_stan_backend\u001b[1;34m(self, stan_backend)\u001b[0m\n\u001b[0;32m    164\u001b[0m             logger\u001b[38;5;241m.\u001b[39mdebug(\u001b[38;5;124m\"\u001b[39m\u001b[38;5;124mUnable to load backend \u001b[39m\u001b[38;5;132;01m%s\u001b[39;00m\u001b[38;5;124m (\u001b[39m\u001b[38;5;132;01m%s\u001b[39;00m\u001b[38;5;124m), trying the next one\u001b[39m\u001b[38;5;124m\"\u001b[39m, i\u001b[38;5;241m.\u001b[39mname, e)\n\u001b[0;32m    165\u001b[0m \u001b[38;5;28;01melse\u001b[39;00m:\n\u001b[1;32m--> 166\u001b[0m     \u001b[38;5;28mself\u001b[39m\u001b[38;5;241m.\u001b[39mstan_backend \u001b[38;5;241m=\u001b[39m \u001b[43mStanBackendEnum\u001b[49m\u001b[38;5;241;43m.\u001b[39;49m\u001b[43mget_backend_class\u001b[49m\u001b[43m(\u001b[49m\u001b[43mstan_backend\u001b[49m\u001b[43m)\u001b[49m\u001b[43m(\u001b[49m\u001b[43m)\u001b[49m\n\u001b[0;32m    168\u001b[0m logger\u001b[38;5;241m.\u001b[39mdebug(\u001b[38;5;124m\"\u001b[39m\u001b[38;5;124mLoaded stan backend: \u001b[39m\u001b[38;5;132;01m%s\u001b[39;00m\u001b[38;5;124m\"\u001b[39m, \u001b[38;5;28mself\u001b[39m\u001b[38;5;241m.\u001b[39mstan_backend\u001b[38;5;241m.\u001b[39mget_type())\n",
      "File \u001b[1;32m~\\AppData\\Local\\Packages\\PythonSoftwareFoundation.Python.3.12_qbz5n2kfra8p0\\LocalCache\\local-packages\\Python312\\site-packages\\prophet\\models.py:95\u001b[0m, in \u001b[0;36mCmdStanPyBackend.__init__\u001b[1;34m(self)\u001b[0m\n\u001b[0;32m     93\u001b[0m \u001b[38;5;28;01mif\u001b[39;00m local_cmdstan\u001b[38;5;241m.\u001b[39mexists():\n\u001b[0;32m     94\u001b[0m     cmdstanpy\u001b[38;5;241m.\u001b[39mset_cmdstan_path(\u001b[38;5;28mstr\u001b[39m(local_cmdstan))\n\u001b[1;32m---> 95\u001b[0m \u001b[38;5;28;43msuper\u001b[39;49m\u001b[43m(\u001b[49m\u001b[43m)\u001b[49m\u001b[38;5;241;43m.\u001b[39;49m\u001b[38;5;21;43m__init__\u001b[39;49m\u001b[43m(\u001b[49m\u001b[43m)\u001b[49m\n",
      "File \u001b[1;32m~\\AppData\\Local\\Packages\\PythonSoftwareFoundation.Python.3.12_qbz5n2kfra8p0\\LocalCache\\local-packages\\Python312\\site-packages\\prophet\\models.py:53\u001b[0m, in \u001b[0;36mIStanBackend.__init__\u001b[1;34m(self)\u001b[0m\n\u001b[0;32m     52\u001b[0m \u001b[38;5;28;01mdef\u001b[39;00m \u001b[38;5;21m__init__\u001b[39m(\u001b[38;5;28mself\u001b[39m):\n\u001b[1;32m---> 53\u001b[0m     \u001b[38;5;28mself\u001b[39m\u001b[38;5;241m.\u001b[39mmodel \u001b[38;5;241m=\u001b[39m \u001b[38;5;28;43mself\u001b[39;49m\u001b[38;5;241;43m.\u001b[39;49m\u001b[43mload_model\u001b[49m\u001b[43m(\u001b[49m\u001b[43m)\u001b[49m\n\u001b[0;32m     54\u001b[0m     \u001b[38;5;28mself\u001b[39m\u001b[38;5;241m.\u001b[39mstan_fit \u001b[38;5;241m=\u001b[39m \u001b[38;5;28;01mNone\u001b[39;00m\n\u001b[0;32m     55\u001b[0m     \u001b[38;5;28mself\u001b[39m\u001b[38;5;241m.\u001b[39mnewton_fallback \u001b[38;5;241m=\u001b[39m \u001b[38;5;28;01mTrue\u001b[39;00m\n",
      "File \u001b[1;32m~\\AppData\\Local\\Packages\\PythonSoftwareFoundation.Python.3.12_qbz5n2kfra8p0\\LocalCache\\local-packages\\Python312\\site-packages\\prophet\\models.py:104\u001b[0m, in \u001b[0;36mCmdStanPyBackend.load_model\u001b[1;34m(self)\u001b[0m\n\u001b[0;32m    102\u001b[0m \u001b[38;5;28;01mimport\u001b[39;00m \u001b[38;5;21;01mcmdstanpy\u001b[39;00m\n\u001b[0;32m    103\u001b[0m model_file \u001b[38;5;241m=\u001b[39m importlib_resources\u001b[38;5;241m.\u001b[39mfiles(\u001b[38;5;124m\"\u001b[39m\u001b[38;5;124mprophet\u001b[39m\u001b[38;5;124m\"\u001b[39m) \u001b[38;5;241m/\u001b[39m \u001b[38;5;124m\"\u001b[39m\u001b[38;5;124mstan_model\u001b[39m\u001b[38;5;124m\"\u001b[39m \u001b[38;5;241m/\u001b[39m \u001b[38;5;124m\"\u001b[39m\u001b[38;5;124mprophet_model.bin\u001b[39m\u001b[38;5;124m\"\u001b[39m\n\u001b[1;32m--> 104\u001b[0m \u001b[38;5;28;01mreturn\u001b[39;00m \u001b[43mcmdstanpy\u001b[49m\u001b[38;5;241;43m.\u001b[39;49m\u001b[43mCmdStanModel\u001b[49m\u001b[43m(\u001b[49m\u001b[43mexe_file\u001b[49m\u001b[38;5;241;43m=\u001b[39;49m\u001b[38;5;28;43mstr\u001b[39;49m\u001b[43m(\u001b[49m\u001b[43mmodel_file\u001b[49m\u001b[43m)\u001b[49m\u001b[43m)\u001b[49m\n",
      "File \u001b[1;32m~\\AppData\\Local\\Packages\\PythonSoftwareFoundation.Python.3.12_qbz5n2kfra8p0\\LocalCache\\local-packages\\Python312\\site-packages\\cmdstanpy\\model.py:237\u001b[0m, in \u001b[0;36mCmdStanModel.__init__\u001b[1;34m(self, model_name, stan_file, exe_file, force_compile, stanc_options, cpp_options, user_header, compile)\u001b[0m\n\u001b[0;32m    235\u001b[0m \u001b[38;5;28;01mif\u001b[39;00m platform\u001b[38;5;241m.\u001b[39msystem() \u001b[38;5;241m==\u001b[39m \u001b[38;5;124m'\u001b[39m\u001b[38;5;124mWindows\u001b[39m\u001b[38;5;124m'\u001b[39m:\n\u001b[0;32m    236\u001b[0m     \u001b[38;5;28;01mtry\u001b[39;00m:\n\u001b[1;32m--> 237\u001b[0m         \u001b[43mdo_command\u001b[49m\u001b[43m(\u001b[49m\u001b[43m[\u001b[49m\u001b[38;5;124;43m'\u001b[39;49m\u001b[38;5;124;43mwhere.exe\u001b[39;49m\u001b[38;5;124;43m'\u001b[39;49m\u001b[43m,\u001b[49m\u001b[43m \u001b[49m\u001b[38;5;124;43m'\u001b[39;49m\u001b[38;5;124;43mtbb.dll\u001b[39;49m\u001b[38;5;124;43m'\u001b[39;49m\u001b[43m]\u001b[49m\u001b[43m,\u001b[49m\u001b[43m \u001b[49m\u001b[43mfd_out\u001b[49m\u001b[38;5;241;43m=\u001b[39;49m\u001b[38;5;28;43;01mNone\u001b[39;49;00m\u001b[43m)\u001b[49m\n\u001b[0;32m    238\u001b[0m     \u001b[38;5;28;01mexcept\u001b[39;00m \u001b[38;5;167;01mRuntimeError\u001b[39;00m:\n\u001b[0;32m    239\u001b[0m         \u001b[38;5;66;03m# Add tbb to the $PATH on Windows\u001b[39;00m\n\u001b[0;32m    240\u001b[0m         libtbb \u001b[38;5;241m=\u001b[39m os\u001b[38;5;241m.\u001b[39menviron\u001b[38;5;241m.\u001b[39mget(\u001b[38;5;124m'\u001b[39m\u001b[38;5;124mSTAN_TBB\u001b[39m\u001b[38;5;124m'\u001b[39m)\n",
      "File \u001b[1;32m~\\AppData\\Local\\Packages\\PythonSoftwareFoundation.Python.3.12_qbz5n2kfra8p0\\LocalCache\\local-packages\\Python312\\site-packages\\cmdstanpy\\utils\\command.py:53\u001b[0m, in \u001b[0;36mdo_command\u001b[1;34m(cmd, cwd, fd_out, pbar)\u001b[0m\n\u001b[0;32m     51\u001b[0m \u001b[38;5;28;01mwhile\u001b[39;00m proc\u001b[38;5;241m.\u001b[39mpoll() \u001b[38;5;129;01mis\u001b[39;00m \u001b[38;5;28;01mNone\u001b[39;00m:\n\u001b[0;32m     52\u001b[0m     \u001b[38;5;28;01mif\u001b[39;00m proc\u001b[38;5;241m.\u001b[39mstdout \u001b[38;5;129;01mis\u001b[39;00m \u001b[38;5;129;01mnot\u001b[39;00m \u001b[38;5;28;01mNone\u001b[39;00m:\n\u001b[1;32m---> 53\u001b[0m         line \u001b[38;5;241m=\u001b[39m \u001b[43mproc\u001b[49m\u001b[38;5;241;43m.\u001b[39;49m\u001b[43mstdout\u001b[49m\u001b[38;5;241;43m.\u001b[39;49m\u001b[43mreadline\u001b[49m\u001b[43m(\u001b[49m\u001b[43m)\u001b[49m\n\u001b[0;32m     54\u001b[0m         \u001b[38;5;28;01mif\u001b[39;00m fd_out \u001b[38;5;129;01mis\u001b[39;00m \u001b[38;5;129;01mnot\u001b[39;00m \u001b[38;5;28;01mNone\u001b[39;00m:\n\u001b[0;32m     55\u001b[0m             fd_out\u001b[38;5;241m.\u001b[39mwrite(line)\n",
      "File \u001b[1;32mC:\\Program Files\\WindowsApps\\PythonSoftwareFoundation.Python.3.12_3.12.1776.0_x64__qbz5n2kfra8p0\\Lib\\encodings\\cp1252.py:22\u001b[0m, in \u001b[0;36mIncrementalDecoder.decode\u001b[1;34m(self, input, final)\u001b[0m\n\u001b[0;32m     21\u001b[0m \u001b[38;5;28;01mclass\u001b[39;00m \u001b[38;5;21;01mIncrementalDecoder\u001b[39;00m(codecs\u001b[38;5;241m.\u001b[39mIncrementalDecoder):\n\u001b[1;32m---> 22\u001b[0m     \u001b[38;5;28;01mdef\u001b[39;00m \u001b[38;5;21mdecode\u001b[39m(\u001b[38;5;28mself\u001b[39m, \u001b[38;5;28minput\u001b[39m, final\u001b[38;5;241m=\u001b[39m\u001b[38;5;28;01mFalse\u001b[39;00m):\n\u001b[0;32m     23\u001b[0m         \u001b[38;5;28;01mreturn\u001b[39;00m codecs\u001b[38;5;241m.\u001b[39mcharmap_decode(\u001b[38;5;28minput\u001b[39m,\u001b[38;5;28mself\u001b[39m\u001b[38;5;241m.\u001b[39merrors,decoding_table)[\u001b[38;5;241m0\u001b[39m]\n",
      "\u001b[1;31mKeyboardInterrupt\u001b[0m: "
     ]
    }
   ],
   "source": [
    "########### Prophet AUTO ##################\n",
    "\n",
    "from prophet import Prophet\n",
    "import os\n",
    "\n",
    "horizon = 12\n",
    "window = 12\n",
    "\n",
    "products = sorted([name for name in os.listdir('./uf/') if os.path.isdir(os.path.join('./uf/', name))])\n",
    "# products = ['etanolhidratado', 'gasolinac', 'glp', 'oleodiesel']\n",
    "\n",
    "############################# Coleta de dados externos do BCB ##########################################\n",
    "# dfext = pd.read_csv(f\"./01-EXT-PrecoANP.csv\", header=0, sep=\",\")\n",
    "# dfext = pd.DataFrame(dfext)\n",
    "# dfext.iloc[:, 0] = pd.to_datetime(dfext.iloc[:, 0], format='%m/%d/%Y').dt.strftime('%Y-%m-%d')\n",
    "########################################################################################################\n",
    "\n",
    "# product = 'gasolinac'\n",
    "# estado = 'sp'\n",
    "\n",
    "# print(estados)\n",
    "\n",
    "for product in products:\n",
    "    folder_path = f'./uf/{product}/'\n",
    "    estados = read_csv_files(folder_path)\n",
    "    for estado in estados:\n",
    "\n",
    "        df = pd.read_csv(f\"./uf/{product}/mensal_{estado}_{product}.csv\", header=0, sep=\";\")\n",
    "        df = pd.DataFrame(df)\n",
    "\n",
    "        df['timestamp'] = pd.to_datetime(df['timestamp'].astype(str), format='%Y%m')\n",
    "\n",
    "        series = df[\"m3\"]\n",
    "\n",
    "        series.index = range(0, len(series))\n",
    "\n",
    "        monthly_data = df.groupby(df['timestamp'].dt.to_period('M'))['m3'].sum().reset_index()\n",
    "        monthly_data['timestamp'] = monthly_data['timestamp'].dt.to_timestamp()\n",
    "\n",
    "        ##################################################################################\n",
    "\n",
    "        monthly_data.rename(columns={'m3': 'y'}, inplace=True)\n",
    "\n",
    "        ########## Dados Externos #####################3\n",
    "\n",
    "        # filtered_df = dfext[(dfext['PRODUTO'] == product) & (dfext['ESTADO'] == estado)]\n",
    "        # filtered_df.rename(columns={'DATA': 'ds'}, inplace=True)\n",
    "        # filtered_df['ds'] = pd.to_datetime(filtered_df['ds'])\n",
    "\n",
    "        # df_data = series.tail(len(filtered_df)).reset_index(drop=True)\n",
    "\n",
    "        # filtered_df = filtered_df.reset_index(drop=True)\n",
    "        # filtered_df['y']=df_data\n",
    "\n",
    "\n",
    "        ############################# Coleta de dados externos do BCB ########################################## \n",
    "        all_extdata = []\n",
    "        for code in state_codes[estado]:\n",
    "            try:\n",
    "                bcb_data = sgs.get({'series_id': code})\n",
    "                if isinstance(bcb_data, pd.DataFrame):\n",
    "                    all_extdata.append(bcb_data)\n",
    "                else:\n",
    "                    print(f\"Received data for series ID {code} is not a DataFrame.\")\n",
    "            except Exception as e:\n",
    "                print(f\"An error occurred while fetching data for series ID {code}: {e}\")\n",
    "\n",
    "        prophet_data2=pd.DataFrame()\n",
    "        prophet_data2['ds']=df['timestamp']\n",
    "\n",
    "        numb_extdata = len(all_extdata)\n",
    "        for i in range(numb_extdata):\n",
    "            df = all_extdata[i]\n",
    "            df_filtered = df[df.index <= '2024-02-01']\n",
    "            df2 = pd.DataFrame(list(df_filtered['series_id'].items()), columns=['ds', f'{i}'])\n",
    "            first_column = df2.iloc[:, 0]\n",
    "            normalized_data = df2.iloc[:, 1:].apply(znorm, axis=0)\n",
    "            df3 = pd.concat([first_column, normalized_data], axis=1)\n",
    "            prophet_data2 = pd.merge(prophet_data2, df3[['ds', f'{i}']], left_on='ds', right_on='ds', how='left')\n",
    "            \n",
    "        # prophet_data2 = prophet_data2.fillna(0)\n",
    "        prophet_data2.dropna(inplace=True)\n",
    "        prophet_data2 = prophet_data2.reset_index(drop=True)\n",
    "\n",
    "        target_train = rolling_window(series, window)\n",
    "        target_train = target_train[window]\n",
    "        target_train = target_train.head(len(target_train)-horizon)\n",
    "        target_train = target_train.tail(len(prophet_data2)).reset_index(drop=True)\n",
    "\n",
    "        prophet_data2['y']=target_train\n",
    "\n",
    "\n",
    "        # prophet_data3 = pd.merge(prophet_data2, df3[['ds', f'{i}']], left_on='ds', right_on='ds', how='left')\n",
    "\n",
    "\n",
    "        # temp_y = merged_df['y']\n",
    "        # merged_df = merged_df.drop('y', axis=1)\n",
    "        # merged_result = pd.merge(merged_df, prophet_data3, on='ds')\n",
    "        # new_column_names = ['ds'] + [f'{i}' for i in range(1, len(merged_result.columns))]\n",
    "        # merged_result.columns = new_column_names\n",
    "        # merged_result['y'] = temp_y\n",
    "\n",
    "\n",
    "        ###### Normalização ##########\n",
    "\n",
    "        # filtered_df2 = filtered_df['ds']\n",
    "        # filtered_df2 = filtered_df2.tail(len(filtered_df)-window).reset_index(drop=True)\n",
    "        # filtered_df2 = pd.DataFrame(filtered_df2)\n",
    "\n",
    "\n",
    "        # filtered_df_no_ds = filtered_df.loc[:, ~filtered_df.columns.isin(['ds', 'PRODUTO', 'ESTADO'])]\n",
    "\n",
    "        # # filtered_df_no_ds['y'] = series.tail(len(filtered_df)).reset_index(drop=True)\n",
    "\n",
    "        # for column in filtered_df_no_ds:\n",
    "        #     temp = rolling_window(filtered_df[column], window)\n",
    "        #     filtered_df2[column] = temp[window]\n",
    "\n",
    "        X_train, X_test, y_train, y_test = train_test_split(prophet_data2, horizon)\n",
    "\n",
    "\n",
    "        #### Correlation ################################\n",
    "\n",
    "        # dataE = pd.DataFrame({f'{i+1}': df_corr[col] for i, col in enumerate(columns_ext)})\n",
    "        dataE = prophet_data2.head(len(prophet_data2)-horizon)\n",
    "        dataE_ds = dataE['ds']\n",
    "        dataE.drop('ds', axis=1, inplace=True)\n",
    "\n",
    "        pearson_corr = dataE.corr(method='pearson')\n",
    "        spearman_corr = dataE.corr(method='spearman')\n",
    "        kendall_corr = dataE.corr(method='kendall')\n",
    "\n",
    "        correlation_with_y = pd.DataFrame({\n",
    "            'Pearson': pearson_corr['y'].drop('y'),\n",
    "            'Spearman': spearman_corr['y'].drop('y'),\n",
    "            'Kendall': kendall_corr['y'].drop('y')\n",
    "        })\n",
    "\n",
    "        threshold = 0.0\n",
    "\n",
    "        correlation_with_y['Pearson2'] = correlation_with_y['Pearson'].abs()\n",
    "        correlation_with_y['Spearman2'] = correlation_with_y['Spearman'].abs()\n",
    "        correlation_with_y['Kendall2'] = correlation_with_y['Kendall'].abs()\n",
    "        correlation_with_y['total'] = correlation_with_y['Pearson2'] + correlation_with_y['Spearman2'] + correlation_with_y['Kendall2']\n",
    "        DataTBI = correlation_with_y['total'][(correlation_with_y['Pearson2'] > threshold) | (correlation_with_y['Spearman2'] > threshold) | (correlation_with_y['Kendall2'] > threshold)]\n",
    "        DataTBI_sorted = DataTBI.sort_values(ascending=False)\n",
    "        DataTBI_SelCol = dataE.loc[:, DataTBI_sorted.index]\n",
    "        DataTBI_SelCol.insert(0, 'ds', dataE_ds)\n",
    "\n",
    "\n",
    "        columns_to_select = DataTBI_SelCol.columns\n",
    "        new_df = X_train[columns_to_select]\n",
    "\n",
    "\n",
    "        ## FOR PARA CADA DADO EXTERNO ######################\n",
    "\n",
    "        selected_columns = new_df.drop(columns=['ds']).columns\n",
    "        # data_forecast_ve = pd.DataFrame()\n",
    "        df_forecasts = pd.DataFrame()\n",
    "        df_forecasts['ds'] = X_test['ds']\n",
    "        for col in selected_columns:\n",
    "            model_ve = Prophet()\n",
    "            X2_train = new_df[['ds', col]]\n",
    "            X2_train.rename(columns={col: 'y'}, inplace=True)\n",
    "            model_ve.fit(X2_train)\n",
    "            future_dates = pd.DataFrame(X_test['ds']).reset_index(drop=True)\n",
    "            data_forecast_ve = model_ve.predict(future_dates)\n",
    "            df_forecasts[f'{col}'] = data_forecast_ve['yhat'].values\n",
    "            \n",
    "        # df_forecasts['y'] = y_test\n",
    "        new_df['y'] = y_train.tail(len(new_df))\n",
    "\n",
    "        new_df2 = pd.DataFrame()\n",
    "        if len(X_train.columns)<3:\n",
    "            temp2 = rolling_window(series, window)\n",
    "            temp3 = temp2[window].tail(398)   \n",
    "            temp3 = temp3.head(386)\n",
    "            temp4 = series['timestamp'].tail(398) \n",
    "            new_df2['ds'] = temp4.head(386).reset_index(drop=True)\n",
    "            new_df2['y'] = temp3\n",
    "            new_df= new_df2\n",
    "\n",
    "        ################################################################f\n",
    "        model = Prophet()\n",
    "\n",
    "        new_column_names = []\n",
    "        for col in new_df.columns:\n",
    "            if col == 'ds':\n",
    "                new_column_names.append('ds')\n",
    "            elif col == 'y':\n",
    "                new_column_names.append('y')\n",
    "            else:\n",
    "                new_column_names.append(f'{col}')\n",
    "                model.add_regressor(f'{col}', standardize=False)\n",
    "\n",
    "        model.fit(new_df)\n",
    "\n",
    "        # future_dates2 = df_forecasts.drop(columns=['y'])\n",
    "\n",
    "        data_forecastf = model.predict(df_forecasts)\n",
    "\n",
    "        # TEST DATA\n",
    "        monthly_data_norm_last = y_test\n",
    "        monthly_data_norm_last = monthly_data_norm_last.reset_index(drop=True)\n",
    "\n",
    "        future_forecast = data_forecastf['yhat'].tail(12)\n",
    "        future_forecast_12 = future_forecast.reset_index(drop=True)\n",
    "\n",
    "        #### Save model as pkl\n",
    "        # import pickle\n",
    "        # with open(f'../00-MODELS_UF_MENSAL/{estado}_{product}_Prophet_RawData_ExtDataSP_model.pkl', 'wb') as fd: pickle.dump({model}, fd)\n",
    "\n",
    "        Valores_Reais = monthly_data['y'].tail(12)\n",
    "        Valores_Reais = Valores_Reais.reset_index(drop=True)\n",
    "\n",
    "        ################# DeNormalized #######################\n",
    "        # Recupera a média e desvio-padrão da última subsequência observada\n",
    "        mean_norm, std_norm = get_stats_norm(series, horizon, window)\n",
    "\n",
    "        # Reescala a predição\n",
    "        predictions_rescaled = znorm_reverse(future_forecast_12, mean_norm, std_norm)\n",
    "        predictions_df2 = pd.DataFrame(predictions_rescaled, columns=['Predictions'])\n",
    "        predictions_df2.rename(columns={'yhat': 'Predictions'}, inplace=True)\n",
    "\n",
    "\n",
    "        p1 = ', '.join(map(str, predictions_df2['Predictions'].values))\n",
    "\n",
    "        rmse_result2 = rmse(Valores_Reais, predictions_df2['Predictions'])\n",
    "        mape_result2 = mape(Valores_Reais, predictions_df2['Predictions'])\n",
    "        pocid_result2 = pocid(Valores_Reais, predictions_df2['Predictions'])\n",
    "        # mcpm_result2 = mcpm(rmse_result2, mape_result2, pocid_result2)\n",
    "        pbe_result2 = pbe(Valores_Reais, predictions_df2['Predictions'])\n",
    "        basepredictions = baseline_persistent_window2(series, horizon)\n",
    "        mase_result2 = mase(Valores_Reais, predictions_df2['Predictions'], basepredictions)\n",
    "\n",
    "\n",
    "        # CSV Output VALORES REAIS\n",
    "        with open(f'Prophet_ExtData_{window}_Exp5_BCB5_{threshold}_output.csv', 'a', newline='') as file:\n",
    "            writer = csv.writer(file)\n",
    "            writer.writerow([\n",
    "                # product, estado, 'Prophet', fd.name, mape_result2, pocid_result2, pbe_result2, mase_result2, *future_forecast_12.values\n",
    "                product, estado, 'Prophet', mape_result2, pocid_result2, pbe_result2, mase_result2, p1\n",
    "            ])\n",
    "\n",
    "\n",
    "\n",
    "\n"
   ]
  },
  {
   "cell_type": "code",
   "execution_count": 8,
   "metadata": {},
   "outputs": [
    {
     "data": {
      "text/html": [
       "<div>\n",
       "<style scoped>\n",
       "    .dataframe tbody tr th:only-of-type {\n",
       "        vertical-align: middle;\n",
       "    }\n",
       "\n",
       "    .dataframe tbody tr th {\n",
       "        vertical-align: top;\n",
       "    }\n",
       "\n",
       "    .dataframe thead th {\n",
       "        text-align: right;\n",
       "    }\n",
       "</style>\n",
       "<table border=\"1\" class=\"dataframe\">\n",
       "  <thead>\n",
       "    <tr style=\"text-align: right;\">\n",
       "      <th></th>\n",
       "      <th>ds</th>\n",
       "      <th>y</th>\n",
       "    </tr>\n",
       "  </thead>\n",
       "  <tbody>\n",
       "    <tr>\n",
       "      <th>0</th>\n",
       "      <td>2013-01-01</td>\n",
       "      <td>-0.998879</td>\n",
       "    </tr>\n",
       "    <tr>\n",
       "      <th>1</th>\n",
       "      <td>2013-02-01</td>\n",
       "      <td>0.262995</td>\n",
       "    </tr>\n",
       "  </tbody>\n",
       "</table>\n",
       "</div>"
      ],
      "text/plain": [
       "          ds         y\n",
       "0 2013-01-01 -0.998879\n",
       "1 2013-02-01  0.262995"
      ]
     },
     "execution_count": 8,
     "metadata": {},
     "output_type": "execute_result"
    }
   ],
   "source": [
    "X2_train"
   ]
  },
  {
   "cell_type": "code",
   "execution_count": 83,
   "metadata": {},
   "outputs": [
    {
     "data": {
      "text/html": [
       "<div>\n",
       "<style scoped>\n",
       "    .dataframe tbody tr th:only-of-type {\n",
       "        vertical-align: middle;\n",
       "    }\n",
       "\n",
       "    .dataframe tbody tr th {\n",
       "        vertical-align: top;\n",
       "    }\n",
       "\n",
       "    .dataframe thead th {\n",
       "        text-align: right;\n",
       "    }\n",
       "</style>\n",
       "<table border=\"1\" class=\"dataframe\">\n",
       "  <thead>\n",
       "    <tr style=\"text-align: right;\">\n",
       "      <th></th>\n",
       "      <th>0</th>\n",
       "      <th>1</th>\n",
       "      <th>2</th>\n",
       "      <th>3</th>\n",
       "      <th>4</th>\n",
       "      <th>5</th>\n",
       "      <th>6</th>\n",
       "      <th>7</th>\n",
       "      <th>8</th>\n",
       "      <th>9</th>\n",
       "      <th>y</th>\n",
       "    </tr>\n",
       "  </thead>\n",
       "  <tbody>\n",
       "    <tr>\n",
       "      <th>0</th>\n",
       "      <td>0.055053</td>\n",
       "      <td>-0.313364</td>\n",
       "      <td>-0.608993</td>\n",
       "      <td>-0.784859</td>\n",
       "      <td>-1.029153</td>\n",
       "      <td>-1.416239</td>\n",
       "      <td>-1.104750</td>\n",
       "      <td>1.251920</td>\n",
       "      <td>0.835044</td>\n",
       "      <td>1.287966</td>\n",
       "      <td>-0.665273</td>\n",
       "    </tr>\n",
       "    <tr>\n",
       "      <th>1</th>\n",
       "      <td>-0.074652</td>\n",
       "      <td>-0.388075</td>\n",
       "      <td>-0.660437</td>\n",
       "      <td>-0.779169</td>\n",
       "      <td>-1.027566</td>\n",
       "      <td>-1.414467</td>\n",
       "      <td>-1.103041</td>\n",
       "      <td>1.314016</td>\n",
       "      <td>0.906684</td>\n",
       "      <td>1.367879</td>\n",
       "      <td>-0.665273</td>\n",
       "    </tr>\n",
       "    <tr>\n",
       "      <th>2</th>\n",
       "      <td>0.437420</td>\n",
       "      <td>-0.355458</td>\n",
       "      <td>-0.624280</td>\n",
       "      <td>-0.753482</td>\n",
       "      <td>-1.025418</td>\n",
       "      <td>-1.410924</td>\n",
       "      <td>-1.100710</td>\n",
       "      <td>0.902632</td>\n",
       "      <td>0.158444</td>\n",
       "      <td>0.755212</td>\n",
       "      <td>-0.665273</td>\n",
       "    </tr>\n",
       "    <tr>\n",
       "      <th>3</th>\n",
       "      <td>0.846028</td>\n",
       "      <td>-0.382890</td>\n",
       "      <td>-0.644912</td>\n",
       "      <td>-0.754978</td>\n",
       "      <td>-1.023737</td>\n",
       "      <td>-1.398966</td>\n",
       "      <td>-1.097292</td>\n",
       "      <td>0.956966</td>\n",
       "      <td>0.572364</td>\n",
       "      <td>0.977192</td>\n",
       "      <td>-0.665273</td>\n",
       "    </tr>\n",
       "    <tr>\n",
       "      <th>4</th>\n",
       "      <td>0.425424</td>\n",
       "      <td>-0.358944</td>\n",
       "      <td>-0.638794</td>\n",
       "      <td>-0.778129</td>\n",
       "      <td>-1.021870</td>\n",
       "      <td>-1.393208</td>\n",
       "      <td>-1.094728</td>\n",
       "      <td>0.995776</td>\n",
       "      <td>0.898724</td>\n",
       "      <td>1.154777</td>\n",
       "      <td>-0.665273</td>\n",
       "    </tr>\n",
       "    <tr>\n",
       "      <th>...</th>\n",
       "      <td>...</td>\n",
       "      <td>...</td>\n",
       "      <td>...</td>\n",
       "      <td>...</td>\n",
       "      <td>...</td>\n",
       "      <td>...</td>\n",
       "      <td>...</td>\n",
       "      <td>...</td>\n",
       "      <td>...</td>\n",
       "      <td>...</td>\n",
       "      <td>...</td>\n",
       "    </tr>\n",
       "    <tr>\n",
       "      <th>225</th>\n",
       "      <td>0.235740</td>\n",
       "      <td>0.633002</td>\n",
       "      <td>0.989702</td>\n",
       "      <td>1.090847</td>\n",
       "      <td>2.171106</td>\n",
       "      <td>2.004655</td>\n",
       "      <td>2.158085</td>\n",
       "      <td>-1.107714</td>\n",
       "      <td>-1.059437</td>\n",
       "      <td>-1.198219</td>\n",
       "      <td>0.000000</td>\n",
       "    </tr>\n",
       "    <tr>\n",
       "      <th>226</th>\n",
       "      <td>-0.050661</td>\n",
       "      <td>0.447324</td>\n",
       "      <td>0.967790</td>\n",
       "      <td>1.322876</td>\n",
       "      <td>2.222739</td>\n",
       "      <td>2.051601</td>\n",
       "      <td>2.209359</td>\n",
       "      <td>-1.099953</td>\n",
       "      <td>-1.083317</td>\n",
       "      <td>-1.198219</td>\n",
       "      <td>0.000000</td>\n",
       "    </tr>\n",
       "    <tr>\n",
       "      <th>227</th>\n",
       "      <td>-1.238248</td>\n",
       "      <td>0.054027</td>\n",
       "      <td>0.690285</td>\n",
       "      <td>1.339069</td>\n",
       "      <td>2.276145</td>\n",
       "      <td>2.095448</td>\n",
       "      <td>2.261488</td>\n",
       "      <td>-1.068905</td>\n",
       "      <td>-1.003717</td>\n",
       "      <td>-1.144944</td>\n",
       "      <td>0.000000</td>\n",
       "    </tr>\n",
       "    <tr>\n",
       "      <th>228</th>\n",
       "      <td>-0.600970</td>\n",
       "      <td>0.192207</td>\n",
       "      <td>0.876142</td>\n",
       "      <td>1.515106</td>\n",
       "      <td>2.329364</td>\n",
       "      <td>2.111835</td>\n",
       "      <td>2.308645</td>\n",
       "      <td>-0.983523</td>\n",
       "      <td>-0.820637</td>\n",
       "      <td>-1.029514</td>\n",
       "      <td>0.000000</td>\n",
       "    </tr>\n",
       "    <tr>\n",
       "      <th>229</th>\n",
       "      <td>1.556781</td>\n",
       "      <td>2.179608</td>\n",
       "      <td>2.110300</td>\n",
       "      <td>1.087498</td>\n",
       "      <td>2.346077</td>\n",
       "      <td>2.105191</td>\n",
       "      <td>2.321386</td>\n",
       "      <td>-0.929189</td>\n",
       "      <td>-0.741037</td>\n",
       "      <td>-0.967359</td>\n",
       "      <td>0.000000</td>\n",
       "    </tr>\n",
       "  </tbody>\n",
       "</table>\n",
       "<p>230 rows × 11 columns</p>\n",
       "</div>"
      ],
      "text/plain": [
       "            0         1         2         3         4         5         6  \\\n",
       "0    0.055053 -0.313364 -0.608993 -0.784859 -1.029153 -1.416239 -1.104750   \n",
       "1   -0.074652 -0.388075 -0.660437 -0.779169 -1.027566 -1.414467 -1.103041   \n",
       "2    0.437420 -0.355458 -0.624280 -0.753482 -1.025418 -1.410924 -1.100710   \n",
       "3    0.846028 -0.382890 -0.644912 -0.754978 -1.023737 -1.398966 -1.097292   \n",
       "4    0.425424 -0.358944 -0.638794 -0.778129 -1.021870 -1.393208 -1.094728   \n",
       "..        ...       ...       ...       ...       ...       ...       ...   \n",
       "225  0.235740  0.633002  0.989702  1.090847  2.171106  2.004655  2.158085   \n",
       "226 -0.050661  0.447324  0.967790  1.322876  2.222739  2.051601  2.209359   \n",
       "227 -1.238248  0.054027  0.690285  1.339069  2.276145  2.095448  2.261488   \n",
       "228 -0.600970  0.192207  0.876142  1.515106  2.329364  2.111835  2.308645   \n",
       "229  1.556781  2.179608  2.110300  1.087498  2.346077  2.105191  2.321386   \n",
       "\n",
       "            7         8         9         y  \n",
       "0    1.251920  0.835044  1.287966 -0.665273  \n",
       "1    1.314016  0.906684  1.367879 -0.665273  \n",
       "2    0.902632  0.158444  0.755212 -0.665273  \n",
       "3    0.956966  0.572364  0.977192 -0.665273  \n",
       "4    0.995776  0.898724  1.154777 -0.665273  \n",
       "..        ...       ...       ...       ...  \n",
       "225 -1.107714 -1.059437 -1.198219  0.000000  \n",
       "226 -1.099953 -1.083317 -1.198219  0.000000  \n",
       "227 -1.068905 -1.003717 -1.144944  0.000000  \n",
       "228 -0.983523 -0.820637 -1.029514  0.000000  \n",
       "229 -0.929189 -0.741037 -0.967359  0.000000  \n",
       "\n",
       "[230 rows x 11 columns]"
      ]
     },
     "execution_count": 83,
     "metadata": {},
     "output_type": "execute_result"
    }
   ],
   "source": [
    "dataE"
   ]
  },
  {
   "cell_type": "code",
   "execution_count": 70,
   "metadata": {},
   "outputs": [
    {
     "data": {
      "text/html": [
       "<div>\n",
       "<style scoped>\n",
       "    .dataframe tbody tr th:only-of-type {\n",
       "        vertical-align: middle;\n",
       "    }\n",
       "\n",
       "    .dataframe tbody tr th {\n",
       "        vertical-align: top;\n",
       "    }\n",
       "\n",
       "    .dataframe thead th {\n",
       "        text-align: right;\n",
       "    }\n",
       "</style>\n",
       "<table border=\"1\" class=\"dataframe\">\n",
       "  <thead>\n",
       "    <tr style=\"text-align: right;\">\n",
       "      <th></th>\n",
       "      <th>7</th>\n",
       "      <th>ds</th>\n",
       "      <th>4</th>\n",
       "      <th>6</th>\n",
       "      <th>5</th>\n",
       "      <th>2</th>\n",
       "      <th>9</th>\n",
       "    </tr>\n",
       "  </thead>\n",
       "  <tbody>\n",
       "    <tr>\n",
       "      <th>0</th>\n",
       "      <td>1.251920</td>\n",
       "      <td>2004-01-01</td>\n",
       "      <td>-1.029153</td>\n",
       "      <td>-1.104750</td>\n",
       "      <td>-1.416239</td>\n",
       "      <td>-0.608993</td>\n",
       "      <td>1.287966</td>\n",
       "    </tr>\n",
       "    <tr>\n",
       "      <th>1</th>\n",
       "      <td>1.314016</td>\n",
       "      <td>2004-02-01</td>\n",
       "      <td>-1.027566</td>\n",
       "      <td>-1.103041</td>\n",
       "      <td>-1.414467</td>\n",
       "      <td>-0.660437</td>\n",
       "      <td>1.367879</td>\n",
       "    </tr>\n",
       "    <tr>\n",
       "      <th>2</th>\n",
       "      <td>0.902632</td>\n",
       "      <td>2004-03-01</td>\n",
       "      <td>-1.025418</td>\n",
       "      <td>-1.100710</td>\n",
       "      <td>-1.410924</td>\n",
       "      <td>-0.624280</td>\n",
       "      <td>0.755212</td>\n",
       "    </tr>\n",
       "    <tr>\n",
       "      <th>3</th>\n",
       "      <td>0.956966</td>\n",
       "      <td>2004-04-01</td>\n",
       "      <td>-1.023737</td>\n",
       "      <td>-1.097292</td>\n",
       "      <td>-1.398966</td>\n",
       "      <td>-0.644912</td>\n",
       "      <td>0.977192</td>\n",
       "    </tr>\n",
       "    <tr>\n",
       "      <th>4</th>\n",
       "      <td>0.995776</td>\n",
       "      <td>2004-05-01</td>\n",
       "      <td>-1.021870</td>\n",
       "      <td>-1.094728</td>\n",
       "      <td>-1.393208</td>\n",
       "      <td>-0.638794</td>\n",
       "      <td>1.154777</td>\n",
       "    </tr>\n",
       "    <tr>\n",
       "      <th>...</th>\n",
       "      <td>...</td>\n",
       "      <td>...</td>\n",
       "      <td>...</td>\n",
       "      <td>...</td>\n",
       "      <td>...</td>\n",
       "      <td>...</td>\n",
       "      <td>...</td>\n",
       "    </tr>\n",
       "    <tr>\n",
       "      <th>225</th>\n",
       "      <td>-1.107714</td>\n",
       "      <td>2022-10-01</td>\n",
       "      <td>2.171106</td>\n",
       "      <td>2.158085</td>\n",
       "      <td>2.004655</td>\n",
       "      <td>0.989702</td>\n",
       "      <td>-1.198219</td>\n",
       "    </tr>\n",
       "    <tr>\n",
       "      <th>226</th>\n",
       "      <td>-1.099953</td>\n",
       "      <td>2022-11-01</td>\n",
       "      <td>2.222739</td>\n",
       "      <td>2.209359</td>\n",
       "      <td>2.051601</td>\n",
       "      <td>0.967790</td>\n",
       "      <td>-1.198219</td>\n",
       "    </tr>\n",
       "    <tr>\n",
       "      <th>227</th>\n",
       "      <td>-1.068905</td>\n",
       "      <td>2022-12-01</td>\n",
       "      <td>2.276145</td>\n",
       "      <td>2.261488</td>\n",
       "      <td>2.095448</td>\n",
       "      <td>0.690285</td>\n",
       "      <td>-1.144944</td>\n",
       "    </tr>\n",
       "    <tr>\n",
       "      <th>228</th>\n",
       "      <td>-0.983523</td>\n",
       "      <td>2023-01-01</td>\n",
       "      <td>2.329364</td>\n",
       "      <td>2.308645</td>\n",
       "      <td>2.111835</td>\n",
       "      <td>0.876142</td>\n",
       "      <td>-1.029514</td>\n",
       "    </tr>\n",
       "    <tr>\n",
       "      <th>229</th>\n",
       "      <td>-0.929189</td>\n",
       "      <td>2023-02-01</td>\n",
       "      <td>2.346077</td>\n",
       "      <td>2.321386</td>\n",
       "      <td>2.105191</td>\n",
       "      <td>2.110300</td>\n",
       "      <td>-0.967359</td>\n",
       "    </tr>\n",
       "  </tbody>\n",
       "</table>\n",
       "<p>230 rows × 7 columns</p>\n",
       "</div>"
      ],
      "text/plain": [
       "            7         ds         4         6         5         2         9\n",
       "0    1.251920 2004-01-01 -1.029153 -1.104750 -1.416239 -0.608993  1.287966\n",
       "1    1.314016 2004-02-01 -1.027566 -1.103041 -1.414467 -0.660437  1.367879\n",
       "2    0.902632 2004-03-01 -1.025418 -1.100710 -1.410924 -0.624280  0.755212\n",
       "3    0.956966 2004-04-01 -1.023737 -1.097292 -1.398966 -0.644912  0.977192\n",
       "4    0.995776 2004-05-01 -1.021870 -1.094728 -1.393208 -0.638794  1.154777\n",
       "..        ...        ...       ...       ...       ...       ...       ...\n",
       "225 -1.107714 2022-10-01  2.171106  2.158085  2.004655  0.989702 -1.198219\n",
       "226 -1.099953 2022-11-01  2.222739  2.209359  2.051601  0.967790 -1.198219\n",
       "227 -1.068905 2022-12-01  2.276145  2.261488  2.095448  0.690285 -1.144944\n",
       "228 -0.983523 2023-01-01  2.329364  2.308645  2.111835  0.876142 -1.029514\n",
       "229 -0.929189 2023-02-01  2.346077  2.321386  2.105191  2.110300 -0.967359\n",
       "\n",
       "[230 rows x 7 columns]"
      ]
     },
     "execution_count": 70,
     "metadata": {},
     "output_type": "execute_result"
    }
   ],
   "source": [
    "DataTBI_SelCol"
   ]
  },
  {
   "cell_type": "code",
   "execution_count": 68,
   "metadata": {},
   "outputs": [
    {
     "data": {
      "text/plain": [
       "True"
      ]
     },
     "execution_count": 68,
     "metadata": {},
     "output_type": "execute_result"
    }
   ],
   "source": []
  },
  {
   "cell_type": "code",
   "execution_count": null,
   "metadata": {},
   "outputs": [],
   "source": []
  },
  {
   "cell_type": "code",
   "execution_count": 15,
   "metadata": {},
   "outputs": [
    {
     "data": {
      "application/vnd.plotly.v1+json": {
       "config": {
        "plotlyServerURL": "https://plot.ly"
       },
       "data": [
        {
         "marker": {
          "color": "black",
          "size": 4
         },
         "mode": "markers",
         "name": "Actual",
         "type": "scatter",
         "x": [
          "2004-01-01T00:00:00",
          "2004-02-01T00:00:00",
          "2004-03-01T00:00:00",
          "2004-04-01T00:00:00",
          "2004-05-01T00:00:00",
          "2004-06-01T00:00:00",
          "2004-07-01T00:00:00",
          "2004-08-01T00:00:00",
          "2004-09-01T00:00:00",
          "2004-10-01T00:00:00",
          "2004-11-01T00:00:00",
          "2004-12-01T00:00:00",
          "2005-01-01T00:00:00",
          "2005-02-01T00:00:00",
          "2005-03-01T00:00:00",
          "2005-04-01T00:00:00",
          "2005-05-01T00:00:00",
          "2005-06-01T00:00:00",
          "2005-07-01T00:00:00",
          "2005-08-01T00:00:00",
          "2005-09-01T00:00:00",
          "2005-10-01T00:00:00",
          "2005-11-01T00:00:00",
          "2005-12-01T00:00:00",
          "2006-01-01T00:00:00",
          "2006-02-01T00:00:00",
          "2006-03-01T00:00:00",
          "2006-04-01T00:00:00",
          "2006-05-01T00:00:00",
          "2006-06-01T00:00:00",
          "2006-07-01T00:00:00",
          "2006-08-01T00:00:00",
          "2006-09-01T00:00:00",
          "2006-10-01T00:00:00",
          "2006-11-01T00:00:00",
          "2006-12-01T00:00:00",
          "2007-01-01T00:00:00",
          "2007-02-01T00:00:00",
          "2007-03-01T00:00:00",
          "2007-04-01T00:00:00",
          "2007-05-01T00:00:00",
          "2007-06-01T00:00:00",
          "2007-07-01T00:00:00",
          "2007-08-01T00:00:00",
          "2007-09-01T00:00:00",
          "2007-10-01T00:00:00",
          "2007-11-01T00:00:00",
          "2007-12-01T00:00:00",
          "2008-01-01T00:00:00",
          "2008-02-01T00:00:00",
          "2008-03-01T00:00:00",
          "2008-04-01T00:00:00",
          "2008-05-01T00:00:00",
          "2008-06-01T00:00:00",
          "2008-07-01T00:00:00",
          "2008-08-01T00:00:00",
          "2008-09-01T00:00:00",
          "2008-10-01T00:00:00",
          "2008-11-01T00:00:00",
          "2008-12-01T00:00:00",
          "2009-01-01T00:00:00",
          "2009-02-01T00:00:00",
          "2009-03-01T00:00:00",
          "2009-04-01T00:00:00",
          "2009-05-01T00:00:00",
          "2009-06-01T00:00:00",
          "2009-07-01T00:00:00",
          "2009-08-01T00:00:00",
          "2009-09-01T00:00:00",
          "2009-10-01T00:00:00",
          "2009-11-01T00:00:00",
          "2009-12-01T00:00:00",
          "2010-01-01T00:00:00",
          "2010-02-01T00:00:00",
          "2010-03-01T00:00:00",
          "2010-04-01T00:00:00",
          "2010-05-01T00:00:00",
          "2010-06-01T00:00:00",
          "2010-07-01T00:00:00",
          "2010-08-01T00:00:00",
          "2010-09-01T00:00:00",
          "2010-10-01T00:00:00",
          "2010-11-01T00:00:00",
          "2010-12-01T00:00:00",
          "2011-01-01T00:00:00",
          "2011-02-01T00:00:00",
          "2011-03-01T00:00:00",
          "2011-04-01T00:00:00",
          "2011-05-01T00:00:00",
          "2011-06-01T00:00:00",
          "2011-07-01T00:00:00",
          "2011-08-01T00:00:00",
          "2011-09-01T00:00:00",
          "2011-10-01T00:00:00",
          "2011-11-01T00:00:00",
          "2011-12-01T00:00:00",
          "2012-01-01T00:00:00",
          "2012-02-01T00:00:00",
          "2012-03-01T00:00:00",
          "2012-04-01T00:00:00",
          "2012-05-01T00:00:00",
          "2012-06-01T00:00:00",
          "2012-07-01T00:00:00",
          "2012-08-01T00:00:00",
          "2012-09-01T00:00:00",
          "2012-10-01T00:00:00",
          "2012-11-01T00:00:00",
          "2012-12-01T00:00:00",
          "2013-01-01T00:00:00",
          "2013-02-01T00:00:00",
          "2013-03-01T00:00:00",
          "2013-04-01T00:00:00",
          "2013-05-01T00:00:00",
          "2013-06-01T00:00:00",
          "2013-07-01T00:00:00",
          "2013-08-01T00:00:00",
          "2013-09-01T00:00:00",
          "2013-10-01T00:00:00",
          "2013-11-01T00:00:00",
          "2013-12-01T00:00:00",
          "2014-01-01T00:00:00",
          "2014-02-01T00:00:00",
          "2014-03-01T00:00:00",
          "2014-04-01T00:00:00",
          "2014-05-01T00:00:00",
          "2014-06-01T00:00:00",
          "2014-07-01T00:00:00",
          "2014-08-01T00:00:00",
          "2014-09-01T00:00:00",
          "2014-10-01T00:00:00",
          "2014-11-01T00:00:00",
          "2014-12-01T00:00:00",
          "2015-01-01T00:00:00",
          "2015-02-01T00:00:00",
          "2015-03-01T00:00:00",
          "2015-04-01T00:00:00",
          "2015-05-01T00:00:00",
          "2015-06-01T00:00:00",
          "2015-07-01T00:00:00",
          "2015-08-01T00:00:00",
          "2015-09-01T00:00:00",
          "2015-10-01T00:00:00",
          "2015-11-01T00:00:00",
          "2015-12-01T00:00:00",
          "2016-01-01T00:00:00",
          "2016-02-01T00:00:00",
          "2016-03-01T00:00:00",
          "2016-04-01T00:00:00",
          "2016-05-01T00:00:00",
          "2016-06-01T00:00:00",
          "2016-07-01T00:00:00",
          "2016-08-01T00:00:00",
          "2016-09-01T00:00:00",
          "2016-10-01T00:00:00",
          "2016-11-01T00:00:00",
          "2016-12-01T00:00:00",
          "2017-01-01T00:00:00",
          "2017-02-01T00:00:00",
          "2017-03-01T00:00:00",
          "2017-04-01T00:00:00",
          "2017-05-01T00:00:00",
          "2017-06-01T00:00:00",
          "2017-07-01T00:00:00",
          "2017-08-01T00:00:00",
          "2017-09-01T00:00:00",
          "2017-10-01T00:00:00",
          "2017-11-01T00:00:00",
          "2017-12-01T00:00:00",
          "2018-01-01T00:00:00",
          "2018-02-01T00:00:00",
          "2018-03-01T00:00:00",
          "2018-04-01T00:00:00",
          "2018-05-01T00:00:00",
          "2018-06-01T00:00:00",
          "2018-07-01T00:00:00",
          "2018-08-01T00:00:00",
          "2018-09-01T00:00:00",
          "2018-10-01T00:00:00",
          "2018-11-01T00:00:00",
          "2018-12-01T00:00:00",
          "2019-01-01T00:00:00",
          "2019-02-01T00:00:00",
          "2019-03-01T00:00:00",
          "2019-04-01T00:00:00",
          "2019-05-01T00:00:00",
          "2019-06-01T00:00:00",
          "2019-07-01T00:00:00",
          "2019-08-01T00:00:00",
          "2019-09-01T00:00:00",
          "2019-10-01T00:00:00",
          "2019-11-01T00:00:00",
          "2019-12-01T00:00:00",
          "2020-01-01T00:00:00",
          "2020-02-01T00:00:00",
          "2020-03-01T00:00:00",
          "2020-04-01T00:00:00",
          "2020-05-01T00:00:00",
          "2020-06-01T00:00:00",
          "2020-07-01T00:00:00",
          "2020-08-01T00:00:00",
          "2020-09-01T00:00:00",
          "2020-10-01T00:00:00",
          "2020-11-01T00:00:00",
          "2020-12-01T00:00:00",
          "2021-01-01T00:00:00",
          "2021-02-01T00:00:00",
          "2021-03-01T00:00:00",
          "2021-04-01T00:00:00",
          "2021-05-01T00:00:00",
          "2021-06-01T00:00:00",
          "2021-07-01T00:00:00",
          "2021-08-01T00:00:00",
          "2021-09-01T00:00:00",
          "2021-10-01T00:00:00",
          "2021-11-01T00:00:00",
          "2021-12-01T00:00:00",
          "2022-01-01T00:00:00",
          "2022-02-01T00:00:00",
          "2022-03-01T00:00:00",
          "2022-04-01T00:00:00",
          "2022-05-01T00:00:00",
          "2022-06-01T00:00:00",
          "2022-07-01T00:00:00",
          "2022-08-01T00:00:00",
          "2022-09-01T00:00:00",
          "2022-10-01T00:00:00",
          "2022-11-01T00:00:00",
          "2022-12-01T00:00:00",
          "2023-01-01T00:00:00",
          "2023-02-01T00:00:00"
         ],
         "y": [
          -1.771436087699677,
          -1.726806029027125,
          -1.2462594885738068,
          -0.85944652741295,
          -0.15389617759070334,
          -0.47605131897478953,
          0.8095776339039841,
          0.14243786340207032,
          0.66403966974846,
          0.5719539346874554,
          -0.8302322602909676,
          0.07067774578738925,
          -1.310326486087596,
          -1.7227624095337977,
          0.4883107873827973,
          -0.41434625291140625,
          0.17748244352739337,
          1.0520660173396084,
          0.9845163417570402,
          0.9183329077337077,
          -0.07673518218804175,
          0.11599808865472054,
          -0.5297473169341032,
          0.35683385374122406,
          -1.7447560806425049,
          -1.5524628199048225,
          -0.55189348679969,
          -1.0690070395136453,
          -0.20892882667408852,
          0.6671333782895352,
          0.6154381852729686,
          1.4824253188609637,
          0.3588942816524133,
          -0.45751649827331997,
          -0.5632662410758023,
          0.6462626190783377,
          -1.527826467022236,
          -1.8829117294034605,
          0.3046793695717513,
          -0.5881094364559353,
          1.141242786643498,
          0.48099742037202137,
          0.5291453696058592,
          1.2703771318131831,
          0.30101791352426566,
          0.41777112229415325,
          0.19116649031610242,
          0.13584548662663826,
          -0.9741840546550168,
          -1.7099538896461217,
          -0.7149700885158814,
          -1.2013750847354296,
          0.8396235907265518,
          0.8992733308085558,
          0.9955183552835498,
          1.484269170368535,
          -0.2866135750771195,
          0.977094430000383,
          0.2766601560574688,
          0.24978111244808104,
          -0.8336183677508036,
          -0.7979823396537685,
          -0.4114966196960598,
          0.20781553891425916,
          0.9318824252628978,
          1.0539100268977661,
          1.7800224093109955,
          1.066244224491264,
          1.517686609240884,
          0.542177708970144,
          -1.1039285300426003,
          -0.3900411374481382,
          -1.409512599053971,
          -1.9504570930273217,
          -0.842213292626217,
          -0.5693232051565041,
          -0.3191564419806774,
          0.5937796278851996,
          1.1889239401055185,
          0.841349608053675,
          0.29039443763419454,
          0.9661010809470717,
          -0.6882382879983185,
          0.6506737594194023,
          -1.4040155034645372,
          -1.4367083865691834,
          0.5156383121044512,
          -0.06275924169571194,
          0.4074443145730195,
          0.94187418125059,
          1.13735405531957,
          1.252665116844556,
          0.27065538282794777,
          0.19708882831082247,
          0.0901424699258597,
          0.2881910529479763,
          -1.4928147196527999,
          -1.4345318189503378,
          0.24328652318006921,
          -0.6399454302082689,
          0.6535480724343267,
          0.834258384479054,
          0.9022235793488039,
          1.7915531809970913,
          0.25708887653104817,
          -0.07111948136828362,
          0.0795710324026823,
          0.23024011350592602,
          -1.029094699875333,
          -1.3542233651433804,
          -0.11896484930976313,
          -1.376927781897511,
          0.9093196709586978,
          0.16924700881342747,
          0.7237473991537862,
          1.0850798686881218,
          -0.907489347869323,
          0.5675515544814237,
          -0.12184359191220892,
          -1.3043480625455546,
          -0.9314582011681959,
          -1.5243836033654694,
          -0.43502752354031854,
          0.7807756860118261,
          0.6113242714771963,
          0.3564250684688468,
          1.7367861492568808,
          1.5264966804810853,
          0.1509225519201785,
          1.243808062431768,
          -0.2785974217358313,
          -0.35290286069350674,
          -1.3335932852892292,
          -1.6837712084660497,
          -0.7084960569810187,
          -0.38699967387284495,
          0.5477696391704319,
          -0.07855269447448875,
          1.2347588251526054,
          0.8584719823524893,
          0.4885784745358345,
          0.4137681261965361,
          -0.7835486246485958,
          0.08520433554334,
          -1.5300829039782238,
          -1.5492409901262496,
          -0.10825116814422656,
          -0.5292105006683763,
          -0.3665384414219188,
          0.3914841410439768,
          1.099472190162925,
          0.3675549405442335,
          0.08350815423920095,
          -0.5218071425844538,
          -1.3381307925501138,
          -0.2374272517827772,
          -1.713634599609781,
          -1.2539541726640517,
          0.10907303423011469,
          -0.9807490604172013,
          0.6422958855276322,
          1.3514527300025705,
          0.8245337779798817,
          1.533309006847207,
          0.45230770660074615,
          -0.12440804638104583,
          -0.10702220454356992,
          0.039248188568716445,
          -1.5863271591271215,
          -1.8415209655285925,
          0.6719206308665615,
          -1.2798972887018003,
          0.3104666466820632,
          0.7104941314418851,
          0.6430665778147528,
          1.4510105727068103,
          0.08233610116964148,
          -0.10898382436465402,
          0.08056870060059797,
          -0.0951898999487553,
          -0.923417616349125,
          -1.2263728299057313,
          -0.13126152695606608,
          -0.25525047845672366,
          -0.43501581019395047,
          1.5362204048875892,
          0.12528275760740382,
          1.3419891167263243,
          -0.13797020744796437,
          0.4621827344615923,
          -0.24969825970947596,
          -0.9617503980327883,
          -1.7133768306084625,
          -1.3182283005331408,
          -0.5231446706815864,
          -0.1463109778771632,
          0.45327146371573945,
          -0.2956880012841215,
          1.8693977138293318,
          1.2303793637911364,
          0.07685020610084216,
          0.8695715183299556,
          -0.40415405420738704,
          0.16732077847790217,
          -1.157981996611876,
          -1.0383582291621174,
          1.1421061588452261,
          0.2955273331466164,
          -1.2929247818307432,
          0.16485538636105485,
          1.416178012083688,
          1.1958165905878257,
          0.3780639196089755,
          0.4355543606941365,
          -0.1919977212164084,
          0.6512310698247376,
          -1.1459473122547095,
          -1.7117358408258254,
          0.5412373984732527,
          -0.3643809528791576,
          0.06336846945396389,
          1.1393418482578657,
          1.5992707854796062,
          0.950588053414473,
          -0.2406292090182083,
          -0.05445027206491619,
          -0.7597658303482688,
          -0.3094383705539806,
          -1.6829818323320347,
          -1.292865134202328
         ]
        },
        {
         "hoverinfo": "skip",
         "line": {
          "width": 0
         },
         "mode": "lines",
         "type": "scatter",
         "x": [
          "2023-03-01T00:00:00",
          "2023-04-01T00:00:00",
          "2023-05-01T00:00:00",
          "2023-06-01T00:00:00",
          "2023-07-01T00:00:00",
          "2023-08-01T00:00:00",
          "2023-09-01T00:00:00",
          "2023-10-01T00:00:00",
          "2023-11-01T00:00:00",
          "2023-12-01T00:00:00",
          "2024-01-01T00:00:00",
          "2024-02-01T00:00:00"
         ],
         "y": [
          -0.6541243097995276,
          -1.1183560732790618,
          -0.3632088919804725,
          -0.0013721718839010387,
          0.5083462875907315,
          0.5485400228904208,
          -0.40928852663363674,
          -0.23868955405159184,
          -0.9663794183107646,
          -0.6039320587243174,
          -1.9754664624169278,
          -2.0681228437579486
         ]
        },
        {
         "fill": "tonexty",
         "fillcolor": "rgba(0, 114, 178, 0.2)",
         "line": {
          "color": "#0072B2",
          "width": 2
         },
         "mode": "lines",
         "name": "Predicted",
         "type": "scatter",
         "x": [
          "2023-03-01T00:00:00",
          "2023-04-01T00:00:00",
          "2023-05-01T00:00:00",
          "2023-06-01T00:00:00",
          "2023-07-01T00:00:00",
          "2023-08-01T00:00:00",
          "2023-09-01T00:00:00",
          "2023-10-01T00:00:00",
          "2023-11-01T00:00:00",
          "2023-12-01T00:00:00",
          "2024-01-01T00:00:00",
          "2024-02-01T00:00:00"
         ],
         "y": [
          -0.07605803401313815,
          -0.49799627876589164,
          0.26213132758747715,
          0.613769256904558,
          1.0758895068649155,
          1.1481779882229495,
          0.19833431605930343,
          0.3571131175847573,
          -0.35895301905779115,
          0.008166001597451122,
          -1.364465940208795,
          -1.491758381245156
         ]
        },
        {
         "fill": "tonexty",
         "fillcolor": "rgba(0, 114, 178, 0.2)",
         "hoverinfo": "skip",
         "line": {
          "width": 0
         },
         "mode": "lines",
         "type": "scatter",
         "x": [
          "2023-03-01T00:00:00",
          "2023-04-01T00:00:00",
          "2023-05-01T00:00:00",
          "2023-06-01T00:00:00",
          "2023-07-01T00:00:00",
          "2023-08-01T00:00:00",
          "2023-09-01T00:00:00",
          "2023-10-01T00:00:00",
          "2023-11-01T00:00:00",
          "2023-12-01T00:00:00",
          "2024-01-01T00:00:00",
          "2024-02-01T00:00:00"
         ],
         "y": [
          0.5400621052401279,
          0.07868588843968559,
          0.8549677279038225,
          1.2462939684608043,
          1.6391413466019276,
          1.7708317068336854,
          0.7359154403729338,
          0.9740716160648634,
          0.24975218628721152,
          0.6102908389769438,
          -0.757221849132088,
          -0.8839389790589313
         ]
        }
       ],
       "layout": {
        "height": 600,
        "showlegend": false,
        "template": {
         "data": {
          "bar": [
           {
            "error_x": {
             "color": "#2a3f5f"
            },
            "error_y": {
             "color": "#2a3f5f"
            },
            "marker": {
             "line": {
              "color": "#E5ECF6",
              "width": 0.5
             },
             "pattern": {
              "fillmode": "overlay",
              "size": 10,
              "solidity": 0.2
             }
            },
            "type": "bar"
           }
          ],
          "barpolar": [
           {
            "marker": {
             "line": {
              "color": "#E5ECF6",
              "width": 0.5
             },
             "pattern": {
              "fillmode": "overlay",
              "size": 10,
              "solidity": 0.2
             }
            },
            "type": "barpolar"
           }
          ],
          "carpet": [
           {
            "aaxis": {
             "endlinecolor": "#2a3f5f",
             "gridcolor": "white",
             "linecolor": "white",
             "minorgridcolor": "white",
             "startlinecolor": "#2a3f5f"
            },
            "baxis": {
             "endlinecolor": "#2a3f5f",
             "gridcolor": "white",
             "linecolor": "white",
             "minorgridcolor": "white",
             "startlinecolor": "#2a3f5f"
            },
            "type": "carpet"
           }
          ],
          "choropleth": [
           {
            "colorbar": {
             "outlinewidth": 0,
             "ticks": ""
            },
            "type": "choropleth"
           }
          ],
          "contour": [
           {
            "colorbar": {
             "outlinewidth": 0,
             "ticks": ""
            },
            "colorscale": [
             [
              0,
              "#0d0887"
             ],
             [
              0.1111111111111111,
              "#46039f"
             ],
             [
              0.2222222222222222,
              "#7201a8"
             ],
             [
              0.3333333333333333,
              "#9c179e"
             ],
             [
              0.4444444444444444,
              "#bd3786"
             ],
             [
              0.5555555555555556,
              "#d8576b"
             ],
             [
              0.6666666666666666,
              "#ed7953"
             ],
             [
              0.7777777777777778,
              "#fb9f3a"
             ],
             [
              0.8888888888888888,
              "#fdca26"
             ],
             [
              1,
              "#f0f921"
             ]
            ],
            "type": "contour"
           }
          ],
          "contourcarpet": [
           {
            "colorbar": {
             "outlinewidth": 0,
             "ticks": ""
            },
            "type": "contourcarpet"
           }
          ],
          "heatmap": [
           {
            "colorbar": {
             "outlinewidth": 0,
             "ticks": ""
            },
            "colorscale": [
             [
              0,
              "#0d0887"
             ],
             [
              0.1111111111111111,
              "#46039f"
             ],
             [
              0.2222222222222222,
              "#7201a8"
             ],
             [
              0.3333333333333333,
              "#9c179e"
             ],
             [
              0.4444444444444444,
              "#bd3786"
             ],
             [
              0.5555555555555556,
              "#d8576b"
             ],
             [
              0.6666666666666666,
              "#ed7953"
             ],
             [
              0.7777777777777778,
              "#fb9f3a"
             ],
             [
              0.8888888888888888,
              "#fdca26"
             ],
             [
              1,
              "#f0f921"
             ]
            ],
            "type": "heatmap"
           }
          ],
          "heatmapgl": [
           {
            "colorbar": {
             "outlinewidth": 0,
             "ticks": ""
            },
            "colorscale": [
             [
              0,
              "#0d0887"
             ],
             [
              0.1111111111111111,
              "#46039f"
             ],
             [
              0.2222222222222222,
              "#7201a8"
             ],
             [
              0.3333333333333333,
              "#9c179e"
             ],
             [
              0.4444444444444444,
              "#bd3786"
             ],
             [
              0.5555555555555556,
              "#d8576b"
             ],
             [
              0.6666666666666666,
              "#ed7953"
             ],
             [
              0.7777777777777778,
              "#fb9f3a"
             ],
             [
              0.8888888888888888,
              "#fdca26"
             ],
             [
              1,
              "#f0f921"
             ]
            ],
            "type": "heatmapgl"
           }
          ],
          "histogram": [
           {
            "marker": {
             "pattern": {
              "fillmode": "overlay",
              "size": 10,
              "solidity": 0.2
             }
            },
            "type": "histogram"
           }
          ],
          "histogram2d": [
           {
            "colorbar": {
             "outlinewidth": 0,
             "ticks": ""
            },
            "colorscale": [
             [
              0,
              "#0d0887"
             ],
             [
              0.1111111111111111,
              "#46039f"
             ],
             [
              0.2222222222222222,
              "#7201a8"
             ],
             [
              0.3333333333333333,
              "#9c179e"
             ],
             [
              0.4444444444444444,
              "#bd3786"
             ],
             [
              0.5555555555555556,
              "#d8576b"
             ],
             [
              0.6666666666666666,
              "#ed7953"
             ],
             [
              0.7777777777777778,
              "#fb9f3a"
             ],
             [
              0.8888888888888888,
              "#fdca26"
             ],
             [
              1,
              "#f0f921"
             ]
            ],
            "type": "histogram2d"
           }
          ],
          "histogram2dcontour": [
           {
            "colorbar": {
             "outlinewidth": 0,
             "ticks": ""
            },
            "colorscale": [
             [
              0,
              "#0d0887"
             ],
             [
              0.1111111111111111,
              "#46039f"
             ],
             [
              0.2222222222222222,
              "#7201a8"
             ],
             [
              0.3333333333333333,
              "#9c179e"
             ],
             [
              0.4444444444444444,
              "#bd3786"
             ],
             [
              0.5555555555555556,
              "#d8576b"
             ],
             [
              0.6666666666666666,
              "#ed7953"
             ],
             [
              0.7777777777777778,
              "#fb9f3a"
             ],
             [
              0.8888888888888888,
              "#fdca26"
             ],
             [
              1,
              "#f0f921"
             ]
            ],
            "type": "histogram2dcontour"
           }
          ],
          "mesh3d": [
           {
            "colorbar": {
             "outlinewidth": 0,
             "ticks": ""
            },
            "type": "mesh3d"
           }
          ],
          "parcoords": [
           {
            "line": {
             "colorbar": {
              "outlinewidth": 0,
              "ticks": ""
             }
            },
            "type": "parcoords"
           }
          ],
          "pie": [
           {
            "automargin": true,
            "type": "pie"
           }
          ],
          "scatter": [
           {
            "fillpattern": {
             "fillmode": "overlay",
             "size": 10,
             "solidity": 0.2
            },
            "type": "scatter"
           }
          ],
          "scatter3d": [
           {
            "line": {
             "colorbar": {
              "outlinewidth": 0,
              "ticks": ""
             }
            },
            "marker": {
             "colorbar": {
              "outlinewidth": 0,
              "ticks": ""
             }
            },
            "type": "scatter3d"
           }
          ],
          "scattercarpet": [
           {
            "marker": {
             "colorbar": {
              "outlinewidth": 0,
              "ticks": ""
             }
            },
            "type": "scattercarpet"
           }
          ],
          "scattergeo": [
           {
            "marker": {
             "colorbar": {
              "outlinewidth": 0,
              "ticks": ""
             }
            },
            "type": "scattergeo"
           }
          ],
          "scattergl": [
           {
            "marker": {
             "colorbar": {
              "outlinewidth": 0,
              "ticks": ""
             }
            },
            "type": "scattergl"
           }
          ],
          "scattermapbox": [
           {
            "marker": {
             "colorbar": {
              "outlinewidth": 0,
              "ticks": ""
             }
            },
            "type": "scattermapbox"
           }
          ],
          "scatterpolar": [
           {
            "marker": {
             "colorbar": {
              "outlinewidth": 0,
              "ticks": ""
             }
            },
            "type": "scatterpolar"
           }
          ],
          "scatterpolargl": [
           {
            "marker": {
             "colorbar": {
              "outlinewidth": 0,
              "ticks": ""
             }
            },
            "type": "scatterpolargl"
           }
          ],
          "scatterternary": [
           {
            "marker": {
             "colorbar": {
              "outlinewidth": 0,
              "ticks": ""
             }
            },
            "type": "scatterternary"
           }
          ],
          "surface": [
           {
            "colorbar": {
             "outlinewidth": 0,
             "ticks": ""
            },
            "colorscale": [
             [
              0,
              "#0d0887"
             ],
             [
              0.1111111111111111,
              "#46039f"
             ],
             [
              0.2222222222222222,
              "#7201a8"
             ],
             [
              0.3333333333333333,
              "#9c179e"
             ],
             [
              0.4444444444444444,
              "#bd3786"
             ],
             [
              0.5555555555555556,
              "#d8576b"
             ],
             [
              0.6666666666666666,
              "#ed7953"
             ],
             [
              0.7777777777777778,
              "#fb9f3a"
             ],
             [
              0.8888888888888888,
              "#fdca26"
             ],
             [
              1,
              "#f0f921"
             ]
            ],
            "type": "surface"
           }
          ],
          "table": [
           {
            "cells": {
             "fill": {
              "color": "#EBF0F8"
             },
             "line": {
              "color": "white"
             }
            },
            "header": {
             "fill": {
              "color": "#C8D4E3"
             },
             "line": {
              "color": "white"
             }
            },
            "type": "table"
           }
          ]
         },
         "layout": {
          "annotationdefaults": {
           "arrowcolor": "#2a3f5f",
           "arrowhead": 0,
           "arrowwidth": 1
          },
          "autotypenumbers": "strict",
          "coloraxis": {
           "colorbar": {
            "outlinewidth": 0,
            "ticks": ""
           }
          },
          "colorscale": {
           "diverging": [
            [
             0,
             "#8e0152"
            ],
            [
             0.1,
             "#c51b7d"
            ],
            [
             0.2,
             "#de77ae"
            ],
            [
             0.3,
             "#f1b6da"
            ],
            [
             0.4,
             "#fde0ef"
            ],
            [
             0.5,
             "#f7f7f7"
            ],
            [
             0.6,
             "#e6f5d0"
            ],
            [
             0.7,
             "#b8e186"
            ],
            [
             0.8,
             "#7fbc41"
            ],
            [
             0.9,
             "#4d9221"
            ],
            [
             1,
             "#276419"
            ]
           ],
           "sequential": [
            [
             0,
             "#0d0887"
            ],
            [
             0.1111111111111111,
             "#46039f"
            ],
            [
             0.2222222222222222,
             "#7201a8"
            ],
            [
             0.3333333333333333,
             "#9c179e"
            ],
            [
             0.4444444444444444,
             "#bd3786"
            ],
            [
             0.5555555555555556,
             "#d8576b"
            ],
            [
             0.6666666666666666,
             "#ed7953"
            ],
            [
             0.7777777777777778,
             "#fb9f3a"
            ],
            [
             0.8888888888888888,
             "#fdca26"
            ],
            [
             1,
             "#f0f921"
            ]
           ],
           "sequentialminus": [
            [
             0,
             "#0d0887"
            ],
            [
             0.1111111111111111,
             "#46039f"
            ],
            [
             0.2222222222222222,
             "#7201a8"
            ],
            [
             0.3333333333333333,
             "#9c179e"
            ],
            [
             0.4444444444444444,
             "#bd3786"
            ],
            [
             0.5555555555555556,
             "#d8576b"
            ],
            [
             0.6666666666666666,
             "#ed7953"
            ],
            [
             0.7777777777777778,
             "#fb9f3a"
            ],
            [
             0.8888888888888888,
             "#fdca26"
            ],
            [
             1,
             "#f0f921"
            ]
           ]
          },
          "colorway": [
           "#636efa",
           "#EF553B",
           "#00cc96",
           "#ab63fa",
           "#FFA15A",
           "#19d3f3",
           "#FF6692",
           "#B6E880",
           "#FF97FF",
           "#FECB52"
          ],
          "font": {
           "color": "#2a3f5f"
          },
          "geo": {
           "bgcolor": "white",
           "lakecolor": "white",
           "landcolor": "#E5ECF6",
           "showlakes": true,
           "showland": true,
           "subunitcolor": "white"
          },
          "hoverlabel": {
           "align": "left"
          },
          "hovermode": "closest",
          "mapbox": {
           "style": "light"
          },
          "paper_bgcolor": "white",
          "plot_bgcolor": "#E5ECF6",
          "polar": {
           "angularaxis": {
            "gridcolor": "white",
            "linecolor": "white",
            "ticks": ""
           },
           "bgcolor": "#E5ECF6",
           "radialaxis": {
            "gridcolor": "white",
            "linecolor": "white",
            "ticks": ""
           }
          },
          "scene": {
           "xaxis": {
            "backgroundcolor": "#E5ECF6",
            "gridcolor": "white",
            "gridwidth": 2,
            "linecolor": "white",
            "showbackground": true,
            "ticks": "",
            "zerolinecolor": "white"
           },
           "yaxis": {
            "backgroundcolor": "#E5ECF6",
            "gridcolor": "white",
            "gridwidth": 2,
            "linecolor": "white",
            "showbackground": true,
            "ticks": "",
            "zerolinecolor": "white"
           },
           "zaxis": {
            "backgroundcolor": "#E5ECF6",
            "gridcolor": "white",
            "gridwidth": 2,
            "linecolor": "white",
            "showbackground": true,
            "ticks": "",
            "zerolinecolor": "white"
           }
          },
          "shapedefaults": {
           "line": {
            "color": "#2a3f5f"
           }
          },
          "ternary": {
           "aaxis": {
            "gridcolor": "white",
            "linecolor": "white",
            "ticks": ""
           },
           "baxis": {
            "gridcolor": "white",
            "linecolor": "white",
            "ticks": ""
           },
           "bgcolor": "#E5ECF6",
           "caxis": {
            "gridcolor": "white",
            "linecolor": "white",
            "ticks": ""
           }
          },
          "title": {
           "x": 0.05
          },
          "xaxis": {
           "automargin": true,
           "gridcolor": "white",
           "linecolor": "white",
           "ticks": "",
           "title": {
            "standoff": 15
           },
           "zerolinecolor": "white",
           "zerolinewidth": 2
          },
          "yaxis": {
           "automargin": true,
           "gridcolor": "white",
           "linecolor": "white",
           "ticks": "",
           "title": {
            "standoff": 15
           },
           "zerolinecolor": "white",
           "zerolinewidth": 2
          }
         }
        },
        "width": 900,
        "xaxis": {
         "rangeselector": {
          "buttons": [
           {
            "count": 7,
            "label": "1w",
            "step": "day",
            "stepmode": "backward"
           },
           {
            "count": 1,
            "label": "1m",
            "step": "month",
            "stepmode": "backward"
           },
           {
            "count": 6,
            "label": "6m",
            "step": "month",
            "stepmode": "backward"
           },
           {
            "count": 1,
            "label": "1y",
            "step": "year",
            "stepmode": "backward"
           },
           {
            "step": "all"
           }
          ]
         },
         "rangeslider": {
          "visible": true
         },
         "title": {
          "text": "ds"
         },
         "type": "date"
        },
        "yaxis": {
         "title": {
          "text": "y"
         }
        }
       }
      }
     },
     "metadata": {},
     "output_type": "display_data"
    },
    {
     "data": {
      "application/vnd.plotly.v1+json": {
       "config": {
        "plotlyServerURL": "https://plot.ly"
       },
       "data": [
        {
         "line": {
          "color": "#0072B2",
          "width": 2
         },
         "mode": "lines",
         "name": "trend",
         "type": "scatter",
         "x": [
          "2023-03-01T00:00:00",
          "2023-04-01T00:00:00",
          "2023-05-01T00:00:00",
          "2023-06-01T00:00:00",
          "2023-07-01T00:00:00",
          "2023-08-01T00:00:00",
          "2023-09-01T00:00:00",
          "2023-10-01T00:00:00",
          "2023-11-01T00:00:00",
          "2023-12-01T00:00:00",
          "2024-01-01T00:00:00",
          "2024-02-01T00:00:00"
         ],
         "xaxis": "x",
         "y": [
          0.4170145604570871,
          0.4212126939215343,
          0.42527540372583783,
          0.429473537190285,
          0.43353624699458887,
          0.4377343804590358,
          0.441932513923483,
          0.4459952237277868,
          0.4501933571922339,
          0.4542560669965374,
          0.4584542004609847,
          0.46265233392543176
         ],
         "yaxis": "y"
        },
        {
         "line": {
          "color": "rgba(0, 114, 178, 0.2)",
          "width": 0
         },
         "mode": "lines",
         "name": "trend_upper",
         "type": "scatter",
         "x": [
          "2023-03-01T00:00:00",
          "2023-04-01T00:00:00",
          "2023-05-01T00:00:00",
          "2023-06-01T00:00:00",
          "2023-07-01T00:00:00",
          "2023-08-01T00:00:00",
          "2023-09-01T00:00:00",
          "2023-10-01T00:00:00",
          "2023-11-01T00:00:00",
          "2023-12-01T00:00:00",
          "2024-01-01T00:00:00",
          "2024-02-01T00:00:00"
         ],
         "xaxis": "x",
         "y": [
          0.4170145604570871,
          0.4212126939737318,
          0.42527540430945815,
          0.4294735383571104,
          0.4335362487092318,
          0.43773438318783187,
          0.4419325177321261,
          0.4459952285103391,
          0.4501933629707828,
          0.4542560741358305,
          0.4584542088500069,
          0.46265234374103453
         ],
         "yaxis": "y"
        },
        {
         "fill": "tonexty",
         "fillcolor": "rgba(0, 114, 178, 0.2)",
         "line": {
          "color": "rgba(0, 114, 178, 0.2)",
          "width": 0
         },
         "mode": "lines",
         "name": "trend_lower",
         "type": "scatter",
         "x": [
          "2023-03-01T00:00:00",
          "2023-04-01T00:00:00",
          "2023-05-01T00:00:00",
          "2023-06-01T00:00:00",
          "2023-07-01T00:00:00",
          "2023-08-01T00:00:00",
          "2023-09-01T00:00:00",
          "2023-10-01T00:00:00",
          "2023-11-01T00:00:00",
          "2023-12-01T00:00:00",
          "2024-01-01T00:00:00",
          "2024-02-01T00:00:00"
         ],
         "xaxis": "x",
         "y": [
          0.4170145604570871,
          0.4212126938275437,
          0.42527540327844426,
          0.4294735362377421,
          0.4335362455469745,
          0.43773437804031856,
          0.4419325107450608,
          0.44599521947862675,
          0.4501933516478323,
          0.4542560600937261,
          0.4584541921743121,
          0.46265232427502057
         ],
         "yaxis": "y"
        },
        {
         "line": {
          "color": "#0072B2",
          "width": 2
         },
         "mode": "lines",
         "name": "extra_regressors_additive",
         "type": "scatter",
         "x": [
          "2023-03-01T00:00:00",
          "2023-04-01T00:00:00",
          "2023-05-01T00:00:00",
          "2023-06-01T00:00:00",
          "2023-07-01T00:00:00",
          "2023-08-01T00:00:00",
          "2023-09-01T00:00:00",
          "2023-10-01T00:00:00",
          "2023-11-01T00:00:00",
          "2023-12-01T00:00:00",
          "2024-01-01T00:00:00",
          "2024-02-01T00:00:00"
         ],
         "xaxis": "x2",
         "y": [
          -0.4722607899390384,
          -0.5174867854458565,
          -0.375722504459874,
          -0.38299757945748947,
          -0.34817293432035495,
          -0.2819989834132732,
          -0.32530738875353166,
          -0.2789741505681966,
          -0.4127746032849284,
          -0.6899835023510138,
          -0.6387172512332693,
          -0.6395965251587036
         ],
         "yaxis": "y2"
        },
        {
         "line": {
          "color": "#0072B2",
          "width": 2
         },
         "mode": "lines",
         "name": "yearly",
         "type": "scatter",
         "x": [
          "2017-01-01T00:00:00",
          "2017-01-02T00:00:59.178082",
          "2017-01-03T00:01:58.356164",
          "2017-01-04T00:02:57.534246",
          "2017-01-05T00:03:56.712328",
          "2017-01-06T00:04:55.890411",
          "2017-01-07T00:05:55.068493",
          "2017-01-08T00:06:54.246575",
          "2017-01-09T00:07:53.424657",
          "2017-01-10T00:08:52.602739",
          "2017-01-11T00:09:51.780822",
          "2017-01-12T00:10:50.958904",
          "2017-01-13T00:11:50.136986",
          "2017-01-14T00:12:49.315068",
          "2017-01-15T00:13:48.493150",
          "2017-01-16T00:14:47.671232",
          "2017-01-17T00:15:46.849315",
          "2017-01-18T00:16:46.027397",
          "2017-01-19T00:17:45.205479",
          "2017-01-20T00:18:44.383561",
          "2017-01-21T00:19:43.561643",
          "2017-01-22T00:20:42.739726",
          "2017-01-23T00:21:41.917808",
          "2017-01-24T00:22:41.095890",
          "2017-01-25T00:23:40.273972",
          "2017-01-26T00:24:39.452054",
          "2017-01-27T00:25:38.630137",
          "2017-01-28T00:26:37.808219",
          "2017-01-29T00:27:36.986301",
          "2017-01-30T00:28:36.164383",
          "2017-01-31T00:29:35.342465",
          "2017-02-01T00:30:34.520547",
          "2017-02-02T00:31:33.698630",
          "2017-02-03T00:32:32.876712",
          "2017-02-04T00:33:32.054794",
          "2017-02-05T00:34:31.232876",
          "2017-02-06T00:35:30.410958",
          "2017-02-07T00:36:29.589041",
          "2017-02-08T00:37:28.767123",
          "2017-02-09T00:38:27.945205",
          "2017-02-10T00:39:27.123287",
          "2017-02-11T00:40:26.301369",
          "2017-02-12T00:41:25.479452",
          "2017-02-13T00:42:24.657534",
          "2017-02-14T00:43:23.835616",
          "2017-02-15T00:44:23.013698",
          "2017-02-16T00:45:22.191780",
          "2017-02-17T00:46:21.369862",
          "2017-02-18T00:47:20.547945",
          "2017-02-19T00:48:19.726027",
          "2017-02-20T00:49:18.904109",
          "2017-02-21T00:50:18.082191",
          "2017-02-22T00:51:17.260273",
          "2017-02-23T00:52:16.438356",
          "2017-02-24T00:53:15.616438",
          "2017-02-25T00:54:14.794520",
          "2017-02-26T00:55:13.972602",
          "2017-02-27T00:56:13.150684",
          "2017-02-28T00:57:12.328767",
          "2017-03-01T00:58:11.506849",
          "2017-03-02T00:59:10.684931",
          "2017-03-03T01:00:09.863013",
          "2017-03-04T01:01:09.041095",
          "2017-03-05T01:02:08.219177",
          "2017-03-06T01:03:07.397260",
          "2017-03-07T01:04:06.575342",
          "2017-03-08T01:05:05.753424",
          "2017-03-09T01:06:04.931506",
          "2017-03-10T01:07:04.109588",
          "2017-03-11T01:08:03.287671",
          "2017-03-12T01:09:02.465753",
          "2017-03-13T01:10:01.643835",
          "2017-03-14T01:11:00.821917",
          "2017-03-15T01:12:00",
          "2017-03-16T01:12:59.178082",
          "2017-03-17T01:13:58.356164",
          "2017-03-18T01:14:57.534246",
          "2017-03-19T01:15:56.712328",
          "2017-03-20T01:16:55.890411",
          "2017-03-21T01:17:55.068493",
          "2017-03-22T01:18:54.246575",
          "2017-03-23T01:19:53.424657",
          "2017-03-24T01:20:52.602739",
          "2017-03-25T01:21:51.780822",
          "2017-03-26T01:22:50.958904",
          "2017-03-27T01:23:50.136986",
          "2017-03-28T01:24:49.315068",
          "2017-03-29T01:25:48.493150",
          "2017-03-30T01:26:47.671232",
          "2017-03-31T01:27:46.849315",
          "2017-04-01T01:28:46.027397",
          "2017-04-02T01:29:45.205479",
          "2017-04-03T01:30:44.383561",
          "2017-04-04T01:31:43.561643",
          "2017-04-05T01:32:42.739726",
          "2017-04-06T01:33:41.917808",
          "2017-04-07T01:34:41.095890",
          "2017-04-08T01:35:40.273972",
          "2017-04-09T01:36:39.452054",
          "2017-04-10T01:37:38.630137",
          "2017-04-11T01:38:37.808219",
          "2017-04-12T01:39:36.986301",
          "2017-04-13T01:40:36.164383",
          "2017-04-14T01:41:35.342465",
          "2017-04-15T01:42:34.520547",
          "2017-04-16T01:43:33.698630",
          "2017-04-17T01:44:32.876712",
          "2017-04-18T01:45:32.054794",
          "2017-04-19T01:46:31.232876",
          "2017-04-20T01:47:30.410958",
          "2017-04-21T01:48:29.589041",
          "2017-04-22T01:49:28.767123",
          "2017-04-23T01:50:27.945205",
          "2017-04-24T01:51:27.123287",
          "2017-04-25T01:52:26.301369",
          "2017-04-26T01:53:25.479452",
          "2017-04-27T01:54:24.657534",
          "2017-04-28T01:55:23.835616",
          "2017-04-29T01:56:23.013698",
          "2017-04-30T01:57:22.191780",
          "2017-05-01T01:58:21.369862",
          "2017-05-02T01:59:20.547945",
          "2017-05-03T02:00:19.726027",
          "2017-05-04T02:01:18.904109",
          "2017-05-05T02:02:18.082191",
          "2017-05-06T02:03:17.260273",
          "2017-05-07T02:04:16.438356",
          "2017-05-08T02:05:15.616438",
          "2017-05-09T02:06:14.794520",
          "2017-05-10T02:07:13.972602",
          "2017-05-11T02:08:13.150684",
          "2017-05-12T02:09:12.328767",
          "2017-05-13T02:10:11.506849",
          "2017-05-14T02:11:10.684931",
          "2017-05-15T02:12:09.863013",
          "2017-05-16T02:13:09.041095",
          "2017-05-17T02:14:08.219177",
          "2017-05-18T02:15:07.397260",
          "2017-05-19T02:16:06.575342",
          "2017-05-20T02:17:05.753424",
          "2017-05-21T02:18:04.931506",
          "2017-05-22T02:19:04.109588",
          "2017-05-23T02:20:03.287671",
          "2017-05-24T02:21:02.465753",
          "2017-05-25T02:22:01.643835",
          "2017-05-26T02:23:00.821917",
          "2017-05-27T02:24:00",
          "2017-05-28T02:24:59.178082",
          "2017-05-29T02:25:58.356164",
          "2017-05-30T02:26:57.534246",
          "2017-05-31T02:27:56.712328",
          "2017-06-01T02:28:55.890411",
          "2017-06-02T02:29:55.068493",
          "2017-06-03T02:30:54.246575",
          "2017-06-04T02:31:53.424657",
          "2017-06-05T02:32:52.602739",
          "2017-06-06T02:33:51.780822",
          "2017-06-07T02:34:50.958904",
          "2017-06-08T02:35:50.136986",
          "2017-06-09T02:36:49.315068",
          "2017-06-10T02:37:48.493150",
          "2017-06-11T02:38:47.671232",
          "2017-06-12T02:39:46.849315",
          "2017-06-13T02:40:46.027397",
          "2017-06-14T02:41:45.205479",
          "2017-06-15T02:42:44.383561",
          "2017-06-16T02:43:43.561643",
          "2017-06-17T02:44:42.739726",
          "2017-06-18T02:45:41.917808",
          "2017-06-19T02:46:41.095890",
          "2017-06-20T02:47:40.273972",
          "2017-06-21T02:48:39.452054",
          "2017-06-22T02:49:38.630137",
          "2017-06-23T02:50:37.808219",
          "2017-06-24T02:51:36.986301",
          "2017-06-25T02:52:36.164383",
          "2017-06-26T02:53:35.342465",
          "2017-06-27T02:54:34.520547",
          "2017-06-28T02:55:33.698630",
          "2017-06-29T02:56:32.876712",
          "2017-06-30T02:57:32.054794",
          "2017-07-01T02:58:31.232876",
          "2017-07-02T02:59:30.410958",
          "2017-07-03T03:00:29.589041",
          "2017-07-04T03:01:28.767123",
          "2017-07-05T03:02:27.945205",
          "2017-07-06T03:03:27.123287",
          "2017-07-07T03:04:26.301369",
          "2017-07-08T03:05:25.479452",
          "2017-07-09T03:06:24.657534",
          "2017-07-10T03:07:23.835616",
          "2017-07-11T03:08:23.013698",
          "2017-07-12T03:09:22.191780",
          "2017-07-13T03:10:21.369862",
          "2017-07-14T03:11:20.547945",
          "2017-07-15T03:12:19.726027",
          "2017-07-16T03:13:18.904109",
          "2017-07-17T03:14:18.082191",
          "2017-07-18T03:15:17.260273",
          "2017-07-19T03:16:16.438356",
          "2017-07-20T03:17:15.616438",
          "2017-07-21T03:18:14.794520",
          "2017-07-22T03:19:13.972602",
          "2017-07-23T03:20:13.150684",
          "2017-07-24T03:21:12.328767",
          "2017-07-25T03:22:11.506849",
          "2017-07-26T03:23:10.684931",
          "2017-07-27T03:24:09.863013",
          "2017-07-28T03:25:09.041095",
          "2017-07-29T03:26:08.219177",
          "2017-07-30T03:27:07.397260",
          "2017-07-31T03:28:06.575342",
          "2017-08-01T03:29:05.753424",
          "2017-08-02T03:30:04.931506",
          "2017-08-03T03:31:04.109588",
          "2017-08-04T03:32:03.287671",
          "2017-08-05T03:33:02.465753",
          "2017-08-06T03:34:01.643835",
          "2017-08-07T03:35:00.821917",
          "2017-08-08T03:36:00",
          "2017-08-09T03:36:59.178082",
          "2017-08-10T03:37:58.356164",
          "2017-08-11T03:38:57.534246",
          "2017-08-12T03:39:56.712328",
          "2017-08-13T03:40:55.890411",
          "2017-08-14T03:41:55.068493",
          "2017-08-15T03:42:54.246575",
          "2017-08-16T03:43:53.424657",
          "2017-08-17T03:44:52.602739",
          "2017-08-18T03:45:51.780822",
          "2017-08-19T03:46:50.958904",
          "2017-08-20T03:47:50.136986",
          "2017-08-21T03:48:49.315068",
          "2017-08-22T03:49:48.493150",
          "2017-08-23T03:50:47.671232",
          "2017-08-24T03:51:46.849315",
          "2017-08-25T03:52:46.027397",
          "2017-08-26T03:53:45.205479",
          "2017-08-27T03:54:44.383561",
          "2017-08-28T03:55:43.561643",
          "2017-08-29T03:56:42.739726",
          "2017-08-30T03:57:41.917808",
          "2017-08-31T03:58:41.095890",
          "2017-09-01T03:59:40.273972",
          "2017-09-02T04:00:39.452054",
          "2017-09-03T04:01:38.630137",
          "2017-09-04T04:02:37.808219",
          "2017-09-05T04:03:36.986301",
          "2017-09-06T04:04:36.164383",
          "2017-09-07T04:05:35.342465",
          "2017-09-08T04:06:34.520547",
          "2017-09-09T04:07:33.698630",
          "2017-09-10T04:08:32.876712",
          "2017-09-11T04:09:32.054794",
          "2017-09-12T04:10:31.232876",
          "2017-09-13T04:11:30.410958",
          "2017-09-14T04:12:29.589041",
          "2017-09-15T04:13:28.767123",
          "2017-09-16T04:14:27.945205",
          "2017-09-17T04:15:27.123287",
          "2017-09-18T04:16:26.301369",
          "2017-09-19T04:17:25.479452",
          "2017-09-20T04:18:24.657534",
          "2017-09-21T04:19:23.835616",
          "2017-09-22T04:20:23.013698",
          "2017-09-23T04:21:22.191780",
          "2017-09-24T04:22:21.369862",
          "2017-09-25T04:23:20.547945",
          "2017-09-26T04:24:19.726027",
          "2017-09-27T04:25:18.904109",
          "2017-09-28T04:26:18.082191",
          "2017-09-29T04:27:17.260273",
          "2017-09-30T04:28:16.438356",
          "2017-10-01T04:29:15.616438",
          "2017-10-02T04:30:14.794520",
          "2017-10-03T04:31:13.972602",
          "2017-10-04T04:32:13.150684",
          "2017-10-05T04:33:12.328767",
          "2017-10-06T04:34:11.506849",
          "2017-10-07T04:35:10.684931",
          "2017-10-08T04:36:09.863013",
          "2017-10-09T04:37:09.041095",
          "2017-10-10T04:38:08.219177",
          "2017-10-11T04:39:07.397260",
          "2017-10-12T04:40:06.575342",
          "2017-10-13T04:41:05.753424",
          "2017-10-14T04:42:04.931506",
          "2017-10-15T04:43:04.109588",
          "2017-10-16T04:44:03.287671",
          "2017-10-17T04:45:02.465753",
          "2017-10-18T04:46:01.643835",
          "2017-10-19T04:47:00.821917",
          "2017-10-20T04:48:00",
          "2017-10-21T04:48:59.178082",
          "2017-10-22T04:49:58.356164",
          "2017-10-23T04:50:57.534246",
          "2017-10-24T04:51:56.712328",
          "2017-10-25T04:52:55.890411",
          "2017-10-26T04:53:55.068493",
          "2017-10-27T04:54:54.246575",
          "2017-10-28T04:55:53.424657",
          "2017-10-29T04:56:52.602739",
          "2017-10-30T04:57:51.780822",
          "2017-10-31T04:58:50.958904",
          "2017-11-01T04:59:50.136986",
          "2017-11-02T05:00:49.315068",
          "2017-11-03T05:01:48.493150",
          "2017-11-04T05:02:47.671232",
          "2017-11-05T05:03:46.849315",
          "2017-11-06T05:04:46.027397",
          "2017-11-07T05:05:45.205479",
          "2017-11-08T05:06:44.383561",
          "2017-11-09T05:07:43.561643",
          "2017-11-10T05:08:42.739726",
          "2017-11-11T05:09:41.917808",
          "2017-11-12T05:10:41.095890",
          "2017-11-13T05:11:40.273972",
          "2017-11-14T05:12:39.452054",
          "2017-11-15T05:13:38.630137",
          "2017-11-16T05:14:37.808219",
          "2017-11-17T05:15:36.986301",
          "2017-11-18T05:16:36.164383",
          "2017-11-19T05:17:35.342465",
          "2017-11-20T05:18:34.520547",
          "2017-11-21T05:19:33.698630",
          "2017-11-22T05:20:32.876712",
          "2017-11-23T05:21:32.054794",
          "2017-11-24T05:22:31.232876",
          "2017-11-25T05:23:30.410958",
          "2017-11-26T05:24:29.589041",
          "2017-11-27T05:25:28.767123",
          "2017-11-28T05:26:27.945205",
          "2017-11-29T05:27:27.123287",
          "2017-11-30T05:28:26.301369",
          "2017-12-01T05:29:25.479452",
          "2017-12-02T05:30:24.657534",
          "2017-12-03T05:31:23.835616",
          "2017-12-04T05:32:23.013698",
          "2017-12-05T05:33:22.191780",
          "2017-12-06T05:34:21.369862",
          "2017-12-07T05:35:20.547945",
          "2017-12-08T05:36:19.726027",
          "2017-12-09T05:37:18.904109",
          "2017-12-10T05:38:18.082191",
          "2017-12-11T05:39:17.260273",
          "2017-12-12T05:40:16.438356",
          "2017-12-13T05:41:15.616438",
          "2017-12-14T05:42:14.794520",
          "2017-12-15T05:43:13.972602",
          "2017-12-16T05:44:13.150684",
          "2017-12-17T05:45:12.328767",
          "2017-12-18T05:46:11.506849",
          "2017-12-19T05:47:10.684931",
          "2017-12-20T05:48:09.863013",
          "2017-12-21T05:49:09.041095",
          "2017-12-22T05:50:08.219177",
          "2017-12-23T05:51:07.397260",
          "2017-12-24T05:52:06.575342",
          "2017-12-25T05:53:05.753424",
          "2017-12-26T05:54:04.931506",
          "2017-12-27T05:55:04.109588",
          "2017-12-28T05:56:03.287671",
          "2017-12-29T05:57:02.465753",
          "2017-12-30T05:58:01.643835",
          "2017-12-31T05:59:00.821917"
         ],
         "xaxis": "x3",
         "y": [
          -1.1600493599093593,
          -1.1245041617290183,
          -1.0862812314835781,
          -1.0466210504336884,
          -1.0067609119725798,
          -0.9679063473596135,
          -0.9312032426498281,
          -0.8977137565414322,
          -0.8683902882095661,
          -0.8440565493063997,
          -0.8253896976032442,
          -0.812906505065902,
          -0.8069533588852483,
          -0.807700528999622,
          -0.8151399359190012,
          -0.8290877857351738,
          -0.8491907265801489,
          -0.8749362198677267,
          -0.905664817200915,
          -0.9405886235946923,
          -0.9788095296964842,
          -1.01934106183559,
          -1.0611316587824058,
          -1.1030895696533836,
          -1.1441058945887905,
          -1.1830825007487038,
          -1.2189544924664928,
          -1.2507140261589564,
          -1.2774320438391817,
          -1.2982781636471095,
          -1.3125370258013889,
          -1.3196242190459544,
          -1.319096667215498,
          -1.310661109610884,
          -1.2941787306104757,
          -1.2696675123189745,
          -1.2372992568872156,
          -1.1973952066523188,
          -1.1504178196041266,
          -1.0969599012778484,
          -1.0377305329180244,
          -0.9735423812766335,
          -0.9052903140658473,
          -0.8339354725023077,
          -0.7604850825735561,
          -0.6859715646112234,
          -0.6114359081138981,
          -0.5379027538171306,
          -0.4663648688449768,
          -0.3977644375658782,
          -0.3329766638129438,
          -0.2727944490823939,
          -0.21791845350657282,
          -0.1689424126924171,
          -0.12634780594424225,
          -0.09049735299683337,
          -0.06163166767191902,
          -0.03986811460539537,
          -0.02520314591148371,
          -0.017514436190990055,
          -0.016567695939203597,
          -0.02202399075037228,
          -0.0334491870933009,
          -0.05032405948968301,
          -0.07205696295485138,
          -0.09799612895577463,
          -0.12744313939217802,
          -0.1596666384789229,
          -0.19391651526754616,
          -0.22943587826107673,
          -0.26547659269061236,
          -0.3013101964289879,
          -0.3362399131398469,
          -0.3696116201417629,
          -0.40082173479628497,
          -0.42932765630607767,
          -0.4546529252104309,
          -0.47639290580518784,
          -0.4942185989847129,
          -0.507879112904985,
          -0.5172019656426887,
          -0.522093519197953,
          -0.5225364462181491,
          -0.5185868184547084,
          -0.5103698749568477,
          -0.4980746077751207,
          -0.4819482433708836,
          -0.4622885036781106,
          -0.4394366497120351,
          -0.4137694317728913,
          -0.38569052278450466,
          -0.3556234676677153,
          -0.32400134673299724,
          -0.2912598113733731,
          -0.2578288058980214,
          -0.224125002016328,
          -0.19054436484177892,
          -0.1574572811102848,
          -0.1252005146565304,
          -0.09407385575879076,
          -0.06433568317473158,
          -0.03619982984925084,
          -0.009833103785404796,
          0.014644728645407131,
          0.03716301810327991,
          0.05769827429375082,
          0.07627283584302905,
          0.09295252262431877,
          0.10784253314280084,
          0.12108449939822082,
          0.1328509360238017,
          0.14334013041564925,
          0.1527703875004175,
          0.16137405134913416,
          0.16939085444800442,
          0.17706219417260288,
          0.18462449591055644,
          0.19230330562527687,
          0.20030772924900886,
          0.20882488672064542,
          0.2180158953572745,
          0.22801164817790706,
          0.2389098506716158,
          0.2507728478673026,
          0.26362654349346104,
          0.2774595319835784,
          0.2922247160868924,
          0.3078404258802725,
          0.3241932060336256,
          0.3411413439992158,
          0.3585194031440309,
          0.3761424421933204,
          0.39381282819348784,
          0.4113254726210962,
          0.4284743459218829,
          0.445059092879146,
          0.46089063786885665,
          0.4757984683723079,
          0.489635577158218,
          0.5022837988357453,
          0.5136582178019493,
          0.523710811851902,
          0.5324325451888513,
          0.5398555203753249,
          0.5460527948461678,
          0.5511376066849117,
          0.5552613169730253,
          0.5586099542022622,
          0.5614001040700729,
          0.5638732922938456,
          0.5662897187802345,
          0.5689211894908518,
          0.5720435160531739,
          0.5759283516852656,
          0.5808352292238743,
          0.587003318101668,
          0.5946436452653833,
          0.603931808373059,
          0.6150015738492877,
          0.6279387563838889,
          0.6427775378582696,
          0.6594968299797532,
          0.6780186740029946,
          0.6982082883629974,
          0.7198744965433841,
          0.7427741020666855,
          0.7666154987643111,
          0.7910649027211408,
          0.8157537213422899,
          0.8402874045727404,
          0.8642538832775054,
          0.8872356222360976,
          0.9088193319842135,
          0.9286073378150805,
          0.9462285968756947,
          0.9613495054481384,
          0.9736832059308684,
          0.982999657321785,
          0.9891326835668356,
          0.9919864622575413,
          0.9915401031211017,
          0.9878504404187212,
          0.981052736582584,
          0.9713593263724558,
          0.9590561955290169,
          0.9444974822325555,
          0.928097806755355,
          0.9103237533638932,
          0.8916817958162377,
          0.8727067311908736,
          0.8539481002362096,
          0.8359558233849104,
          0.8192664562853634,
          0.8043873323400271,
          0.7917831671962298,
          0.7818623419747466,
          0.7749645162152768,
          0.7713496892161982,
          0.7711892063357269,
          0.7745584600072555,
          0.7814323652456663,
          0.7916830571391579,
          0.8050802582713513,
          0.8212945082727277,
          0.8399020490147753,
          0.8603941813557087,
          0.882187165172959,
          0.9046351902322248,
          0.927045324113808,
          0.948692720462522,
          0.9688396020670497,
          0.9867523752174494,
          1.0017203474482577,
          1.0130740143381796,
          1.0202027623361807,
          1.0225711333979746,
          1.0197343336718832,
          1.011350902435816,
          0.9971935626086279,
          0.9771570747444048,
          0.9512644832044805,
          0.9196679292722287,
          0.8826485664374354,
          0.8406122515759928,
          0.794082325487495,
          0.7436888230284231,
          0.6901579141555096,
          0.6342929985308048,
          0.5769595048765753,
          0.5190651469862042,
          0.46153951852515884,
          0.4053123240178386,
          0.3512946340342375,
          0.30035396332752357,
          0.25329675187444844,
          0.21084892331156846,
          0.17363854928123848,
          0.1421828514236095,
          0.11687360845536658,
          0.0979699146274767,
          0.08559189457284683,
          0.0797182447159463,
          0.0801872512289029,
          0.08670108805777701,
          0.09883356116042318,
          0.11604098334083925,
          0.13767581578300722,
          0.16300283850714709,
          0.1912177449001394,
          0.22146567123060215,
          0.2528641435026367,
          0.2845233305650492,
          0.31556789753429926,
          0.3451583276887558,
          0.3725094668052102,
          0.39691088037401767,
          0.4177416680009599,
          0.43448453231263584,
          0.44673665174487837,
          0.4542174944725192,
          0.4567729772606937,
          0.45437702901745136,
          0.4471288119603057,
          0.4352471288007744,
          0.4190613454840952,
          0.39900042431335236,
          0.37557746374803186,
          0.3493739182952319,
          0.3210212628443352,
          0.29118164419434256,
          0.2605275448605248,
          0.22972316346685032,
          0.19940272297203362,
          0.17015338208607264,
          0.14249794632967894,
          0.11687997800517808,
          0.09365112289071358,
          0.07306256233390383,
          0.05525690327839194,
          0.040266082000159235,
          0.028011266981436796,
          0.018306337881595653,
          0.010865180056750447,
          0.005311005051282194,
          0.0011896524408548908,
          -0.002015229495941042,
          -0.004864824976794292,
          -0.007946269662678387,
          -0.011852562483054142,
          -0.017162372359051277,
          -0.024419645817880527,
          -0.034114106086522204,
          -0.04666318412870813,
          -0.06239502000913114,
          -0.08153528915472807,
          -0.10419540641229155,
          -0.13036455218049173,
          -0.15990500571144697,
          -0.19255149926732312,
          -0.22791235066559692,
          -0.26547812931543274,
          -0.3046301748090073,
          -0.34465434877145434,
          -0.38475751587686885,
          -0.4240871684460234,
          -0.46175101690451636,
          -0.4968428253883484,
          -0.5284647591849327,
          -0.5557525025865561,
          -0.5778999590244761,
          -0.5941819281380172,
          -0.6039778242507521,
          -0.6067906660336085,
          -0.602264799587037,
          -0.5902001832844933,
          -0.5705628241757167,
          -0.5434925648954012,
          -0.5093043468202142,
          -0.4684873597686872,
          -0.42169885598650536,
          -0.36975389603940484,
          -0.3136103618547144,
          -0.25435351815391277,
          -0.1931706310869883,
          -0.1313291662773806,
          -0.07014945662737061,
          -0.010975610409547105,
          0.04485124557118872,
          0.0960269173630033,
          0.14131081822599872,
          0.17955504039267875,
          0.20973095731414065,
          0.23095359393043427,
          0.2425019086715704,
          0.24383789378675716,
          0.23461910583665146,
          0.21470825579605088,
          0.18417750705190916,
          0.14331001070282087,
          0.09259304515334713,
          0.03270992987044092,
          -0.03547408107051459,
          -0.11092973789324086,
          -0.19248642131543675,
          -0.2788531617553938,
          -0.3686518248963667,
          -0.4604428936531684,
          -0.5527571915880177,
          -0.6441272918028143,
          -0.7331198032733671,
          -0.8183616991776589,
          -0.8985753796688738,
          -0.9726011528170477,
          -1.0394221007866156,
          -1.0981851699360663,
          -1.1482151906889388,
          -1.189031436238025,
          -1.2203528323101829,
          -1.2421021258538911,
          -1.2544046897688887,
          -1.2575827416436043,
          -1.252145137327237,
          -1.2387732885253462,
          -1.2183028631369914,
          -1.1917025158746977
         ],
         "yaxis": "y3"
        }
       ],
       "layout": {
        "height": 600,
        "showlegend": false,
        "template": {
         "data": {
          "bar": [
           {
            "error_x": {
             "color": "#2a3f5f"
            },
            "error_y": {
             "color": "#2a3f5f"
            },
            "marker": {
             "line": {
              "color": "#E5ECF6",
              "width": 0.5
             },
             "pattern": {
              "fillmode": "overlay",
              "size": 10,
              "solidity": 0.2
             }
            },
            "type": "bar"
           }
          ],
          "barpolar": [
           {
            "marker": {
             "line": {
              "color": "#E5ECF6",
              "width": 0.5
             },
             "pattern": {
              "fillmode": "overlay",
              "size": 10,
              "solidity": 0.2
             }
            },
            "type": "barpolar"
           }
          ],
          "carpet": [
           {
            "aaxis": {
             "endlinecolor": "#2a3f5f",
             "gridcolor": "white",
             "linecolor": "white",
             "minorgridcolor": "white",
             "startlinecolor": "#2a3f5f"
            },
            "baxis": {
             "endlinecolor": "#2a3f5f",
             "gridcolor": "white",
             "linecolor": "white",
             "minorgridcolor": "white",
             "startlinecolor": "#2a3f5f"
            },
            "type": "carpet"
           }
          ],
          "choropleth": [
           {
            "colorbar": {
             "outlinewidth": 0,
             "ticks": ""
            },
            "type": "choropleth"
           }
          ],
          "contour": [
           {
            "colorbar": {
             "outlinewidth": 0,
             "ticks": ""
            },
            "colorscale": [
             [
              0,
              "#0d0887"
             ],
             [
              0.1111111111111111,
              "#46039f"
             ],
             [
              0.2222222222222222,
              "#7201a8"
             ],
             [
              0.3333333333333333,
              "#9c179e"
             ],
             [
              0.4444444444444444,
              "#bd3786"
             ],
             [
              0.5555555555555556,
              "#d8576b"
             ],
             [
              0.6666666666666666,
              "#ed7953"
             ],
             [
              0.7777777777777778,
              "#fb9f3a"
             ],
             [
              0.8888888888888888,
              "#fdca26"
             ],
             [
              1,
              "#f0f921"
             ]
            ],
            "type": "contour"
           }
          ],
          "contourcarpet": [
           {
            "colorbar": {
             "outlinewidth": 0,
             "ticks": ""
            },
            "type": "contourcarpet"
           }
          ],
          "heatmap": [
           {
            "colorbar": {
             "outlinewidth": 0,
             "ticks": ""
            },
            "colorscale": [
             [
              0,
              "#0d0887"
             ],
             [
              0.1111111111111111,
              "#46039f"
             ],
             [
              0.2222222222222222,
              "#7201a8"
             ],
             [
              0.3333333333333333,
              "#9c179e"
             ],
             [
              0.4444444444444444,
              "#bd3786"
             ],
             [
              0.5555555555555556,
              "#d8576b"
             ],
             [
              0.6666666666666666,
              "#ed7953"
             ],
             [
              0.7777777777777778,
              "#fb9f3a"
             ],
             [
              0.8888888888888888,
              "#fdca26"
             ],
             [
              1,
              "#f0f921"
             ]
            ],
            "type": "heatmap"
           }
          ],
          "heatmapgl": [
           {
            "colorbar": {
             "outlinewidth": 0,
             "ticks": ""
            },
            "colorscale": [
             [
              0,
              "#0d0887"
             ],
             [
              0.1111111111111111,
              "#46039f"
             ],
             [
              0.2222222222222222,
              "#7201a8"
             ],
             [
              0.3333333333333333,
              "#9c179e"
             ],
             [
              0.4444444444444444,
              "#bd3786"
             ],
             [
              0.5555555555555556,
              "#d8576b"
             ],
             [
              0.6666666666666666,
              "#ed7953"
             ],
             [
              0.7777777777777778,
              "#fb9f3a"
             ],
             [
              0.8888888888888888,
              "#fdca26"
             ],
             [
              1,
              "#f0f921"
             ]
            ],
            "type": "heatmapgl"
           }
          ],
          "histogram": [
           {
            "marker": {
             "pattern": {
              "fillmode": "overlay",
              "size": 10,
              "solidity": 0.2
             }
            },
            "type": "histogram"
           }
          ],
          "histogram2d": [
           {
            "colorbar": {
             "outlinewidth": 0,
             "ticks": ""
            },
            "colorscale": [
             [
              0,
              "#0d0887"
             ],
             [
              0.1111111111111111,
              "#46039f"
             ],
             [
              0.2222222222222222,
              "#7201a8"
             ],
             [
              0.3333333333333333,
              "#9c179e"
             ],
             [
              0.4444444444444444,
              "#bd3786"
             ],
             [
              0.5555555555555556,
              "#d8576b"
             ],
             [
              0.6666666666666666,
              "#ed7953"
             ],
             [
              0.7777777777777778,
              "#fb9f3a"
             ],
             [
              0.8888888888888888,
              "#fdca26"
             ],
             [
              1,
              "#f0f921"
             ]
            ],
            "type": "histogram2d"
           }
          ],
          "histogram2dcontour": [
           {
            "colorbar": {
             "outlinewidth": 0,
             "ticks": ""
            },
            "colorscale": [
             [
              0,
              "#0d0887"
             ],
             [
              0.1111111111111111,
              "#46039f"
             ],
             [
              0.2222222222222222,
              "#7201a8"
             ],
             [
              0.3333333333333333,
              "#9c179e"
             ],
             [
              0.4444444444444444,
              "#bd3786"
             ],
             [
              0.5555555555555556,
              "#d8576b"
             ],
             [
              0.6666666666666666,
              "#ed7953"
             ],
             [
              0.7777777777777778,
              "#fb9f3a"
             ],
             [
              0.8888888888888888,
              "#fdca26"
             ],
             [
              1,
              "#f0f921"
             ]
            ],
            "type": "histogram2dcontour"
           }
          ],
          "mesh3d": [
           {
            "colorbar": {
             "outlinewidth": 0,
             "ticks": ""
            },
            "type": "mesh3d"
           }
          ],
          "parcoords": [
           {
            "line": {
             "colorbar": {
              "outlinewidth": 0,
              "ticks": ""
             }
            },
            "type": "parcoords"
           }
          ],
          "pie": [
           {
            "automargin": true,
            "type": "pie"
           }
          ],
          "scatter": [
           {
            "fillpattern": {
             "fillmode": "overlay",
             "size": 10,
             "solidity": 0.2
            },
            "type": "scatter"
           }
          ],
          "scatter3d": [
           {
            "line": {
             "colorbar": {
              "outlinewidth": 0,
              "ticks": ""
             }
            },
            "marker": {
             "colorbar": {
              "outlinewidth": 0,
              "ticks": ""
             }
            },
            "type": "scatter3d"
           }
          ],
          "scattercarpet": [
           {
            "marker": {
             "colorbar": {
              "outlinewidth": 0,
              "ticks": ""
             }
            },
            "type": "scattercarpet"
           }
          ],
          "scattergeo": [
           {
            "marker": {
             "colorbar": {
              "outlinewidth": 0,
              "ticks": ""
             }
            },
            "type": "scattergeo"
           }
          ],
          "scattergl": [
           {
            "marker": {
             "colorbar": {
              "outlinewidth": 0,
              "ticks": ""
             }
            },
            "type": "scattergl"
           }
          ],
          "scattermapbox": [
           {
            "marker": {
             "colorbar": {
              "outlinewidth": 0,
              "ticks": ""
             }
            },
            "type": "scattermapbox"
           }
          ],
          "scatterpolar": [
           {
            "marker": {
             "colorbar": {
              "outlinewidth": 0,
              "ticks": ""
             }
            },
            "type": "scatterpolar"
           }
          ],
          "scatterpolargl": [
           {
            "marker": {
             "colorbar": {
              "outlinewidth": 0,
              "ticks": ""
             }
            },
            "type": "scatterpolargl"
           }
          ],
          "scatterternary": [
           {
            "marker": {
             "colorbar": {
              "outlinewidth": 0,
              "ticks": ""
             }
            },
            "type": "scatterternary"
           }
          ],
          "surface": [
           {
            "colorbar": {
             "outlinewidth": 0,
             "ticks": ""
            },
            "colorscale": [
             [
              0,
              "#0d0887"
             ],
             [
              0.1111111111111111,
              "#46039f"
             ],
             [
              0.2222222222222222,
              "#7201a8"
             ],
             [
              0.3333333333333333,
              "#9c179e"
             ],
             [
              0.4444444444444444,
              "#bd3786"
             ],
             [
              0.5555555555555556,
              "#d8576b"
             ],
             [
              0.6666666666666666,
              "#ed7953"
             ],
             [
              0.7777777777777778,
              "#fb9f3a"
             ],
             [
              0.8888888888888888,
              "#fdca26"
             ],
             [
              1,
              "#f0f921"
             ]
            ],
            "type": "surface"
           }
          ],
          "table": [
           {
            "cells": {
             "fill": {
              "color": "#EBF0F8"
             },
             "line": {
              "color": "white"
             }
            },
            "header": {
             "fill": {
              "color": "#C8D4E3"
             },
             "line": {
              "color": "white"
             }
            },
            "type": "table"
           }
          ]
         },
         "layout": {
          "annotationdefaults": {
           "arrowcolor": "#2a3f5f",
           "arrowhead": 0,
           "arrowwidth": 1
          },
          "autotypenumbers": "strict",
          "coloraxis": {
           "colorbar": {
            "outlinewidth": 0,
            "ticks": ""
           }
          },
          "colorscale": {
           "diverging": [
            [
             0,
             "#8e0152"
            ],
            [
             0.1,
             "#c51b7d"
            ],
            [
             0.2,
             "#de77ae"
            ],
            [
             0.3,
             "#f1b6da"
            ],
            [
             0.4,
             "#fde0ef"
            ],
            [
             0.5,
             "#f7f7f7"
            ],
            [
             0.6,
             "#e6f5d0"
            ],
            [
             0.7,
             "#b8e186"
            ],
            [
             0.8,
             "#7fbc41"
            ],
            [
             0.9,
             "#4d9221"
            ],
            [
             1,
             "#276419"
            ]
           ],
           "sequential": [
            [
             0,
             "#0d0887"
            ],
            [
             0.1111111111111111,
             "#46039f"
            ],
            [
             0.2222222222222222,
             "#7201a8"
            ],
            [
             0.3333333333333333,
             "#9c179e"
            ],
            [
             0.4444444444444444,
             "#bd3786"
            ],
            [
             0.5555555555555556,
             "#d8576b"
            ],
            [
             0.6666666666666666,
             "#ed7953"
            ],
            [
             0.7777777777777778,
             "#fb9f3a"
            ],
            [
             0.8888888888888888,
             "#fdca26"
            ],
            [
             1,
             "#f0f921"
            ]
           ],
           "sequentialminus": [
            [
             0,
             "#0d0887"
            ],
            [
             0.1111111111111111,
             "#46039f"
            ],
            [
             0.2222222222222222,
             "#7201a8"
            ],
            [
             0.3333333333333333,
             "#9c179e"
            ],
            [
             0.4444444444444444,
             "#bd3786"
            ],
            [
             0.5555555555555556,
             "#d8576b"
            ],
            [
             0.6666666666666666,
             "#ed7953"
            ],
            [
             0.7777777777777778,
             "#fb9f3a"
            ],
            [
             0.8888888888888888,
             "#fdca26"
            ],
            [
             1,
             "#f0f921"
            ]
           ]
          },
          "colorway": [
           "#636efa",
           "#EF553B",
           "#00cc96",
           "#ab63fa",
           "#FFA15A",
           "#19d3f3",
           "#FF6692",
           "#B6E880",
           "#FF97FF",
           "#FECB52"
          ],
          "font": {
           "color": "#2a3f5f"
          },
          "geo": {
           "bgcolor": "white",
           "lakecolor": "white",
           "landcolor": "#E5ECF6",
           "showlakes": true,
           "showland": true,
           "subunitcolor": "white"
          },
          "hoverlabel": {
           "align": "left"
          },
          "hovermode": "closest",
          "mapbox": {
           "style": "light"
          },
          "paper_bgcolor": "white",
          "plot_bgcolor": "#E5ECF6",
          "polar": {
           "angularaxis": {
            "gridcolor": "white",
            "linecolor": "white",
            "ticks": ""
           },
           "bgcolor": "#E5ECF6",
           "radialaxis": {
            "gridcolor": "white",
            "linecolor": "white",
            "ticks": ""
           }
          },
          "scene": {
           "xaxis": {
            "backgroundcolor": "#E5ECF6",
            "gridcolor": "white",
            "gridwidth": 2,
            "linecolor": "white",
            "showbackground": true,
            "ticks": "",
            "zerolinecolor": "white"
           },
           "yaxis": {
            "backgroundcolor": "#E5ECF6",
            "gridcolor": "white",
            "gridwidth": 2,
            "linecolor": "white",
            "showbackground": true,
            "ticks": "",
            "zerolinecolor": "white"
           },
           "zaxis": {
            "backgroundcolor": "#E5ECF6",
            "gridcolor": "white",
            "gridwidth": 2,
            "linecolor": "white",
            "showbackground": true,
            "ticks": "",
            "zerolinecolor": "white"
           }
          },
          "shapedefaults": {
           "line": {
            "color": "#2a3f5f"
           }
          },
          "ternary": {
           "aaxis": {
            "gridcolor": "white",
            "linecolor": "white",
            "ticks": ""
           },
           "baxis": {
            "gridcolor": "white",
            "linecolor": "white",
            "ticks": ""
           },
           "bgcolor": "#E5ECF6",
           "caxis": {
            "gridcolor": "white",
            "linecolor": "white",
            "ticks": ""
           }
          },
          "title": {
           "x": 0.05
          },
          "xaxis": {
           "automargin": true,
           "gridcolor": "white",
           "linecolor": "white",
           "ticks": "",
           "title": {
            "standoff": 15
           },
           "zerolinecolor": "white",
           "zerolinewidth": 2
          },
          "yaxis": {
           "automargin": true,
           "gridcolor": "white",
           "linecolor": "white",
           "ticks": "",
           "title": {
            "standoff": 15
           },
           "zerolinecolor": "white",
           "zerolinewidth": 2
          }
         }
        },
        "width": 900,
        "xaxis": {
         "anchor": "y",
         "domain": [
          0,
          1
         ],
         "range": [
          "2023-02-12T03:36:00",
          "2024-02-17T20:24:00"
         ],
         "type": "date"
        },
        "xaxis2": {
         "anchor": "y2",
         "domain": [
          0,
          1
         ],
         "range": [
          "2023-02-12T03:36:00",
          "2024-02-17T20:24:00"
         ],
         "type": "date"
        },
        "xaxis3": {
         "anchor": "y3",
         "domain": [
          0,
          1
         ],
         "range": [
          "2016-12-13T18:54:02.958904115",
          "2018-01-18T11:04:57.863013581"
         ],
         "tickformat": "%B %e",
         "type": "date"
        },
        "yaxis": {
         "anchor": "x",
         "domain": [
          0.7333333333333333,
          1
         ],
         "rangemode": "normal",
         "title": {
          "text": "trend"
         },
         "zerolinecolor": "#AAA"
        },
        "yaxis2": {
         "anchor": "x2",
         "domain": [
          0.36666666666666664,
          0.6333333333333333
         ],
         "rangemode": "tozero",
         "title": {
          "text": "extra_regressors_additive"
         },
         "zerolinecolor": "#AAA"
        },
        "yaxis3": {
         "anchor": "x3",
         "domain": [
          0,
          0.26666666666666666
         ],
         "title": {
          "text": "yearly"
         },
         "zerolinecolor": "#AAA"
        }
       }
      }
     },
     "metadata": {},
     "output_type": "display_data"
    }
   ],
   "source": [
    "############### Plot Prophet\n",
    "\n",
    "from prophet.plot import plot_plotly, plot_components_plotly\n",
    "\n",
    "# Plot the forecast\n",
    "fig1 = plot_plotly(model, data_forecastf)\n",
    "fig1.show()\n",
    "\n",
    "# Plot forecast components\n",
    "fig2 = plot_components_plotly(model, data_forecastf)\n",
    "fig2.show()"
   ]
  }
 ],
 "metadata": {
  "kernelspec": {
   "display_name": "Python 3",
   "language": "python",
   "name": "python3"
  },
  "language_info": {
   "codemirror_mode": {
    "name": "ipython",
    "version": 3
   },
   "file_extension": ".py",
   "mimetype": "text/x-python",
   "name": "python",
   "nbconvert_exporter": "python",
   "pygments_lexer": "ipython3",
   "version": "3.12.6"
  }
 },
 "nbformat": 4,
 "nbformat_minor": 2
}
